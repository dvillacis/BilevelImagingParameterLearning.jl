{
 "cells": [
  {
   "cell_type": "markdown",
   "metadata": {},
   "source": [
    "# Bilevel ROF Scalar Parameter Learning\n",
    "In this notebook we will propose an optimal parameter learning methodology for getting the optimal parameter for the scalar ROF image denoising model.\n",
    "\n",
    "$$\n",
    "\\min \\|\\bar{u}-z\\|^2 + \\frac{\\alpha}{2}\\|\\lambda\\|^2\\\\\n",
    "\\text{s.t. }\\lambda \\langle \\bar{u},v-\\bar{u} \\rangle + \\|\\mathbb{K}v\\|_{2,1} - \\|\\mathbb{K}\\bar{u}\\|_{2,1} \\ge \\langle f,v-\\bar{u} \\rangle\n",
    "$$\n",
    "\n",
    "where $\\|\\cdot\\|_{2,1}$ is the Total Variation seminorm."
   ]
  },
  {
   "cell_type": "code",
   "execution_count": 1,
   "metadata": {},
   "outputs": [],
   "source": [
    "using LinearAlgebra, StructuredOptimization, AbstractOperators, Plots, Distributed, Images, ImageQualityIndexes"
   ]
  },
  {
   "cell_type": "markdown",
   "metadata": {},
   "source": [
    "## Cost Function and Lower Level Solver"
   ]
  },
  {
   "cell_type": "code",
   "execution_count": 66,
   "metadata": {},
   "outputs": [
    {
     "data": {
      "text/plain": [
       "upper_level_cost (generic function with 1 method)"
      ]
     },
     "execution_count": 66,
     "metadata": {},
     "output_type": "execute_result"
    }
   ],
   "source": [
    "# Lower Level Solver\n",
    "function lower_level_solver(u,f,λ,K)\n",
    "    @minimize λ*ls(-(1/λ)*K'*u+f) + conj(norm(u,2,1,2)) with ForwardBackward(tol = 1e-6, gamma = 1/8, fast = true) \n",
    "    return -(1/λ)*K'*(~u)+f\n",
    "end\n",
    "\n",
    "# Upper level cost\n",
    "function upper_level_cost(u,z,λ,α)\n",
    "    return 0.5*norm(u[:]-z[:])^2 + 0.5*α*norm(λ)^2 #PSNR\n",
    "end"
   ]
  },
  {
   "cell_type": "code",
   "execution_count": 90,
   "metadata": {},
   "outputs": [],
   "source": [
    "m,n = 32,32\n",
    "f = tril(ones(m,n)) + 0.2*randn(m,n)\n",
    "f[f .< 0] .= 0.\n",
    "f[f .> 1] .= 1.\n",
    "z = tril(ones(m,n));"
   ]
  },
  {
   "cell_type": "code",
   "execution_count": 91,
   "metadata": {},
   "outputs": [
    {
     "data": {
      "image/png": "[encoded data removed]",
      "text/plain": [
       "32×32 Array{Gray{Float64},2} with eltype Gray{Float64}:\n",
       " Gray{Float64}(0.934593)  …  Gray{Float64}(0.0629215)\n",
       " Gray{Float64}(0.951797)     Gray{Float64}(0.288927) \n",
       " Gray{Float64}(0.91791)      Gray{Float64}(0.213352) \n",
       " Gray{Float64}(1.0)          Gray{Float64}(0.0)      \n",
       " Gray{Float64}(1.0)          Gray{Float64}(0.0)      \n",
       " Gray{Float64}(0.737431)  …  Gray{Float64}(0.0)      \n",
       " Gray{Float64}(1.0)          Gray{Float64}(0.0)      \n",
       " Gray{Float64}(0.674484)     Gray{Float64}(0.323004) \n",
       " Gray{Float64}(0.917219)     Gray{Float64}(0.0)      \n",
       " Gray{Float64}(0.828143)     Gray{Float64}(0.0)      \n",
       " Gray{Float64}(1.0)       …  Gray{Float64}(0.0158077)\n",
       " Gray{Float64}(1.0)          Gray{Float64}(0.0)      \n",
       " Gray{Float64}(0.981423)     Gray{Float64}(0.016638) \n",
       " ⋮                        ⋱                          \n",
       " Gray{Float64}(0.985821)  …  Gray{Float64}(0.0)      \n",
       " Gray{Float64}(1.0)          Gray{Float64}(0.275524) \n",
       " Gray{Float64}(1.0)          Gray{Float64}(0.0)      \n",
       " Gray{Float64}(1.0)          Gray{Float64}(0.0)      \n",
       " Gray{Float64}(1.0)          Gray{Float64}(0.371278) \n",
       " Gray{Float64}(0.80756)   …  Gray{Float64}(0.0939145)\n",
       " Gray{Float64}(0.859501)     Gray{Float64}(0.0341214)\n",
       " Gray{Float64}(1.0)          Gray{Float64}(0.0)      \n",
       " Gray{Float64}(0.827994)     Gray{Float64}(0.0340686)\n",
       " Gray{Float64}(1.0)          Gray{Float64}(0.0)      \n",
       " Gray{Float64}(0.668394)  …  Gray{Float64}(0.0)      \n",
       " Gray{Float64}(0.797113)     Gray{Float64}(1.0)      "
      ]
     },
     "execution_count": 91,
     "metadata": {},
     "output_type": "execute_result"
    }
   ],
   "source": [
    "Gray.(f)"
   ]
  },
  {
   "cell_type": "code",
   "execution_count": 92,
   "metadata": {},
   "outputs": [
    {
     "data": {
      "image/png": "[encoded data removed]",
      "text/plain": [
       "32×32 Array{Gray{Float64},2} with eltype Gray{Float64}:\n",
       " Gray{Float64}(1.0)  Gray{Float64}(0.0)  …  Gray{Float64}(0.0)\n",
       " Gray{Float64}(1.0)  Gray{Float64}(1.0)     Gray{Float64}(0.0)\n",
       " Gray{Float64}(1.0)  Gray{Float64}(1.0)     Gray{Float64}(0.0)\n",
       " Gray{Float64}(1.0)  Gray{Float64}(1.0)     Gray{Float64}(0.0)\n",
       " Gray{Float64}(1.0)  Gray{Float64}(1.0)     Gray{Float64}(0.0)\n",
       " Gray{Float64}(1.0)  Gray{Float64}(1.0)  …  Gray{Float64}(0.0)\n",
       " Gray{Float64}(1.0)  Gray{Float64}(1.0)     Gray{Float64}(0.0)\n",
       " Gray{Float64}(1.0)  Gray{Float64}(1.0)     Gray{Float64}(0.0)\n",
       " Gray{Float64}(1.0)  Gray{Float64}(1.0)     Gray{Float64}(0.0)\n",
       " Gray{Float64}(1.0)  Gray{Float64}(1.0)     Gray{Float64}(0.0)\n",
       " Gray{Float64}(1.0)  Gray{Float64}(1.0)  …  Gray{Float64}(0.0)\n",
       " Gray{Float64}(1.0)  Gray{Float64}(1.0)     Gray{Float64}(0.0)\n",
       " Gray{Float64}(1.0)  Gray{Float64}(1.0)     Gray{Float64}(0.0)\n",
       " ⋮                                       ⋱                    \n",
       " Gray{Float64}(1.0)  Gray{Float64}(1.0)  …  Gray{Float64}(0.0)\n",
       " Gray{Float64}(1.0)  Gray{Float64}(1.0)     Gray{Float64}(0.0)\n",
       " Gray{Float64}(1.0)  Gray{Float64}(1.0)     Gray{Float64}(0.0)\n",
       " Gray{Float64}(1.0)  Gray{Float64}(1.0)     Gray{Float64}(0.0)\n",
       " Gray{Float64}(1.0)  Gray{Float64}(1.0)     Gray{Float64}(0.0)\n",
       " Gray{Float64}(1.0)  Gray{Float64}(1.0)  …  Gray{Float64}(0.0)\n",
       " Gray{Float64}(1.0)  Gray{Float64}(1.0)     Gray{Float64}(0.0)\n",
       " Gray{Float64}(1.0)  Gray{Float64}(1.0)     Gray{Float64}(0.0)\n",
       " Gray{Float64}(1.0)  Gray{Float64}(1.0)     Gray{Float64}(0.0)\n",
       " Gray{Float64}(1.0)  Gray{Float64}(1.0)     Gray{Float64}(0.0)\n",
       " Gray{Float64}(1.0)  Gray{Float64}(1.0)  …  Gray{Float64}(0.0)\n",
       " Gray{Float64}(1.0)  Gray{Float64}(1.0)     Gray{Float64}(1.0)"
      ]
     },
     "execution_count": 92,
     "metadata": {},
     "output_type": "execute_result"
    }
   ],
   "source": [
    "Gray.(z)"
   ]
  },
  {
   "cell_type": "code",
   "execution_count": 93,
   "metadata": {},
   "outputs": [
    {
     "data": {
      "text/plain": [
       "0.01"
      ]
     },
     "execution_count": 93,
     "metadata": {},
     "output_type": "execute_result"
    }
   ],
   "source": [
    "K = Variation(size(f))\n",
    "u = Variable(size(K,1)...)\n",
    "α = 1e-2"
   ]
  },
  {
   "cell_type": "code",
   "execution_count": 95,
   "metadata": {},
   "outputs": [
    {
     "name": "stdout",
     "output_type": "stream",
     "text": [
      "0.5675190600300712, 5.821907559037308\n",
      "0.27781438267156516, 9.982095706813277\n"
     ]
    },
    {
     "data": {
      "image/png": "[encoded data removed]",
      "text/plain": [
       "32×32 Array{Gray{Float64},2} with eltype Gray{Float64}:\n",
       " Gray{Float64}(0.803735)  …  Gray{Float64}(0.0764381)\n",
       " Gray{Float64}(0.835225)     Gray{Float64}(0.0764379)\n",
       " Gray{Float64}(0.847265)     Gray{Float64}(0.0764373)\n",
       " Gray{Float64}(0.914557)     Gray{Float64}(0.0764361)\n",
       " Gray{Float64}(0.91463)      Gray{Float64}(0.0764346)\n",
       " Gray{Float64}(0.916807)  …  Gray{Float64}(0.0764331)\n",
       " Gray{Float64}(0.928368)     Gray{Float64}(0.0764314)\n",
       " Gray{Float64}(0.928362)     Gray{Float64}(0.0764296)\n",
       " Gray{Float64}(0.92836)      Gray{Float64}(0.0764274)\n",
       " Gray{Float64}(0.92836)      Gray{Float64}(0.0764257)\n",
       " Gray{Float64}(0.929219)  …  Gray{Float64}(0.0764247)\n",
       " Gray{Float64}(0.929218)     Gray{Float64}(0.0764245)\n",
       " Gray{Float64}(0.929217)     Gray{Float64}(0.0764249)\n",
       " ⋮                        ⋱                          \n",
       " Gray{Float64}(0.929211)  …  Gray{Float64}(0.0861416)\n",
       " Gray{Float64}(0.929209)     Gray{Float64}(0.0861405)\n",
       " Gray{Float64}(0.929207)     Gray{Float64}(0.0861392)\n",
       " Gray{Float64}(0.929206)     Gray{Float64}(0.0861379)\n",
       " Gray{Float64}(0.929206)     Gray{Float64}(0.0861364)\n",
       " Gray{Float64}(0.928944)  …  Gray{Float64}(0.086134) \n",
       " Gray{Float64}(0.928944)     Gray{Float64}(0.0861307)\n",
       " Gray{Float64}(0.928944)     Gray{Float64}(0.0861287)\n",
       " Gray{Float64}(0.928944)     Gray{Float64}(0.0907426)\n",
       " Gray{Float64}(0.928944)     Gray{Float64}(0.0999322)\n",
       " Gray{Float64}(0.92035)   …  Gray{Float64}(0.224378) \n",
       " Gray{Float64}(0.920846)     Gray{Float64}(0.879265) "
      ]
     },
     "execution_count": 95,
     "metadata": {},
     "output_type": "execute_result"
    }
   ],
   "source": [
    "u_h = lower_level_solver(u,f,8,K)\n",
    "println(\"$(ssim(u_h,z)), $(upper_level_cost(u_h,z,10,α))\")\n",
    "println(\"$(ssim(f,z)), $(upper_level_cost(f,z,10,α))\")\n",
    "Gray.(u_h)"
   ]
  },
  {
   "cell_type": "code",
   "execution_count": 116,
   "metadata": {},
   "outputs": [
    {
     "name": "stdout",
     "output_type": "stream",
     "text": [
      "9.6, "
     ]
    },
    {
     "data": {
      "text/plain": [
       "Task (done) @0x00000001136ecd90"
      ]
     },
     "execution_count": 116,
     "metadata": {},
     "output_type": "execute_result"
    }
   ],
   "source": [
    "step = 0.001\n",
    "lambda_min = 9.4\n",
    "lambda_max = 9.6\n",
    "lambda_range = lambda_min:step:lambda_max\n",
    "costs = Float64[]\n",
    "ssims = Float64[]\n",
    "@distributed for λ in lambda_range\n",
    "    u_h = lower_level_solver(u,f,λ,K)\n",
    "    push!(costs,upper_level_cost(u_h,z,λ,α))\n",
    "    push!(ssims,ssim(u_h,z))\n",
    "    if λ == lambda_range[end]\n",
    "        print(\"$(round(λ,digits=3)), \")\n",
    "    end\n",
    "end"
   ]
  },
  {
   "cell_type": "code",
   "execution_count": 118,
   "metadata": {},
   "outputs": [
    {
     "data": {
      "image/svg+xml": [
       "<?xml version=\"1.0\" encoding=\"utf-8\"?>\n",
       "<svg xmlns=\"http://www.w3.org/2000/svg\" xmlns:xlink=\"http://www.w3.org/1999/xlink\" width=\"600\" height=\"400\" viewBox=\"0 0 2400 1600\">\n",
       "<defs>\n",
       "  <clipPath id=\"clip9400\">\n",
       "    <rect x=\"0\" y=\"0\" width=\"2400\" height=\"1600\"/>\n",
       "  </clipPath>\n",
       "</defs>\n",
       "<path clip-path=\"url(#clip9400)\" d=\"\n",
       "M0 1600 L2400 1600 L2400 0 L0 0  Z\n",
       "  \" fill=\"#fffff0\" fill-rule=\"evenodd\" fill-opacity=\"1\"/>\n",
       "<defs>\n",
       "  <clipPath id=\"clip9401\">\n",
       "    <rect x=\"480\" y=\"0\" width=\"1681\" height=\"1600\"/>\n",
       "  </clipPath>\n",
       "</defs>\n",
       "<path clip-path=\"url(#clip9400)\" d=\"\n",
       "M180.66 1487.47 L2352.76 1487.47 L2352.76 47.2441 L180.66 47.2441  Z\n",
       "  \" fill=\"#fffff0\" fill-rule=\"evenodd\" fill-opacity=\"1\"/>\n",
       "<defs>\n",
       "  <clipPath id=\"clip9402\">\n",
       "    <rect x=\"180\" y=\"47\" width=\"2173\" height=\"1441\"/>\n",
       "  </clipPath>\n",
       "</defs>\n",
       "<polyline clip-path=\"url(#clip9402)\" style=\"stroke:#000000; stroke-width:2; stroke-opacity:0.1; fill:none\" points=\"\n",
       "  242.135,1487.47 242.135,47.2441 \n",
       "  \"/>\n",
       "<polyline clip-path=\"url(#clip9402)\" style=\"stroke:#000000; stroke-width:2; stroke-opacity:0.1; fill:none\" points=\"\n",
       "  754.421,1487.47 754.421,47.2441 \n",
       "  \"/>\n",
       "<polyline clip-path=\"url(#clip9402)\" style=\"stroke:#000000; stroke-width:2; stroke-opacity:0.1; fill:none\" points=\"\n",
       "  1266.71,1487.47 1266.71,47.2441 \n",
       "  \"/>\n",
       "<polyline clip-path=\"url(#clip9402)\" style=\"stroke:#000000; stroke-width:2; stroke-opacity:0.1; fill:none\" points=\"\n",
       "  1778.99,1487.47 1778.99,47.2441 \n",
       "  \"/>\n",
       "<polyline clip-path=\"url(#clip9402)\" style=\"stroke:#000000; stroke-width:2; stroke-opacity:0.1; fill:none\" points=\"\n",
       "  2291.28,1487.47 2291.28,47.2441 \n",
       "  \"/>\n",
       "<polyline clip-path=\"url(#clip9402)\" style=\"stroke:#000000; stroke-width:2; stroke-opacity:0.1; fill:none\" points=\"\n",
       "  180.66,-8022.26 2352.76,-8022.26 \n",
       "  \"/>\n",
       "<polyline clip-path=\"url(#clip9402)\" style=\"stroke:#000000; stroke-width:2; stroke-opacity:0.1; fill:none\" points=\"\n",
       "  180.66,-8022.26 2352.76,-8022.26 \n",
       "  \"/>\n",
       "<polyline clip-path=\"url(#clip9402)\" style=\"stroke:#000000; stroke-width:2; stroke-opacity:0.1; fill:none\" points=\"\n",
       "  180.66,-8022.26 2352.76,-8022.26 \n",
       "  \"/>\n",
       "<polyline clip-path=\"url(#clip9402)\" style=\"stroke:#000000; stroke-width:2; stroke-opacity:0.1; fill:none\" points=\"\n",
       "  180.66,-8022.26 2352.76,-8022.26 \n",
       "  \"/>\n",
       "<polyline clip-path=\"url(#clip9402)\" style=\"stroke:#000000; stroke-width:2; stroke-opacity:0.1; fill:none\" points=\"\n",
       "  180.66,-8022.26 2352.76,-8022.26 \n",
       "  \"/>\n",
       "<polyline clip-path=\"url(#clip9402)\" style=\"stroke:#000000; stroke-width:2; stroke-opacity:0.1; fill:none\" points=\"\n",
       "  180.66,-8022.26 2352.76,-8022.26 \n",
       "  \"/>\n",
       "<polyline clip-path=\"url(#clip9402)\" style=\"stroke:#000000; stroke-width:2; stroke-opacity:0.1; fill:none\" points=\"\n",
       "  180.66,-8022.26 2352.76,-8022.26 \n",
       "  \"/>\n",
       "<polyline clip-path=\"url(#clip9400)\" style=\"stroke:#000000; stroke-width:4; stroke-opacity:1; fill:none\" points=\"\n",
       "  180.66,1487.47 2352.76,1487.47 \n",
       "  \"/>\n",
       "<polyline clip-path=\"url(#clip9400)\" style=\"stroke:#000000; stroke-width:4; stroke-opacity:1; fill:none\" points=\"\n",
       "  180.66,1487.47 180.66,47.2441 \n",
       "  \"/>\n",
       "<polyline clip-path=\"url(#clip9400)\" style=\"stroke:#000000; stroke-width:4; stroke-opacity:1; fill:none\" points=\"\n",
       "  242.135,1487.47 242.135,1465.87 \n",
       "  \"/>\n",
       "<polyline clip-path=\"url(#clip9400)\" style=\"stroke:#000000; stroke-width:4; stroke-opacity:1; fill:none\" points=\"\n",
       "  754.421,1487.47 754.421,1465.87 \n",
       "  \"/>\n",
       "<polyline clip-path=\"url(#clip9400)\" style=\"stroke:#000000; stroke-width:4; stroke-opacity:1; fill:none\" points=\"\n",
       "  1266.71,1487.47 1266.71,1465.87 \n",
       "  \"/>\n",
       "<polyline clip-path=\"url(#clip9400)\" style=\"stroke:#000000; stroke-width:4; stroke-opacity:1; fill:none\" points=\"\n",
       "  1778.99,1487.47 1778.99,1465.87 \n",
       "  \"/>\n",
       "<polyline clip-path=\"url(#clip9400)\" style=\"stroke:#000000; stroke-width:4; stroke-opacity:1; fill:none\" points=\"\n",
       "  2291.28,1487.47 2291.28,1465.87 \n",
       "  \"/>\n",
       "<polyline clip-path=\"url(#clip9400)\" style=\"stroke:#000000; stroke-width:4; stroke-opacity:1; fill:none\" points=\"\n",
       "  180.66,-8022.26 213.242,-8022.26 \n",
       "  \"/>\n",
       "<polyline clip-path=\"url(#clip9400)\" style=\"stroke:#000000; stroke-width:4; stroke-opacity:1; fill:none\" points=\"\n",
       "  180.66,-8022.26 213.242,-8022.26 \n",
       "  \"/>\n",
       "<polyline clip-path=\"url(#clip9400)\" style=\"stroke:#000000; stroke-width:4; stroke-opacity:1; fill:none\" points=\"\n",
       "  180.66,-8022.26 213.242,-8022.26 \n",
       "  \"/>\n",
       "<polyline clip-path=\"url(#clip9400)\" style=\"stroke:#000000; stroke-width:4; stroke-opacity:1; fill:none\" points=\"\n",
       "  180.66,-8022.26 213.242,-8022.26 \n",
       "  \"/>\n",
       "<polyline clip-path=\"url(#clip9400)\" style=\"stroke:#000000; stroke-width:4; stroke-opacity:1; fill:none\" points=\"\n",
       "  180.66,-8022.26 213.242,-8022.26 \n",
       "  \"/>\n",
       "<polyline clip-path=\"url(#clip9400)\" style=\"stroke:#000000; stroke-width:4; stroke-opacity:1; fill:none\" points=\"\n",
       "  180.66,-8022.26 213.242,-8022.26 \n",
       "  \"/>\n",
       "<polyline clip-path=\"url(#clip9400)\" style=\"stroke:#000000; stroke-width:4; stroke-opacity:1; fill:none\" points=\"\n",
       "  180.66,-8022.26 213.242,-8022.26 \n",
       "  \"/>\n",
       "<g clip-path=\"url(#clip9400)\">\n",
       "<text style=\"fill:#000000; fill-opacity:1; font-family:Arial,Helvetica Neue,Helvetica,sans-serif; font-size:48px; text-anchor:middle;\" transform=\"rotate(0, 242.135, 1541.47)\" x=\"242.135\" y=\"1541.47\">9.40</text>\n",
       "</g>\n",
       "<g clip-path=\"url(#clip9400)\">\n",
       "<text style=\"fill:#000000; fill-opacity:1; font-family:Arial,Helvetica Neue,Helvetica,sans-serif; font-size:48px; text-anchor:middle;\" transform=\"rotate(0, 754.421, 1541.47)\" x=\"754.421\" y=\"1541.47\">9.45</text>\n",
       "</g>\n",
       "<g clip-path=\"url(#clip9400)\">\n",
       "<text style=\"fill:#000000; fill-opacity:1; font-family:Arial,Helvetica Neue,Helvetica,sans-serif; font-size:48px; text-anchor:middle;\" transform=\"rotate(0, 1266.71, 1541.47)\" x=\"1266.71\" y=\"1541.47\">9.50</text>\n",
       "</g>\n",
       "<g clip-path=\"url(#clip9400)\">\n",
       "<text style=\"fill:#000000; fill-opacity:1; font-family:Arial,Helvetica Neue,Helvetica,sans-serif; font-size:48px; text-anchor:middle;\" transform=\"rotate(0, 1778.99, 1541.47)\" x=\"1778.99\" y=\"1541.47\">9.55</text>\n",
       "</g>\n",
       "<g clip-path=\"url(#clip9400)\">\n",
       "<text style=\"fill:#000000; fill-opacity:1; font-family:Arial,Helvetica Neue,Helvetica,sans-serif; font-size:48px; text-anchor:middle;\" transform=\"rotate(0, 2291.28, 1541.47)\" x=\"2291.28\" y=\"1541.47\">9.60</text>\n",
       "</g>\n",
       "<g clip-path=\"url(#clip9400)\">\n",
       "<text style=\"fill:#000000; fill-opacity:1; font-family:Arial,Helvetica Neue,Helvetica,sans-serif; font-size:48px; text-anchor:end;\" transform=\"rotate(0, 156.66, -8004.76)\" x=\"156.66\" y=\"-8004.76\">5.57</text>\n",
       "</g>\n",
       "<g clip-path=\"url(#clip9400)\">\n",
       "<text style=\"fill:#000000; fill-opacity:1; font-family:Arial,Helvetica Neue,Helvetica,sans-serif; font-size:48px; text-anchor:end;\" transform=\"rotate(0, 156.66, -8004.76)\" x=\"156.66\" y=\"-8004.76\">5.57</text>\n",
       "</g>\n",
       "<g clip-path=\"url(#clip9400)\">\n",
       "<text style=\"fill:#000000; fill-opacity:1; font-family:Arial,Helvetica Neue,Helvetica,sans-serif; font-size:48px; text-anchor:end;\" transform=\"rotate(0, 156.66, -8004.76)\" x=\"156.66\" y=\"-8004.76\">5.57</text>\n",
       "</g>\n",
       "<g clip-path=\"url(#clip9400)\">\n",
       "<text style=\"fill:#000000; fill-opacity:1; font-family:Arial,Helvetica Neue,Helvetica,sans-serif; font-size:48px; text-anchor:end;\" transform=\"rotate(0, 156.66, -8004.76)\" x=\"156.66\" y=\"-8004.76\">5.57</text>\n",
       "</g>\n",
       "<g clip-path=\"url(#clip9400)\">\n",
       "<text style=\"fill:#000000; fill-opacity:1; font-family:Arial,Helvetica Neue,Helvetica,sans-serif; font-size:48px; text-anchor:end;\" transform=\"rotate(0, 156.66, -8004.76)\" x=\"156.66\" y=\"-8004.76\">5.57</text>\n",
       "</g>\n",
       "<g clip-path=\"url(#clip9400)\">\n",
       "<text style=\"fill:#000000; fill-opacity:1; font-family:Arial,Helvetica Neue,Helvetica,sans-serif; font-size:48px; text-anchor:end;\" transform=\"rotate(0, 156.66, -8004.76)\" x=\"156.66\" y=\"-8004.76\">5.57</text>\n",
       "</g>\n",
       "<g clip-path=\"url(#clip9400)\">\n",
       "<text style=\"fill:#000000; fill-opacity:1; font-family:Arial,Helvetica Neue,Helvetica,sans-serif; font-size:48px; text-anchor:end;\" transform=\"rotate(0, 156.66, -8004.76)\" x=\"156.66\" y=\"-8004.76\">5.57</text>\n",
       "</g>\n",
       "<polyline clip-path=\"url(#clip9402)\" style=\"stroke:#009af9; stroke-width:4; stroke-opacity:1; fill:none\" points=\"\n",
       "  242.135,929.649 252.38,948.683 262.626,965.88 272.872,977.987 283.118,989.756 293.363,1003.02 303.609,1016.05 313.855,1028.68 324.101,1041.38 334.346,1053.54 \n",
       "  344.592,1065.05 354.838,1076.89 365.084,1088.28 375.329,1099.43 385.575,1110.66 395.821,1121.46 406.066,1132.17 416.312,1142.7 426.558,1153.06 436.804,1163.08 \n",
       "  447.049,1173.17 457.295,1182.99 467.541,1192.47 477.787,1202.02 488.032,1211.15 498.278,1220.35 508.524,1229.27 518.77,1237.85 529.015,1246.5 539.261,1254.88 \n",
       "  549.507,1263.07 559.752,1270.93 569.998,1278.85 580.244,1286.51 590.49,1293.98 600.735,1301.27 610.981,1308.37 621.227,1315.29 631.473,1322.04 641.718,1328.6 \n",
       "  651.964,1335.14 662.21,1341.24 672.456,1347.4 682.701,1353.13 692.947,1358.94 703.193,1364.46 713.438,1369.64 723.684,1374.89 733.93,1379.88 744.176,1384.67 \n",
       "  754.421,1389.28 764.667,1393.71 774.913,1397.96 785.159,1402.19 795.404,1405.97 805.65,1409.82 815.896,1413.23 826.142,1416.73 836.387,1419.94 846.633,1422.96 \n",
       "  856.879,1425.8 867.124,1428.45 877.37,1430.93 887.616,1433.22 897.862,1435.51 908.107,1437.33 918.353,1439.06 928.599,1440.63 938.845,1442.02 949.09,1443.23 \n",
       "  959.336,1444.27 969.582,1445.13 979.828,1445.81 990.073,1446.32 1000.32,1446.65 1010.56,1446.63 1020.81,1446.71 1031.06,1446.53 1041.3,1446.16 1051.55,1445.61 \n",
       "  1061.79,1444.71 1072.04,1443.91 1082.28,1442.84 1092.53,1441.59 1102.78,1439.99 1113.02,1438.49 1123.27,1436.71 1133.51,1434.76 1143.76,1432.45 1154.01,1430.24 \n",
       "  1164.25,1427.76 1174.5,1424.93 1184.74,1422.2 1194.99,1419.2 1205.23,1415.84 1215.48,1412.58 1225.73,1409.05 1235.97,1405.16 1246.22,1401.38 1256.46,1397.32 \n",
       "  1266.71,1392.91 1276.95,1388.59 1287.2,1384.01 1297.45,1379.07 1307.69,1374.23 1317.94,1369.12 1328.18,1363.65 1338.43,1358.29 1348.67,1352.65 1358.92,1346.83 \n",
       "  1369.17,1340.66 1379.41,1334.59 1389.66,1328.25 1399.9,1321.56 1410.15,1314.96 1420.39,1308.1 1430.64,1301.05 1440.89,1293.66 1451.13,1286.36 1461.38,1278.8 \n",
       "  1471.62,1271.05 1481.87,1263.12 1492.11,1254.85 1502.36,1246.68 1512.61,1238.24 1522.85,1229.62 1533.1,1220.81 1543.34,1211.83 1553.59,1202.68 1563.83,1193.35 \n",
       "  1574.08,1183.84 1584.33,1174.16 1594.57,1164.31 1604.82,1154.28 1615.06,1144.08 1625.31,1133.7 1635.55,1123.15 1645.8,1112.42 1656.05,1101.52 1666.29,1090.45 \n",
       "  1676.54,1079.2 1686.78,1067.77 1697.03,1056.18 1707.27,1044.41 1717.52,1032.46 1727.77,1020.35 1738.01,1008.05 1748.26,995.761 1758.5,983.006 1768.75,970.176 \n",
       "  1778.99,957.18 1789.24,944.188 1799.49,930.735 1809.73,917.208 1819.98,903.689 1830.22,889.714 1840.47,875.837 1850.71,861.508 1860.96,847.281 1871.21,832.604 \n",
       "  1881.45,818.029 1891.7,803.005 1901.94,788.083 1912.19,772.713 1922.44,757.444 1932.68,741.901 1942.93,726.171 1953.17,710.089 1963.42,694.119 1973.66,677.878 \n",
       "  1983.91,661.454 1994.16,643.364 2004.4,628.735 2014.65,611.312 2024.89,592.38 2035.14,577.525 2045.38,559.647 2055.63,539.88 2065.88,524.659 2076.12,504.099 \n",
       "  2086.37,488.517 2096.61,467.581 2106.86,451.644 2117.1,430.357 2127.35,414.068 2137.6,392.433 2147.84,375.791 2158.09,353.803 2168.33,336.791 2178.58,314.409 \n",
       "  2188.82,297.044 2199.07,274.324 2209.32,256.613 2219.56,233.555 2229.81,215.496 2240.05,192.098 2250.3,173.69 2260.54,149.95 2270.79,131.194 2281.04,107.111 \n",
       "  2291.28,88.0053 \n",
       "  \"/>\n",
       "<path clip-path=\"url(#clip9400)\" d=\"\n",
       "M1952.48 251.724 L2280.76 251.724 L2280.76 130.764 L1952.48 130.764  Z\n",
       "  \" fill=\"#fffff0\" fill-rule=\"evenodd\" fill-opacity=\"1\"/>\n",
       "<polyline clip-path=\"url(#clip9400)\" style=\"stroke:#000000; stroke-width:4; stroke-opacity:1; fill:none\" points=\"\n",
       "  1952.48,251.724 2280.76,251.724 2280.76,130.764 1952.48,130.764 1952.48,251.724 \n",
       "  \"/>\n",
       "<polyline clip-path=\"url(#clip9400)\" style=\"stroke:#009af9; stroke-width:4; stroke-opacity:1; fill:none\" points=\"\n",
       "  1976.48,191.244 2120.48,191.244 \n",
       "  \"/>\n",
       "<g clip-path=\"url(#clip9400)\">\n",
       "<text style=\"fill:#000000; fill-opacity:1; font-family:Arial,Helvetica Neue,Helvetica,sans-serif; font-size:48px; text-anchor:start;\" transform=\"rotate(0, 2144.48, 208.744)\" x=\"2144.48\" y=\"208.744\">cost</text>\n",
       "</g>\n",
       "</svg>\n"
      ]
     },
     "execution_count": 118,
     "metadata": {},
     "output_type": "execute_result"
    },
    {
     "name": "stderr",
     "output_type": "stream",
     "text": [
      "┌ Warning: No strict ticks found\n",
      "└ @ PlotUtils /Users/dvillacis/.julia/packages/PlotUtils/EybJR/src/ticks.jl:168\n",
      "┌ Warning: No strict ticks found\n",
      "└ @ PlotUtils /Users/dvillacis/.julia/packages/PlotUtils/EybJR/src/ticks.jl:168\n",
      "┌ Warning: No strict ticks found\n",
      "└ @ PlotUtils /Users/dvillacis/.julia/packages/PlotUtils/EybJR/src/ticks.jl:168\n",
      "┌ Warning: No strict ticks found\n",
      "└ @ PlotUtils /Users/dvillacis/.julia/packages/PlotUtils/EybJR/src/ticks.jl:168\n"
     ]
    }
   ],
   "source": [
    "plot(lambda_range,costs,label=\"cost\",xticks = 0:0.05:lambda_max, background_color = :ivory)"
   ]
  },
  {
   "cell_type": "code",
   "execution_count": 103,
   "metadata": {},
   "outputs": [
    {
     "data": {
      "image/svg+xml": [
       "<?xml version=\"1.0\" encoding=\"utf-8\"?>\n",
       "<svg xmlns=\"http://www.w3.org/2000/svg\" xmlns:xlink=\"http://www.w3.org/1999/xlink\" width=\"600\" height=\"400\" viewBox=\"0 0 2400 1600\">\n",
       "<defs>\n",
       "  <clipPath id=\"clip7800\">\n",
       "    <rect x=\"0\" y=\"0\" width=\"2400\" height=\"1600\"/>\n",
       "  </clipPath>\n",
       "</defs>\n",
       "<path clip-path=\"url(#clip7800)\" d=\"\n",
       "M0 1600 L2400 1600 L2400 0 L0 0  Z\n",
       "  \" fill=\"#fffff0\" fill-rule=\"evenodd\" fill-opacity=\"1\"/>\n",
       "<defs>\n",
       "  <clipPath id=\"clip7801\">\n",
       "    <rect x=\"480\" y=\"0\" width=\"1681\" height=\"1600\"/>\n",
       "  </clipPath>\n",
       "</defs>\n",
       "<path clip-path=\"url(#clip7800)\" d=\"\n",
       "M153.898 1521.01 L2352.76 1521.01 L2352.76 47.2441 L153.898 47.2441  Z\n",
       "  \" fill=\"#fffff0\" fill-rule=\"evenodd\" fill-opacity=\"1\"/>\n",
       "<defs>\n",
       "  <clipPath id=\"clip7802\">\n",
       "    <rect x=\"153\" y=\"47\" width=\"2200\" height=\"1475\"/>\n",
       "  </clipPath>\n",
       "</defs>\n",
       "<polyline clip-path=\"url(#clip7802)\" style=\"stroke:#000000; stroke-width:2; stroke-opacity:0.1; fill:none\" points=\"\n",
       "  153.898,1466.79 2352.76,1466.79 \n",
       "  \"/>\n",
       "<polyline clip-path=\"url(#clip7802)\" style=\"stroke:#000000; stroke-width:2; stroke-opacity:0.1; fill:none\" points=\"\n",
       "  153.898,1199.44 2352.76,1199.44 \n",
       "  \"/>\n",
       "<polyline clip-path=\"url(#clip7802)\" style=\"stroke:#000000; stroke-width:2; stroke-opacity:0.1; fill:none\" points=\"\n",
       "  153.898,932.093 2352.76,932.093 \n",
       "  \"/>\n",
       "<polyline clip-path=\"url(#clip7802)\" style=\"stroke:#000000; stroke-width:2; stroke-opacity:0.1; fill:none\" points=\"\n",
       "  153.898,664.743 2352.76,664.743 \n",
       "  \"/>\n",
       "<polyline clip-path=\"url(#clip7802)\" style=\"stroke:#000000; stroke-width:2; stroke-opacity:0.1; fill:none\" points=\"\n",
       "  153.898,397.393 2352.76,397.393 \n",
       "  \"/>\n",
       "<polyline clip-path=\"url(#clip7802)\" style=\"stroke:#000000; stroke-width:2; stroke-opacity:0.1; fill:none\" points=\"\n",
       "  153.898,130.043 2352.76,130.043 \n",
       "  \"/>\n",
       "<polyline clip-path=\"url(#clip7800)\" style=\"stroke:#000000; stroke-width:4; stroke-opacity:1; fill:none\" points=\"\n",
       "  153.898,1521.01 2352.76,1521.01 \n",
       "  \"/>\n",
       "<polyline clip-path=\"url(#clip7800)\" style=\"stroke:#000000; stroke-width:4; stroke-opacity:1; fill:none\" points=\"\n",
       "  153.898,1521.01 153.898,47.2441 \n",
       "  \"/>\n",
       "<polyline clip-path=\"url(#clip7800)\" style=\"stroke:#000000; stroke-width:4; stroke-opacity:1; fill:none\" points=\"\n",
       "  153.898,1466.79 186.881,1466.79 \n",
       "  \"/>\n",
       "<polyline clip-path=\"url(#clip7800)\" style=\"stroke:#000000; stroke-width:4; stroke-opacity:1; fill:none\" points=\"\n",
       "  153.898,1199.44 186.881,1199.44 \n",
       "  \"/>\n",
       "<polyline clip-path=\"url(#clip7800)\" style=\"stroke:#000000; stroke-width:4; stroke-opacity:1; fill:none\" points=\"\n",
       "  153.898,932.093 186.881,932.093 \n",
       "  \"/>\n",
       "<polyline clip-path=\"url(#clip7800)\" style=\"stroke:#000000; stroke-width:4; stroke-opacity:1; fill:none\" points=\"\n",
       "  153.898,664.743 186.881,664.743 \n",
       "  \"/>\n",
       "<polyline clip-path=\"url(#clip7800)\" style=\"stroke:#000000; stroke-width:4; stroke-opacity:1; fill:none\" points=\"\n",
       "  153.898,397.393 186.881,397.393 \n",
       "  \"/>\n",
       "<polyline clip-path=\"url(#clip7800)\" style=\"stroke:#000000; stroke-width:4; stroke-opacity:1; fill:none\" points=\"\n",
       "  153.898,130.043 186.881,130.043 \n",
       "  \"/>\n",
       "<g clip-path=\"url(#clip7800)\">\n",
       "<text style=\"fill:#000000; fill-opacity:1; font-family:Arial,Helvetica Neue,Helvetica,sans-serif; font-size:48px; text-anchor:end;\" transform=\"rotate(0, 129.898, 1484.29)\" x=\"129.898\" y=\"1484.29\">0.0</text>\n",
       "</g>\n",
       "<g clip-path=\"url(#clip7800)\">\n",
       "<text style=\"fill:#000000; fill-opacity:1; font-family:Arial,Helvetica Neue,Helvetica,sans-serif; font-size:48px; text-anchor:end;\" transform=\"rotate(0, 129.898, 1216.94)\" x=\"129.898\" y=\"1216.94\">0.1</text>\n",
       "</g>\n",
       "<g clip-path=\"url(#clip7800)\">\n",
       "<text style=\"fill:#000000; fill-opacity:1; font-family:Arial,Helvetica Neue,Helvetica,sans-serif; font-size:48px; text-anchor:end;\" transform=\"rotate(0, 129.898, 949.593)\" x=\"129.898\" y=\"949.593\">0.2</text>\n",
       "</g>\n",
       "<g clip-path=\"url(#clip7800)\">\n",
       "<text style=\"fill:#000000; fill-opacity:1; font-family:Arial,Helvetica Neue,Helvetica,sans-serif; font-size:48px; text-anchor:end;\" transform=\"rotate(0, 129.898, 682.243)\" x=\"129.898\" y=\"682.243\">0.3</text>\n",
       "</g>\n",
       "<g clip-path=\"url(#clip7800)\">\n",
       "<text style=\"fill:#000000; fill-opacity:1; font-family:Arial,Helvetica Neue,Helvetica,sans-serif; font-size:48px; text-anchor:end;\" transform=\"rotate(0, 129.898, 414.893)\" x=\"129.898\" y=\"414.893\">0.4</text>\n",
       "</g>\n",
       "<g clip-path=\"url(#clip7800)\">\n",
       "<text style=\"fill:#000000; fill-opacity:1; font-family:Arial,Helvetica Neue,Helvetica,sans-serif; font-size:48px; text-anchor:end;\" transform=\"rotate(0, 129.898, 147.543)\" x=\"129.898\" y=\"147.543\">0.5</text>\n",
       "</g>\n",
       "<polyline clip-path=\"url(#clip7802)\" style=\"stroke:#009af9; stroke-width:4; stroke-opacity:1; fill:none\" points=\"\n",
       "  216.13,1450.94 223.044,1450.89 229.959,1451.11 236.874,1451.08 243.788,1451.03 250.703,1450.97 257.618,1450.9 264.532,1450.83 271.447,1450.76 278.362,1450.7 \n",
       "  285.276,1450.1 292.191,1449.98 299.106,1449.69 306.02,1449.68 312.935,1450.24 319.85,1450.18 326.764,1450.12 333.679,1450.04 340.593,1449.92 347.508,1449.8 \n",
       "  354.423,1449.65 361.337,1449.52 368.252,1449.36 375.167,1448.92 382.081,1448.86 388.996,1448.72 395.911,1449.03 402.825,1448.82 409.74,1448.56 416.655,1448.26 \n",
       "  423.569,1447.53 430.484,1479.3 437.399,1479.24 444.313,1479.15 451.228,1479.06 458.142,1478.95 465.057,1478.83 471.972,1478.66 478.886,1478.38 485.801,1478.07 \n",
       "  492.716,1477.67 499.63,1477.11 506.545,1476.28 513.46,1475.04 520.374,1473.15 527.289,1470.22 534.204,1465.19 541.118,1455.69 548.033,1434.13 554.948,1381.93 \n",
       "  561.862,1319.08 568.777,1268.23 575.691,1226.63 582.606,1191.73 589.521,1161.33 596.435,1134.86 603.35,1111.28 610.265,1090.19 617.179,1071 624.094,1053.25 \n",
       "  631.009,1036.72 637.923,1021.34 644.838,1006.83 651.753,992.998 658.667,979.962 665.582,967.673 672.497,956.112 679.411,945.199 686.326,934.902 693.24,925.161 \n",
       "  700.155,915.959 707.07,907.246 713.984,898.973 720.899,891.124 727.814,883.675 734.728,876.564 741.643,869.769 748.558,863.275 755.472,857.071 762.387,851.127 \n",
       "  769.302,845.417 776.216,839.933 783.131,834.651 790.046,829.566 796.96,824.657 803.875,819.934 810.789,815.394 817.704,811.022 824.619,806.833 831.533,802.743 \n",
       "  838.448,798.789 845.363,794.964 852.277,791.266 859.192,787.687 866.107,784.218 873.021,780.854 879.936,777.589 886.851,774.422 893.765,771.349 900.68,768.364 \n",
       "  907.595,765.466 914.509,762.647 921.424,759.905 928.339,757.235 935.253,754.635 942.168,752.103 949.082,749.635 955.997,747.231 962.912,744.826 969.826,742.407 \n",
       "  976.741,740.052 983.656,737.755 990.57,735.515 997.485,733.328 1004.4,731.194 1011.31,729.108 1018.23,726.974 1025.14,724.742 1032.06,722.572 1038.97,720.46 \n",
       "  1045.89,718.26 1052.8,715.876 1059.72,713.542 1066.63,710.759 1073.55,707.62 1080.46,703.699 1087.38,697.399 1094.29,681.553 1101.2,609.107 1108.12,540.833 \n",
       "  1115.03,481.416 1121.95,432.24 1128.86,393.533 1135.78,363.612 1142.69,340.302 1149.61,321.728 1156.52,306.618 1163.44,294.072 1170.35,283.468 1177.27,274.364 \n",
       "  1184.18,266.445 1191.1,259.479 1198.01,253.29 1204.92,247.746 1211.84,242.743 1218.75,238.196 1225.67,234.04 1232.58,230.217 1239.5,226.68 1246.41,223.386 \n",
       "  1253.33,220.299 1260.24,217.393 1267.16,214.649 1274.07,212.05 1280.99,209.585 1287.9,207.196 1294.81,204.927 1301.73,202.76 1308.64,200.698 1315.56,198.74 \n",
       "  1322.47,196.875 1329.39,195.102 1336.3,193.413 1343.22,191.798 1350.13,190.242 1357.05,188.752 1363.96,187.322 1370.88,185.949 1377.79,184.628 1384.71,183.355 \n",
       "  1391.62,182.125 1398.53,120.152 1405.45,119.886 1412.36,119.61 1419.28,119.341 1426.19,119.065 1433.11,118.798 1440.02,118.524 1446.94,118.252 1453.85,117.989 \n",
       "  1460.77,117.717 1467.68,117.452 1474.6,117.181 1481.51,116.918 1488.42,116.647 1495.34,116.385 1502.25,116.116 1509.17,115.855 1516.08,115.587 1523,115.327 \n",
       "  1529.91,115.06 1536.83,114.801 1543.74,114.535 1550.66,114.278 1557.57,114.012 1564.49,113.756 1571.4,113.492 1578.32,113.236 1585.23,112.973 1592.14,112.718 \n",
       "  1599.06,112.457 1605.97,112.198 1612.89,111.941 1619.8,111.684 1626.72,111.429 1633.63,111.172 1640.55,110.918 1647.46,110.665 1654.38,110.411 1661.29,110.157 \n",
       "  1668.21,109.904 1675.12,109.652 1682.04,109.4 1688.95,109.149 1695.86,108.897 1702.78,108.647 1709.69,108.397 1716.61,108.147 1723.52,107.898 1730.44,107.649 \n",
       "  1737.35,107.401 1744.27,107.153 1751.18,106.906 1758.1,106.659 1765.01,106.413 1771.93,106.167 1778.84,105.921 1785.75,105.676 1792.67,105.432 1799.58,105.188 \n",
       "  1806.5,104.944 1813.41,104.701 1820.33,104.458 1827.24,104.216 1834.16,103.974 1841.07,103.733 1847.99,103.492 1854.9,103.252 1861.82,103.012 1868.73,102.772 \n",
       "  1875.65,102.533 1882.56,102.294 1889.47,102.056 1896.39,101.818 1903.3,101.581 1910.22,101.344 1917.13,101.108 1924.05,100.872 1930.96,100.636 1937.88,100.401 \n",
       "  1944.79,100.166 1951.71,99.9318 1958.62,99.698 1965.54,99.466 1972.45,99.2337 1979.36,99.0012 1986.28,98.769 1993.19,98.5372 2000.11,98.3059 2007.02,98.075 \n",
       "  2013.94,97.8445 2020.85,97.6145 2027.77,97.3848 2034.68,97.1556 2041.6,96.9267 2048.51,96.6983 2055.43,96.4702 2062.34,96.2426 2069.26,96.0154 2076.17,95.7886 \n",
       "  2083.08,95.5622 2090,95.3362 2096.91,95.1106 2103.83,94.8853 2110.74,94.6606 2117.66,94.4362 2124.57,94.2121 2131.49,93.9885 2138.4,93.7653 2145.32,93.5425 \n",
       "  2152.23,93.3201 2159.15,93.098 2166.06,92.8764 2172.98,92.6551 2179.89,92.4343 2186.8,92.2138 2193.72,91.9937 2200.63,91.7741 2207.55,91.5549 2214.46,91.3361 \n",
       "  2221.38,91.1176 2228.29,90.8996 2235.21,90.6819 2242.12,90.4647 2249.04,90.2478 2255.95,90.0312 2262.87,89.8151 2269.78,89.5993 2276.69,89.3843 2283.61,89.1691 \n",
       "  2290.52,88.9544 \n",
       "  \"/>\n",
       "<path clip-path=\"url(#clip7800)\" d=\"\n",
       "M1952.48 1377.01 L2280.76 1377.01 L2280.76 1256.05 L1952.48 1256.05  Z\n",
       "  \" fill=\"#fffff0\" fill-rule=\"evenodd\" fill-opacity=\"1\"/>\n",
       "<polyline clip-path=\"url(#clip7800)\" style=\"stroke:#000000; stroke-width:4; stroke-opacity:1; fill:none\" points=\"\n",
       "  1952.48,1377.01 2280.76,1377.01 2280.76,1256.05 1952.48,1256.05 1952.48,1377.01 \n",
       "  \"/>\n",
       "<polyline clip-path=\"url(#clip7800)\" style=\"stroke:#009af9; stroke-width:4; stroke-opacity:1; fill:none\" points=\"\n",
       "  1976.48,1316.53 2120.48,1316.53 \n",
       "  \"/>\n",
       "<g clip-path=\"url(#clip7800)\">\n",
       "<text style=\"fill:#000000; fill-opacity:1; font-family:Arial,Helvetica Neue,Helvetica,sans-serif; font-size:48px; text-anchor:start;\" transform=\"rotate(0, 2144.48, 1334.03)\" x=\"2144.48\" y=\"1334.03\">cost</text>\n",
       "</g>\n",
       "</svg>\n"
      ]
     },
     "execution_count": 103,
     "metadata": {},
     "output_type": "execute_result"
    }
   ],
   "source": [
    "plot(lambda_range,ssims,label=\"cost\",xticks = 0:2:lambda_max, background_color = :ivory, legend=:bottomright)"
   ]
  },
  {
   "cell_type": "markdown",
   "metadata": {},
   "source": [
    "## Gradient Calculation\n",
    "Let us consider a reduced cost function\n",
    "\n",
    "$$\n",
    "j(\\lambda) = \\frac{1}{2}\\|S(\\lambda)-z\\|^2+\\frac{\\alpha}{2}\\|\\lambda\\|^2,\n",
    "$$\n",
    "\n",
    "its directional derivative will be given by\n",
    "\n",
    "$$\n",
    "j'(\\lambda)h = \\langle S(\\lambda)-z, S'(\\lambda)h \\rangle + \\alpha \\langle \\lambda, h \\rangle\n",
    "$$"
   ]
  },
  {
   "cell_type": "code",
   "execution_count": 11,
   "metadata": {},
   "outputs": [
    {
     "data": {
      "text/plain": [
       "gradient_solver (generic function with 1 method)"
      ]
     },
     "execution_count": 11,
     "metadata": {},
     "output_type": "execute_result"
    }
   ],
   "source": [
    "include(\"gradient_solver.jl\")"
   ]
  },
  {
   "cell_type": "code",
   "execution_count": 12,
   "metadata": {},
   "outputs": [
    {
     "data": {
      "text/plain": [
       "-2.9710885137600314"
      ]
     },
     "execution_count": 12,
     "metadata": {},
     "output_type": "execute_result"
    }
   ],
   "source": [
    "λ = 2\n",
    "∇ = gradient_matrix(size(f))\n",
    "u_h= lower_level_solver(u,f,λ,K)\n",
    "grad = gradient_solver(u_h,f,z,λ,α,K,∇)"
   ]
  },
  {
   "cell_type": "code",
   "execution_count": 13,
   "metadata": {},
   "outputs": [
    {
     "name": "stdout",
     "output_type": "stream",
     "text": [
      "10.0, 20.0, "
     ]
    },
    {
     "data": {
      "text/plain": [
       "Task (done) @0x000000012f24e410"
      ]
     },
     "execution_count": 13,
     "metadata": {},
     "output_type": "execute_result"
    }
   ],
   "source": [
    "step = 0.1\n",
    "lambda_max = 20.0\n",
    "lambda_min = 0.9\n",
    "lambda_range = lambda_min:step:lambda_max\n",
    "grads = Float64[]\n",
    "@distributed for λ in lambda_range\n",
    "    u_h = lower_level_solver(u,f,λ,K)\n",
    "    g = gradient_solver(u_h,f,z,λ,α,K,∇)\n",
    "    push!(grads,g)\n",
    "    if λ % 10 == 0\n",
    "        print(\"$(round(λ,digits=3)), \")\n",
    "    end\n",
    "end"
   ]
  },
  {
   "cell_type": "code",
   "execution_count": 14,
   "metadata": {},
   "outputs": [
    {
     "data": {
      "image/svg+xml": [
       "<?xml version=\"1.0\" encoding=\"utf-8\"?>\n",
       "<svg xmlns=\"http://www.w3.org/2000/svg\" xmlns:xlink=\"http://www.w3.org/1999/xlink\" width=\"600\" height=\"400\" viewBox=\"0 0 2400 1600\">\n",
       "<defs>\n",
       "  <clipPath id=\"clip3000\">\n",
       "    <rect x=\"0\" y=\"0\" width=\"2400\" height=\"1600\"/>\n",
       "  </clipPath>\n",
       "</defs>\n",
       "<path clip-path=\"url(#clip3000)\" d=\"\n",
       "M0 1600 L2400 1600 L2400 0 L0 0  Z\n",
       "  \" fill=\"#fffff0\" fill-rule=\"evenodd\" fill-opacity=\"1\"/>\n",
       "<defs>\n",
       "  <clipPath id=\"clip3001\">\n",
       "    <rect x=\"480\" y=\"0\" width=\"1681\" height=\"1600\"/>\n",
       "  </clipPath>\n",
       "</defs>\n",
       "<path clip-path=\"url(#clip3000)\" d=\"\n",
       "M168.627 1487.47 L2352.76 1487.47 L2352.76 47.2441 L168.627 47.2441  Z\n",
       "  \" fill=\"#fffff0\" fill-rule=\"evenodd\" fill-opacity=\"1\"/>\n",
       "<defs>\n",
       "  <clipPath id=\"clip3002\">\n",
       "    <rect x=\"168\" y=\"47\" width=\"2185\" height=\"1441\"/>\n",
       "  </clipPath>\n",
       "</defs>\n",
       "<polyline clip-path=\"url(#clip3002)\" style=\"stroke:#000000; stroke-width:2; stroke-opacity:0.1; fill:none\" points=\"\n",
       "  241.23,1487.47 241.23,47.2441 \n",
       "  \"/>\n",
       "<polyline clip-path=\"url(#clip3002)\" style=\"stroke:#000000; stroke-width:2; stroke-opacity:0.1; fill:none\" points=\"\n",
       "  349.109,1487.47 349.109,47.2441 \n",
       "  \"/>\n",
       "<polyline clip-path=\"url(#clip3002)\" style=\"stroke:#000000; stroke-width:2; stroke-opacity:0.1; fill:none\" points=\"\n",
       "  456.989,1487.47 456.989,47.2441 \n",
       "  \"/>\n",
       "<polyline clip-path=\"url(#clip3002)\" style=\"stroke:#000000; stroke-width:2; stroke-opacity:0.1; fill:none\" points=\"\n",
       "  564.868,1487.47 564.868,47.2441 \n",
       "  \"/>\n",
       "<polyline clip-path=\"url(#clip3002)\" style=\"stroke:#000000; stroke-width:2; stroke-opacity:0.1; fill:none\" points=\"\n",
       "  672.748,1487.47 672.748,47.2441 \n",
       "  \"/>\n",
       "<polyline clip-path=\"url(#clip3002)\" style=\"stroke:#000000; stroke-width:2; stroke-opacity:0.1; fill:none\" points=\"\n",
       "  780.627,1487.47 780.627,47.2441 \n",
       "  \"/>\n",
       "<polyline clip-path=\"url(#clip3002)\" style=\"stroke:#000000; stroke-width:2; stroke-opacity:0.1; fill:none\" points=\"\n",
       "  888.507,1487.47 888.507,47.2441 \n",
       "  \"/>\n",
       "<polyline clip-path=\"url(#clip3002)\" style=\"stroke:#000000; stroke-width:2; stroke-opacity:0.1; fill:none\" points=\"\n",
       "  996.387,1487.47 996.387,47.2441 \n",
       "  \"/>\n",
       "<polyline clip-path=\"url(#clip3002)\" style=\"stroke:#000000; stroke-width:2; stroke-opacity:0.1; fill:none\" points=\"\n",
       "  1104.27,1487.47 1104.27,47.2441 \n",
       "  \"/>\n",
       "<polyline clip-path=\"url(#clip3002)\" style=\"stroke:#000000; stroke-width:2; stroke-opacity:0.1; fill:none\" points=\"\n",
       "  1212.15,1487.47 1212.15,47.2441 \n",
       "  \"/>\n",
       "<polyline clip-path=\"url(#clip3002)\" style=\"stroke:#000000; stroke-width:2; stroke-opacity:0.1; fill:none\" points=\"\n",
       "  1320.03,1487.47 1320.03,47.2441 \n",
       "  \"/>\n",
       "<polyline clip-path=\"url(#clip3002)\" style=\"stroke:#000000; stroke-width:2; stroke-opacity:0.1; fill:none\" points=\"\n",
       "  1427.9,1487.47 1427.9,47.2441 \n",
       "  \"/>\n",
       "<polyline clip-path=\"url(#clip3002)\" style=\"stroke:#000000; stroke-width:2; stroke-opacity:0.1; fill:none\" points=\"\n",
       "  1535.78,1487.47 1535.78,47.2441 \n",
       "  \"/>\n",
       "<polyline clip-path=\"url(#clip3002)\" style=\"stroke:#000000; stroke-width:2; stroke-opacity:0.1; fill:none\" points=\"\n",
       "  1643.66,1487.47 1643.66,47.2441 \n",
       "  \"/>\n",
       "<polyline clip-path=\"url(#clip3002)\" style=\"stroke:#000000; stroke-width:2; stroke-opacity:0.1; fill:none\" points=\"\n",
       "  1751.54,1487.47 1751.54,47.2441 \n",
       "  \"/>\n",
       "<polyline clip-path=\"url(#clip3002)\" style=\"stroke:#000000; stroke-width:2; stroke-opacity:0.1; fill:none\" points=\"\n",
       "  1859.42,1487.47 1859.42,47.2441 \n",
       "  \"/>\n",
       "<polyline clip-path=\"url(#clip3002)\" style=\"stroke:#000000; stroke-width:2; stroke-opacity:0.1; fill:none\" points=\"\n",
       "  1967.3,1487.47 1967.3,47.2441 \n",
       "  \"/>\n",
       "<polyline clip-path=\"url(#clip3002)\" style=\"stroke:#000000; stroke-width:2; stroke-opacity:0.1; fill:none\" points=\"\n",
       "  2075.18,1487.47 2075.18,47.2441 \n",
       "  \"/>\n",
       "<polyline clip-path=\"url(#clip3002)\" style=\"stroke:#000000; stroke-width:2; stroke-opacity:0.1; fill:none\" points=\"\n",
       "  2183.06,1487.47 2183.06,47.2441 \n",
       "  \"/>\n",
       "<polyline clip-path=\"url(#clip3002)\" style=\"stroke:#000000; stroke-width:2; stroke-opacity:0.1; fill:none\" points=\"\n",
       "  2290.94,1487.47 2290.94,47.2441 \n",
       "  \"/>\n",
       "<polyline clip-path=\"url(#clip3002)\" style=\"stroke:#000000; stroke-width:2; stroke-opacity:0.1; fill:none\" points=\"\n",
       "  168.627,1236.31 2352.76,1236.31 \n",
       "  \"/>\n",
       "<polyline clip-path=\"url(#clip3002)\" style=\"stroke:#000000; stroke-width:2; stroke-opacity:0.1; fill:none\" points=\"\n",
       "  168.627,858.13 2352.76,858.13 \n",
       "  \"/>\n",
       "<polyline clip-path=\"url(#clip3002)\" style=\"stroke:#000000; stroke-width:2; stroke-opacity:0.1; fill:none\" points=\"\n",
       "  168.627,479.952 2352.76,479.952 \n",
       "  \"/>\n",
       "<polyline clip-path=\"url(#clip3002)\" style=\"stroke:#000000; stroke-width:2; stroke-opacity:0.1; fill:none\" points=\"\n",
       "  168.627,101.773 2352.76,101.773 \n",
       "  \"/>\n",
       "<polyline clip-path=\"url(#clip3000)\" style=\"stroke:#000000; stroke-width:4; stroke-opacity:1; fill:none\" points=\"\n",
       "  168.627,1487.47 2352.76,1487.47 \n",
       "  \"/>\n",
       "<polyline clip-path=\"url(#clip3000)\" style=\"stroke:#000000; stroke-width:4; stroke-opacity:1; fill:none\" points=\"\n",
       "  168.627,1487.47 168.627,47.2441 \n",
       "  \"/>\n",
       "<polyline clip-path=\"url(#clip3000)\" style=\"stroke:#000000; stroke-width:4; stroke-opacity:1; fill:none\" points=\"\n",
       "  241.23,1487.47 241.23,1465.87 \n",
       "  \"/>\n",
       "<polyline clip-path=\"url(#clip3000)\" style=\"stroke:#000000; stroke-width:4; stroke-opacity:1; fill:none\" points=\"\n",
       "  349.109,1487.47 349.109,1465.87 \n",
       "  \"/>\n",
       "<polyline clip-path=\"url(#clip3000)\" style=\"stroke:#000000; stroke-width:4; stroke-opacity:1; fill:none\" points=\"\n",
       "  456.989,1487.47 456.989,1465.87 \n",
       "  \"/>\n",
       "<polyline clip-path=\"url(#clip3000)\" style=\"stroke:#000000; stroke-width:4; stroke-opacity:1; fill:none\" points=\"\n",
       "  564.868,1487.47 564.868,1465.87 \n",
       "  \"/>\n",
       "<polyline clip-path=\"url(#clip3000)\" style=\"stroke:#000000; stroke-width:4; stroke-opacity:1; fill:none\" points=\"\n",
       "  672.748,1487.47 672.748,1465.87 \n",
       "  \"/>\n",
       "<polyline clip-path=\"url(#clip3000)\" style=\"stroke:#000000; stroke-width:4; stroke-opacity:1; fill:none\" points=\"\n",
       "  780.627,1487.47 780.627,1465.87 \n",
       "  \"/>\n",
       "<polyline clip-path=\"url(#clip3000)\" style=\"stroke:#000000; stroke-width:4; stroke-opacity:1; fill:none\" points=\"\n",
       "  888.507,1487.47 888.507,1465.87 \n",
       "  \"/>\n",
       "<polyline clip-path=\"url(#clip3000)\" style=\"stroke:#000000; stroke-width:4; stroke-opacity:1; fill:none\" points=\"\n",
       "  996.387,1487.47 996.387,1465.87 \n",
       "  \"/>\n",
       "<polyline clip-path=\"url(#clip3000)\" style=\"stroke:#000000; stroke-width:4; stroke-opacity:1; fill:none\" points=\"\n",
       "  1104.27,1487.47 1104.27,1465.87 \n",
       "  \"/>\n",
       "<polyline clip-path=\"url(#clip3000)\" style=\"stroke:#000000; stroke-width:4; stroke-opacity:1; fill:none\" points=\"\n",
       "  1212.15,1487.47 1212.15,1465.87 \n",
       "  \"/>\n",
       "<polyline clip-path=\"url(#clip3000)\" style=\"stroke:#000000; stroke-width:4; stroke-opacity:1; fill:none\" points=\"\n",
       "  1320.03,1487.47 1320.03,1465.87 \n",
       "  \"/>\n",
       "<polyline clip-path=\"url(#clip3000)\" style=\"stroke:#000000; stroke-width:4; stroke-opacity:1; fill:none\" points=\"\n",
       "  1427.9,1487.47 1427.9,1465.87 \n",
       "  \"/>\n",
       "<polyline clip-path=\"url(#clip3000)\" style=\"stroke:#000000; stroke-width:4; stroke-opacity:1; fill:none\" points=\"\n",
       "  1535.78,1487.47 1535.78,1465.87 \n",
       "  \"/>\n",
       "<polyline clip-path=\"url(#clip3000)\" style=\"stroke:#000000; stroke-width:4; stroke-opacity:1; fill:none\" points=\"\n",
       "  1643.66,1487.47 1643.66,1465.87 \n",
       "  \"/>\n",
       "<polyline clip-path=\"url(#clip3000)\" style=\"stroke:#000000; stroke-width:4; stroke-opacity:1; fill:none\" points=\"\n",
       "  1751.54,1487.47 1751.54,1465.87 \n",
       "  \"/>\n",
       "<polyline clip-path=\"url(#clip3000)\" style=\"stroke:#000000; stroke-width:4; stroke-opacity:1; fill:none\" points=\"\n",
       "  1859.42,1487.47 1859.42,1465.87 \n",
       "  \"/>\n",
       "<polyline clip-path=\"url(#clip3000)\" style=\"stroke:#000000; stroke-width:4; stroke-opacity:1; fill:none\" points=\"\n",
       "  1967.3,1487.47 1967.3,1465.87 \n",
       "  \"/>\n",
       "<polyline clip-path=\"url(#clip3000)\" style=\"stroke:#000000; stroke-width:4; stroke-opacity:1; fill:none\" points=\"\n",
       "  2075.18,1487.47 2075.18,1465.87 \n",
       "  \"/>\n",
       "<polyline clip-path=\"url(#clip3000)\" style=\"stroke:#000000; stroke-width:4; stroke-opacity:1; fill:none\" points=\"\n",
       "  2183.06,1487.47 2183.06,1465.87 \n",
       "  \"/>\n",
       "<polyline clip-path=\"url(#clip3000)\" style=\"stroke:#000000; stroke-width:4; stroke-opacity:1; fill:none\" points=\"\n",
       "  2290.94,1487.47 2290.94,1465.87 \n",
       "  \"/>\n",
       "<polyline clip-path=\"url(#clip3000)\" style=\"stroke:#000000; stroke-width:4; stroke-opacity:1; fill:none\" points=\"\n",
       "  168.627,1236.31 201.389,1236.31 \n",
       "  \"/>\n",
       "<polyline clip-path=\"url(#clip3000)\" style=\"stroke:#000000; stroke-width:4; stroke-opacity:1; fill:none\" points=\"\n",
       "  168.627,858.13 201.389,858.13 \n",
       "  \"/>\n",
       "<polyline clip-path=\"url(#clip3000)\" style=\"stroke:#000000; stroke-width:4; stroke-opacity:1; fill:none\" points=\"\n",
       "  168.627,479.952 201.389,479.952 \n",
       "  \"/>\n",
       "<polyline clip-path=\"url(#clip3000)\" style=\"stroke:#000000; stroke-width:4; stroke-opacity:1; fill:none\" points=\"\n",
       "  168.627,101.773 201.389,101.773 \n",
       "  \"/>\n",
       "<g clip-path=\"url(#clip3000)\">\n",
       "<text style=\"fill:#000000; fill-opacity:1; font-family:Arial,Helvetica Neue,Helvetica,sans-serif; font-size:48px; text-anchor:middle;\" transform=\"rotate(0, 241.23, 1541.47)\" x=\"241.23\" y=\"1541.47\">1</text>\n",
       "</g>\n",
       "<g clip-path=\"url(#clip3000)\">\n",
       "<text style=\"fill:#000000; fill-opacity:1; font-family:Arial,Helvetica Neue,Helvetica,sans-serif; font-size:48px; text-anchor:middle;\" transform=\"rotate(0, 349.109, 1541.47)\" x=\"349.109\" y=\"1541.47\">2</text>\n",
       "</g>\n",
       "<g clip-path=\"url(#clip3000)\">\n",
       "<text style=\"fill:#000000; fill-opacity:1; font-family:Arial,Helvetica Neue,Helvetica,sans-serif; font-size:48px; text-anchor:middle;\" transform=\"rotate(0, 456.989, 1541.47)\" x=\"456.989\" y=\"1541.47\">3</text>\n",
       "</g>\n",
       "<g clip-path=\"url(#clip3000)\">\n",
       "<text style=\"fill:#000000; fill-opacity:1; font-family:Arial,Helvetica Neue,Helvetica,sans-serif; font-size:48px; text-anchor:middle;\" transform=\"rotate(0, 564.868, 1541.47)\" x=\"564.868\" y=\"1541.47\">4</text>\n",
       "</g>\n",
       "<g clip-path=\"url(#clip3000)\">\n",
       "<text style=\"fill:#000000; fill-opacity:1; font-family:Arial,Helvetica Neue,Helvetica,sans-serif; font-size:48px; text-anchor:middle;\" transform=\"rotate(0, 672.748, 1541.47)\" x=\"672.748\" y=\"1541.47\">5</text>\n",
       "</g>\n",
       "<g clip-path=\"url(#clip3000)\">\n",
       "<text style=\"fill:#000000; fill-opacity:1; font-family:Arial,Helvetica Neue,Helvetica,sans-serif; font-size:48px; text-anchor:middle;\" transform=\"rotate(0, 780.627, 1541.47)\" x=\"780.627\" y=\"1541.47\">6</text>\n",
       "</g>\n",
       "<g clip-path=\"url(#clip3000)\">\n",
       "<text style=\"fill:#000000; fill-opacity:1; font-family:Arial,Helvetica Neue,Helvetica,sans-serif; font-size:48px; text-anchor:middle;\" transform=\"rotate(0, 888.507, 1541.47)\" x=\"888.507\" y=\"1541.47\">7</text>\n",
       "</g>\n",
       "<g clip-path=\"url(#clip3000)\">\n",
       "<text style=\"fill:#000000; fill-opacity:1; font-family:Arial,Helvetica Neue,Helvetica,sans-serif; font-size:48px; text-anchor:middle;\" transform=\"rotate(0, 996.387, 1541.47)\" x=\"996.387\" y=\"1541.47\">8</text>\n",
       "</g>\n",
       "<g clip-path=\"url(#clip3000)\">\n",
       "<text style=\"fill:#000000; fill-opacity:1; font-family:Arial,Helvetica Neue,Helvetica,sans-serif; font-size:48px; text-anchor:middle;\" transform=\"rotate(0, 1104.27, 1541.47)\" x=\"1104.27\" y=\"1541.47\">9</text>\n",
       "</g>\n",
       "<g clip-path=\"url(#clip3000)\">\n",
       "<text style=\"fill:#000000; fill-opacity:1; font-family:Arial,Helvetica Neue,Helvetica,sans-serif; font-size:48px; text-anchor:middle;\" transform=\"rotate(0, 1212.15, 1541.47)\" x=\"1212.15\" y=\"1541.47\">10</text>\n",
       "</g>\n",
       "<g clip-path=\"url(#clip3000)\">\n",
       "<text style=\"fill:#000000; fill-opacity:1; font-family:Arial,Helvetica Neue,Helvetica,sans-serif; font-size:48px; text-anchor:middle;\" transform=\"rotate(0, 1320.03, 1541.47)\" x=\"1320.03\" y=\"1541.47\">11</text>\n",
       "</g>\n",
       "<g clip-path=\"url(#clip3000)\">\n",
       "<text style=\"fill:#000000; fill-opacity:1; font-family:Arial,Helvetica Neue,Helvetica,sans-serif; font-size:48px; text-anchor:middle;\" transform=\"rotate(0, 1427.9, 1541.47)\" x=\"1427.9\" y=\"1541.47\">12</text>\n",
       "</g>\n",
       "<g clip-path=\"url(#clip3000)\">\n",
       "<text style=\"fill:#000000; fill-opacity:1; font-family:Arial,Helvetica Neue,Helvetica,sans-serif; font-size:48px; text-anchor:middle;\" transform=\"rotate(0, 1535.78, 1541.47)\" x=\"1535.78\" y=\"1541.47\">13</text>\n",
       "</g>\n",
       "<g clip-path=\"url(#clip3000)\">\n",
       "<text style=\"fill:#000000; fill-opacity:1; font-family:Arial,Helvetica Neue,Helvetica,sans-serif; font-size:48px; text-anchor:middle;\" transform=\"rotate(0, 1643.66, 1541.47)\" x=\"1643.66\" y=\"1541.47\">14</text>\n",
       "</g>\n",
       "<g clip-path=\"url(#clip3000)\">\n",
       "<text style=\"fill:#000000; fill-opacity:1; font-family:Arial,Helvetica Neue,Helvetica,sans-serif; font-size:48px; text-anchor:middle;\" transform=\"rotate(0, 1751.54, 1541.47)\" x=\"1751.54\" y=\"1541.47\">15</text>\n",
       "</g>\n",
       "<g clip-path=\"url(#clip3000)\">\n",
       "<text style=\"fill:#000000; fill-opacity:1; font-family:Arial,Helvetica Neue,Helvetica,sans-serif; font-size:48px; text-anchor:middle;\" transform=\"rotate(0, 1859.42, 1541.47)\" x=\"1859.42\" y=\"1541.47\">16</text>\n",
       "</g>\n",
       "<g clip-path=\"url(#clip3000)\">\n",
       "<text style=\"fill:#000000; fill-opacity:1; font-family:Arial,Helvetica Neue,Helvetica,sans-serif; font-size:48px; text-anchor:middle;\" transform=\"rotate(0, 1967.3, 1541.47)\" x=\"1967.3\" y=\"1541.47\">17</text>\n",
       "</g>\n",
       "<g clip-path=\"url(#clip3000)\">\n",
       "<text style=\"fill:#000000; fill-opacity:1; font-family:Arial,Helvetica Neue,Helvetica,sans-serif; font-size:48px; text-anchor:middle;\" transform=\"rotate(0, 2075.18, 1541.47)\" x=\"2075.18\" y=\"1541.47\">18</text>\n",
       "</g>\n",
       "<g clip-path=\"url(#clip3000)\">\n",
       "<text style=\"fill:#000000; fill-opacity:1; font-family:Arial,Helvetica Neue,Helvetica,sans-serif; font-size:48px; text-anchor:middle;\" transform=\"rotate(0, 2183.06, 1541.47)\" x=\"2183.06\" y=\"1541.47\">19</text>\n",
       "</g>\n",
       "<g clip-path=\"url(#clip3000)\">\n",
       "<text style=\"fill:#000000; fill-opacity:1; font-family:Arial,Helvetica Neue,Helvetica,sans-serif; font-size:48px; text-anchor:middle;\" transform=\"rotate(0, 2290.94, 1541.47)\" x=\"2290.94\" y=\"1541.47\">20</text>\n",
       "</g>\n",
       "<g clip-path=\"url(#clip3000)\">\n",
       "<text style=\"fill:#000000; fill-opacity:1; font-family:Arial,Helvetica Neue,Helvetica,sans-serif; font-size:48px; text-anchor:end;\" transform=\"rotate(0, 144.627, 1253.81)\" x=\"144.627\" y=\"1253.81\">-15</text>\n",
       "</g>\n",
       "<g clip-path=\"url(#clip3000)\">\n",
       "<text style=\"fill:#000000; fill-opacity:1; font-family:Arial,Helvetica Neue,Helvetica,sans-serif; font-size:48px; text-anchor:end;\" transform=\"rotate(0, 144.627, 875.63)\" x=\"144.627\" y=\"875.63\">-10</text>\n",
       "</g>\n",
       "<g clip-path=\"url(#clip3000)\">\n",
       "<text style=\"fill:#000000; fill-opacity:1; font-family:Arial,Helvetica Neue,Helvetica,sans-serif; font-size:48px; text-anchor:end;\" transform=\"rotate(0, 144.627, 497.452)\" x=\"144.627\" y=\"497.452\">-5</text>\n",
       "</g>\n",
       "<g clip-path=\"url(#clip3000)\">\n",
       "<text style=\"fill:#000000; fill-opacity:1; font-family:Arial,Helvetica Neue,Helvetica,sans-serif; font-size:48px; text-anchor:end;\" transform=\"rotate(0, 144.627, 119.273)\" x=\"144.627\" y=\"119.273\">0</text>\n",
       "</g>\n",
       "<polyline clip-path=\"url(#clip3002)\" style=\"stroke:#009af9; stroke-width:4; stroke-opacity:1; fill:none\" points=\"\n",
       "  230.442,1446.71 241.23,1142.61 252.018,924.568 262.806,777.792 273.594,664.234 284.382,576.088 295.17,483.974 305.958,453.719 316.745,416.409 327.533,377.074 \n",
       "  338.321,345.742 349.109,320.313 359.897,298.451 370.685,279.065 381.473,262.371 392.261,247.4 403.049,234.704 413.837,223.396 424.625,213.217 435.413,204.369 \n",
       "  446.201,196.469 456.989,205.882 467.777,186.375 478.565,185.088 489.353,179.872 500.141,175.095 510.929,171.031 521.717,167.125 532.505,163.254 543.293,160.124 \n",
       "  554.08,157.065 564.868,153.869 575.656,151.323 586.444,148.644 597.232,146.166 608.02,144.061 618.808,141.898 629.596,139.947 640.384,138.061 651.172,136.383 \n",
       "  661.96,134.717 672.748,133.017 683.536,131.606 694.324,130.113 705.112,128.732 715.9,127.391 726.688,126.205 737.476,125.057 748.264,124.044 759.052,122.906 \n",
       "  769.84,121.908 780.627,121.113 791.415,120.043 802.203,119.275 812.991,118.333 823.779,117.624 834.567,116.797 845.355,116.087 856.143,115.386 866.931,114.754 \n",
       "  877.719,114.057 888.507,113.459 899.295,112.816 910.083,112.291 920.871,111.733 931.659,111.229 942.447,110.701 953.235,110.158 964.023,109.757 974.811,109.315 \n",
       "  985.599,108.754 996.387,108.359 1007.17,107.925 1017.96,107.486 1028.75,107.098 1039.54,106.696 1050.33,106.335 1061.11,105.975 1071.9,105.692 1082.69,105.267 \n",
       "  1093.48,104.968 1104.27,104.656 1115.05,104.274 1125.84,103.992 1136.63,103.782 1147.42,103.426 1158.21,103.144 1168.99,102.843 1179.78,102.626 1190.57,102.335 \n",
       "  1201.36,102.045 1212.15,101.825 1222.93,101.609 1233.72,101.308 1244.51,101.104 1255.3,100.866 1266.09,100.631 1276.87,100.411 1287.66,100.197 1298.45,99.9674 \n",
       "  1309.24,99.8101 1320.03,99.5602 1330.81,99.3875 1341.6,99.1624 1352.39,99.0081 1363.18,98.7807 1373.96,98.5918 1384.75,98.4257 1395.54,98.2009 1406.33,98.0096 \n",
       "  1417.12,97.8273 1427.9,97.7126 1438.69,97.5481 1449.48,97.3009 1460.27,97.1135 1471.06,97.0409 1481.84,96.8683 1492.63,96.6979 1503.42,96.5135 1514.21,96.3511 \n",
       "  1525,96.1782 1535.78,96.0686 1546.57,95.8755 1557.36,95.7661 1568.15,95.6223 1578.94,95.4503 1589.72,95.318 1600.51,95.1859 1611.3,95.026 1622.09,94.8587 \n",
       "  1632.88,94.7551 1643.66,94.5769 1654.45,94.5124 1665.24,94.3284 1676.03,94.2319 1686.82,94.0682 1697.6,93.954 1708.39,93.7942 1719.18,93.6974 1729.97,93.5008 \n",
       "  1740.76,93.423 1751.54,93.3141 1762.33,93.1384 1773.12,93.0539 1783.91,92.8981 1794.7,92.8166 1805.48,92.7056 1816.27,92.586 1827.06,92.449 1837.85,92.3367 \n",
       "  1848.63,92.2287 1859.42,92.1339 1870.21,92.0181 1881,91.8214 1891.79,91.763 1902.57,91.6947 1913.36,91.5974 1924.15,91.4623 1934.94,91.2873 1945.73,91.2257 \n",
       "  1956.51,91.0716 1967.3,90.9785 1978.09,90.8335 1988.88,90.7616 1999.67,90.6425 2010.45,90.5084 2021.24,90.5018 2032.03,90.352 2042.82,90.2257 2053.61,90.1228 \n",
       "  2064.39,90.026 2075.18,90.0516 2085.97,89.8739 2096.76,89.7479 2107.55,89.6407 2118.33,89.5321 2129.12,89.415 2139.91,89.3978 2150.7,89.2631 2161.49,89.1253 \n",
       "  2172.27,89.0024 2183.06,88.9923 2193.85,88.8409 2204.64,88.7925 2215.43,88.7212 2226.21,88.5584 2237,88.4736 2247.79,88.4195 2258.58,88.2668 2269.37,88.1621 \n",
       "  2280.15,88.1125 2290.94,88.0053 \n",
       "  \"/>\n",
       "<path clip-path=\"url(#clip3000)\" d=\"\n",
       "M1944.44 1343.47 L2280.76 1343.47 L2280.76 1222.51 L1944.44 1222.51  Z\n",
       "  \" fill=\"#fffff0\" fill-rule=\"evenodd\" fill-opacity=\"1\"/>\n",
       "<polyline clip-path=\"url(#clip3000)\" style=\"stroke:#000000; stroke-width:4; stroke-opacity:1; fill:none\" points=\"\n",
       "  1944.44,1343.47 2280.76,1343.47 2280.76,1222.51 1944.44,1222.51 1944.44,1343.47 \n",
       "  \"/>\n",
       "<polyline clip-path=\"url(#clip3000)\" style=\"stroke:#009af9; stroke-width:4; stroke-opacity:1; fill:none\" points=\"\n",
       "  1968.44,1282.99 2112.44,1282.99 \n",
       "  \"/>\n",
       "<g clip-path=\"url(#clip3000)\">\n",
       "<text style=\"fill:#000000; fill-opacity:1; font-family:Arial,Helvetica Neue,Helvetica,sans-serif; font-size:48px; text-anchor:start;\" transform=\"rotate(0, 2136.44, 1300.49)\" x=\"2136.44\" y=\"1300.49\">grad</text>\n",
       "</g>\n",
       "</svg>\n"
      ]
     },
     "execution_count": 14,
     "metadata": {},
     "output_type": "execute_result"
    }
   ],
   "source": [
    "plot(lambda_range,grads,label=\"grad\",xticks = 0:1:lambda_max, background_color = :ivory, legend=:bottomright)\n",
    "#plot!(lambda_range,costs,label=\"cost\",xticks = 0:5:lambda_max, background_color = :ivory, legend=:bottomright)"
   ]
  },
  {
   "cell_type": "markdown",
   "metadata": {},
   "source": [
    "## Trust Region Algorithm\n",
    "We will use a nonsmooth trust region strategy to solve this problem. This method will consider a local quadratic model described by \n",
    "\n",
    "$$\n",
    "q_k(s) = j(\\lambda_k)+g_k^\\top s + \\frac{1}{2}s^\\top H_k s\n",
    "$$\n",
    "\n",
    "where $s$ is the descent direction, $g_k$ will be the gradient at iteration $k$ and $H_k$ will be a matrix with second order information that can be obtained using SR1 or BFGS method.\n",
    "The trust region radius will be $\\Delta_k$ and the actual and predicted reductions are given by\n",
    "\n",
    "$$\n",
    "ared(s_k) := j(\\lambda_k)-j(\\lambda_k+s_k),\\;pred(s_k) := j(\\lambda_k)-q_k(s_k)\n",
    "$$\n",
    "\n",
    "and the step quality will be given by the following quotient\n",
    "\n",
    "$$\n",
    "\\rho_k(s_k) = \\frac{ared(s_k)}{pred(s_k)}\n",
    "$$"
   ]
  },
  {
   "cell_type": "code",
   "execution_count": 120,
   "metadata": {},
   "outputs": [
    {
     "data": {
      "text/plain": [
       "trust_region_solver (generic function with 2 methods)"
      ]
     },
     "execution_count": 120,
     "metadata": {},
     "output_type": "execute_result"
    }
   ],
   "source": [
    "include(\"trust_region_solver.jl\")"
   ]
  },
  {
   "cell_type": "code",
   "execution_count": 129,
   "metadata": {},
   "outputs": [
    {
     "data": {
      "text/plain": [
       "1.0e-6"
      ]
     },
     "execution_count": 129,
     "metadata": {},
     "output_type": "execute_result"
    }
   ],
   "source": [
    "lambda_0 = 400\n",
    "radius_0 = 0.1\n",
    "tol = 1e-6"
   ]
  },
  {
   "cell_type": "code",
   "execution_count": 130,
   "metadata": {},
   "outputs": [
    {
     "data": {
      "text/plain": [
       "9.700001525878907"
      ]
     },
     "execution_count": 130,
     "metadata": {},
     "output_type": "execute_result"
    }
   ],
   "source": [
    "model = 1\n",
    "lambda_opt_1 = trust_region_solver(lower_level_solver,upper_level_cost,lambda_0,α,f,z,radius_0,tol,model)"
   ]
  },
  {
   "cell_type": "code",
   "execution_count": 132,
   "metadata": {},
   "outputs": [
    {
     "name": "stdout",
     "output_type": "stream",
     "text": [
      "0.5447872424972139, 5.568247248174986\n",
      "0.27781438267156516, 9.952545854823542\n"
     ]
    },
    {
     "data": {
      "image/png": "[encoded data removed]",
      "text/plain": [
       "32×32 Array{Gray{Float64},2} with eltype Gray{Float64}:\n",
       " Gray{Float64}(0.817872)  …  Gray{Float64}(0.0734258)\n",
       " Gray{Float64}(0.84696)      Gray{Float64}(0.0734259)\n",
       " Gray{Float64}(0.854988)     Gray{Float64}(0.0734264)\n",
       " Gray{Float64}(0.915502)     Gray{Float64}(0.0704919)\n",
       " Gray{Float64}(0.915673)     Gray{Float64}(0.0703413)\n",
       " Gray{Float64}(0.91691)   …  Gray{Float64}(0.0703417)\n",
       " Gray{Float64}(0.928898)     Gray{Float64}(0.0703423)\n",
       " Gray{Float64}(0.9289)       Gray{Float64}(0.0741164)\n",
       " Gray{Float64}(0.928901)     Gray{Float64}(0.0703467)\n",
       " Gray{Float64}(0.928902)     Gray{Float64}(0.0703474)\n",
       " Gray{Float64}(0.933881)  …  Gray{Float64}(0.0703478)\n",
       " Gray{Float64}(0.933877)     Gray{Float64}(0.0703474)\n",
       " Gray{Float64}(0.933874)     Gray{Float64}(0.0703474)\n",
       " ⋮                        ⋱                          \n",
       " Gray{Float64}(0.93386)   …  Gray{Float64}(0.0833766)\n",
       " Gray{Float64}(0.933858)     Gray{Float64}(0.0833749)\n",
       " Gray{Float64}(0.933856)     Gray{Float64}(0.083373) \n",
       " Gray{Float64}(0.933854)     Gray{Float64}(0.0833715)\n",
       " Gray{Float64}(0.933853)     Gray{Float64}(0.122804) \n",
       " Gray{Float64}(0.931418)  …  Gray{Float64}(0.0866241)\n",
       " Gray{Float64}(0.931418)     Gray{Float64}(0.0839581)\n",
       " Gray{Float64}(0.931418)     Gray{Float64}(0.0839617)\n",
       " Gray{Float64}(0.931417)     Gray{Float64}(0.0864941)\n",
       " Gray{Float64}(0.931417)     Gray{Float64}(0.0899547)\n",
       " Gray{Float64}(0.909494)  …  Gray{Float64}(0.190631) \n",
       " Gray{Float64}(0.911609)     Gray{Float64}(0.898712) "
      ]
     },
     "execution_count": 132,
     "metadata": {},
     "output_type": "execute_result"
    }
   ],
   "source": [
    "u_h = lower_level_solver(u,f,lambda_opt_1,K)\n",
    "println(\"$(ssim(u_h,z)), $(upper_level_cost(u_h,z,lambda_opt_1,α))\")\n",
    "println(\"$(ssim(f,z)), $(upper_level_cost(f,z,lambda_opt_1,α))\")\n",
    "Gray.(u_h)"
   ]
  },
  {
   "cell_type": "code",
   "execution_count": 133,
   "metadata": {},
   "outputs": [
    {
     "data": {
      "text/plain": [
       "10.15834042024075"
      ]
     },
     "execution_count": 133,
     "metadata": {},
     "output_type": "execute_result"
    }
   ],
   "source": [
    "model = 2 # SR1 Model\n",
    "lambda_opt_2 = trust_region_solver(lower_level_solver,upper_level_cost,lambda_0,α,f,z,radius_0,tol,model)"
   ]
  },
  {
   "cell_type": "code",
   "execution_count": 134,
   "metadata": {},
   "outputs": [
    {
     "name": "stdout",
     "output_type": "stream",
     "text": [
      "0.5381093086659319, 5.580273224372917\n",
      "0.27781438267156516, 9.998055107280763\n"
     ]
    },
    {
     "data": {
      "image/png": "[encoded data removed]",
      "text/plain": [
       "32×32 Array{Gray{Float64},2} with eltype Gray{Float64}:\n",
       " Gray{Float64}(0.821089)  …  Gray{Float64}(0.0738849)\n",
       " Gray{Float64}(0.8492)       Gray{Float64}(0.0738855)\n",
       " Gray{Float64}(0.856895)     Gray{Float64}(0.0738872)\n",
       " Gray{Float64}(0.915754)     Gray{Float64}(0.0686462)\n",
       " Gray{Float64}(0.915928)     Gray{Float64}(0.068197) \n",
       " Gray{Float64}(0.917004)  …  Gray{Float64}(0.0681966)\n",
       " Gray{Float64}(0.92914)      Gray{Float64}(0.0681964)\n",
       " Gray{Float64}(0.92914)      Gray{Float64}(0.085346) \n",
       " Gray{Float64}(0.929141)     Gray{Float64}(0.0681957)\n",
       " Gray{Float64}(0.929141)     Gray{Float64}(0.0681933)\n",
       " Gray{Float64}(0.934567)  …  Gray{Float64}(0.0681919)\n",
       " Gray{Float64}(0.934565)     Gray{Float64}(0.0681913)\n",
       " Gray{Float64}(0.934564)     Gray{Float64}(0.0681912)\n",
       " ⋮                        ⋱                          \n",
       " Gray{Float64}(0.934563)  …  Gray{Float64}(0.0819242)\n",
       " Gray{Float64}(0.934562)     Gray{Float64}(0.0819233)\n",
       " Gray{Float64}(0.934562)     Gray{Float64}(0.0819233)\n",
       " Gray{Float64}(0.934561)     Gray{Float64}(0.0819236)\n",
       " Gray{Float64}(0.934561)     Gray{Float64}(0.134014) \n",
       " Gray{Float64}(0.931834)  …  Gray{Float64}(0.0862154)\n",
       " Gray{Float64}(0.931832)     Gray{Float64}(0.0825673)\n",
       " Gray{Float64}(0.931831)     Gray{Float64}(0.0825679)\n",
       " Gray{Float64}(0.93183)      Gray{Float64}(0.0849049)\n",
       " Gray{Float64}(0.931829)     Gray{Float64}(0.087532) \n",
       " Gray{Float64}(0.90562)   …  Gray{Float64}(0.183068) \n",
       " Gray{Float64}(0.90843)      Gray{Float64}(0.903047) "
      ]
     },
     "execution_count": 134,
     "metadata": {},
     "output_type": "execute_result"
    }
   ],
   "source": [
    "u_h = lower_level_solver(u,f,lambda_opt_2,K)\n",
    "println(\"$(ssim(u_h,z)), $(upper_level_cost(u_h,z,lambda_opt_2,α))\")\n",
    "println(\"$(ssim(f,z)), $(upper_level_cost(f,z,lambda_opt_2,α))\")\n",
    "Gray.(u_h)"
   ]
  },
  {
   "cell_type": "code",
   "execution_count": 135,
   "metadata": {},
   "outputs": [
    {
     "data": {
      "text/plain": [
       "10.15834042024075"
      ]
     },
     "execution_count": 135,
     "metadata": {},
     "output_type": "execute_result"
    }
   ],
   "source": [
    "model = 3\n",
    "lambda_opt_3 = trust_region_solver(lower_level_solver,upper_level_cost,lambda_0,α,f,z,radius_0,tol,model)"
   ]
  },
  {
   "cell_type": "code",
   "execution_count": 136,
   "metadata": {},
   "outputs": [
    {
     "name": "stdout",
     "output_type": "stream",
     "text": [
      "0.5381093082540938, 5.580273224841298\n",
      "0.27781438267156516, 9.998055107280763\n"
     ]
    },
    {
     "data": {
      "image/png": "[encoded data removed]",
      "text/plain": [
       "32×32 Array{Gray{Float64},2} with eltype Gray{Float64}:\n",
       " Gray{Float64}(0.821089)  …  Gray{Float64}(0.0738849)\n",
       " Gray{Float64}(0.8492)       Gray{Float64}(0.0738854)\n",
       " Gray{Float64}(0.856895)     Gray{Float64}(0.0738872)\n",
       " Gray{Float64}(0.915754)     Gray{Float64}(0.0686462)\n",
       " Gray{Float64}(0.915928)     Gray{Float64}(0.068197) \n",
       " Gray{Float64}(0.917004)  …  Gray{Float64}(0.0681966)\n",
       " Gray{Float64}(0.92914)      Gray{Float64}(0.0681963)\n",
       " Gray{Float64}(0.92914)      Gray{Float64}(0.085346) \n",
       " Gray{Float64}(0.929141)     Gray{Float64}(0.0681957)\n",
       " Gray{Float64}(0.929141)     Gray{Float64}(0.0681933)\n",
       " Gray{Float64}(0.934567)  …  Gray{Float64}(0.0681919)\n",
       " Gray{Float64}(0.934565)     Gray{Float64}(0.0681913)\n",
       " Gray{Float64}(0.934564)     Gray{Float64}(0.0681912)\n",
       " ⋮                        ⋱                          \n",
       " Gray{Float64}(0.934563)  …  Gray{Float64}(0.0819242)\n",
       " Gray{Float64}(0.934562)     Gray{Float64}(0.0819233)\n",
       " Gray{Float64}(0.934562)     Gray{Float64}(0.0819233)\n",
       " Gray{Float64}(0.934561)     Gray{Float64}(0.0819236)\n",
       " Gray{Float64}(0.934561)     Gray{Float64}(0.134014) \n",
       " Gray{Float64}(0.931834)  …  Gray{Float64}(0.0862154)\n",
       " Gray{Float64}(0.931832)     Gray{Float64}(0.0825673)\n",
       " Gray{Float64}(0.931831)     Gray{Float64}(0.0825679)\n",
       " Gray{Float64}(0.93183)      Gray{Float64}(0.0849049)\n",
       " Gray{Float64}(0.931829)     Gray{Float64}(0.087532) \n",
       " Gray{Float64}(0.90562)   …  Gray{Float64}(0.183068) \n",
       " Gray{Float64}(0.90843)      Gray{Float64}(0.903047) "
      ]
     },
     "execution_count": 136,
     "metadata": {},
     "output_type": "execute_result"
    }
   ],
   "source": [
    "u_h = lower_level_solver(u,f,lambda_opt_3,K)\n",
    "println(\"$(ssim(u_h,z)), $(upper_level_cost(u_h,z,lambda_opt_3,α))\")\n",
    "println(\"$(ssim(f,z)), $(upper_level_cost(f,z,lambda_opt_3,α))\")\n",
    "Gray.(u_h)"
   ]
  },
  {
   "cell_type": "code",
   "execution_count": 131,
   "metadata": {},
   "outputs": [
    {
     "name": "stdout",
     "output_type": "stream",
     "text": [
      "0.5480135718275991\n",
      "0.27781438267156516\n"
     ]
    },
    {
     "data": {
      "image/png": "[encoded data removed]",
      "text/plain": [
       "32×32 Array{Gray{Float64},2} with eltype Gray{Float64}:\n",
       " Gray{Float64}(0.816177)  …  Gray{Float64}(0.0735079)\n",
       " Gray{Float64}(0.84574)      Gray{Float64}(0.073508) \n",
       " Gray{Float64}(0.853989)     Gray{Float64}(0.0735083)\n",
       " Gray{Float64}(0.915365)     Gray{Float64}(0.0714481)\n",
       " Gray{Float64}(0.915536)     Gray{Float64}(0.07139)  \n",
       " Gray{Float64}(0.916869)  …  Gray{Float64}(0.0713929)\n",
       " Gray{Float64}(0.92877)      Gray{Float64}(0.0713927)\n",
       " Gray{Float64}(0.92877)      Gray{Float64}(0.0713897)\n",
       " Gray{Float64}(0.928771)     Gray{Float64}(0.0713853)\n",
       " Gray{Float64}(0.928771)     Gray{Float64}(0.0713829)\n",
       " Gray{Float64}(0.933608)  …  Gray{Float64}(0.0713864)\n",
       " Gray{Float64}(0.933603)     Gray{Float64}(0.0713947)\n",
       " Gray{Float64}(0.9336)       Gray{Float64}(0.071401) \n",
       " ⋮                        ⋱                          \n",
       " Gray{Float64}(0.933587)  …  Gray{Float64}(0.0840353)\n",
       " Gray{Float64}(0.933586)     Gray{Float64}(0.0840344)\n",
       " Gray{Float64}(0.933586)     Gray{Float64}(0.0840341)\n",
       " Gray{Float64}(0.933586)     Gray{Float64}(0.0840343)\n",
       " Gray{Float64}(0.933586)     Gray{Float64}(0.116793) \n",
       " Gray{Float64}(0.931231)  …  Gray{Float64}(0.0868006)\n",
       " Gray{Float64}(0.931232)     Gray{Float64}(0.0845731)\n",
       " Gray{Float64}(0.931232)     Gray{Float64}(0.0845718)\n",
       " Gray{Float64}(0.931232)     Gray{Float64}(0.087241) \n",
       " Gray{Float64}(0.931231)     Gray{Float64}(0.0912062)\n",
       " Gray{Float64}(0.911319)  …  Gray{Float64}(0.194647) \n",
       " Gray{Float64}(0.913133)     Gray{Float64}(0.896396) "
      ]
     },
     "execution_count": 131,
     "metadata": {},
     "output_type": "execute_result"
    }
   ],
   "source": [
    "u_h = lower_level_solver(u,f,9.47,K)\n",
    "println(ssim(u_h,z))\n",
    "println(ssim(f,z))\n",
    "Gray.(u_h)"
   ]
  },
  {
   "cell_type": "code",
   "execution_count": null,
   "metadata": {},
   "outputs": [],
   "source": []
  }
 ],
 "metadata": {
  "@webio": {
   "lastCommId": null,
   "lastKernelId": null
  },
  "kernelspec": {
   "display_name": "Julia 1.2.0",
   "language": "julia",
   "name": "julia-1.2"
  },
  "language_info": {
   "file_extension": ".jl",
   "mimetype": "application/julia",
   "name": "julia",
   "version": "1.2.0"
  }
 },
 "nbformat": 4,
 "nbformat_minor": 2
}
