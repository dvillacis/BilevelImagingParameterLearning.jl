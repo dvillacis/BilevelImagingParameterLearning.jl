{
 "cells": [
  {
   "cell_type": "markdown",
   "metadata": {},
   "source": [
    "# Bilevel ROF Scalar Parameter Learning\n",
    "In this notebook we will propose an optimal parameter learning methodology for getting the optimal parameter for the scalar ROF image denoising model.\n",
    "\n",
    "$$\n",
    "\\min \\|\\bar{u}-z\\|^2 + \\frac{\\alpha}{2}\\|\\lambda\\|^2\\\\\n",
    "\\text{s.t. }\\langle \\bar{u},v-\\bar{u} \\rangle + \\lambda\\|\\mathbb{K}v\\|_{2,1} - \\lambda\\|\\mathbb{K}\\bar{u}\\|_{2,1} \\ge \\langle f,v-\\bar{u} \\rangle\n",
    "$$\n",
    "\n",
    "where $\\|\\cdot\\|_{2,1}$ is the Total Variation seminorm."
   ]
  },
  {
   "cell_type": "code",
   "execution_count": 1,
   "metadata": {},
   "outputs": [],
   "source": [
    "using LinearAlgebra, StructuredOptimization, AbstractOperators, Plots, Distributed, Images, ImageQualityIndexes"
   ]
  },
  {
   "cell_type": "markdown",
   "metadata": {},
   "source": [
    "## Cost Function and Lower Level Solver"
   ]
  },
  {
   "cell_type": "code",
   "execution_count": 171,
   "metadata": {},
   "outputs": [
    {
     "data": {
      "text/plain": [
       "upper_level_cost (generic function with 1 method)"
      ]
     },
     "execution_count": 171,
     "metadata": {},
     "output_type": "execute_result"
    }
   ],
   "source": [
    "# Lower Level Solver\n",
    "function lower_level_solver(u,f,λ,K)\n",
    "    @minimize ls(-K'*u+f) + conj(λ*norm(u,2,1,2)) with ForwardBackward(tol = 1e-4, gamma = 1/8, fast = true) \n",
    "    return -K'*(~u)+f\n",
    "end\n",
    "\n",
    "# Upper level cost\n",
    "function upper_level_cost(u,z,λ,α)\n",
    "    return 0.5*norm(u[:]-z[:])^2 + 0.5*α*norm(λ)^2\n",
    "end"
   ]
  },
  {
   "cell_type": "code",
   "execution_count": 209,
   "metadata": {},
   "outputs": [],
   "source": [
    "m,n = 64,64\n",
    "f = tril(ones(m,n)) + 0.4*randn(m,n)\n",
    "f[f .< 0] .= 0.\n",
    "f[f .> 1] .= 1.\n",
    "z = tril(ones(m,n));"
   ]
  },
  {
   "cell_type": "code",
   "execution_count": 210,
   "metadata": {},
   "outputs": [
    {
     "data": {
      "image/png": "[encoded data removed]",
      "text/plain": [
       "64×64 Array{Gray{Float64},2} with eltype Gray{Float64}:\n",
       " Gray{Float64}(1.0)       …  Gray{Float64}(0.81583)  \n",
       " Gray{Float64}(1.0)          Gray{Float64}(0.0)      \n",
       " Gray{Float64}(0.8227)       Gray{Float64}(0.0618266)\n",
       " Gray{Float64}(0.895433)     Gray{Float64}(0.546296) \n",
       " Gray{Float64}(1.0)          Gray{Float64}(0.0)      \n",
       " Gray{Float64}(1.0)       …  Gray{Float64}(0.0)      \n",
       " Gray{Float64}(1.0)          Gray{Float64}(0.381967) \n",
       " Gray{Float64}(0.78759)      Gray{Float64}(0.0)      \n",
       " Gray{Float64}(1.0)          Gray{Float64}(0.3072)   \n",
       " Gray{Float64}(1.0)          Gray{Float64}(0.142316) \n",
       " Gray{Float64}(0.712666)  …  Gray{Float64}(0.0)      \n",
       " Gray{Float64}(1.0)          Gray{Float64}(0.0)      \n",
       " Gray{Float64}(1.0)          Gray{Float64}(0.416059) \n",
       " ⋮                        ⋱                          \n",
       " Gray{Float64}(1.0)          Gray{Float64}(0.306963) \n",
       " Gray{Float64}(0.548456)     Gray{Float64}(0.267071) \n",
       " Gray{Float64}(0.767435)     Gray{Float64}(0.0)      \n",
       " Gray{Float64}(1.0)       …  Gray{Float64}(0.0)      \n",
       " Gray{Float64}(0.964457)     Gray{Float64}(0.0)      \n",
       " Gray{Float64}(1.0)          Gray{Float64}(0.0)      \n",
       " Gray{Float64}(0.987916)     Gray{Float64}(0.016192) \n",
       " Gray{Float64}(1.0)          Gray{Float64}(0.0)      \n",
       " Gray{Float64}(0.623219)  …  Gray{Float64}(0.0)      \n",
       " Gray{Float64}(0.76226)      Gray{Float64}(0.105122) \n",
       " Gray{Float64}(0.60734)      Gray{Float64}(0.0)      \n",
       " Gray{Float64}(0.0)          Gray{Float64}(0.855764) "
      ]
     },
     "execution_count": 210,
     "metadata": {},
     "output_type": "execute_result"
    }
   ],
   "source": [
    "Gray.(f)"
   ]
  },
  {
   "cell_type": "code",
   "execution_count": 211,
   "metadata": {},
   "outputs": [
    {
     "data": {
      "image/png": "[encoded data removed]",
      "text/plain": [
       "64×64 Array{Gray{Float64},2} with eltype Gray{Float64}:\n",
       " Gray{Float64}(1.0)  Gray{Float64}(0.0)  …  Gray{Float64}(0.0)\n",
       " Gray{Float64}(1.0)  Gray{Float64}(1.0)     Gray{Float64}(0.0)\n",
       " Gray{Float64}(1.0)  Gray{Float64}(1.0)     Gray{Float64}(0.0)\n",
       " Gray{Float64}(1.0)  Gray{Float64}(1.0)     Gray{Float64}(0.0)\n",
       " Gray{Float64}(1.0)  Gray{Float64}(1.0)     Gray{Float64}(0.0)\n",
       " Gray{Float64}(1.0)  Gray{Float64}(1.0)  …  Gray{Float64}(0.0)\n",
       " Gray{Float64}(1.0)  Gray{Float64}(1.0)     Gray{Float64}(0.0)\n",
       " Gray{Float64}(1.0)  Gray{Float64}(1.0)     Gray{Float64}(0.0)\n",
       " Gray{Float64}(1.0)  Gray{Float64}(1.0)     Gray{Float64}(0.0)\n",
       " Gray{Float64}(1.0)  Gray{Float64}(1.0)     Gray{Float64}(0.0)\n",
       " Gray{Float64}(1.0)  Gray{Float64}(1.0)  …  Gray{Float64}(0.0)\n",
       " Gray{Float64}(1.0)  Gray{Float64}(1.0)     Gray{Float64}(0.0)\n",
       " Gray{Float64}(1.0)  Gray{Float64}(1.0)     Gray{Float64}(0.0)\n",
       " ⋮                                       ⋱                    \n",
       " Gray{Float64}(1.0)  Gray{Float64}(1.0)     Gray{Float64}(0.0)\n",
       " Gray{Float64}(1.0)  Gray{Float64}(1.0)     Gray{Float64}(0.0)\n",
       " Gray{Float64}(1.0)  Gray{Float64}(1.0)     Gray{Float64}(0.0)\n",
       " Gray{Float64}(1.0)  Gray{Float64}(1.0)  …  Gray{Float64}(0.0)\n",
       " Gray{Float64}(1.0)  Gray{Float64}(1.0)     Gray{Float64}(0.0)\n",
       " Gray{Float64}(1.0)  Gray{Float64}(1.0)     Gray{Float64}(0.0)\n",
       " Gray{Float64}(1.0)  Gray{Float64}(1.0)     Gray{Float64}(0.0)\n",
       " Gray{Float64}(1.0)  Gray{Float64}(1.0)     Gray{Float64}(0.0)\n",
       " Gray{Float64}(1.0)  Gray{Float64}(1.0)  …  Gray{Float64}(0.0)\n",
       " Gray{Float64}(1.0)  Gray{Float64}(1.0)     Gray{Float64}(0.0)\n",
       " Gray{Float64}(1.0)  Gray{Float64}(1.0)     Gray{Float64}(0.0)\n",
       " Gray{Float64}(1.0)  Gray{Float64}(1.0)     Gray{Float64}(1.0)"
      ]
     },
     "execution_count": 211,
     "metadata": {},
     "output_type": "execute_result"
    }
   ],
   "source": [
    "Gray.(z)"
   ]
  },
  {
   "cell_type": "code",
   "execution_count": 214,
   "metadata": {},
   "outputs": [
    {
     "name": "stdout",
     "output_type": "stream",
     "text": [
      "0.0, 0.1, 0.2, 0.3, "
     ]
    },
    {
     "data": {
      "text/plain": [
       "Task (runnable) @0x0000000112b62890"
      ]
     },
     "execution_count": 214,
     "metadata": {},
     "output_type": "execute_result"
    },
    {
     "name": "stdout",
     "output_type": "stream",
     "text": [
      "0.4, 0.5, 0.6, 0.7, 0.8, 0.9, 1.0, 1.1, 1.2, 1.3, 1.4, 1.5, 1.6, 1.7, 1.8, 1.9, 2.0, 2.1, 2.2, 2.3, 2.4, 2.5, 2.6, 2.7, 2.8, 2.9, 3.0, 3.1, 3.2, 3.3, 3.4, 3.5, 3.6, 3.7, 3.8, 3.9, 4.0, 4.1, 4.2, 4.3, 4.4, 4.5, 4.6, 4.7, 4.8, 4.9, 5.0, 5.1, 5.2, 5.3, 5.4, 5.5, 5.6, 5.7, 5.8, 5.9, 6.0, 6.1, 6.2, 6.3, 6.4, 6.5, 6.6, 6.7, 6.8, 6.9, 7.0, 7.1, 7.2, 7.3, 7.4, 7.5, 7.6, 7.7, 7.8, 7.9, 8.0, 8.1, 8.2, 8.3, 8.4, 8.5, 8.6, 8.7, 8.8, 8.9, 9.0, "
     ]
    }
   ],
   "source": [
    "step = 0.1\n",
    "lambda_min = eps()\n",
    "lambda_max = 9\n",
    "\n",
    "K = Variation(size(f))\n",
    "u = Variable(size(K,1)...)\n",
    "α = 1e-2\n",
    "\n",
    "lambda_range = lambda_min:step:lambda_max\n",
    "costs = Float64[]\n",
    "ssims = Float64[]\n",
    "@distributed for λ in lambda_range\n",
    "    u_h = lower_level_solver(u,f,λ,K)\n",
    "    push!(costs,upper_level_cost(u_h,z,λ,α))\n",
    "    push!(ssims,ssim(u_h,z))\n",
    "    print(\"$(round(λ,digits=3)), \")\n",
    "end"
   ]
  },
  {
   "cell_type": "code",
   "execution_count": 215,
   "metadata": {},
   "outputs": [
    {
     "data": {
      "image/svg+xml": [
       "<?xml version=\"1.0\" encoding=\"utf-8\"?>\n",
       "<svg xmlns=\"http://www.w3.org/2000/svg\" xmlns:xlink=\"http://www.w3.org/1999/xlink\" width=\"600\" height=\"400\" viewBox=\"0 0 2400 1600\">\n",
       "<defs>\n",
       "  <clipPath id=\"clip5300\">\n",
       "    <rect x=\"0\" y=\"0\" width=\"2400\" height=\"1600\"/>\n",
       "  </clipPath>\n",
       "</defs>\n",
       "<path clip-path=\"url(#clip5300)\" d=\"\n",
       "M0 1600 L2400 1600 L2400 0 L0 0  Z\n",
       "  \" fill=\"#fffff0\" fill-rule=\"evenodd\" fill-opacity=\"1\"/>\n",
       "<defs>\n",
       "  <clipPath id=\"clip5301\">\n",
       "    <rect x=\"480\" y=\"0\" width=\"1681\" height=\"1600\"/>\n",
       "  </clipPath>\n",
       "</defs>\n",
       "<path clip-path=\"url(#clip5300)\" d=\"\n",
       "M167.279 1487.47 L2352.76 1487.47 L2352.76 47.2441 L167.279 47.2441  Z\n",
       "  \" fill=\"#fffff0\" fill-rule=\"evenodd\" fill-opacity=\"1\"/>\n",
       "<defs>\n",
       "  <clipPath id=\"clip5302\">\n",
       "    <rect x=\"167\" y=\"47\" width=\"2186\" height=\"1441\"/>\n",
       "  </clipPath>\n",
       "</defs>\n",
       "<polyline clip-path=\"url(#clip5302)\" style=\"stroke:#000000; stroke-width:2; stroke-opacity:0.1; fill:none\" points=\"\n",
       "  229.132,1487.47 229.132,47.2441 \n",
       "  \"/>\n",
       "<polyline clip-path=\"url(#clip5302)\" style=\"stroke:#000000; stroke-width:2; stroke-opacity:0.1; fill:none\" points=\"\n",
       "  458.218,1487.47 458.218,47.2441 \n",
       "  \"/>\n",
       "<polyline clip-path=\"url(#clip5302)\" style=\"stroke:#000000; stroke-width:2; stroke-opacity:0.1; fill:none\" points=\"\n",
       "  687.303,1487.47 687.303,47.2441 \n",
       "  \"/>\n",
       "<polyline clip-path=\"url(#clip5302)\" style=\"stroke:#000000; stroke-width:2; stroke-opacity:0.1; fill:none\" points=\"\n",
       "  916.389,1487.47 916.389,47.2441 \n",
       "  \"/>\n",
       "<polyline clip-path=\"url(#clip5302)\" style=\"stroke:#000000; stroke-width:2; stroke-opacity:0.1; fill:none\" points=\"\n",
       "  1145.47,1487.47 1145.47,47.2441 \n",
       "  \"/>\n",
       "<polyline clip-path=\"url(#clip5302)\" style=\"stroke:#000000; stroke-width:2; stroke-opacity:0.1; fill:none\" points=\"\n",
       "  1374.56,1487.47 1374.56,47.2441 \n",
       "  \"/>\n",
       "<polyline clip-path=\"url(#clip5302)\" style=\"stroke:#000000; stroke-width:2; stroke-opacity:0.1; fill:none\" points=\"\n",
       "  1603.65,1487.47 1603.65,47.2441 \n",
       "  \"/>\n",
       "<polyline clip-path=\"url(#clip5302)\" style=\"stroke:#000000; stroke-width:2; stroke-opacity:0.1; fill:none\" points=\"\n",
       "  1832.73,1487.47 1832.73,47.2441 \n",
       "  \"/>\n",
       "<polyline clip-path=\"url(#clip5302)\" style=\"stroke:#000000; stroke-width:2; stroke-opacity:0.1; fill:none\" points=\"\n",
       "  2061.82,1487.47 2061.82,47.2441 \n",
       "  \"/>\n",
       "<polyline clip-path=\"url(#clip5302)\" style=\"stroke:#000000; stroke-width:2; stroke-opacity:0.1; fill:none\" points=\"\n",
       "  2290.9,1487.47 2290.9,47.2441 \n",
       "  \"/>\n",
       "<polyline clip-path=\"url(#clip5302)\" style=\"stroke:#000000; stroke-width:2; stroke-opacity:0.1; fill:none\" points=\"\n",
       "  167.279,1350.44 2352.76,1350.44 \n",
       "  \"/>\n",
       "<polyline clip-path=\"url(#clip5302)\" style=\"stroke:#000000; stroke-width:2; stroke-opacity:0.1; fill:none\" points=\"\n",
       "  167.279,1042.6 2352.76,1042.6 \n",
       "  \"/>\n",
       "<polyline clip-path=\"url(#clip5302)\" style=\"stroke:#000000; stroke-width:2; stroke-opacity:0.1; fill:none\" points=\"\n",
       "  167.279,734.762 2352.76,734.762 \n",
       "  \"/>\n",
       "<polyline clip-path=\"url(#clip5302)\" style=\"stroke:#000000; stroke-width:2; stroke-opacity:0.1; fill:none\" points=\"\n",
       "  167.279,426.926 2352.76,426.926 \n",
       "  \"/>\n",
       "<polyline clip-path=\"url(#clip5302)\" style=\"stroke:#000000; stroke-width:2; stroke-opacity:0.1; fill:none\" points=\"\n",
       "  167.279,119.089 2352.76,119.089 \n",
       "  \"/>\n",
       "<polyline clip-path=\"url(#clip5300)\" style=\"stroke:#000000; stroke-width:4; stroke-opacity:1; fill:none\" points=\"\n",
       "  167.279,1487.47 2352.76,1487.47 \n",
       "  \"/>\n",
       "<polyline clip-path=\"url(#clip5300)\" style=\"stroke:#000000; stroke-width:4; stroke-opacity:1; fill:none\" points=\"\n",
       "  167.279,1487.47 167.279,47.2441 \n",
       "  \"/>\n",
       "<polyline clip-path=\"url(#clip5300)\" style=\"stroke:#000000; stroke-width:4; stroke-opacity:1; fill:none\" points=\"\n",
       "  229.132,1487.47 229.132,1465.87 \n",
       "  \"/>\n",
       "<polyline clip-path=\"url(#clip5300)\" style=\"stroke:#000000; stroke-width:4; stroke-opacity:1; fill:none\" points=\"\n",
       "  458.218,1487.47 458.218,1465.87 \n",
       "  \"/>\n",
       "<polyline clip-path=\"url(#clip5300)\" style=\"stroke:#000000; stroke-width:4; stroke-opacity:1; fill:none\" points=\"\n",
       "  687.303,1487.47 687.303,1465.87 \n",
       "  \"/>\n",
       "<polyline clip-path=\"url(#clip5300)\" style=\"stroke:#000000; stroke-width:4; stroke-opacity:1; fill:none\" points=\"\n",
       "  916.389,1487.47 916.389,1465.87 \n",
       "  \"/>\n",
       "<polyline clip-path=\"url(#clip5300)\" style=\"stroke:#000000; stroke-width:4; stroke-opacity:1; fill:none\" points=\"\n",
       "  1145.47,1487.47 1145.47,1465.87 \n",
       "  \"/>\n",
       "<polyline clip-path=\"url(#clip5300)\" style=\"stroke:#000000; stroke-width:4; stroke-opacity:1; fill:none\" points=\"\n",
       "  1374.56,1487.47 1374.56,1465.87 \n",
       "  \"/>\n",
       "<polyline clip-path=\"url(#clip5300)\" style=\"stroke:#000000; stroke-width:4; stroke-opacity:1; fill:none\" points=\"\n",
       "  1603.65,1487.47 1603.65,1465.87 \n",
       "  \"/>\n",
       "<polyline clip-path=\"url(#clip5300)\" style=\"stroke:#000000; stroke-width:4; stroke-opacity:1; fill:none\" points=\"\n",
       "  1832.73,1487.47 1832.73,1465.87 \n",
       "  \"/>\n",
       "<polyline clip-path=\"url(#clip5300)\" style=\"stroke:#000000; stroke-width:4; stroke-opacity:1; fill:none\" points=\"\n",
       "  2061.82,1487.47 2061.82,1465.87 \n",
       "  \"/>\n",
       "<polyline clip-path=\"url(#clip5300)\" style=\"stroke:#000000; stroke-width:4; stroke-opacity:1; fill:none\" points=\"\n",
       "  2290.9,1487.47 2290.9,1465.87 \n",
       "  \"/>\n",
       "<polyline clip-path=\"url(#clip5300)\" style=\"stroke:#000000; stroke-width:4; stroke-opacity:1; fill:none\" points=\"\n",
       "  167.279,1350.44 200.061,1350.44 \n",
       "  \"/>\n",
       "<polyline clip-path=\"url(#clip5300)\" style=\"stroke:#000000; stroke-width:4; stroke-opacity:1; fill:none\" points=\"\n",
       "  167.279,1042.6 200.061,1042.6 \n",
       "  \"/>\n",
       "<polyline clip-path=\"url(#clip5300)\" style=\"stroke:#000000; stroke-width:4; stroke-opacity:1; fill:none\" points=\"\n",
       "  167.279,734.762 200.061,734.762 \n",
       "  \"/>\n",
       "<polyline clip-path=\"url(#clip5300)\" style=\"stroke:#000000; stroke-width:4; stroke-opacity:1; fill:none\" points=\"\n",
       "  167.279,426.926 200.061,426.926 \n",
       "  \"/>\n",
       "<polyline clip-path=\"url(#clip5300)\" style=\"stroke:#000000; stroke-width:4; stroke-opacity:1; fill:none\" points=\"\n",
       "  167.279,119.089 200.061,119.089 \n",
       "  \"/>\n",
       "<g clip-path=\"url(#clip5300)\">\n",
       "<text style=\"fill:#000000; fill-opacity:1; font-family:Arial,Helvetica Neue,Helvetica,sans-serif; font-size:48px; text-anchor:middle;\" transform=\"rotate(0, 229.132, 1541.47)\" x=\"229.132\" y=\"1541.47\">0</text>\n",
       "</g>\n",
       "<g clip-path=\"url(#clip5300)\">\n",
       "<text style=\"fill:#000000; fill-opacity:1; font-family:Arial,Helvetica Neue,Helvetica,sans-serif; font-size:48px; text-anchor:middle;\" transform=\"rotate(0, 458.218, 1541.47)\" x=\"458.218\" y=\"1541.47\">1</text>\n",
       "</g>\n",
       "<g clip-path=\"url(#clip5300)\">\n",
       "<text style=\"fill:#000000; fill-opacity:1; font-family:Arial,Helvetica Neue,Helvetica,sans-serif; font-size:48px; text-anchor:middle;\" transform=\"rotate(0, 687.303, 1541.47)\" x=\"687.303\" y=\"1541.47\">2</text>\n",
       "</g>\n",
       "<g clip-path=\"url(#clip5300)\">\n",
       "<text style=\"fill:#000000; fill-opacity:1; font-family:Arial,Helvetica Neue,Helvetica,sans-serif; font-size:48px; text-anchor:middle;\" transform=\"rotate(0, 916.389, 1541.47)\" x=\"916.389\" y=\"1541.47\">3</text>\n",
       "</g>\n",
       "<g clip-path=\"url(#clip5300)\">\n",
       "<text style=\"fill:#000000; fill-opacity:1; font-family:Arial,Helvetica Neue,Helvetica,sans-serif; font-size:48px; text-anchor:middle;\" transform=\"rotate(0, 1145.47, 1541.47)\" x=\"1145.47\" y=\"1541.47\">4</text>\n",
       "</g>\n",
       "<g clip-path=\"url(#clip5300)\">\n",
       "<text style=\"fill:#000000; fill-opacity:1; font-family:Arial,Helvetica Neue,Helvetica,sans-serif; font-size:48px; text-anchor:middle;\" transform=\"rotate(0, 1374.56, 1541.47)\" x=\"1374.56\" y=\"1541.47\">5</text>\n",
       "</g>\n",
       "<g clip-path=\"url(#clip5300)\">\n",
       "<text style=\"fill:#000000; fill-opacity:1; font-family:Arial,Helvetica Neue,Helvetica,sans-serif; font-size:48px; text-anchor:middle;\" transform=\"rotate(0, 1603.65, 1541.47)\" x=\"1603.65\" y=\"1541.47\">6</text>\n",
       "</g>\n",
       "<g clip-path=\"url(#clip5300)\">\n",
       "<text style=\"fill:#000000; fill-opacity:1; font-family:Arial,Helvetica Neue,Helvetica,sans-serif; font-size:48px; text-anchor:middle;\" transform=\"rotate(0, 1832.73, 1541.47)\" x=\"1832.73\" y=\"1541.47\">7</text>\n",
       "</g>\n",
       "<g clip-path=\"url(#clip5300)\">\n",
       "<text style=\"fill:#000000; fill-opacity:1; font-family:Arial,Helvetica Neue,Helvetica,sans-serif; font-size:48px; text-anchor:middle;\" transform=\"rotate(0, 2061.82, 1541.47)\" x=\"2061.82\" y=\"1541.47\">8</text>\n",
       "</g>\n",
       "<g clip-path=\"url(#clip5300)\">\n",
       "<text style=\"fill:#000000; fill-opacity:1; font-family:Arial,Helvetica Neue,Helvetica,sans-serif; font-size:48px; text-anchor:middle;\" transform=\"rotate(0, 2290.9, 1541.47)\" x=\"2290.9\" y=\"1541.47\">9</text>\n",
       "</g>\n",
       "<g clip-path=\"url(#clip5300)\">\n",
       "<text style=\"fill:#000000; fill-opacity:1; font-family:Arial,Helvetica Neue,Helvetica,sans-serif; font-size:48px; text-anchor:end;\" transform=\"rotate(0, 143.279, 1367.94)\" x=\"143.279\" y=\"1367.94\">100</text>\n",
       "</g>\n",
       "<g clip-path=\"url(#clip5300)\">\n",
       "<text style=\"fill:#000000; fill-opacity:1; font-family:Arial,Helvetica Neue,Helvetica,sans-serif; font-size:48px; text-anchor:end;\" transform=\"rotate(0, 143.279, 1060.1)\" x=\"143.279\" y=\"1060.1\">200</text>\n",
       "</g>\n",
       "<g clip-path=\"url(#clip5300)\">\n",
       "<text style=\"fill:#000000; fill-opacity:1; font-family:Arial,Helvetica Neue,Helvetica,sans-serif; font-size:48px; text-anchor:end;\" transform=\"rotate(0, 143.279, 752.262)\" x=\"143.279\" y=\"752.262\">300</text>\n",
       "</g>\n",
       "<g clip-path=\"url(#clip5300)\">\n",
       "<text style=\"fill:#000000; fill-opacity:1; font-family:Arial,Helvetica Neue,Helvetica,sans-serif; font-size:48px; text-anchor:end;\" transform=\"rotate(0, 143.279, 444.426)\" x=\"143.279\" y=\"444.426\">400</text>\n",
       "</g>\n",
       "<g clip-path=\"url(#clip5300)\">\n",
       "<text style=\"fill:#000000; fill-opacity:1; font-family:Arial,Helvetica Neue,Helvetica,sans-serif; font-size:48px; text-anchor:end;\" transform=\"rotate(0, 143.279, 136.589)\" x=\"143.279\" y=\"136.589\">500</text>\n",
       "</g>\n",
       "<polyline clip-path=\"url(#clip5302)\" style=\"stroke:#009af9; stroke-width:4; stroke-opacity:1; fill:none\" points=\"\n",
       "  229.132,1140.85 252.041,1399.42 274.949,1446.71 297.858,1440.9 320.767,1428.9 343.675,1416.48 366.584,1403.87 389.492,1391.13 412.401,1378.29 435.309,1365.31 \n",
       "  458.218,1352.26 481.126,1339.23 504.035,1326.05 526.944,1312.7 549.852,1299.18 572.761,1285.47 595.669,1271.58 618.578,1257.49 641.486,1243.21 664.395,1228.71 \n",
       "  687.303,1214.05 710.212,1199.12 733.121,1184.03 756.029,1168.73 778.938,1153.19 801.846,1137.43 824.755,1121.7 847.663,1105.75 870.572,1089.64 893.481,1073.29 \n",
       "  916.389,1056.74 939.298,1039.97 962.206,1022.94 985.115,1005.79 1008.02,988.557 1030.93,971.169 1053.84,953.71 1076.75,936.065 1099.66,918.226 1122.57,900.241 \n",
       "  1145.47,882.053 1168.38,863.657 1191.29,845.065 1214.2,826.257 1237.11,807.245 1260.02,788.309 1282.93,769.437 1305.83,750.443 1328.74,731.25 1351.65,711.862 \n",
       "  1374.56,692.194 1397.47,672.478 1420.38,652.512 1443.29,632.346 1466.19,611.962 1489.1,591.395 1512.01,570.627 1534.92,549.663 1557.83,528.415 1580.74,507.147 \n",
       "  1603.65,485.518 1626.55,463.85 1649.46,441.815 1672.37,419.713 1695.28,397.413 1718.19,375.043 1741.1,352.364 1764.01,330.161 1786.91,307.997 1809.82,285.584 \n",
       "  1832.73,263.025 1855.64,240.264 1878.55,217.343 1901.46,194.25 1924.37,171.04 1947.27,147.916 1970.18,124.633 1993.09,101.142 2016,88.3362 2038.91,88.3103 \n",
       "  2061.82,88.2841 2084.73,88.2576 2107.63,88.2308 2130.54,88.2037 2153.45,88.1763 2176.36,88.1486 2199.27,88.1205 2222.18,88.0922 2245.09,88.0636 2267.99,88.0346 \n",
       "  2290.9,88.0053 \n",
       "  \"/>\n",
       "<path clip-path=\"url(#clip5300)\" d=\"\n",
       "M1952.48 1343.47 L2280.76 1343.47 L2280.76 1222.51 L1952.48 1222.51  Z\n",
       "  \" fill=\"#fffff0\" fill-rule=\"evenodd\" fill-opacity=\"1\"/>\n",
       "<polyline clip-path=\"url(#clip5300)\" style=\"stroke:#000000; stroke-width:4; stroke-opacity:1; fill:none\" points=\"\n",
       "  1952.48,1343.47 2280.76,1343.47 2280.76,1222.51 1952.48,1222.51 1952.48,1343.47 \n",
       "  \"/>\n",
       "<polyline clip-path=\"url(#clip5300)\" style=\"stroke:#009af9; stroke-width:4; stroke-opacity:1; fill:none\" points=\"\n",
       "  1976.48,1282.99 2120.48,1282.99 \n",
       "  \"/>\n",
       "<g clip-path=\"url(#clip5300)\">\n",
       "<text style=\"fill:#000000; fill-opacity:1; font-family:Arial,Helvetica Neue,Helvetica,sans-serif; font-size:48px; text-anchor:start;\" transform=\"rotate(0, 2144.48, 1300.49)\" x=\"2144.48\" y=\"1300.49\">cost</text>\n",
       "</g>\n",
       "</svg>\n"
      ]
     },
     "execution_count": 215,
     "metadata": {},
     "output_type": "execute_result"
    }
   ],
   "source": [
    "plot(lambda_range,costs,label=\"cost\",xticks = 0:1:lambda_max, background_color = :ivory, legend=:bottomright)"
   ]
  },
  {
   "cell_type": "code",
   "execution_count": 216,
   "metadata": {},
   "outputs": [
    {
     "data": {
      "image/svg+xml": [
       "<?xml version=\"1.0\" encoding=\"utf-8\"?>\n",
       "<svg xmlns=\"http://www.w3.org/2000/svg\" xmlns:xlink=\"http://www.w3.org/1999/xlink\" width=\"600\" height=\"400\" viewBox=\"0 0 2400 1600\">\n",
       "<defs>\n",
       "  <clipPath id=\"clip5700\">\n",
       "    <rect x=\"0\" y=\"0\" width=\"2400\" height=\"1600\"/>\n",
       "  </clipPath>\n",
       "</defs>\n",
       "<path clip-path=\"url(#clip5700)\" d=\"\n",
       "M0 1600 L2400 1600 L2400 0 L0 0  Z\n",
       "  \" fill=\"#fffff0\" fill-rule=\"evenodd\" fill-opacity=\"1\"/>\n",
       "<defs>\n",
       "  <clipPath id=\"clip5701\">\n",
       "    <rect x=\"480\" y=\"0\" width=\"1681\" height=\"1600\"/>\n",
       "  </clipPath>\n",
       "</defs>\n",
       "<path clip-path=\"url(#clip5700)\" d=\"\n",
       "M153.898 1487.47 L2352.76 1487.47 L2352.76 47.2441 L153.898 47.2441  Z\n",
       "  \" fill=\"#fffff0\" fill-rule=\"evenodd\" fill-opacity=\"1\"/>\n",
       "<defs>\n",
       "  <clipPath id=\"clip5702\">\n",
       "    <rect x=\"153\" y=\"47\" width=\"2200\" height=\"1441\"/>\n",
       "  </clipPath>\n",
       "</defs>\n",
       "<polyline clip-path=\"url(#clip5702)\" style=\"stroke:#000000; stroke-width:2; stroke-opacity:0.1; fill:none\" points=\"\n",
       "  216.13,1487.47 216.13,47.2441 \n",
       "  \"/>\n",
       "<polyline clip-path=\"url(#clip5702)\" style=\"stroke:#000000; stroke-width:2; stroke-opacity:0.1; fill:none\" points=\"\n",
       "  446.618,1487.47 446.618,47.2441 \n",
       "  \"/>\n",
       "<polyline clip-path=\"url(#clip5702)\" style=\"stroke:#000000; stroke-width:2; stroke-opacity:0.1; fill:none\" points=\"\n",
       "  677.106,1487.47 677.106,47.2441 \n",
       "  \"/>\n",
       "<polyline clip-path=\"url(#clip5702)\" style=\"stroke:#000000; stroke-width:2; stroke-opacity:0.1; fill:none\" points=\"\n",
       "  907.595,1487.47 907.595,47.2441 \n",
       "  \"/>\n",
       "<polyline clip-path=\"url(#clip5702)\" style=\"stroke:#000000; stroke-width:2; stroke-opacity:0.1; fill:none\" points=\"\n",
       "  1138.08,1487.47 1138.08,47.2441 \n",
       "  \"/>\n",
       "<polyline clip-path=\"url(#clip5702)\" style=\"stroke:#000000; stroke-width:2; stroke-opacity:0.1; fill:none\" points=\"\n",
       "  1368.57,1487.47 1368.57,47.2441 \n",
       "  \"/>\n",
       "<polyline clip-path=\"url(#clip5702)\" style=\"stroke:#000000; stroke-width:2; stroke-opacity:0.1; fill:none\" points=\"\n",
       "  1599.06,1487.47 1599.06,47.2441 \n",
       "  \"/>\n",
       "<polyline clip-path=\"url(#clip5702)\" style=\"stroke:#000000; stroke-width:2; stroke-opacity:0.1; fill:none\" points=\"\n",
       "  1829.55,1487.47 1829.55,47.2441 \n",
       "  \"/>\n",
       "<polyline clip-path=\"url(#clip5702)\" style=\"stroke:#000000; stroke-width:2; stroke-opacity:0.1; fill:none\" points=\"\n",
       "  2060.04,1487.47 2060.04,47.2441 \n",
       "  \"/>\n",
       "<polyline clip-path=\"url(#clip5702)\" style=\"stroke:#000000; stroke-width:2; stroke-opacity:0.1; fill:none\" points=\"\n",
       "  2290.52,1487.47 2290.52,47.2441 \n",
       "  \"/>\n",
       "<polyline clip-path=\"url(#clip5702)\" style=\"stroke:#000000; stroke-width:2; stroke-opacity:0.1; fill:none\" points=\"\n",
       "  153.898,1422.56 2352.76,1422.56 \n",
       "  \"/>\n",
       "<polyline clip-path=\"url(#clip5702)\" style=\"stroke:#000000; stroke-width:2; stroke-opacity:0.1; fill:none\" points=\"\n",
       "  153.898,1094.67 2352.76,1094.67 \n",
       "  \"/>\n",
       "<polyline clip-path=\"url(#clip5702)\" style=\"stroke:#000000; stroke-width:2; stroke-opacity:0.1; fill:none\" points=\"\n",
       "  153.898,766.776 2352.76,766.776 \n",
       "  \"/>\n",
       "<polyline clip-path=\"url(#clip5702)\" style=\"stroke:#000000; stroke-width:2; stroke-opacity:0.1; fill:none\" points=\"\n",
       "  153.898,438.884 2352.76,438.884 \n",
       "  \"/>\n",
       "<polyline clip-path=\"url(#clip5702)\" style=\"stroke:#000000; stroke-width:2; stroke-opacity:0.1; fill:none\" points=\"\n",
       "  153.898,110.991 2352.76,110.991 \n",
       "  \"/>\n",
       "<polyline clip-path=\"url(#clip5700)\" style=\"stroke:#000000; stroke-width:4; stroke-opacity:1; fill:none\" points=\"\n",
       "  153.898,1487.47 2352.76,1487.47 \n",
       "  \"/>\n",
       "<polyline clip-path=\"url(#clip5700)\" style=\"stroke:#000000; stroke-width:4; stroke-opacity:1; fill:none\" points=\"\n",
       "  153.898,1487.47 153.898,47.2441 \n",
       "  \"/>\n",
       "<polyline clip-path=\"url(#clip5700)\" style=\"stroke:#000000; stroke-width:4; stroke-opacity:1; fill:none\" points=\"\n",
       "  216.13,1487.47 216.13,1465.87 \n",
       "  \"/>\n",
       "<polyline clip-path=\"url(#clip5700)\" style=\"stroke:#000000; stroke-width:4; stroke-opacity:1; fill:none\" points=\"\n",
       "  446.618,1487.47 446.618,1465.87 \n",
       "  \"/>\n",
       "<polyline clip-path=\"url(#clip5700)\" style=\"stroke:#000000; stroke-width:4; stroke-opacity:1; fill:none\" points=\"\n",
       "  677.106,1487.47 677.106,1465.87 \n",
       "  \"/>\n",
       "<polyline clip-path=\"url(#clip5700)\" style=\"stroke:#000000; stroke-width:4; stroke-opacity:1; fill:none\" points=\"\n",
       "  907.595,1487.47 907.595,1465.87 \n",
       "  \"/>\n",
       "<polyline clip-path=\"url(#clip5700)\" style=\"stroke:#000000; stroke-width:4; stroke-opacity:1; fill:none\" points=\"\n",
       "  1138.08,1487.47 1138.08,1465.87 \n",
       "  \"/>\n",
       "<polyline clip-path=\"url(#clip5700)\" style=\"stroke:#000000; stroke-width:4; stroke-opacity:1; fill:none\" points=\"\n",
       "  1368.57,1487.47 1368.57,1465.87 \n",
       "  \"/>\n",
       "<polyline clip-path=\"url(#clip5700)\" style=\"stroke:#000000; stroke-width:4; stroke-opacity:1; fill:none\" points=\"\n",
       "  1599.06,1487.47 1599.06,1465.87 \n",
       "  \"/>\n",
       "<polyline clip-path=\"url(#clip5700)\" style=\"stroke:#000000; stroke-width:4; stroke-opacity:1; fill:none\" points=\"\n",
       "  1829.55,1487.47 1829.55,1465.87 \n",
       "  \"/>\n",
       "<polyline clip-path=\"url(#clip5700)\" style=\"stroke:#000000; stroke-width:4; stroke-opacity:1; fill:none\" points=\"\n",
       "  2060.04,1487.47 2060.04,1465.87 \n",
       "  \"/>\n",
       "<polyline clip-path=\"url(#clip5700)\" style=\"stroke:#000000; stroke-width:4; stroke-opacity:1; fill:none\" points=\"\n",
       "  2290.52,1487.47 2290.52,1465.87 \n",
       "  \"/>\n",
       "<polyline clip-path=\"url(#clip5700)\" style=\"stroke:#000000; stroke-width:4; stroke-opacity:1; fill:none\" points=\"\n",
       "  153.898,1422.56 186.881,1422.56 \n",
       "  \"/>\n",
       "<polyline clip-path=\"url(#clip5700)\" style=\"stroke:#000000; stroke-width:4; stroke-opacity:1; fill:none\" points=\"\n",
       "  153.898,1094.67 186.881,1094.67 \n",
       "  \"/>\n",
       "<polyline clip-path=\"url(#clip5700)\" style=\"stroke:#000000; stroke-width:4; stroke-opacity:1; fill:none\" points=\"\n",
       "  153.898,766.776 186.881,766.776 \n",
       "  \"/>\n",
       "<polyline clip-path=\"url(#clip5700)\" style=\"stroke:#000000; stroke-width:4; stroke-opacity:1; fill:none\" points=\"\n",
       "  153.898,438.884 186.881,438.884 \n",
       "  \"/>\n",
       "<polyline clip-path=\"url(#clip5700)\" style=\"stroke:#000000; stroke-width:4; stroke-opacity:1; fill:none\" points=\"\n",
       "  153.898,110.991 186.881,110.991 \n",
       "  \"/>\n",
       "<g clip-path=\"url(#clip5700)\">\n",
       "<text style=\"fill:#000000; fill-opacity:1; font-family:Arial,Helvetica Neue,Helvetica,sans-serif; font-size:48px; text-anchor:middle;\" transform=\"rotate(0, 216.13, 1541.47)\" x=\"216.13\" y=\"1541.47\">0</text>\n",
       "</g>\n",
       "<g clip-path=\"url(#clip5700)\">\n",
       "<text style=\"fill:#000000; fill-opacity:1; font-family:Arial,Helvetica Neue,Helvetica,sans-serif; font-size:48px; text-anchor:middle;\" transform=\"rotate(0, 446.618, 1541.47)\" x=\"446.618\" y=\"1541.47\">1</text>\n",
       "</g>\n",
       "<g clip-path=\"url(#clip5700)\">\n",
       "<text style=\"fill:#000000; fill-opacity:1; font-family:Arial,Helvetica Neue,Helvetica,sans-serif; font-size:48px; text-anchor:middle;\" transform=\"rotate(0, 677.106, 1541.47)\" x=\"677.106\" y=\"1541.47\">2</text>\n",
       "</g>\n",
       "<g clip-path=\"url(#clip5700)\">\n",
       "<text style=\"fill:#000000; fill-opacity:1; font-family:Arial,Helvetica Neue,Helvetica,sans-serif; font-size:48px; text-anchor:middle;\" transform=\"rotate(0, 907.595, 1541.47)\" x=\"907.595\" y=\"1541.47\">3</text>\n",
       "</g>\n",
       "<g clip-path=\"url(#clip5700)\">\n",
       "<text style=\"fill:#000000; fill-opacity:1; font-family:Arial,Helvetica Neue,Helvetica,sans-serif; font-size:48px; text-anchor:middle;\" transform=\"rotate(0, 1138.08, 1541.47)\" x=\"1138.08\" y=\"1541.47\">4</text>\n",
       "</g>\n",
       "<g clip-path=\"url(#clip5700)\">\n",
       "<text style=\"fill:#000000; fill-opacity:1; font-family:Arial,Helvetica Neue,Helvetica,sans-serif; font-size:48px; text-anchor:middle;\" transform=\"rotate(0, 1368.57, 1541.47)\" x=\"1368.57\" y=\"1541.47\">5</text>\n",
       "</g>\n",
       "<g clip-path=\"url(#clip5700)\">\n",
       "<text style=\"fill:#000000; fill-opacity:1; font-family:Arial,Helvetica Neue,Helvetica,sans-serif; font-size:48px; text-anchor:middle;\" transform=\"rotate(0, 1599.06, 1541.47)\" x=\"1599.06\" y=\"1541.47\">6</text>\n",
       "</g>\n",
       "<g clip-path=\"url(#clip5700)\">\n",
       "<text style=\"fill:#000000; fill-opacity:1; font-family:Arial,Helvetica Neue,Helvetica,sans-serif; font-size:48px; text-anchor:middle;\" transform=\"rotate(0, 1829.55, 1541.47)\" x=\"1829.55\" y=\"1541.47\">7</text>\n",
       "</g>\n",
       "<g clip-path=\"url(#clip5700)\">\n",
       "<text style=\"fill:#000000; fill-opacity:1; font-family:Arial,Helvetica Neue,Helvetica,sans-serif; font-size:48px; text-anchor:middle;\" transform=\"rotate(0, 2060.04, 1541.47)\" x=\"2060.04\" y=\"1541.47\">8</text>\n",
       "</g>\n",
       "<g clip-path=\"url(#clip5700)\">\n",
       "<text style=\"fill:#000000; fill-opacity:1; font-family:Arial,Helvetica Neue,Helvetica,sans-serif; font-size:48px; text-anchor:middle;\" transform=\"rotate(0, 2290.52, 1541.47)\" x=\"2290.52\" y=\"1541.47\">9</text>\n",
       "</g>\n",
       "<g clip-path=\"url(#clip5700)\">\n",
       "<text style=\"fill:#000000; fill-opacity:1; font-family:Arial,Helvetica Neue,Helvetica,sans-serif; font-size:48px; text-anchor:end;\" transform=\"rotate(0, 129.898, 1440.06)\" x=\"129.898\" y=\"1440.06\">0.1</text>\n",
       "</g>\n",
       "<g clip-path=\"url(#clip5700)\">\n",
       "<text style=\"fill:#000000; fill-opacity:1; font-family:Arial,Helvetica Neue,Helvetica,sans-serif; font-size:48px; text-anchor:end;\" transform=\"rotate(0, 129.898, 1112.17)\" x=\"129.898\" y=\"1112.17\">0.2</text>\n",
       "</g>\n",
       "<g clip-path=\"url(#clip5700)\">\n",
       "<text style=\"fill:#000000; fill-opacity:1; font-family:Arial,Helvetica Neue,Helvetica,sans-serif; font-size:48px; text-anchor:end;\" transform=\"rotate(0, 129.898, 784.276)\" x=\"129.898\" y=\"784.276\">0.3</text>\n",
       "</g>\n",
       "<g clip-path=\"url(#clip5700)\">\n",
       "<text style=\"fill:#000000; fill-opacity:1; font-family:Arial,Helvetica Neue,Helvetica,sans-serif; font-size:48px; text-anchor:end;\" transform=\"rotate(0, 129.898, 456.384)\" x=\"129.898\" y=\"456.384\">0.4</text>\n",
       "</g>\n",
       "<g clip-path=\"url(#clip5700)\">\n",
       "<text style=\"fill:#000000; fill-opacity:1; font-family:Arial,Helvetica Neue,Helvetica,sans-serif; font-size:48px; text-anchor:end;\" transform=\"rotate(0, 129.898, 128.491)\" x=\"129.898\" y=\"128.491\">0.5</text>\n",
       "</g>\n",
       "<polyline clip-path=\"url(#clip5702)\" style=\"stroke:#009af9; stroke-width:4; stroke-opacity:1; fill:none\" points=\"\n",
       "  216.13,1446.71 239.179,1259.26 262.227,546.118 285.276,115.911 308.325,88.0053 331.374,98.3742 354.423,110.349 377.472,122.354 400.52,134.134 423.569,145.672 \n",
       "  446.618,156.866 469.667,167.304 492.716,177.447 515.765,187.442 538.813,197.133 561.862,206.614 584.911,216.054 607.96,225.333 631.009,234.439 654.057,243.437 \n",
       "  677.106,252.415 700.155,261.082 723.204,269.644 746.253,278.224 769.302,286.788 792.35,295.267 815.399,303.293 838.448,311.229 861.497,319.086 884.546,326.928 \n",
       "  907.595,334.735 930.643,342.535 953.692,350.368 976.741,358.066 999.79,365.539 1022.84,372.889 1045.89,380.095 1068.94,387.289 1091.99,394.42 1115.03,401.222 \n",
       "  1138.08,408.037 1161.13,414.851 1184.18,421.681 1207.23,428.543 1230.28,435.426 1253.33,441.853 1276.38,447.933 1299.42,453.932 1322.47,459.934 1345.52,465.955 \n",
       "  1368.57,472.046 1391.62,478.111 1414.67,484.154 1437.72,490.27 1460.77,496.453 1483.82,502.659 1506.86,508.927 1529.91,515.253 1552.96,521.771 1576.01,528.125 \n",
       "  1599.06,534.834 1622.11,541.32 1645.16,548.233 1668.21,555.096 1691.25,562.074 1714.3,569.041 1737.35,576.392 1760.4,583.371 1783.45,590.267 1806.5,597.319 \n",
       "  1829.55,604.342 1852.6,611.445 1875.65,618.559 1898.69,625.687 1921.74,632.817 1944.79,639.838 1967.84,646.883 1990.89,654.041 2013.94,658.142 2036.99,658.143 \n",
       "  2060.04,658.143 2083.08,658.144 2106.13,658.144 2129.18,658.144 2152.23,658.145 2175.28,658.145 2198.33,658.146 2221.38,658.146 2244.43,658.147 2267.48,658.147 \n",
       "  2290.52,658.147 \n",
       "  \"/>\n",
       "<path clip-path=\"url(#clip5700)\" d=\"\n",
       "M1952.48 1343.47 L2280.76 1343.47 L2280.76 1222.51 L1952.48 1222.51  Z\n",
       "  \" fill=\"#fffff0\" fill-rule=\"evenodd\" fill-opacity=\"1\"/>\n",
       "<polyline clip-path=\"url(#clip5700)\" style=\"stroke:#000000; stroke-width:4; stroke-opacity:1; fill:none\" points=\"\n",
       "  1952.48,1343.47 2280.76,1343.47 2280.76,1222.51 1952.48,1222.51 1952.48,1343.47 \n",
       "  \"/>\n",
       "<polyline clip-path=\"url(#clip5700)\" style=\"stroke:#009af9; stroke-width:4; stroke-opacity:1; fill:none\" points=\"\n",
       "  1976.48,1282.99 2120.48,1282.99 \n",
       "  \"/>\n",
       "<g clip-path=\"url(#clip5700)\">\n",
       "<text style=\"fill:#000000; fill-opacity:1; font-family:Arial,Helvetica Neue,Helvetica,sans-serif; font-size:48px; text-anchor:start;\" transform=\"rotate(0, 2144.48, 1300.49)\" x=\"2144.48\" y=\"1300.49\">cost</text>\n",
       "</g>\n",
       "</svg>\n"
      ]
     },
     "execution_count": 216,
     "metadata": {},
     "output_type": "execute_result"
    }
   ],
   "source": [
    "plot(lambda_range,ssims,label=\"cost\",xticks = 0:1:lambda_max, background_color = :ivory, legend=:bottomright)"
   ]
  },
  {
   "cell_type": "markdown",
   "metadata": {},
   "source": [
    "## Gradient Calculation\n",
    "Let us consider a reduced cost function\n",
    "\n",
    "$$\n",
    "j(\\lambda) = \\frac{1}{2}\\|S(\\lambda)-z\\|^2+\\frac{\\alpha}{2}\\|\\lambda\\|^2,\n",
    "$$\n",
    "\n",
    "its directional derivative will be given by\n",
    "\n",
    "$$\n",
    "j'(\\lambda)h = \\langle S(\\lambda)-z, S'(\\lambda)h \\rangle + \\alpha \\langle \\lambda, h \\rangle\n",
    "$$"
   ]
  },
  {
   "cell_type": "code",
   "execution_count": 85,
   "metadata": {},
   "outputs": [
    {
     "data": {
      "text/plain": [
       "gradient_solver (generic function with 1 method)"
      ]
     },
     "execution_count": 85,
     "metadata": {},
     "output_type": "execute_result"
    }
   ],
   "source": [
    "include(\"gradient_solver.jl\")"
   ]
  },
  {
   "cell_type": "code",
   "execution_count": 86,
   "metadata": {},
   "outputs": [
    {
     "data": {
      "text/plain": [
       "3.792123433597545"
      ]
     },
     "execution_count": 86,
     "metadata": {},
     "output_type": "execute_result"
    }
   ],
   "source": [
    "λ = 0.1\n",
    "∇ = gradient_matrix(size(f))\n",
    "u_h= lower_level_solver(u,f,λ,K)\n",
    "grad = gradient_solver(u_h,z,λ,α,K,∇)"
   ]
  },
  {
   "cell_type": "code",
   "execution_count": 437,
   "metadata": {},
   "outputs": [
    {
     "data": {
      "text/plain": [
       "0.1"
      ]
     },
     "execution_count": 437,
     "metadata": {},
     "output_type": "execute_result"
    }
   ],
   "source": [
    "∇ = gradient_matrix(size(f))\n",
    "K = Variation(size(f))\n",
    "α = 0.1"
   ]
  },
  {
   "cell_type": "code",
   "execution_count": 62,
   "metadata": {},
   "outputs": [
    {
     "name": "stdout",
     "output_type": "stream",
     "text": [
      "done\n"
     ]
    }
   ],
   "source": [
    "step = 0.1\n",
    "lambda_max = 14.0\n",
    "lambda_min = 0.1\n",
    "lambda_range = lambda_min:step:lambda_max\n",
    "grads = Float64[]\n",
    "@distributed for λ in lambda_range\n",
    "    u_h = lower_level_solver(u,f,λ,K)\n",
    "    g = gradient_solver(u_h,z,λ,α,K,∇)\n",
    "    push!(grads,g)\n",
    "    #println(\"$λ -> $g\")\n",
    "end\n",
    "println(\"done\")"
   ]
  },
  {
   "cell_type": "code",
   "execution_count": 63,
   "metadata": {},
   "outputs": [
    {
     "data": {
      "image/svg+xml": [
       "<?xml version=\"1.0\" encoding=\"utf-8\"?>\n",
       "<svg xmlns=\"http://www.w3.org/2000/svg\" xmlns:xlink=\"http://www.w3.org/1999/xlink\" width=\"600\" height=\"400\" viewBox=\"0 0 2400 1600\">\n",
       "<defs>\n",
       "  <clipPath id=\"clip8100\">\n",
       "    <rect x=\"0\" y=\"0\" width=\"2400\" height=\"1600\"/>\n",
       "  </clipPath>\n",
       "</defs>\n",
       "<path clip-path=\"url(#clip8100)\" d=\"\n",
       "M0 1600 L2400 1600 L2400 0 L0 0  Z\n",
       "  \" fill=\"#fffff0\" fill-rule=\"evenodd\" fill-opacity=\"1\"/>\n",
       "<defs>\n",
       "  <clipPath id=\"clip8101\">\n",
       "    <rect x=\"480\" y=\"0\" width=\"1681\" height=\"1600\"/>\n",
       "  </clipPath>\n",
       "</defs>\n",
       "<path clip-path=\"url(#clip8100)\" d=\"\n",
       "M180.66 1487.47 L2352.76 1487.47 L2352.76 47.2441 L180.66 47.2441  Z\n",
       "  \" fill=\"#fffff0\" fill-rule=\"evenodd\" fill-opacity=\"1\"/>\n",
       "<defs>\n",
       "  <clipPath id=\"clip8102\">\n",
       "    <rect x=\"180\" y=\"47\" width=\"2173\" height=\"1441\"/>\n",
       "  </clipPath>\n",
       "</defs>\n",
       "<polyline clip-path=\"url(#clip8102)\" style=\"stroke:#000000; stroke-width:2; stroke-opacity:0.1; fill:none\" points=\"\n",
       "  242.135,1487.47 242.135,47.2441 \n",
       "  \"/>\n",
       "<polyline clip-path=\"url(#clip8102)\" style=\"stroke:#000000; stroke-width:2; stroke-opacity:0.1; fill:none\" points=\"\n",
       "  1266.71,1487.47 1266.71,47.2441 \n",
       "  \"/>\n",
       "<polyline clip-path=\"url(#clip8102)\" style=\"stroke:#000000; stroke-width:2; stroke-opacity:0.1; fill:none\" points=\"\n",
       "  2291.28,1487.47 2291.28,47.2441 \n",
       "  \"/>\n",
       "<polyline clip-path=\"url(#clip8102)\" style=\"stroke:#000000; stroke-width:2; stroke-opacity:0.1; fill:none\" points=\"\n",
       "  180.66,1446.71 2352.76,1446.71 \n",
       "  \"/>\n",
       "<polyline clip-path=\"url(#clip8102)\" style=\"stroke:#000000; stroke-width:2; stroke-opacity:0.1; fill:none\" points=\"\n",
       "  180.66,1107.04 2352.76,1107.04 \n",
       "  \"/>\n",
       "<polyline clip-path=\"url(#clip8102)\" style=\"stroke:#000000; stroke-width:2; stroke-opacity:0.1; fill:none\" points=\"\n",
       "  180.66,767.359 2352.76,767.359 \n",
       "  \"/>\n",
       "<polyline clip-path=\"url(#clip8102)\" style=\"stroke:#000000; stroke-width:2; stroke-opacity:0.1; fill:none\" points=\"\n",
       "  180.66,427.682 2352.76,427.682 \n",
       "  \"/>\n",
       "<polyline clip-path=\"url(#clip8102)\" style=\"stroke:#000000; stroke-width:2; stroke-opacity:0.1; fill:none\" points=\"\n",
       "  180.66,88.0053 2352.76,88.0053 \n",
       "  \"/>\n",
       "<polyline clip-path=\"url(#clip8100)\" style=\"stroke:#000000; stroke-width:4; stroke-opacity:1; fill:none\" points=\"\n",
       "  180.66,1487.47 2352.76,1487.47 \n",
       "  \"/>\n",
       "<polyline clip-path=\"url(#clip8100)\" style=\"stroke:#000000; stroke-width:4; stroke-opacity:1; fill:none\" points=\"\n",
       "  180.66,1487.47 180.66,47.2441 \n",
       "  \"/>\n",
       "<polyline clip-path=\"url(#clip8100)\" style=\"stroke:#000000; stroke-width:4; stroke-opacity:1; fill:none\" points=\"\n",
       "  242.135,1487.47 242.135,1465.87 \n",
       "  \"/>\n",
       "<polyline clip-path=\"url(#clip8100)\" style=\"stroke:#000000; stroke-width:4; stroke-opacity:1; fill:none\" points=\"\n",
       "  1266.71,1487.47 1266.71,1465.87 \n",
       "  \"/>\n",
       "<polyline clip-path=\"url(#clip8100)\" style=\"stroke:#000000; stroke-width:4; stroke-opacity:1; fill:none\" points=\"\n",
       "  2291.28,1487.47 2291.28,1465.87 \n",
       "  \"/>\n",
       "<polyline clip-path=\"url(#clip8100)\" style=\"stroke:#000000; stroke-width:4; stroke-opacity:1; fill:none\" points=\"\n",
       "  180.66,1446.71 213.242,1446.71 \n",
       "  \"/>\n",
       "<polyline clip-path=\"url(#clip8100)\" style=\"stroke:#000000; stroke-width:4; stroke-opacity:1; fill:none\" points=\"\n",
       "  180.66,1107.04 213.242,1107.04 \n",
       "  \"/>\n",
       "<polyline clip-path=\"url(#clip8100)\" style=\"stroke:#000000; stroke-width:4; stroke-opacity:1; fill:none\" points=\"\n",
       "  180.66,767.359 213.242,767.359 \n",
       "  \"/>\n",
       "<polyline clip-path=\"url(#clip8100)\" style=\"stroke:#000000; stroke-width:4; stroke-opacity:1; fill:none\" points=\"\n",
       "  180.66,427.682 213.242,427.682 \n",
       "  \"/>\n",
       "<polyline clip-path=\"url(#clip8100)\" style=\"stroke:#000000; stroke-width:4; stroke-opacity:1; fill:none\" points=\"\n",
       "  180.66,88.0053 213.242,88.0053 \n",
       "  \"/>\n",
       "<g clip-path=\"url(#clip8100)\">\n",
       "<text style=\"fill:#000000; fill-opacity:1; font-family:Arial,Helvetica Neue,Helvetica,sans-serif; font-size:48px; text-anchor:middle;\" transform=\"rotate(0, 242.135, 1541.47)\" x=\"242.135\" y=\"1541.47\">0.0</text>\n",
       "</g>\n",
       "<g clip-path=\"url(#clip8100)\">\n",
       "<text style=\"fill:#000000; fill-opacity:1; font-family:Arial,Helvetica Neue,Helvetica,sans-serif; font-size:48px; text-anchor:middle;\" transform=\"rotate(0, 1266.71, 1541.47)\" x=\"1266.71\" y=\"1541.47\">0.5</text>\n",
       "</g>\n",
       "<g clip-path=\"url(#clip8100)\">\n",
       "<text style=\"fill:#000000; fill-opacity:1; font-family:Arial,Helvetica Neue,Helvetica,sans-serif; font-size:48px; text-anchor:middle;\" transform=\"rotate(0, 2291.28, 1541.47)\" x=\"2291.28\" y=\"1541.47\">1.0</text>\n",
       "</g>\n",
       "<g clip-path=\"url(#clip8100)\">\n",
       "<text style=\"fill:#000000; fill-opacity:1; font-family:Arial,Helvetica Neue,Helvetica,sans-serif; font-size:48px; text-anchor:end;\" transform=\"rotate(0, 156.66, 1464.21)\" x=\"156.66\" y=\"1464.21\">0.00</text>\n",
       "</g>\n",
       "<g clip-path=\"url(#clip8100)\">\n",
       "<text style=\"fill:#000000; fill-opacity:1; font-family:Arial,Helvetica Neue,Helvetica,sans-serif; font-size:48px; text-anchor:end;\" transform=\"rotate(0, 156.66, 1124.54)\" x=\"156.66\" y=\"1124.54\">0.25</text>\n",
       "</g>\n",
       "<g clip-path=\"url(#clip8100)\">\n",
       "<text style=\"fill:#000000; fill-opacity:1; font-family:Arial,Helvetica Neue,Helvetica,sans-serif; font-size:48px; text-anchor:end;\" transform=\"rotate(0, 156.66, 784.859)\" x=\"156.66\" y=\"784.859\">0.50</text>\n",
       "</g>\n",
       "<g clip-path=\"url(#clip8100)\">\n",
       "<text style=\"fill:#000000; fill-opacity:1; font-family:Arial,Helvetica Neue,Helvetica,sans-serif; font-size:48px; text-anchor:end;\" transform=\"rotate(0, 156.66, 445.182)\" x=\"156.66\" y=\"445.182\">0.75</text>\n",
       "</g>\n",
       "<g clip-path=\"url(#clip8100)\">\n",
       "<text style=\"fill:#000000; fill-opacity:1; font-family:Arial,Helvetica Neue,Helvetica,sans-serif; font-size:48px; text-anchor:end;\" transform=\"rotate(0, 156.66, 105.505)\" x=\"156.66\" y=\"105.505\">1.00</text>\n",
       "</g>\n",
       "<path clip-path=\"url(#clip8100)\" d=\"\n",
       "M1944.44 1343.47 L2280.76 1343.47 L2280.76 1222.51 L1944.44 1222.51  Z\n",
       "  \" fill=\"#fffff0\" fill-rule=\"evenodd\" fill-opacity=\"1\"/>\n",
       "<polyline clip-path=\"url(#clip8100)\" style=\"stroke:#000000; stroke-width:4; stroke-opacity:1; fill:none\" points=\"\n",
       "  1944.44,1343.47 2280.76,1343.47 2280.76,1222.51 1944.44,1222.51 1944.44,1343.47 \n",
       "  \"/>\n",
       "<polyline clip-path=\"url(#clip8100)\" style=\"stroke:#009af9; stroke-width:4; stroke-opacity:1; fill:none\" points=\"\n",
       "  1968.44,1282.99 2112.44,1282.99 \n",
       "  \"/>\n",
       "<g clip-path=\"url(#clip8100)\">\n",
       "<text style=\"fill:#000000; fill-opacity:1; font-family:Arial,Helvetica Neue,Helvetica,sans-serif; font-size:48px; text-anchor:start;\" transform=\"rotate(0, 2136.44, 1300.49)\" x=\"2136.44\" y=\"1300.49\">grad</text>\n",
       "</g>\n",
       "</svg>\n"
      ]
     },
     "execution_count": 63,
     "metadata": {},
     "output_type": "execute_result"
    }
   ],
   "source": [
    "#plot(lambda_range,costs,label=\"cost\",xticks = 0:1:lambda_max, background_color = :ivory, legend=:bottomright)\n",
    "plot(grads,label=\"grad\",xticks = 0:0.5:lambda_max, background_color = :ivory, legend=:bottomright)"
   ]
  },
  {
   "cell_type": "markdown",
   "metadata": {},
   "source": [
    "## Trust Region Algorithm\n",
    "We will use a nonsmooth trust region strategy to solve this problem. This method will consider a local quadratic model described by \n",
    "\n",
    "$$\n",
    "q_k(s) = j(\\lambda_k)+g_k^\\top s + \\frac{1}{2}s^\\top H_k s\n",
    "$$\n",
    "\n",
    "where $s$ is the descent direction, $g_k$ will be the gradient at iteration $k$ and $H_k$ will be a matrix with second order information that can be obtained using SR1 or BFGS method.\n",
    "The trust region radius will be $\\Delta_k$ and the actual and predicted reductions are given by\n",
    "\n",
    "$$\n",
    "ared(s_k) := j(\\lambda_k)-j(\\lambda_k+s_k),\\;pred(s_k) := j(\\lambda_k)-q_k(s_k)\n",
    "$$\n",
    "\n",
    "and the step quality will be given by the following quotient\n",
    "\n",
    "$$\n",
    "\\rho_k(s_k) = \\frac{ared(s_k)}{pred(s_k)}\n",
    "$$"
   ]
  },
  {
   "cell_type": "code",
   "execution_count": 320,
   "metadata": {},
   "outputs": [
    {
     "data": {
      "text/plain": [
       "trust_region_solver (generic function with 2 methods)"
      ]
     },
     "execution_count": 320,
     "metadata": {},
     "output_type": "execute_result"
    }
   ],
   "source": [
    "include(\"trust_region_solver.jl\")"
   ]
  },
  {
   "cell_type": "code",
   "execution_count": 321,
   "metadata": {},
   "outputs": [
    {
     "data": {
      "text/plain": [
       "1.0e-5"
      ]
     },
     "execution_count": 321,
     "metadata": {},
     "output_type": "execute_result"
    }
   ],
   "source": [
    "K = Variation(size(f))\n",
    "u = Variable(size(K,1)...)\n",
    "α = 1e-2\n",
    "\n",
    "lambda_0 = 7\n",
    "radius_0 = 0.05\n",
    "tol = 1e-5"
   ]
  },
  {
   "cell_type": "code",
   "execution_count": 318,
   "metadata": {},
   "outputs": [
    {
     "name": "stdout",
     "output_type": "stream",
     "text": [
      "TR Iteration 1: \t7, -0.05\n",
      "lambda = 7.0, rho_k = 3.219, radius = 0.05, g_k = 22.806, s_k = -0.05, H_k = 0.0\n",
      "TR Iteration 2: \t6.95, -0.07500000000000001\n",
      "lambda = 6.95, rho_k = 3.07, radius = 0.075, g_k = 23.82, s_k = -0.075, H_k = 0.0\n",
      "TR Iteration 3: \t6.875, -0.11250000000000003\n",
      "lambda = 6.875, rho_k = 2.833, radius = 0.1125, g_k = 25.588, s_k = -0.113, H_k = 0.0\n",
      "TR Iteration 4: \t6.7625, -0.16875\n",
      "lambda = 6.7625, rho_k = 2.647, radius = 0.1688, g_k = 27.294, s_k = -0.169, H_k = 0.0\n",
      "TR Iteration 5: \t6.59375, -0.25312500000000004\n",
      "lambda = 6.5938, rho_k = 2.445, radius = 0.2531, g_k = 29.843, s_k = -0.253, H_k = 0.0\n",
      "TR Iteration 6: \t6.340625, -0.37968750000000007\n",
      "lambda = 6.3406, rho_k = 2.081, radius = 0.3797, g_k = 34.245, s_k = -0.38, H_k = 0.0\n",
      "TR Iteration 7: \t5.9609375, -0.56953125\n",
      "lambda = 5.9609, rho_k = 1.73, radius = 0.5695, g_k = 39.457, s_k = -0.57, H_k = 0.0\n",
      "TR Iteration 8: \t5.39140625, -0.8542968750000001\n",
      "lambda = 5.3914, rho_k = 1.441, radius = 0.8543, g_k = 44.217, s_k = -0.854, H_k = 0.0\n",
      "TR Iteration 9: \t4.537109375, -1.2814453125\n",
      "lambda = 4.5371, rho_k = 1.248, radius = 1.2814, g_k = 47.157, s_k = -1.281, H_k = 0.0\n",
      "TR Iteration 10: \t3.2556640625, -1.92216796875\n",
      "lambda = 3.2557, rho_k = 1.031, radius = 1.9222, g_k = 48.306, s_k = -1.922, H_k = 0.0\n",
      "TR Iteration 11: \t1.3334960937500002, -2.8832519531250003\n"
     ]
    },
    {
     "ename": "ErrorException",
     "evalue": "parameter `a` must be positive",
     "output_type": "error",
     "traceback": [
      "parameter `a` must be positive",
      "",
      "Stacktrace:",
      " [1] error(::String) at ./error.jl:33",
      " [2] Type at /Users/dvillacis/.julia/packages/ProximalOperators/18mAn/src/calculus/postcompose.jl:21 [inlined]",
      " [3] Type at /Users/dvillacis/.julia/packages/ProximalOperators/18mAn/src/calculus/postcompose.jl:40 [inlined] (repeats 2 times)",
      " [4] conj at /Users/dvillacis/.julia/packages/StructuredOptimization/0Hncy/src/syntax/terms/proximalOperators_bind.jl:392 [inlined]",
      " [5] lower_level_solver(::Variable{Float64,2,Array{Float64,2}}, ::Array{Float64,2}, ::Float64, ::Variation{Float64,2}) at ./In[171]:3",
      " [6] trust_region_solver(::typeof(lower_level_solver), ::typeof(upper_level_cost), ::Int64, ::Float64, ::Array{Float64,2}, ::Array{Float64,2}, ::Float64, ::Float64, ::Int64) at /Users/dvillacis/workspace/BilevelImagingParameterLearning.jl/demo/bilevel_scalar_rof/trust_region_solver.jl:119",
      " [7] top-level scope at In[318]:2"
     ]
    }
   ],
   "source": [
    "model = 1\n",
    "lambda_opt_1 = trust_region_solver(lower_level_solver,upper_level_cost,lambda_0,α,f,z,radius_0,tol,model)"
   ]
  },
  {
   "cell_type": "code",
   "execution_count": 259,
   "metadata": {},
   "outputs": [
    {
     "name": "stdout",
     "output_type": "stream",
     "text": [
      "0.40846715824324087, 68.55034023162735\n",
      "0.09263425709781388, 168.0833005527697\n"
     ]
    },
    {
     "data": {
      "image/png": "[encoded data removed]",
      "text/plain": [
       "64×64 Array{Gray{Float64},2} with eltype Gray{Float64}:\n",
       " Gray{Float64}(0.850897)  Gray{Float64}(0.850897)  …  Gray{Float64}(0.322445)\n",
       " Gray{Float64}(0.850898)  Gray{Float64}(0.850898)     Gray{Float64}(0.216131)\n",
       " Gray{Float64}(0.850904)  Gray{Float64}(0.850904)     Gray{Float64}(0.21613) \n",
       " Gray{Float64}(0.850912)  Gray{Float64}(0.850914)     Gray{Float64}(0.216136)\n",
       " Gray{Float64}(0.850919)  Gray{Float64}(0.850921)     Gray{Float64}(0.158362)\n",
       " Gray{Float64}(0.850925)  Gray{Float64}(0.850927)  …  Gray{Float64}(0.158362)\n",
       " Gray{Float64}(0.85093)   Gray{Float64}(0.85093)      Gray{Float64}(0.15836) \n",
       " Gray{Float64}(0.850935)  Gray{Float64}(0.850936)     Gray{Float64}(0.158361)\n",
       " Gray{Float64}(0.85094)   Gray{Float64}(0.850942)     Gray{Float64}(0.158331)\n",
       " Gray{Float64}(0.850946)  Gray{Float64}(0.850946)     Gray{Float64}(0.158644)\n",
       " Gray{Float64}(0.850953)  Gray{Float64}(0.850953)  …  Gray{Float64}(0.154378)\n",
       " Gray{Float64}(0.850964)  Gray{Float64}(0.850967)     Gray{Float64}(0.154382)\n",
       " Gray{Float64}(0.85097)   Gray{Float64}(0.850973)     Gray{Float64}(0.154386)\n",
       " ⋮                                                 ⋱                         \n",
       " Gray{Float64}(0.841165)  Gray{Float64}(0.841165)     Gray{Float64}(0.183214)\n",
       " Gray{Float64}(0.841163)  Gray{Float64}(0.841163)     Gray{Float64}(0.183199)\n",
       " Gray{Float64}(0.84116)   Gray{Float64}(0.84116)      Gray{Float64}(0.183193)\n",
       " Gray{Float64}(0.841158)  Gray{Float64}(0.841159)  …  Gray{Float64}(0.18319) \n",
       " Gray{Float64}(0.841161)  Gray{Float64}(0.841162)     Gray{Float64}(0.183188)\n",
       " Gray{Float64}(0.841163)  Gray{Float64}(0.841164)     Gray{Float64}(0.186636)\n",
       " Gray{Float64}(0.841163)  Gray{Float64}(0.841163)     Gray{Float64}(0.195215)\n",
       " Gray{Float64}(0.841164)  Gray{Float64}(0.841163)     Gray{Float64}(0.195212)\n",
       " Gray{Float64}(0.841169)  Gray{Float64}(0.841168)  …  Gray{Float64}(0.209959)\n",
       " Gray{Float64}(0.841177)  Gray{Float64}(0.841176)     Gray{Float64}(0.226015)\n",
       " Gray{Float64}(0.84118)   Gray{Float64}(0.84118)      Gray{Float64}(0.353104)\n",
       " Gray{Float64}(0.522497)  Gray{Float64}(0.844209)     Gray{Float64}(0.686731)"
      ]
     },
     "execution_count": 259,
     "metadata": {},
     "output_type": "execute_result"
    }
   ],
   "source": [
    "u_h = lower_level_solver(u,f,lambda_opt_1,K)\n",
    "println(\"$(ssim(u_h,z)), $(upper_level_cost(u_h,z,lambda_opt_1,α))\")\n",
    "println(\"$(ssim(f,z)), $(upper_level_cost(f,z,lambda_opt_1,α))\")\n",
    "Gray.(u_h)"
   ]
  },
  {
   "cell_type": "code",
   "execution_count": 322,
   "metadata": {},
   "outputs": [
    {
     "name": "stdout",
     "output_type": "stream",
     "text": [
      "TR Iteration 1: \t7, -0.05\n",
      "lambda = 7.0, rho_k = 3.219, radius = 0.05, g_k = 22.806, s_k = -0.05, H_k = -0.1\n",
      "TR Iteration 2: \t * 6.95, -0.07500000000000001\n",
      "lambda = 6.95, rho_k = 3.069, radius = 0.075, g_k = 23.82, s_k = -0.075, H_k = -0.1\n",
      "TR Iteration 3: \t * 6.875, -0.11250000000000003\n",
      "lambda = 6.875, rho_k = 2.832, radius = 0.1125, g_k = 25.588, s_k = -0.113, H_k = -0.1\n",
      "TR Iteration 4: \t * 6.7625, -0.16875\n",
      "lambda = 6.7625, rho_k = 2.646, radius = 0.1688, g_k = 27.294, s_k = -0.169, H_k = -0.1\n",
      "TR Iteration 5: \t * 6.59375, -0.25312500000000004\n",
      "lambda = 6.5938, rho_k = 2.444, radius = 0.2531, g_k = 29.843, s_k = -0.253, H_k = -0.1\n",
      "TR Iteration 6: \t * 6.340625, -0.37968750000000007\n",
      "lambda = 6.3406, rho_k = 2.08, radius = 0.3797, g_k = 34.245, s_k = -0.38, H_k = -0.1\n",
      "TR Iteration 7: \t * 5.9609375, -0.56953125\n",
      "lambda = 5.9609, rho_k = 1.729, radius = 0.5695, g_k = 39.457, s_k = -0.57, H_k = -0.1\n",
      "TR Iteration 8: \t * 5.39140625, -0.8542968750000001\n",
      "lambda = 5.3914, rho_k = 1.44, radius = 0.8543, g_k = 44.217, s_k = -0.854, H_k = -0.1\n",
      "TR Iteration 9: \t * 4.537109375, -1.2814453125\n",
      "lambda = 4.5371, rho_k = 1.246, radius = 1.2814, g_k = 47.157, s_k = -1.281, H_k = -0.1\n",
      "TR Iteration 10: \t * 3.2556640625, -1.92216796875\n",
      "lambda = 3.2557, rho_k = 1.029, radius = 1.9222, g_k = 48.306, s_k = -1.922, H_k = -0.1\n",
      "TR Iteration 11: \t * 1.3334960937500002, -2.8832519531250003\n"
     ]
    },
    {
     "ename": "ErrorException",
     "evalue": "parameter `a` must be positive",
     "output_type": "error",
     "traceback": [
      "parameter `a` must be positive",
      "",
      "Stacktrace:",
      " [1] error(::String) at ./error.jl:33",
      " [2] Type at /Users/dvillacis/.julia/packages/ProximalOperators/18mAn/src/calculus/postcompose.jl:21 [inlined]",
      " [3] Type at /Users/dvillacis/.julia/packages/ProximalOperators/18mAn/src/calculus/postcompose.jl:40 [inlined] (repeats 2 times)",
      " [4] conj at /Users/dvillacis/.julia/packages/StructuredOptimization/0Hncy/src/syntax/terms/proximalOperators_bind.jl:392 [inlined]",
      " [5] lower_level_solver(::Variable{Float64,2,Array{Float64,2}}, ::Array{Float64,2}, ::Float64, ::Variation{Float64,2}) at ./In[171]:3",
      " [6] trust_region_solver(::typeof(lower_level_solver), ::typeof(upper_level_cost), ::Int64, ::Float64, ::Array{Float64,2}, ::Array{Float64,2}, ::Float64, ::Float64, ::Int64) at /Users/dvillacis/workspace/BilevelImagingParameterLearning.jl/demo/bilevel_scalar_rof/trust_region_solver.jl:119",
      " [7] top-level scope at In[322]:2"
     ]
    }
   ],
   "source": [
    "model = 2\n",
    "lambda_opt_2 = trust_region_solver(lower_level_solver,upper_level_cost,lambda_0,α,f,z,radius_0,tol,model)"
   ]
  },
  {
   "cell_type": "code",
   "execution_count": 262,
   "metadata": {},
   "outputs": [
    {
     "name": "stdout",
     "output_type": "stream",
     "text": [
      "0.40846714842794724, 68.55034039902083\n",
      "0.09263425709781388, 168.0833005527697\n"
     ]
    },
    {
     "data": {
      "image/png": "[encoded data removed]",
      "text/plain": [
       "64×64 Array{Gray{Float64},2} with eltype Gray{Float64}:\n",
       " Gray{Float64}(0.850897)  Gray{Float64}(0.850897)  …  Gray{Float64}(0.322445)\n",
       " Gray{Float64}(0.850899)  Gray{Float64}(0.850898)     Gray{Float64}(0.216131)\n",
       " Gray{Float64}(0.850904)  Gray{Float64}(0.850905)     Gray{Float64}(0.21613) \n",
       " Gray{Float64}(0.850912)  Gray{Float64}(0.850914)     Gray{Float64}(0.216136)\n",
       " Gray{Float64}(0.85092)   Gray{Float64}(0.850921)     Gray{Float64}(0.158362)\n",
       " Gray{Float64}(0.850926)  Gray{Float64}(0.850928)  …  Gray{Float64}(0.158362)\n",
       " Gray{Float64}(0.85093)   Gray{Float64}(0.850931)     Gray{Float64}(0.15836) \n",
       " Gray{Float64}(0.850935)  Gray{Float64}(0.850936)     Gray{Float64}(0.158361)\n",
       " Gray{Float64}(0.850941)  Gray{Float64}(0.850942)     Gray{Float64}(0.158331)\n",
       " Gray{Float64}(0.850946)  Gray{Float64}(0.850946)     Gray{Float64}(0.158644)\n",
       " Gray{Float64}(0.850954)  Gray{Float64}(0.850953)  …  Gray{Float64}(0.154379)\n",
       " Gray{Float64}(0.850964)  Gray{Float64}(0.850967)     Gray{Float64}(0.154382)\n",
       " Gray{Float64}(0.85097)   Gray{Float64}(0.850974)     Gray{Float64}(0.154385)\n",
       " ⋮                                                 ⋱                         \n",
       " Gray{Float64}(0.841164)  Gray{Float64}(0.841165)     Gray{Float64}(0.183214)\n",
       " Gray{Float64}(0.841163)  Gray{Float64}(0.841163)     Gray{Float64}(0.183199)\n",
       " Gray{Float64}(0.84116)   Gray{Float64}(0.84116)      Gray{Float64}(0.183193)\n",
       " Gray{Float64}(0.841159)  Gray{Float64}(0.841159)  …  Gray{Float64}(0.18319) \n",
       " Gray{Float64}(0.841161)  Gray{Float64}(0.841162)     Gray{Float64}(0.183188)\n",
       " Gray{Float64}(0.841163)  Gray{Float64}(0.841163)     Gray{Float64}(0.186636)\n",
       " Gray{Float64}(0.841163)  Gray{Float64}(0.841162)     Gray{Float64}(0.195215)\n",
       " Gray{Float64}(0.841165)  Gray{Float64}(0.841163)     Gray{Float64}(0.195212)\n",
       " Gray{Float64}(0.841169)  Gray{Float64}(0.841167)  …  Gray{Float64}(0.209959)\n",
       " Gray{Float64}(0.841176)  Gray{Float64}(0.841176)     Gray{Float64}(0.226015)\n",
       " Gray{Float64}(0.84118)   Gray{Float64}(0.841179)     Gray{Float64}(0.353104)\n",
       " Gray{Float64}(0.522497)  Gray{Float64}(0.844209)     Gray{Float64}(0.686731)"
      ]
     },
     "execution_count": 262,
     "metadata": {},
     "output_type": "execute_result"
    }
   ],
   "source": [
    "u_h = lower_level_solver(u,f,lambda_opt_2,K)\n",
    "println(\"$(ssim(u_h,z)), $(upper_level_cost(u_h,z,lambda_opt_2,α))\")\n",
    "println(\"$(ssim(f,z)), $(upper_level_cost(f,z,lambda_opt_2,α))\")\n",
    "Gray.(u_h)"
   ]
  },
  {
   "cell_type": "code",
   "execution_count": 278,
   "metadata": {},
   "outputs": [
    {
     "name": "stdout",
     "output_type": "stream",
     "text": [
      "TR Iteration 1: \trho_k = 3.241, radius = 1.0, lambda = 7.0, g_k = 22.806, s_k = -1.0, H_k = 1.0\n",
      "TR Iteration 2: \t * rho_k = 1.712, radius = 1.5, lambda = 6.0, g_k = 39.028, s_k = -1.5, H_k = 1.0\n",
      "TR Iteration 3: \t * rho_k = 1.218, radius = 2.25, lambda = 4.5, g_k = 47.125, s_k = -2.25, H_k = 1.0\n",
      "TR Iteration 4: \trho_k = -0.114, radius = 3.375, lambda = 2.25, g_k = 45.766, s_k = -2.25, H_k = 0.6\n",
      "TR Iteration 5: \t * rho_k = 0.988, radius = 1.6875, lambda = 2.25, g_k = 45.768, s_k = -1.687, H_k = 0.6\n",
      "TR Iteration 6: \trho_k = -4.197, radius = 2.5312, lambda = 0.5625, g_k = 39.817, s_k = -0.563, H_k = 10.58\n",
      "TR Iteration 7: \trho_k = -3.884, radius = 1.2656, lambda = 0.5625, g_k = 39.814, s_k = -0.563, H_k = 0.01\n",
      "TR Iteration 8: \t * rho_k = -3.884, radius = 0.6328, lambda = 0.5625, g_k = 39.814, s_k = -0.563, H_k = 0.01\n",
      "TR Iteration 9: \trho_k = 0.968, radius = 0.3164, lambda = 0.5625, g_k = 39.814, s_k = -0.316, H_k = 0.0\n",
      "TR Iteration 10: \t * rho_k = -10.008, radius = 0.4746, lambda = 0.2461, g_k = 40.267, s_k = -0.246, H_k = 0.0\n",
      "TR Iteration 11: \t * rho_k = -9.093, radius = 0.2373, lambda = 0.2461, g_k = 40.286, s_k = -0.237, H_k = 0.0\n",
      "TR Iteration 12: \trho_k = -1.501, radius = 0.1187, lambda = 0.2461, g_k = 40.284, s_k = -0.119, H_k = 0.01\n",
      "TR Iteration 13: \t * rho_k = -0.092, radius = 0.0593, lambda = 0.2461, g_k = 40.291, s_k = -0.059, H_k = 0.01\n",
      "TR Iteration 14: \trho_k = 0.303, radius = 0.0297, lambda = 0.2461, g_k = 40.276, s_k = -0.03, H_k = 0.5\n",
      "TR Iteration 15: \trho_k = -0.544, radius = 0.0297, lambda = 0.2164, g_k = 37.419, s_k = -0.03, H_k = 96.34\n",
      "TR Iteration 16: \trho_k = -0.258, radius = 0.0148, lambda = 0.2164, g_k = 37.407, s_k = -0.015, H_k = 0.76\n",
      "TR Iteration 17: \t * rho_k = -0.134, radius = 0.0074, lambda = 0.2164, g_k = 37.426, s_k = -0.007, H_k = 0.76\n",
      "TR Iteration 18: \trho_k = -0.077, radius = 0.0037, lambda = 0.2164, g_k = 37.399, s_k = -0.004, H_k = 7.21\n",
      "TR Iteration 19: \t * rho_k = -0.047, radius = 0.0019, lambda = 0.2164, g_k = 37.405, s_k = -0.002, H_k = 7.21\n",
      "TR Iteration 20: \t * rho_k = -0.031, radius = 0.0009, lambda = 0.2164, g_k = 37.408, s_k = -0.001, H_k = 7.21\n",
      "TR Iteration 21: \trho_k = -0.019, radius = 0.0005, lambda = 0.2164, g_k = 37.396, s_k = -0.0, H_k = 25.18\n",
      "TR Iteration 22: \t * rho_k = -0.01, radius = 0.0002, lambda = 0.2164, g_k = 37.397, s_k = -0.0, H_k = 25.18\n",
      "TR Iteration 23: \t * rho_k = -0.021, radius = 0.0001, lambda = 0.2164, g_k = 37.408, s_k = -0.0, H_k = 25.18\n",
      "TR Iteration 24: \trho_k = -0.044, radius = 0.0001, lambda = 0.2164, g_k = 37.39, s_k = -0.0, H_k = 305.78\n",
      "TR Iteration 25: \t * rho_k = -0.075, radius = 0.0, lambda = 0.2164, g_k = 37.391, s_k = -0.0, H_k = 305.78\n",
      "TR Iteration 26: \t * rho_k = -0.102, radius = 0.0, lambda = 0.2164, g_k = 37.399, s_k = -0.0, H_k = 305.78\n"
     ]
    },
    {
     "data": {
      "text/plain": [
       "0.21643081413660997"
      ]
     },
     "execution_count": 278,
     "metadata": {},
     "output_type": "execute_result"
    }
   ],
   "source": [
    "model = 3\n",
    "lambda_opt_3 = trust_region_solver(lower_level_solver,upper_level_cost,lambda_0,α,f,z,radius_0,tol,model)"
   ]
  },
  {
   "cell_type": "code",
   "execution_count": 279,
   "metadata": {},
   "outputs": [
    {
     "name": "stdout",
     "output_type": "stream",
     "text": [
      "0.40846715824324087, 68.55034023162735\n",
      "0.09263425709781388, 168.0833005527697\n"
     ]
    },
    {
     "data": {
      "image/png": "[encoded data removed]",
      "text/plain": [
       "64×64 Array{Gray{Float64},2} with eltype Gray{Float64}:\n",
       " Gray{Float64}(0.850897)  Gray{Float64}(0.850897)  …  Gray{Float64}(0.322445)\n",
       " Gray{Float64}(0.850898)  Gray{Float64}(0.850898)     Gray{Float64}(0.216131)\n",
       " Gray{Float64}(0.850904)  Gray{Float64}(0.850904)     Gray{Float64}(0.21613) \n",
       " Gray{Float64}(0.850912)  Gray{Float64}(0.850914)     Gray{Float64}(0.216136)\n",
       " Gray{Float64}(0.850919)  Gray{Float64}(0.850921)     Gray{Float64}(0.158362)\n",
       " Gray{Float64}(0.850925)  Gray{Float64}(0.850927)  …  Gray{Float64}(0.158362)\n",
       " Gray{Float64}(0.85093)   Gray{Float64}(0.85093)      Gray{Float64}(0.15836) \n",
       " Gray{Float64}(0.850935)  Gray{Float64}(0.850936)     Gray{Float64}(0.158361)\n",
       " Gray{Float64}(0.85094)   Gray{Float64}(0.850942)     Gray{Float64}(0.158331)\n",
       " Gray{Float64}(0.850946)  Gray{Float64}(0.850946)     Gray{Float64}(0.158644)\n",
       " Gray{Float64}(0.850953)  Gray{Float64}(0.850953)  …  Gray{Float64}(0.154378)\n",
       " Gray{Float64}(0.850964)  Gray{Float64}(0.850967)     Gray{Float64}(0.154382)\n",
       " Gray{Float64}(0.85097)   Gray{Float64}(0.850973)     Gray{Float64}(0.154386)\n",
       " ⋮                                                 ⋱                         \n",
       " Gray{Float64}(0.841165)  Gray{Float64}(0.841165)     Gray{Float64}(0.183214)\n",
       " Gray{Float64}(0.841163)  Gray{Float64}(0.841163)     Gray{Float64}(0.183199)\n",
       " Gray{Float64}(0.84116)   Gray{Float64}(0.84116)      Gray{Float64}(0.183193)\n",
       " Gray{Float64}(0.841158)  Gray{Float64}(0.841159)  …  Gray{Float64}(0.18319) \n",
       " Gray{Float64}(0.841161)  Gray{Float64}(0.841162)     Gray{Float64}(0.183188)\n",
       " Gray{Float64}(0.841163)  Gray{Float64}(0.841164)     Gray{Float64}(0.186636)\n",
       " Gray{Float64}(0.841163)  Gray{Float64}(0.841163)     Gray{Float64}(0.195215)\n",
       " Gray{Float64}(0.841164)  Gray{Float64}(0.841163)     Gray{Float64}(0.195212)\n",
       " Gray{Float64}(0.841169)  Gray{Float64}(0.841168)  …  Gray{Float64}(0.209959)\n",
       " Gray{Float64}(0.841177)  Gray{Float64}(0.841176)     Gray{Float64}(0.226015)\n",
       " Gray{Float64}(0.84118)   Gray{Float64}(0.84118)      Gray{Float64}(0.353104)\n",
       " Gray{Float64}(0.522497)  Gray{Float64}(0.844209)     Gray{Float64}(0.686731)"
      ]
     },
     "execution_count": 279,
     "metadata": {},
     "output_type": "execute_result"
    }
   ],
   "source": [
    "u_h = lower_level_solver(u,f,lambda_opt_3,K)\n",
    "println(\"$(ssim(u_h,z)), $(upper_level_cost(u_h,z,lambda_opt_3,α))\")\n",
    "println(\"$(ssim(f,z)), $(upper_level_cost(f,z,lambda_opt_3,α))\")\n",
    "Gray.(u_h)"
   ]
  },
  {
   "cell_type": "code",
   "execution_count": 127,
   "metadata": {},
   "outputs": [
    {
     "name": "stdout",
     "output_type": "stream",
     "text": [
      "0.6938079902043084\n",
      "0.5237925111569598\n"
     ]
    },
    {
     "data": {
      "image/png": "[encoded data removed]",
      "text/plain": [
       "20×20 Array{Gray{Float64},2} with eltype Gray{Float64}:\n",
       " Gray{Float64}(0.863857)  …  Gray{Float64}(0.0268375)\n",
       " Gray{Float64}(0.967833)     Gray{Float64}(0.0268376)\n",
       " Gray{Float64}(0.967833)     Gray{Float64}(0.025792) \n",
       " Gray{Float64}(0.967833)     Gray{Float64}(0.0543769)\n",
       " Gray{Float64}(0.957714)     Gray{Float64}(0.0254073)\n",
       " Gray{Float64}(0.957714)  …  Gray{Float64}(0.0254073)\n",
       " Gray{Float64}(0.957714)     Gray{Float64}(0.0418868)\n",
       " Gray{Float64}(0.957714)     Gray{Float64}(0.076456) \n",
       " Gray{Float64}(0.879272)     Gray{Float64}(0.0281129)\n",
       " Gray{Float64}(0.971471)     Gray{Float64}(0.0281129)\n",
       " Gray{Float64}(0.971471)  …  Gray{Float64}(0.0254968)\n",
       " Gray{Float64}(0.971471)     Gray{Float64}(0.0254968)\n",
       " Gray{Float64}(0.971471)     Gray{Float64}(0.0254968)\n",
       " Gray{Float64}(0.971471)     Gray{Float64}(0.0254968)\n",
       " Gray{Float64}(0.971471)     Gray{Float64}(0.0258033)\n",
       " Gray{Float64}(0.971471)  …  Gray{Float64}(0.0258033)\n",
       " Gray{Float64}(0.971471)     Gray{Float64}(0.0258033)\n",
       " Gray{Float64}(0.971471)     Gray{Float64}(0.0277746)\n",
       " Gray{Float64}(0.971471)     Gray{Float64}(0.0847228)\n",
       " Gray{Float64}(0.971471)     Gray{Float64}(0.964536) "
      ]
     },
     "execution_count": 127,
     "metadata": {},
     "output_type": "execute_result"
    }
   ],
   "source": [
    "u_h = lower_level_solver(u,f,0.035,K)\n",
    "println(ssim(u_h,z))\n",
    "println(ssim(f,z))\n",
    "Gray.(u_h)"
   ]
  },
  {
   "cell_type": "code",
   "execution_count": null,
   "metadata": {},
   "outputs": [],
   "source": []
  }
 ],
 "metadata": {
  "@webio": {
   "lastCommId": null,
   "lastKernelId": null
  },
  "kernelspec": {
   "display_name": "Julia 1.2.0",
   "language": "julia",
   "name": "julia-1.2"
  },
  "language_info": {
   "file_extension": ".jl",
   "mimetype": "application/julia",
   "name": "julia",
   "version": "1.2.0"
  }
 },
 "nbformat": 4,
 "nbformat_minor": 2
}
