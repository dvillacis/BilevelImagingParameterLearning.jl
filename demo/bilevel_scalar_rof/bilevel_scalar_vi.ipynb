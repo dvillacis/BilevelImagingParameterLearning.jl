{
 "cells": [
  {
   "cell_type": "markdown",
   "metadata": {},
   "source": [
    "# Bilevel ROF Scalar Parameter Learning\n",
    "In this notebook we will propose an optimal parameter learning methodology for getting the optimal parameter for the scalar ROF image denoising model.\n",
    "\n",
    "$$\n",
    "\\min \\|\\bar{u}-z\\|^2 + \\frac{\\alpha}{2}\\|\\lambda\\|^2\\\\\n",
    "\\text{s.t. }\\lambda \\langle \\bar{u},v-\\bar{u} \\rangle + \\|\\mathbb{K}v\\|_{2,1} - \\|\\mathbb{K}\\bar{u}\\|_{2,1} \\ge \\langle f,v-\\bar{u} \\rangle\n",
    "$$\n",
    "\n",
    "where $\\|\\cdot\\|_{2,1}$ is the Total Variation seminorm."
   ]
  },
  {
   "cell_type": "code",
   "execution_count": 1,
   "metadata": {},
   "outputs": [],
   "source": [
    "using LinearAlgebra, StructuredOptimization, AbstractOperators, Plots, Distributed, Images, ImageQualityIndexes"
   ]
  },
  {
   "cell_type": "markdown",
   "metadata": {},
   "source": [
    "## Cost Function and Lower Level Solver"
   ]
  },
  {
   "cell_type": "code",
   "execution_count": 2,
   "metadata": {},
   "outputs": [
    {
     "data": {
      "text/plain": [
       "upper_level_cost (generic function with 1 method)"
      ]
     },
     "execution_count": 2,
     "metadata": {},
     "output_type": "execute_result"
    }
   ],
   "source": [
    "# Lower Level Solver\n",
    "function lower_level_solver(u,f,λ,K)\n",
    "    @minimize λ*ls(-(1/λ)*K'*u+f) + conj(norm(u,2,1,2)) with ForwardBackward(tol = 1e-7, gamma = 1/8, fast = true) \n",
    "    return -(1/λ)*K'*(~u)+f\n",
    "end\n",
    "\n",
    "# Upper level cost\n",
    "function upper_level_cost(u,z,λ,α)\n",
    "    return 0.5*norm(u[:]-z[:])^2 + 0.5*α*norm(λ)^2 #PSNR\n",
    "end"
   ]
  },
  {
   "cell_type": "code",
   "execution_count": 3,
   "metadata": {},
   "outputs": [],
   "source": [
    "m,n = 32,32\n",
    "f = tril(ones(m,n)) + 0.2*randn(m,n)\n",
    "f[f .< 0] .= 0.\n",
    "f[f .> 1] .= 1.\n",
    "z = tril(ones(m,n));"
   ]
  },
  {
   "cell_type": "code",
   "execution_count": 4,
   "metadata": {},
   "outputs": [
    {
     "data": {
      "image/png": "[encoded data removed]",
      "text/plain": [
       "32×32 Array{Gray{Float64},2} with eltype Gray{Float64}:\n",
       " Gray{Float64}(1.0)       …  Gray{Float64}(0.0)      \n",
       " Gray{Float64}(1.0)          Gray{Float64}(0.0)      \n",
       " Gray{Float64}(1.0)          Gray{Float64}(0.0)      \n",
       " Gray{Float64}(1.0)          Gray{Float64}(0.0390016)\n",
       " Gray{Float64}(1.0)          Gray{Float64}(0.0)      \n",
       " Gray{Float64}(0.857458)  …  Gray{Float64}(0.408823) \n",
       " Gray{Float64}(0.868878)     Gray{Float64}(0.0)      \n",
       " Gray{Float64}(1.0)          Gray{Float64}(0.0)      \n",
       " Gray{Float64}(0.757044)     Gray{Float64}(0.0)      \n",
       " Gray{Float64}(0.889286)     Gray{Float64}(0.379934) \n",
       " Gray{Float64}(1.0)       …  Gray{Float64}(0.407432) \n",
       " Gray{Float64}(0.993885)     Gray{Float64}(0.0720363)\n",
       " Gray{Float64}(0.922415)     Gray{Float64}(0.428553) \n",
       " ⋮                        ⋱                          \n",
       " Gray{Float64}(1.0)       …  Gray{Float64}(0.0)      \n",
       " Gray{Float64}(0.615993)     Gray{Float64}(0.0798904)\n",
       " Gray{Float64}(0.871978)     Gray{Float64}(0.143476) \n",
       " Gray{Float64}(0.720683)     Gray{Float64}(0.118131) \n",
       " Gray{Float64}(1.0)          Gray{Float64}(0.0)      \n",
       " Gray{Float64}(0.831986)  …  Gray{Float64}(0.253218) \n",
       " Gray{Float64}(0.768567)     Gray{Float64}(0.325287) \n",
       " Gray{Float64}(0.624543)     Gray{Float64}(0.0)      \n",
       " Gray{Float64}(0.743644)     Gray{Float64}(0.0)      \n",
       " Gray{Float64}(0.966054)     Gray{Float64}(0.0)      \n",
       " Gray{Float64}(0.839486)  …  Gray{Float64}(0.282575) \n",
       " Gray{Float64}(0.910815)     Gray{Float64}(1.0)      "
      ]
     },
     "execution_count": 4,
     "metadata": {},
     "output_type": "execute_result"
    }
   ],
   "source": [
    "Gray.(f)"
   ]
  },
  {
   "cell_type": "code",
   "execution_count": 5,
   "metadata": {},
   "outputs": [
    {
     "data": {
      "image/png": "[encoded data removed]",
      "text/plain": [
       "32×32 Array{Gray{Float64},2} with eltype Gray{Float64}:\n",
       " Gray{Float64}(1.0)  Gray{Float64}(0.0)  …  Gray{Float64}(0.0)\n",
       " Gray{Float64}(1.0)  Gray{Float64}(1.0)     Gray{Float64}(0.0)\n",
       " Gray{Float64}(1.0)  Gray{Float64}(1.0)     Gray{Float64}(0.0)\n",
       " Gray{Float64}(1.0)  Gray{Float64}(1.0)     Gray{Float64}(0.0)\n",
       " Gray{Float64}(1.0)  Gray{Float64}(1.0)     Gray{Float64}(0.0)\n",
       " Gray{Float64}(1.0)  Gray{Float64}(1.0)  …  Gray{Float64}(0.0)\n",
       " Gray{Float64}(1.0)  Gray{Float64}(1.0)     Gray{Float64}(0.0)\n",
       " Gray{Float64}(1.0)  Gray{Float64}(1.0)     Gray{Float64}(0.0)\n",
       " Gray{Float64}(1.0)  Gray{Float64}(1.0)     Gray{Float64}(0.0)\n",
       " Gray{Float64}(1.0)  Gray{Float64}(1.0)     Gray{Float64}(0.0)\n",
       " Gray{Float64}(1.0)  Gray{Float64}(1.0)  …  Gray{Float64}(0.0)\n",
       " Gray{Float64}(1.0)  Gray{Float64}(1.0)     Gray{Float64}(0.0)\n",
       " Gray{Float64}(1.0)  Gray{Float64}(1.0)     Gray{Float64}(0.0)\n",
       " ⋮                                       ⋱                    \n",
       " Gray{Float64}(1.0)  Gray{Float64}(1.0)  …  Gray{Float64}(0.0)\n",
       " Gray{Float64}(1.0)  Gray{Float64}(1.0)     Gray{Float64}(0.0)\n",
       " Gray{Float64}(1.0)  Gray{Float64}(1.0)     Gray{Float64}(0.0)\n",
       " Gray{Float64}(1.0)  Gray{Float64}(1.0)     Gray{Float64}(0.0)\n",
       " Gray{Float64}(1.0)  Gray{Float64}(1.0)     Gray{Float64}(0.0)\n",
       " Gray{Float64}(1.0)  Gray{Float64}(1.0)  …  Gray{Float64}(0.0)\n",
       " Gray{Float64}(1.0)  Gray{Float64}(1.0)     Gray{Float64}(0.0)\n",
       " Gray{Float64}(1.0)  Gray{Float64}(1.0)     Gray{Float64}(0.0)\n",
       " Gray{Float64}(1.0)  Gray{Float64}(1.0)     Gray{Float64}(0.0)\n",
       " Gray{Float64}(1.0)  Gray{Float64}(1.0)     Gray{Float64}(0.0)\n",
       " Gray{Float64}(1.0)  Gray{Float64}(1.0)  …  Gray{Float64}(0.0)\n",
       " Gray{Float64}(1.0)  Gray{Float64}(1.0)     Gray{Float64}(1.0)"
      ]
     },
     "execution_count": 5,
     "metadata": {},
     "output_type": "execute_result"
    }
   ],
   "source": [
    "Gray.(z)"
   ]
  },
  {
   "cell_type": "code",
   "execution_count": 6,
   "metadata": {},
   "outputs": [
    {
     "data": {
      "text/plain": [
       "0.01"
      ]
     },
     "execution_count": 6,
     "metadata": {},
     "output_type": "execute_result"
    }
   ],
   "source": [
    "K = Variation(size(f))\n",
    "u = Variable(size(K,1)...)\n",
    "α = 1e-2"
   ]
  },
  {
   "cell_type": "code",
   "execution_count": 7,
   "metadata": {},
   "outputs": [
    {
     "name": "stdout",
     "output_type": "stream",
     "text": [
      "0.5887432070347631, 6.190833685249614\n",
      "0.26898381661383636, 11.157986711701495\n"
     ]
    },
    {
     "data": {
      "image/png": "[encoded data removed]",
      "text/plain": [
       "32×32 Array{Gray{Float64},2} with eltype Gray{Float64}:\n",
       " Gray{Float64}(0.832198)  …  Gray{Float64}(0.0796327)\n",
       " Gray{Float64}(0.882868)     Gray{Float64}(0.0796327)\n",
       " Gray{Float64}(0.904902)     Gray{Float64}(0.0796327)\n",
       " Gray{Float64}(0.904903)     Gray{Float64}(0.0796327)\n",
       " Gray{Float64}(0.904903)     Gray{Float64}(0.0796327)\n",
       " Gray{Float64}(0.904902)  …  Gray{Float64}(0.113782) \n",
       " Gray{Float64}(0.904902)     Gray{Float64}(0.0883406)\n",
       " Gray{Float64}(0.904902)     Gray{Float64}(0.0883406)\n",
       " Gray{Float64}(0.904902)     Gray{Float64}(0.0884301)\n",
       " Gray{Float64}(0.904902)     Gray{Float64}(0.195462) \n",
       " Gray{Float64}(0.905109)  …  Gray{Float64}(0.189623) \n",
       " Gray{Float64}(0.905109)     Gray{Float64}(0.135129) \n",
       " Gray{Float64}(0.905109)     Gray{Float64}(0.153055) \n",
       " ⋮                        ⋱                          \n",
       " Gray{Float64}(0.905109)  …  Gray{Float64}(0.0907437)\n",
       " Gray{Float64}(0.905109)     Gray{Float64}(0.0912178)\n",
       " Gray{Float64}(0.905109)     Gray{Float64}(0.0912179)\n",
       " Gray{Float64}(0.905109)     Gray{Float64}(0.0912179)\n",
       " Gray{Float64}(0.909111)     Gray{Float64}(0.0912179)\n",
       " Gray{Float64}(0.909111)  …  Gray{Float64}(0.107465) \n",
       " Gray{Float64}(0.909111)     Gray{Float64}(0.109051) \n",
       " Gray{Float64}(0.909111)     Gray{Float64}(0.109051) \n",
       " Gray{Float64}(0.909111)     Gray{Float64}(0.109051) \n",
       " Gray{Float64}(0.909111)     Gray{Float64}(0.131518) \n",
       " Gray{Float64}(0.909111)  …  Gray{Float64}(0.440355) \n",
       " Gray{Float64}(0.909111)     Gray{Float64}(0.883827) "
      ]
     },
     "execution_count": 7,
     "metadata": {},
     "output_type": "execute_result"
    }
   ],
   "source": [
    "u_h = lower_level_solver(u,f,8,K)\n",
    "println(\"$(ssim(u_h,z)), $(upper_level_cost(u_h,z,10,α))\")\n",
    "println(\"$(ssim(f,z)), $(upper_level_cost(f,z,10,α))\")\n",
    "Gray.(u_h)"
   ]
  },
  {
   "cell_type": "code",
   "execution_count": 209,
   "metadata": {},
   "outputs": [
    {
     "name": "stdout",
     "output_type": "stream",
     "text": [
      "12.0, "
     ]
    },
    {
     "data": {
      "text/plain": [
       "Task (done) @0x000000011aaaead0"
      ]
     },
     "execution_count": 209,
     "metadata": {},
     "output_type": "execute_result"
    }
   ],
   "source": [
    "step = 0.1\n",
    "lambda_min = 9.0\n",
    "lambda_max = 12.0\n",
    "lambda_range = lambda_min:step:lambda_max\n",
    "costs = Float64[]\n",
    "ssims = Float64[]\n",
    "@distributed for λ in lambda_range\n",
    "    u_h = lower_level_solver(u,f,λ,K)\n",
    "    push!(costs,upper_level_cost(u_h,z,λ,α))\n",
    "    push!(ssims,ssim(u_h,z))\n",
    "    if λ == lambda_range[end]\n",
    "        print(\"$(round(λ,digits=3)), \")\n",
    "    end\n",
    "end"
   ]
  },
  {
   "cell_type": "code",
   "execution_count": 212,
   "metadata": {},
   "outputs": [
    {
     "data": {
      "image/svg+xml": [
       "<?xml version=\"1.0\" encoding=\"utf-8\"?>\n",
       "<svg xmlns=\"http://www.w3.org/2000/svg\" xmlns:xlink=\"http://www.w3.org/1999/xlink\" width=\"600\" height=\"400\" viewBox=\"0 0 2400 1600\">\n",
       "<defs>\n",
       "  <clipPath id=\"clip0500\">\n",
       "    <rect x=\"0\" y=\"0\" width=\"2400\" height=\"1600\"/>\n",
       "  </clipPath>\n",
       "</defs>\n",
       "<path clip-path=\"url(#clip0500)\" d=\"\n",
       "M0 1600 L2400 1600 L2400 0 L0 0  Z\n",
       "  \" fill=\"#fffff0\" fill-rule=\"evenodd\" fill-opacity=\"1\"/>\n",
       "<defs>\n",
       "  <clipPath id=\"clip0501\">\n",
       "    <rect x=\"480\" y=\"0\" width=\"1681\" height=\"1600\"/>\n",
       "  </clipPath>\n",
       "</defs>\n",
       "<path clip-path=\"url(#clip0500)\" d=\"\n",
       "M180.66 1487.47 L2352.76 1487.47 L2352.76 47.2441 L180.66 47.2441  Z\n",
       "  \" fill=\"#fffff0\" fill-rule=\"evenodd\" fill-opacity=\"1\"/>\n",
       "<defs>\n",
       "  <clipPath id=\"clip0502\">\n",
       "    <rect x=\"180\" y=\"47\" width=\"2173\" height=\"1441\"/>\n",
       "  </clipPath>\n",
       "</defs>\n",
       "<polyline clip-path=\"url(#clip0502)\" style=\"stroke:#000000; stroke-width:2; stroke-opacity:0.1; fill:none\" points=\"\n",
       "  242.135,1487.47 242.135,47.2441 \n",
       "  \"/>\n",
       "<polyline clip-path=\"url(#clip0502)\" style=\"stroke:#000000; stroke-width:2; stroke-opacity:0.1; fill:none\" points=\"\n",
       "  583.659,1487.47 583.659,47.2441 \n",
       "  \"/>\n",
       "<polyline clip-path=\"url(#clip0502)\" style=\"stroke:#000000; stroke-width:2; stroke-opacity:0.1; fill:none\" points=\"\n",
       "  925.184,1487.47 925.184,47.2441 \n",
       "  \"/>\n",
       "<polyline clip-path=\"url(#clip0502)\" style=\"stroke:#000000; stroke-width:2; stroke-opacity:0.1; fill:none\" points=\"\n",
       "  1266.71,1487.47 1266.71,47.2441 \n",
       "  \"/>\n",
       "<polyline clip-path=\"url(#clip0502)\" style=\"stroke:#000000; stroke-width:2; stroke-opacity:0.1; fill:none\" points=\"\n",
       "  1608.23,1487.47 1608.23,47.2441 \n",
       "  \"/>\n",
       "<polyline clip-path=\"url(#clip0502)\" style=\"stroke:#000000; stroke-width:2; stroke-opacity:0.1; fill:none\" points=\"\n",
       "  1949.76,1487.47 1949.76,47.2441 \n",
       "  \"/>\n",
       "<polyline clip-path=\"url(#clip0502)\" style=\"stroke:#000000; stroke-width:2; stroke-opacity:0.1; fill:none\" points=\"\n",
       "  2291.28,1487.47 2291.28,47.2441 \n",
       "  \"/>\n",
       "<polyline clip-path=\"url(#clip0502)\" style=\"stroke:#000000; stroke-width:2; stroke-opacity:0.1; fill:none\" points=\"\n",
       "  180.66,1280.28 2352.76,1280.28 \n",
       "  \"/>\n",
       "<polyline clip-path=\"url(#clip0502)\" style=\"stroke:#000000; stroke-width:2; stroke-opacity:0.1; fill:none\" points=\"\n",
       "  180.66,880.465 2352.76,880.465 \n",
       "  \"/>\n",
       "<polyline clip-path=\"url(#clip0502)\" style=\"stroke:#000000; stroke-width:2; stroke-opacity:0.1; fill:none\" points=\"\n",
       "  180.66,480.648 2352.76,480.648 \n",
       "  \"/>\n",
       "<polyline clip-path=\"url(#clip0502)\" style=\"stroke:#000000; stroke-width:2; stroke-opacity:0.1; fill:none\" points=\"\n",
       "  180.66,80.8309 2352.76,80.8309 \n",
       "  \"/>\n",
       "<polyline clip-path=\"url(#clip0500)\" style=\"stroke:#000000; stroke-width:4; stroke-opacity:1; fill:none\" points=\"\n",
       "  180.66,1487.47 2352.76,1487.47 \n",
       "  \"/>\n",
       "<polyline clip-path=\"url(#clip0500)\" style=\"stroke:#000000; stroke-width:4; stroke-opacity:1; fill:none\" points=\"\n",
       "  180.66,1487.47 180.66,47.2441 \n",
       "  \"/>\n",
       "<polyline clip-path=\"url(#clip0500)\" style=\"stroke:#000000; stroke-width:4; stroke-opacity:1; fill:none\" points=\"\n",
       "  242.135,1487.47 242.135,1465.87 \n",
       "  \"/>\n",
       "<polyline clip-path=\"url(#clip0500)\" style=\"stroke:#000000; stroke-width:4; stroke-opacity:1; fill:none\" points=\"\n",
       "  583.659,1487.47 583.659,1465.87 \n",
       "  \"/>\n",
       "<polyline clip-path=\"url(#clip0500)\" style=\"stroke:#000000; stroke-width:4; stroke-opacity:1; fill:none\" points=\"\n",
       "  925.184,1487.47 925.184,1465.87 \n",
       "  \"/>\n",
       "<polyline clip-path=\"url(#clip0500)\" style=\"stroke:#000000; stroke-width:4; stroke-opacity:1; fill:none\" points=\"\n",
       "  1266.71,1487.47 1266.71,1465.87 \n",
       "  \"/>\n",
       "<polyline clip-path=\"url(#clip0500)\" style=\"stroke:#000000; stroke-width:4; stroke-opacity:1; fill:none\" points=\"\n",
       "  1608.23,1487.47 1608.23,1465.87 \n",
       "  \"/>\n",
       "<polyline clip-path=\"url(#clip0500)\" style=\"stroke:#000000; stroke-width:4; stroke-opacity:1; fill:none\" points=\"\n",
       "  1949.76,1487.47 1949.76,1465.87 \n",
       "  \"/>\n",
       "<polyline clip-path=\"url(#clip0500)\" style=\"stroke:#000000; stroke-width:4; stroke-opacity:1; fill:none\" points=\"\n",
       "  2291.28,1487.47 2291.28,1465.87 \n",
       "  \"/>\n",
       "<polyline clip-path=\"url(#clip0500)\" style=\"stroke:#000000; stroke-width:4; stroke-opacity:1; fill:none\" points=\"\n",
       "  180.66,1280.28 213.242,1280.28 \n",
       "  \"/>\n",
       "<polyline clip-path=\"url(#clip0500)\" style=\"stroke:#000000; stroke-width:4; stroke-opacity:1; fill:none\" points=\"\n",
       "  180.66,880.465 213.242,880.465 \n",
       "  \"/>\n",
       "<polyline clip-path=\"url(#clip0500)\" style=\"stroke:#000000; stroke-width:4; stroke-opacity:1; fill:none\" points=\"\n",
       "  180.66,480.648 213.242,480.648 \n",
       "  \"/>\n",
       "<polyline clip-path=\"url(#clip0500)\" style=\"stroke:#000000; stroke-width:4; stroke-opacity:1; fill:none\" points=\"\n",
       "  180.66,80.8309 213.242,80.8309 \n",
       "  \"/>\n",
       "<g clip-path=\"url(#clip0500)\">\n",
       "<text style=\"fill:#000000; fill-opacity:1; font-family:Arial,Helvetica Neue,Helvetica,sans-serif; font-size:48px; text-anchor:middle;\" transform=\"rotate(0, 242.135, 1541.47)\" x=\"242.135\" y=\"1541.47\">9.0</text>\n",
       "</g>\n",
       "<g clip-path=\"url(#clip0500)\">\n",
       "<text style=\"fill:#000000; fill-opacity:1; font-family:Arial,Helvetica Neue,Helvetica,sans-serif; font-size:48px; text-anchor:middle;\" transform=\"rotate(0, 583.659, 1541.47)\" x=\"583.659\" y=\"1541.47\">9.5</text>\n",
       "</g>\n",
       "<g clip-path=\"url(#clip0500)\">\n",
       "<text style=\"fill:#000000; fill-opacity:1; font-family:Arial,Helvetica Neue,Helvetica,sans-serif; font-size:48px; text-anchor:middle;\" transform=\"rotate(0, 925.184, 1541.47)\" x=\"925.184\" y=\"1541.47\">10.0</text>\n",
       "</g>\n",
       "<g clip-path=\"url(#clip0500)\">\n",
       "<text style=\"fill:#000000; fill-opacity:1; font-family:Arial,Helvetica Neue,Helvetica,sans-serif; font-size:48px; text-anchor:middle;\" transform=\"rotate(0, 1266.71, 1541.47)\" x=\"1266.71\" y=\"1541.47\">10.5</text>\n",
       "</g>\n",
       "<g clip-path=\"url(#clip0500)\">\n",
       "<text style=\"fill:#000000; fill-opacity:1; font-family:Arial,Helvetica Neue,Helvetica,sans-serif; font-size:48px; text-anchor:middle;\" transform=\"rotate(0, 1608.23, 1541.47)\" x=\"1608.23\" y=\"1541.47\">11.0</text>\n",
       "</g>\n",
       "<g clip-path=\"url(#clip0500)\">\n",
       "<text style=\"fill:#000000; fill-opacity:1; font-family:Arial,Helvetica Neue,Helvetica,sans-serif; font-size:48px; text-anchor:middle;\" transform=\"rotate(0, 1949.76, 1541.47)\" x=\"1949.76\" y=\"1541.47\">11.5</text>\n",
       "</g>\n",
       "<g clip-path=\"url(#clip0500)\">\n",
       "<text style=\"fill:#000000; fill-opacity:1; font-family:Arial,Helvetica Neue,Helvetica,sans-serif; font-size:48px; text-anchor:middle;\" transform=\"rotate(0, 2291.28, 1541.47)\" x=\"2291.28\" y=\"1541.47\">12.0</text>\n",
       "</g>\n",
       "<g clip-path=\"url(#clip0500)\">\n",
       "<text style=\"fill:#000000; fill-opacity:1; font-family:Arial,Helvetica Neue,Helvetica,sans-serif; font-size:48px; text-anchor:end;\" transform=\"rotate(0, 156.66, 1297.78)\" x=\"156.66\" y=\"1297.78\">5.95</text>\n",
       "</g>\n",
       "<g clip-path=\"url(#clip0500)\">\n",
       "<text style=\"fill:#000000; fill-opacity:1; font-family:Arial,Helvetica Neue,Helvetica,sans-serif; font-size:48px; text-anchor:end;\" transform=\"rotate(0, 156.66, 897.965)\" x=\"156.66\" y=\"897.965\">6.00</text>\n",
       "</g>\n",
       "<g clip-path=\"url(#clip0500)\">\n",
       "<text style=\"fill:#000000; fill-opacity:1; font-family:Arial,Helvetica Neue,Helvetica,sans-serif; font-size:48px; text-anchor:end;\" transform=\"rotate(0, 156.66, 498.148)\" x=\"156.66\" y=\"498.148\">6.05</text>\n",
       "</g>\n",
       "<g clip-path=\"url(#clip0500)\">\n",
       "<text style=\"fill:#000000; fill-opacity:1; font-family:Arial,Helvetica Neue,Helvetica,sans-serif; font-size:48px; text-anchor:end;\" transform=\"rotate(0, 156.66, 98.3309)\" x=\"156.66\" y=\"98.3309\">6.10</text>\n",
       "</g>\n",
       "<polyline clip-path=\"url(#clip0502)\" style=\"stroke:#009af9; stroke-width:4; stroke-opacity:1; fill:none\" points=\"\n",
       "  242.135,1369.93 310.44,1396.5 378.745,1417.45 447.049,1432.73 515.354,1442.43 583.659,1446.71 651.964,1445.66 720.269,1439.36 788.574,1427.97 856.879,1411.04 \n",
       "  925.184,1389.26 993.489,1362.81 1061.79,1331.83 1130.1,1296.5 1198.4,1257.33 1266.71,1213.97 1335.01,1166.36 1403.32,1114.54 1471.62,1058.54 1539.93,998.44 \n",
       "  1608.23,934.381 1676.54,866.348 1744.84,794.467 1813.15,718.814 1881.45,639.468 1949.76,556.407 2018.06,469.704 2086.37,379.438 2154.67,285.643 2222.98,188.465 \n",
       "  2291.28,88.0053 \n",
       "  \"/>\n",
       "<path clip-path=\"url(#clip0500)\" d=\"\n",
       "M1952.48 251.724 L2280.76 251.724 L2280.76 130.764 L1952.48 130.764  Z\n",
       "  \" fill=\"#fffff0\" fill-rule=\"evenodd\" fill-opacity=\"1\"/>\n",
       "<polyline clip-path=\"url(#clip0500)\" style=\"stroke:#000000; stroke-width:4; stroke-opacity:1; fill:none\" points=\"\n",
       "  1952.48,251.724 2280.76,251.724 2280.76,130.764 1952.48,130.764 1952.48,251.724 \n",
       "  \"/>\n",
       "<polyline clip-path=\"url(#clip0500)\" style=\"stroke:#009af9; stroke-width:4; stroke-opacity:1; fill:none\" points=\"\n",
       "  1976.48,191.244 2120.48,191.244 \n",
       "  \"/>\n",
       "<g clip-path=\"url(#clip0500)\">\n",
       "<text style=\"fill:#000000; fill-opacity:1; font-family:Arial,Helvetica Neue,Helvetica,sans-serif; font-size:48px; text-anchor:start;\" transform=\"rotate(0, 2144.48, 208.744)\" x=\"2144.48\" y=\"208.744\">cost</text>\n",
       "</g>\n",
       "</svg>\n"
      ]
     },
     "execution_count": 212,
     "metadata": {},
     "output_type": "execute_result"
    }
   ],
   "source": [
    "plot(lambda_range,costs,label=\"cost\",xticks = 0:0.5:lambda_max, background_color = :ivory)"
   ]
  },
  {
   "cell_type": "code",
   "execution_count": 10,
   "metadata": {},
   "outputs": [
    {
     "data": {
      "image/svg+xml": [
       "<?xml version=\"1.0\" encoding=\"utf-8\"?>\n",
       "<svg xmlns=\"http://www.w3.org/2000/svg\" xmlns:xlink=\"http://www.w3.org/1999/xlink\" width=\"600\" height=\"400\" viewBox=\"0 0 2400 1600\">\n",
       "<defs>\n",
       "  <clipPath id=\"clip6100\">\n",
       "    <rect x=\"0\" y=\"0\" width=\"2400\" height=\"1600\"/>\n",
       "  </clipPath>\n",
       "</defs>\n",
       "<path clip-path=\"url(#clip6100)\" d=\"\n",
       "M0 1600 L2400 1600 L2400 0 L0 0  Z\n",
       "  \" fill=\"#fffff0\" fill-rule=\"evenodd\" fill-opacity=\"1\"/>\n",
       "<defs>\n",
       "  <clipPath id=\"clip6101\">\n",
       "    <rect x=\"480\" y=\"0\" width=\"1681\" height=\"1600\"/>\n",
       "  </clipPath>\n",
       "</defs>\n",
       "<path clip-path=\"url(#clip6100)\" d=\"\n",
       "M207.423 1487.47 L2352.76 1487.47 L2352.76 47.2441 L207.423 47.2441  Z\n",
       "  \" fill=\"#fffff0\" fill-rule=\"evenodd\" fill-opacity=\"1\"/>\n",
       "<defs>\n",
       "  <clipPath id=\"clip6102\">\n",
       "    <rect x=\"207\" y=\"47\" width=\"2146\" height=\"1441\"/>\n",
       "  </clipPath>\n",
       "</defs>\n",
       "<polyline clip-path=\"url(#clip6102)\" style=\"stroke:#000000; stroke-width:2; stroke-opacity:0.1; fill:none\" points=\"\n",
       "  268.14,1487.47 268.14,47.2441 \n",
       "  \"/>\n",
       "<polyline clip-path=\"url(#clip6102)\" style=\"stroke:#000000; stroke-width:2; stroke-opacity:0.1; fill:none\" points=\"\n",
       "  774.114,1487.47 774.114,47.2441 \n",
       "  \"/>\n",
       "<polyline clip-path=\"url(#clip6102)\" style=\"stroke:#000000; stroke-width:2; stroke-opacity:0.1; fill:none\" points=\"\n",
       "  1280.09,1487.47 1280.09,47.2441 \n",
       "  \"/>\n",
       "<polyline clip-path=\"url(#clip6102)\" style=\"stroke:#000000; stroke-width:2; stroke-opacity:0.1; fill:none\" points=\"\n",
       "  1786.06,1487.47 1786.06,47.2441 \n",
       "  \"/>\n",
       "<polyline clip-path=\"url(#clip6102)\" style=\"stroke:#000000; stroke-width:2; stroke-opacity:0.1; fill:none\" points=\"\n",
       "  2292.04,1487.47 2292.04,47.2441 \n",
       "  \"/>\n",
       "<polyline clip-path=\"url(#clip6102)\" style=\"stroke:#000000; stroke-width:2; stroke-opacity:0.1; fill:none\" points=\"\n",
       "  207.423,1449.33 2352.76,1449.33 \n",
       "  \"/>\n",
       "<polyline clip-path=\"url(#clip6102)\" style=\"stroke:#000000; stroke-width:2; stroke-opacity:0.1; fill:none\" points=\"\n",
       "  207.423,1449.33 2352.76,1449.33 \n",
       "  \"/>\n",
       "<polyline clip-path=\"url(#clip6102)\" style=\"stroke:#000000; stroke-width:2; stroke-opacity:0.1; fill:none\" points=\"\n",
       "  207.423,1449.33 2352.76,1449.33 \n",
       "  \"/>\n",
       "<polyline clip-path=\"url(#clip6102)\" style=\"stroke:#000000; stroke-width:2; stroke-opacity:0.1; fill:none\" points=\"\n",
       "  207.423,852.324 2352.76,852.324 \n",
       "  \"/>\n",
       "<polyline clip-path=\"url(#clip6102)\" style=\"stroke:#000000; stroke-width:2; stroke-opacity:0.1; fill:none\" points=\"\n",
       "  207.423,255.316 2352.76,255.316 \n",
       "  \"/>\n",
       "<polyline clip-path=\"url(#clip6102)\" style=\"stroke:#000000; stroke-width:2; stroke-opacity:0.1; fill:none\" points=\"\n",
       "  207.423,255.316 2352.76,255.316 \n",
       "  \"/>\n",
       "<polyline clip-path=\"url(#clip6102)\" style=\"stroke:#000000; stroke-width:2; stroke-opacity:0.1; fill:none\" points=\"\n",
       "  207.423,255.316 2352.76,255.316 \n",
       "  \"/>\n",
       "<polyline clip-path=\"url(#clip6100)\" style=\"stroke:#000000; stroke-width:4; stroke-opacity:1; fill:none\" points=\"\n",
       "  207.423,1487.47 2352.76,1487.47 \n",
       "  \"/>\n",
       "<polyline clip-path=\"url(#clip6100)\" style=\"stroke:#000000; stroke-width:4; stroke-opacity:1; fill:none\" points=\"\n",
       "  207.423,1487.47 207.423,47.2441 \n",
       "  \"/>\n",
       "<polyline clip-path=\"url(#clip6100)\" style=\"stroke:#000000; stroke-width:4; stroke-opacity:1; fill:none\" points=\"\n",
       "  268.14,1487.47 268.14,1465.87 \n",
       "  \"/>\n",
       "<polyline clip-path=\"url(#clip6100)\" style=\"stroke:#000000; stroke-width:4; stroke-opacity:1; fill:none\" points=\"\n",
       "  774.114,1487.47 774.114,1465.87 \n",
       "  \"/>\n",
       "<polyline clip-path=\"url(#clip6100)\" style=\"stroke:#000000; stroke-width:4; stroke-opacity:1; fill:none\" points=\"\n",
       "  1280.09,1487.47 1280.09,1465.87 \n",
       "  \"/>\n",
       "<polyline clip-path=\"url(#clip6100)\" style=\"stroke:#000000; stroke-width:4; stroke-opacity:1; fill:none\" points=\"\n",
       "  1786.06,1487.47 1786.06,1465.87 \n",
       "  \"/>\n",
       "<polyline clip-path=\"url(#clip6100)\" style=\"stroke:#000000; stroke-width:4; stroke-opacity:1; fill:none\" points=\"\n",
       "  2292.04,1487.47 2292.04,1465.87 \n",
       "  \"/>\n",
       "<polyline clip-path=\"url(#clip6100)\" style=\"stroke:#000000; stroke-width:4; stroke-opacity:1; fill:none\" points=\"\n",
       "  207.423,1449.33 239.603,1449.33 \n",
       "  \"/>\n",
       "<polyline clip-path=\"url(#clip6100)\" style=\"stroke:#000000; stroke-width:4; stroke-opacity:1; fill:none\" points=\"\n",
       "  207.423,1449.33 239.603,1449.33 \n",
       "  \"/>\n",
       "<polyline clip-path=\"url(#clip6100)\" style=\"stroke:#000000; stroke-width:4; stroke-opacity:1; fill:none\" points=\"\n",
       "  207.423,1449.33 239.603,1449.33 \n",
       "  \"/>\n",
       "<polyline clip-path=\"url(#clip6100)\" style=\"stroke:#000000; stroke-width:4; stroke-opacity:1; fill:none\" points=\"\n",
       "  207.423,852.324 239.603,852.324 \n",
       "  \"/>\n",
       "<polyline clip-path=\"url(#clip6100)\" style=\"stroke:#000000; stroke-width:4; stroke-opacity:1; fill:none\" points=\"\n",
       "  207.423,255.316 239.603,255.316 \n",
       "  \"/>\n",
       "<polyline clip-path=\"url(#clip6100)\" style=\"stroke:#000000; stroke-width:4; stroke-opacity:1; fill:none\" points=\"\n",
       "  207.423,255.316 239.603,255.316 \n",
       "  \"/>\n",
       "<polyline clip-path=\"url(#clip6100)\" style=\"stroke:#000000; stroke-width:4; stroke-opacity:1; fill:none\" points=\"\n",
       "  207.423,255.316 239.603,255.316 \n",
       "  \"/>\n",
       "<g clip-path=\"url(#clip6100)\">\n",
       "<text style=\"fill:#000000; fill-opacity:1; font-family:Arial,Helvetica Neue,Helvetica,sans-serif; font-size:48px; text-anchor:middle;\" transform=\"rotate(0, 268.14, 1541.47)\" x=\"268.14\" y=\"1541.47\">9.40</text>\n",
       "</g>\n",
       "<g clip-path=\"url(#clip6100)\">\n",
       "<text style=\"fill:#000000; fill-opacity:1; font-family:Arial,Helvetica Neue,Helvetica,sans-serif; font-size:48px; text-anchor:middle;\" transform=\"rotate(0, 774.114, 1541.47)\" x=\"774.114\" y=\"1541.47\">9.45</text>\n",
       "</g>\n",
       "<g clip-path=\"url(#clip6100)\">\n",
       "<text style=\"fill:#000000; fill-opacity:1; font-family:Arial,Helvetica Neue,Helvetica,sans-serif; font-size:48px; text-anchor:middle;\" transform=\"rotate(0, 1280.09, 1541.47)\" x=\"1280.09\" y=\"1541.47\">9.50</text>\n",
       "</g>\n",
       "<g clip-path=\"url(#clip6100)\">\n",
       "<text style=\"fill:#000000; fill-opacity:1; font-family:Arial,Helvetica Neue,Helvetica,sans-serif; font-size:48px; text-anchor:middle;\" transform=\"rotate(0, 1786.06, 1541.47)\" x=\"1786.06\" y=\"1541.47\">9.55</text>\n",
       "</g>\n",
       "<g clip-path=\"url(#clip6100)\">\n",
       "<text style=\"fill:#000000; fill-opacity:1; font-family:Arial,Helvetica Neue,Helvetica,sans-serif; font-size:48px; text-anchor:middle;\" transform=\"rotate(0, 2292.04, 1541.47)\" x=\"2292.04\" y=\"1541.47\">9.60</text>\n",
       "</g>\n",
       "<g clip-path=\"url(#clip6100)\">\n",
       "<text style=\"fill:#000000; fill-opacity:1; font-family:Arial,Helvetica Neue,Helvetica,sans-serif; font-size:48px; text-anchor:end;\" transform=\"rotate(0, 183.423, 1466.83)\" x=\"183.423\" y=\"1466.83\">0.580</text>\n",
       "</g>\n",
       "<g clip-path=\"url(#clip6100)\">\n",
       "<text style=\"fill:#000000; fill-opacity:1; font-family:Arial,Helvetica Neue,Helvetica,sans-serif; font-size:48px; text-anchor:end;\" transform=\"rotate(0, 183.423, 1466.83)\" x=\"183.423\" y=\"1466.83\">0.580</text>\n",
       "</g>\n",
       "<g clip-path=\"url(#clip6100)\">\n",
       "<text style=\"fill:#000000; fill-opacity:1; font-family:Arial,Helvetica Neue,Helvetica,sans-serif; font-size:48px; text-anchor:end;\" transform=\"rotate(0, 183.423, 1466.83)\" x=\"183.423\" y=\"1466.83\">0.580</text>\n",
       "</g>\n",
       "<g clip-path=\"url(#clip6100)\">\n",
       "<text style=\"fill:#000000; fill-opacity:1; font-family:Arial,Helvetica Neue,Helvetica,sans-serif; font-size:48px; text-anchor:end;\" transform=\"rotate(0, 183.423, 869.824)\" x=\"183.423\" y=\"869.824\">0.581</text>\n",
       "</g>\n",
       "<g clip-path=\"url(#clip6100)\">\n",
       "<text style=\"fill:#000000; fill-opacity:1; font-family:Arial,Helvetica Neue,Helvetica,sans-serif; font-size:48px; text-anchor:end;\" transform=\"rotate(0, 183.423, 272.816)\" x=\"183.423\" y=\"272.816\">0.582</text>\n",
       "</g>\n",
       "<g clip-path=\"url(#clip6100)\">\n",
       "<text style=\"fill:#000000; fill-opacity:1; font-family:Arial,Helvetica Neue,Helvetica,sans-serif; font-size:48px; text-anchor:end;\" transform=\"rotate(0, 183.423, 272.816)\" x=\"183.423\" y=\"272.816\">0.582</text>\n",
       "</g>\n",
       "<g clip-path=\"url(#clip6100)\">\n",
       "<text style=\"fill:#000000; fill-opacity:1; font-family:Arial,Helvetica Neue,Helvetica,sans-serif; font-size:48px; text-anchor:end;\" transform=\"rotate(0, 183.423, 272.816)\" x=\"183.423\" y=\"272.816\">0.582</text>\n",
       "</g>\n",
       "<polyline clip-path=\"url(#clip6102)\" style=\"stroke:#009af9; stroke-width:4; stroke-opacity:1; fill:none\" points=\"\n",
       "  268.14,88.0053 278.259,94.4955 288.379,100.814 298.498,106.934 308.618,113.003 318.737,119.059 328.857,125.119 338.976,131.15 349.096,137.245 359.215,143.341 \n",
       "  369.335,149.444 379.454,155.555 389.574,161.673 399.693,167.798 409.813,173.934 419.932,180.077 430.052,186.226 440.171,192.386 450.291,198.552 460.41,204.725 \n",
       "  470.53,210.906 480.649,217.097 490.769,223.295 500.888,229.5 511.008,235.712 521.127,241.934 531.247,248.163 541.366,254.4 551.486,260.643 561.605,266.897 \n",
       "  571.725,273.158 581.844,279.425 591.964,285.701 602.083,291.987 612.203,298.278 622.322,304.578 632.442,310.885 642.561,317.201 652.68,323.524 662.8,329.854 \n",
       "  672.919,336.192 683.039,342.537 693.158,348.892 703.278,355.253 713.397,361.622 723.517,367.998 733.636,374.384 743.756,380.776 753.875,387.176 763.995,393.583 \n",
       "  774.114,399.997 784.234,406.422 794.353,412.853 804.473,419.291 814.592,425.732 824.712,432.188 834.831,438.65 844.951,445.118 855.07,451.597 865.19,458.082 \n",
       "  875.309,464.573 885.429,471.074 895.548,477.584 905.668,484.101 915.787,490.625 925.907,497.155 936.026,503.694 946.146,510.241 956.265,516.795 966.385,523.355 \n",
       "  976.504,529.922 986.624,536.497 996.743,543.082 1006.86,549.673 1016.98,556.27 1027.1,562.875 1037.22,569.488 1047.34,576.107 1057.46,582.737 1067.58,589.373 \n",
       "  1077.7,596.021 1087.82,602.678 1097.94,609.342 1108.06,616.016 1118.18,622.696 1128.3,629.382 1138.42,636.076 1148.54,642.778 1158.66,649.489 1168.77,656.215 \n",
       "  1178.89,662.941 1189.01,669.687 1199.13,676.431 1209.25,683.179 1219.37,689.935 1229.49,696.697 1239.61,703.466 1249.73,710.242 1259.85,717.026 1269.97,723.819 \n",
       "  1280.09,730.619 1290.21,737.425 1300.33,744.239 1310.45,751.059 1320.57,757.887 1330.69,764.725 1340.81,771.572 1350.93,778.424 1361.05,785.285 1371.16,792.152 \n",
       "  1381.28,799.025 1391.4,805.905 1401.52,812.791 1411.64,819.686 1421.76,826.587 1431.88,833.499 1442,840.416 1452.12,847.34 1462.24,854.271 1472.36,861.212 \n",
       "  1482.48,868.159 1492.6,875.112 1502.72,882.072 1512.84,889.039 1522.96,896.012 1533.08,902.997 1543.2,909.986 1553.32,916.983 1563.44,923.986 1573.55,930.996 \n",
       "  1583.67,938.016 1593.79,945.042 1603.91,952.074 1614.03,959.113 1624.15,966.159 1634.27,973.216 1644.39,980.278 1654.51,987.346 1664.63,994.421 1674.75,1001.5 \n",
       "  1684.87,1008.59 1694.99,1015.69 1705.11,1022.8 1715.23,1029.9 1725.35,1037.02 1735.47,1044.13 1745.59,1051.26 1755.71,1058.39 1765.83,1065.53 1775.94,1072.68 \n",
       "  1786.06,1079.84 1796.18,1087 1806.3,1094.17 1816.42,1101.35 1826.54,1108.51 1836.66,1115.63 1846.78,1122.79 1856.9,1129.98 1867.02,1137.19 1877.14,1144.41 \n",
       "  1887.26,1151.64 1897.38,1158.88 1907.5,1166.12 1917.62,1173.37 1927.74,1180.63 1937.86,1187.9 1947.98,1195.17 1958.1,1202.45 1968.22,1209.74 1978.33,1217.03 \n",
       "  1988.45,1224.33 1998.57,1231.64 2008.69,1238.96 2018.81,1246.28 2028.93,1253.61 2039.05,1260.94 2049.17,1268.29 2059.29,1275.64 2069.41,1282.99 2079.53,1290.36 \n",
       "  2089.65,1297.73 2099.77,1305.1 2109.89,1312.49 2120.01,1319.88 2130.13,1327.28 2140.25,1334.75 2150.37,1342.07 2160.49,1349.56 2170.6,1356.92 2180.72,1364.42 \n",
       "  2190.84,1371.84 2200.96,1379.3 2211.08,1386.76 2221.2,1394.22 2231.32,1401.74 2241.44,1409.14 2251.56,1416.7 2261.68,1424.11 2271.8,1431.69 2281.92,1439.12 \n",
       "  2292.04,1446.71 \n",
       "  \"/>\n",
       "<path clip-path=\"url(#clip6100)\" d=\"\n",
       "M1952.48 1343.47 L2280.76 1343.47 L2280.76 1222.51 L1952.48 1222.51  Z\n",
       "  \" fill=\"#fffff0\" fill-rule=\"evenodd\" fill-opacity=\"1\"/>\n",
       "<polyline clip-path=\"url(#clip6100)\" style=\"stroke:#000000; stroke-width:4; stroke-opacity:1; fill:none\" points=\"\n",
       "  1952.48,1343.47 2280.76,1343.47 2280.76,1222.51 1952.48,1222.51 1952.48,1343.47 \n",
       "  \"/>\n",
       "<polyline clip-path=\"url(#clip6100)\" style=\"stroke:#009af9; stroke-width:4; stroke-opacity:1; fill:none\" points=\"\n",
       "  1976.48,1282.99 2120.48,1282.99 \n",
       "  \"/>\n",
       "<g clip-path=\"url(#clip6100)\">\n",
       "<text style=\"fill:#000000; fill-opacity:1; font-family:Arial,Helvetica Neue,Helvetica,sans-serif; font-size:48px; text-anchor:start;\" transform=\"rotate(0, 2144.48, 1300.49)\" x=\"2144.48\" y=\"1300.49\">cost</text>\n",
       "</g>\n",
       "</svg>\n"
      ]
     },
     "execution_count": 10,
     "metadata": {},
     "output_type": "execute_result"
    }
   ],
   "source": [
    "plot(lambda_range,ssims,label=\"cost\",xticks = 0:0.05:lambda_max, background_color = :ivory, legend=:bottomright)"
   ]
  },
  {
   "cell_type": "markdown",
   "metadata": {},
   "source": [
    "## Gradient Calculation\n",
    "Let us consider a reduced cost function\n",
    "\n",
    "$$\n",
    "j(\\lambda) = \\frac{1}{2}\\|S(\\lambda)-z\\|^2+\\frac{\\alpha}{2}\\|\\lambda\\|^2,\n",
    "$$\n",
    "\n",
    "its directional derivative will be given by\n",
    "\n",
    "$$\n",
    "j'(\\lambda)h = \\langle S(\\lambda)-z, S'(\\lambda)h \\rangle + \\alpha \\langle \\lambda, h \\rangle\n",
    "$$"
   ]
  },
  {
   "cell_type": "code",
   "execution_count": 246,
   "metadata": {},
   "outputs": [
    {
     "data": {
      "text/plain": [
       "gradient_solver (generic function with 2 methods)"
      ]
     },
     "execution_count": 246,
     "metadata": {},
     "output_type": "execute_result"
    }
   ],
   "source": [
    "include(\"gradient_solver.jl\")"
   ]
  },
  {
   "cell_type": "code",
   "execution_count": 250,
   "metadata": {},
   "outputs": [
    {
     "data": {
      "text/plain": [
       "-0.01616785436747728"
      ]
     },
     "execution_count": 250,
     "metadata": {},
     "output_type": "execute_result"
    }
   ],
   "source": [
    "λ = 10\n",
    "radius = 10\n",
    "∇ = gradient_matrix(size(f))\n",
    "u_h= lower_level_solver(u,f,λ,K)\n",
    "grad = gradient_solver(u_h,f,z,λ,α,K,∇,radius)"
   ]
  },
  {
   "cell_type": "code",
   "execution_count": 251,
   "metadata": {},
   "outputs": [
    {
     "name": "stdout",
     "output_type": "stream",
     "text": [
      "10.0, "
     ]
    },
    {
     "data": {
      "text/plain": [
       "Task (done) @0x000000011aabed10"
      ]
     },
     "execution_count": 251,
     "metadata": {},
     "output_type": "execute_result"
    }
   ],
   "source": [
    "step = 0.5\n",
    "lambda_max = 12.0\n",
    "lambda_min = 8\n",
    "lambda_range = lambda_min:step:lambda_max\n",
    "grads = Float64[]\n",
    "@distributed for λ in lambda_range\n",
    "    u_h = lower_level_solver(u,f,λ,K)\n",
    "    g = gradient_solver(u_h,f,z,λ,α,K,∇,radius)\n",
    "    push!(grads,g)\n",
    "    if λ % 5 == 0\n",
    "        print(\"$(round(λ,digits=3)), \")\n",
    "    end\n",
    "end"
   ]
  },
  {
   "cell_type": "code",
   "execution_count": 252,
   "metadata": {},
   "outputs": [
    {
     "data": {
      "image/svg+xml": [
       "<?xml version=\"1.0\" encoding=\"utf-8\"?>\n",
       "<svg xmlns=\"http://www.w3.org/2000/svg\" xmlns:xlink=\"http://www.w3.org/1999/xlink\" width=\"600\" height=\"400\" viewBox=\"0 0 2400 1600\">\n",
       "<defs>\n",
       "  <clipPath id=\"clip3700\">\n",
       "    <rect x=\"0\" y=\"0\" width=\"2400\" height=\"1600\"/>\n",
       "  </clipPath>\n",
       "</defs>\n",
       "<path clip-path=\"url(#clip3700)\" d=\"\n",
       "M0 1600 L2400 1600 L2400 0 L0 0  Z\n",
       "  \" fill=\"#fffff0\" fill-rule=\"evenodd\" fill-opacity=\"1\"/>\n",
       "<defs>\n",
       "  <clipPath id=\"clip3701\">\n",
       "    <rect x=\"480\" y=\"0\" width=\"1681\" height=\"1600\"/>\n",
       "  </clipPath>\n",
       "</defs>\n",
       "<path clip-path=\"url(#clip3700)\" d=\"\n",
       "M208.77 1487.47 L2352.76 1487.47 L2352.76 47.2441 L208.77 47.2441  Z\n",
       "  \" fill=\"#fffff0\" fill-rule=\"evenodd\" fill-opacity=\"1\"/>\n",
       "<defs>\n",
       "  <clipPath id=\"clip3702\">\n",
       "    <rect x=\"208\" y=\"47\" width=\"2145\" height=\"1441\"/>\n",
       "  </clipPath>\n",
       "</defs>\n",
       "<polyline clip-path=\"url(#clip3702)\" style=\"stroke:#000000; stroke-width:2; stroke-opacity:0.1; fill:none\" points=\"\n",
       "  269.449,1487.47 269.449,47.2441 \n",
       "  \"/>\n",
       "<polyline clip-path=\"url(#clip3702)\" style=\"stroke:#000000; stroke-width:2; stroke-opacity:0.1; fill:none\" points=\"\n",
       "  775.106,1487.47 775.106,47.2441 \n",
       "  \"/>\n",
       "<polyline clip-path=\"url(#clip3702)\" style=\"stroke:#000000; stroke-width:2; stroke-opacity:0.1; fill:none\" points=\"\n",
       "  1280.76,1487.47 1280.76,47.2441 \n",
       "  \"/>\n",
       "<polyline clip-path=\"url(#clip3702)\" style=\"stroke:#000000; stroke-width:2; stroke-opacity:0.1; fill:none\" points=\"\n",
       "  1786.42,1487.47 1786.42,47.2441 \n",
       "  \"/>\n",
       "<polyline clip-path=\"url(#clip3702)\" style=\"stroke:#000000; stroke-width:2; stroke-opacity:0.1; fill:none\" points=\"\n",
       "  2292.08,1487.47 2292.08,47.2441 \n",
       "  \"/>\n",
       "<polyline clip-path=\"url(#clip3702)\" style=\"stroke:#000000; stroke-width:2; stroke-opacity:0.1; fill:none\" points=\"\n",
       "  208.77,1160.7 2352.76,1160.7 \n",
       "  \"/>\n",
       "<polyline clip-path=\"url(#clip3702)\" style=\"stroke:#000000; stroke-width:2; stroke-opacity:0.1; fill:none\" points=\"\n",
       "  208.77,830.489 2352.76,830.489 \n",
       "  \"/>\n",
       "<polyline clip-path=\"url(#clip3702)\" style=\"stroke:#000000; stroke-width:2; stroke-opacity:0.1; fill:none\" points=\"\n",
       "  208.77,500.278 2352.76,500.278 \n",
       "  \"/>\n",
       "<polyline clip-path=\"url(#clip3702)\" style=\"stroke:#000000; stroke-width:2; stroke-opacity:0.1; fill:none\" points=\"\n",
       "  208.77,170.066 2352.76,170.066 \n",
       "  \"/>\n",
       "<polyline clip-path=\"url(#clip3700)\" style=\"stroke:#000000; stroke-width:4; stroke-opacity:1; fill:none\" points=\"\n",
       "  208.77,1487.47 2352.76,1487.47 \n",
       "  \"/>\n",
       "<polyline clip-path=\"url(#clip3700)\" style=\"stroke:#000000; stroke-width:4; stroke-opacity:1; fill:none\" points=\"\n",
       "  208.77,1487.47 208.77,47.2441 \n",
       "  \"/>\n",
       "<polyline clip-path=\"url(#clip3700)\" style=\"stroke:#000000; stroke-width:4; stroke-opacity:1; fill:none\" points=\"\n",
       "  269.449,1487.47 269.449,1465.87 \n",
       "  \"/>\n",
       "<polyline clip-path=\"url(#clip3700)\" style=\"stroke:#000000; stroke-width:4; stroke-opacity:1; fill:none\" points=\"\n",
       "  775.106,1487.47 775.106,1465.87 \n",
       "  \"/>\n",
       "<polyline clip-path=\"url(#clip3700)\" style=\"stroke:#000000; stroke-width:4; stroke-opacity:1; fill:none\" points=\"\n",
       "  1280.76,1487.47 1280.76,1465.87 \n",
       "  \"/>\n",
       "<polyline clip-path=\"url(#clip3700)\" style=\"stroke:#000000; stroke-width:4; stroke-opacity:1; fill:none\" points=\"\n",
       "  1786.42,1487.47 1786.42,1465.87 \n",
       "  \"/>\n",
       "<polyline clip-path=\"url(#clip3700)\" style=\"stroke:#000000; stroke-width:4; stroke-opacity:1; fill:none\" points=\"\n",
       "  2292.08,1487.47 2292.08,1465.87 \n",
       "  \"/>\n",
       "<polyline clip-path=\"url(#clip3700)\" style=\"stroke:#000000; stroke-width:4; stroke-opacity:1; fill:none\" points=\"\n",
       "  208.77,1160.7 240.93,1160.7 \n",
       "  \"/>\n",
       "<polyline clip-path=\"url(#clip3700)\" style=\"stroke:#000000; stroke-width:4; stroke-opacity:1; fill:none\" points=\"\n",
       "  208.77,830.489 240.93,830.489 \n",
       "  \"/>\n",
       "<polyline clip-path=\"url(#clip3700)\" style=\"stroke:#000000; stroke-width:4; stroke-opacity:1; fill:none\" points=\"\n",
       "  208.77,500.278 240.93,500.278 \n",
       "  \"/>\n",
       "<polyline clip-path=\"url(#clip3700)\" style=\"stroke:#000000; stroke-width:4; stroke-opacity:1; fill:none\" points=\"\n",
       "  208.77,170.066 240.93,170.066 \n",
       "  \"/>\n",
       "<g clip-path=\"url(#clip3700)\">\n",
       "<text style=\"fill:#000000; fill-opacity:1; font-family:Arial,Helvetica Neue,Helvetica,sans-serif; font-size:48px; text-anchor:middle;\" transform=\"rotate(0, 269.449, 1541.47)\" x=\"269.449\" y=\"1541.47\">8</text>\n",
       "</g>\n",
       "<g clip-path=\"url(#clip3700)\">\n",
       "<text style=\"fill:#000000; fill-opacity:1; font-family:Arial,Helvetica Neue,Helvetica,sans-serif; font-size:48px; text-anchor:middle;\" transform=\"rotate(0, 775.106, 1541.47)\" x=\"775.106\" y=\"1541.47\">9</text>\n",
       "</g>\n",
       "<g clip-path=\"url(#clip3700)\">\n",
       "<text style=\"fill:#000000; fill-opacity:1; font-family:Arial,Helvetica Neue,Helvetica,sans-serif; font-size:48px; text-anchor:middle;\" transform=\"rotate(0, 1280.76, 1541.47)\" x=\"1280.76\" y=\"1541.47\">10</text>\n",
       "</g>\n",
       "<g clip-path=\"url(#clip3700)\">\n",
       "<text style=\"fill:#000000; fill-opacity:1; font-family:Arial,Helvetica Neue,Helvetica,sans-serif; font-size:48px; text-anchor:middle;\" transform=\"rotate(0, 1786.42, 1541.47)\" x=\"1786.42\" y=\"1541.47\">11</text>\n",
       "</g>\n",
       "<g clip-path=\"url(#clip3700)\">\n",
       "<text style=\"fill:#000000; fill-opacity:1; font-family:Arial,Helvetica Neue,Helvetica,sans-serif; font-size:48px; text-anchor:middle;\" transform=\"rotate(0, 2292.08, 1541.47)\" x=\"2292.08\" y=\"1541.47\">12</text>\n",
       "</g>\n",
       "<g clip-path=\"url(#clip3700)\">\n",
       "<text style=\"fill:#000000; fill-opacity:1; font-family:Arial,Helvetica Neue,Helvetica,sans-serif; font-size:48px; text-anchor:end;\" transform=\"rotate(0, 184.77, 1178.2)\" x=\"184.77\" y=\"1178.2\">-0.10</text>\n",
       "</g>\n",
       "<g clip-path=\"url(#clip3700)\">\n",
       "<text style=\"fill:#000000; fill-opacity:1; font-family:Arial,Helvetica Neue,Helvetica,sans-serif; font-size:48px; text-anchor:end;\" transform=\"rotate(0, 184.77, 847.989)\" x=\"184.77\" y=\"847.989\">-0.05</text>\n",
       "</g>\n",
       "<g clip-path=\"url(#clip3700)\">\n",
       "<text style=\"fill:#000000; fill-opacity:1; font-family:Arial,Helvetica Neue,Helvetica,sans-serif; font-size:48px; text-anchor:end;\" transform=\"rotate(0, 184.77, 517.778)\" x=\"184.77\" y=\"517.778\">0.00</text>\n",
       "</g>\n",
       "<g clip-path=\"url(#clip3700)\">\n",
       "<text style=\"fill:#000000; fill-opacity:1; font-family:Arial,Helvetica Neue,Helvetica,sans-serif; font-size:48px; text-anchor:end;\" transform=\"rotate(0, 184.77, 187.566)\" x=\"184.77\" y=\"187.566\">0.05</text>\n",
       "</g>\n",
       "<polyline clip-path=\"url(#clip3702)\" style=\"stroke:#009af9; stroke-width:4; stroke-opacity:1; fill:none\" points=\"\n",
       "  269.449,1446.71 522.278,1217.68 775.106,1001.98 1027.93,819.524 1280.76,624.65 1533.59,537.984 1786.42,363.933 2039.25,270.376 2292.08,88.0053 \n",
       "  \"/>\n",
       "<path clip-path=\"url(#clip3700)\" d=\"\n",
       "M1944.44 1343.47 L2280.76 1343.47 L2280.76 1222.51 L1944.44 1222.51  Z\n",
       "  \" fill=\"#fffff0\" fill-rule=\"evenodd\" fill-opacity=\"1\"/>\n",
       "<polyline clip-path=\"url(#clip3700)\" style=\"stroke:#000000; stroke-width:4; stroke-opacity:1; fill:none\" points=\"\n",
       "  1944.44,1343.47 2280.76,1343.47 2280.76,1222.51 1944.44,1222.51 1944.44,1343.47 \n",
       "  \"/>\n",
       "<polyline clip-path=\"url(#clip3700)\" style=\"stroke:#009af9; stroke-width:4; stroke-opacity:1; fill:none\" points=\"\n",
       "  1968.44,1282.99 2112.44,1282.99 \n",
       "  \"/>\n",
       "<g clip-path=\"url(#clip3700)\">\n",
       "<text style=\"fill:#000000; fill-opacity:1; font-family:Arial,Helvetica Neue,Helvetica,sans-serif; font-size:48px; text-anchor:start;\" transform=\"rotate(0, 2136.44, 1300.49)\" x=\"2136.44\" y=\"1300.49\">grad</text>\n",
       "</g>\n",
       "</svg>\n"
      ]
     },
     "execution_count": 252,
     "metadata": {},
     "output_type": "execute_result"
    }
   ],
   "source": [
    "plot(lambda_range,grads,label=\"grad\",xticks = 0:1:lambda_max, background_color = :ivory, legend=:bottomright)\n",
    "#plot!(lambda_range,costs,label=\"cost\",xticks = 0:5:lambda_max, background_color = :ivory, legend=:bottomright)"
   ]
  },
  {
   "cell_type": "markdown",
   "metadata": {},
   "source": [
    "## Trust Region Algorithm\n",
    "We will use a nonsmooth trust region strategy to solve this problem. This method will consider a local quadratic model described by \n",
    "\n",
    "$$\n",
    "q_k(s) = j(\\lambda_k)+g_k^\\top s + \\frac{1}{2}s^\\top H_k s\n",
    "$$\n",
    "\n",
    "where $s$ is the descent direction, $g_k$ will be the gradient at iteration $k$ and $H_k$ will be a matrix with second order information that can be obtained using SR1 or BFGS method.\n",
    "The trust region radius will be $\\Delta_k$ and the actual and predicted reductions are given by\n",
    "\n",
    "$$\n",
    "ared(s_k) := j(\\lambda_k)-j(\\lambda_k+s_k),\\;pred(s_k) := j(\\lambda_k)-q_k(s_k)\n",
    "$$\n",
    "\n",
    "and the step quality will be given by the following quotient\n",
    "\n",
    "$$\n",
    "\\rho_k(s_k) = \\frac{ared(s_k)}{pred(s_k)}\n",
    "$$"
   ]
  },
  {
   "cell_type": "code",
   "execution_count": 120,
   "metadata": {},
   "outputs": [
    {
     "data": {
      "text/plain": [
       "trust_region_solver (generic function with 2 methods)"
      ]
     },
     "execution_count": 120,
     "metadata": {},
     "output_type": "execute_result"
    }
   ],
   "source": [
    "include(\"trust_region_solver.jl\")"
   ]
  },
  {
   "cell_type": "code",
   "execution_count": 129,
   "metadata": {},
   "outputs": [
    {
     "data": {
      "text/plain": [
       "1.0e-6"
      ]
     },
     "execution_count": 129,
     "metadata": {},
     "output_type": "execute_result"
    }
   ],
   "source": [
    "lambda_0 = 400\n",
    "radius_0 = 0.1\n",
    "tol = 1e-6"
   ]
  },
  {
   "cell_type": "code",
   "execution_count": 130,
   "metadata": {},
   "outputs": [
    {
     "data": {
      "text/plain": [
       "9.700001525878907"
      ]
     },
     "execution_count": 130,
     "metadata": {},
     "output_type": "execute_result"
    }
   ],
   "source": [
    "model = 1\n",
    "lambda_opt_1 = trust_region_solver(lower_level_solver,upper_level_cost,lambda_0,α,f,z,radius_0,tol,model)"
   ]
  },
  {
   "cell_type": "code",
   "execution_count": 132,
   "metadata": {},
   "outputs": [
    {
     "name": "stdout",
     "output_type": "stream",
     "text": [
      "0.5447872424972139, 5.568247248174986\n",
      "0.27781438267156516, 9.952545854823542\n"
     ]
    },
    {
     "data": {
      "image/png": "[encoded data removed]",
      "text/plain": [
       "32×32 Array{Gray{Float64},2} with eltype Gray{Float64}:\n",
       " Gray{Float64}(0.817872)  …  Gray{Float64}(0.0734258)\n",
       " Gray{Float64}(0.84696)      Gray{Float64}(0.0734259)\n",
       " Gray{Float64}(0.854988)     Gray{Float64}(0.0734264)\n",
       " Gray{Float64}(0.915502)     Gray{Float64}(0.0704919)\n",
       " Gray{Float64}(0.915673)     Gray{Float64}(0.0703413)\n",
       " Gray{Float64}(0.91691)   …  Gray{Float64}(0.0703417)\n",
       " Gray{Float64}(0.928898)     Gray{Float64}(0.0703423)\n",
       " Gray{Float64}(0.9289)       Gray{Float64}(0.0741164)\n",
       " Gray{Float64}(0.928901)     Gray{Float64}(0.0703467)\n",
       " Gray{Float64}(0.928902)     Gray{Float64}(0.0703474)\n",
       " Gray{Float64}(0.933881)  …  Gray{Float64}(0.0703478)\n",
       " Gray{Float64}(0.933877)     Gray{Float64}(0.0703474)\n",
       " Gray{Float64}(0.933874)     Gray{Float64}(0.0703474)\n",
       " ⋮                        ⋱                          \n",
       " Gray{Float64}(0.93386)   …  Gray{Float64}(0.0833766)\n",
       " Gray{Float64}(0.933858)     Gray{Float64}(0.0833749)\n",
       " Gray{Float64}(0.933856)     Gray{Float64}(0.083373) \n",
       " Gray{Float64}(0.933854)     Gray{Float64}(0.0833715)\n",
       " Gray{Float64}(0.933853)     Gray{Float64}(0.122804) \n",
       " Gray{Float64}(0.931418)  …  Gray{Float64}(0.0866241)\n",
       " Gray{Float64}(0.931418)     Gray{Float64}(0.0839581)\n",
       " Gray{Float64}(0.931418)     Gray{Float64}(0.0839617)\n",
       " Gray{Float64}(0.931417)     Gray{Float64}(0.0864941)\n",
       " Gray{Float64}(0.931417)     Gray{Float64}(0.0899547)\n",
       " Gray{Float64}(0.909494)  …  Gray{Float64}(0.190631) \n",
       " Gray{Float64}(0.911609)     Gray{Float64}(0.898712) "
      ]
     },
     "execution_count": 132,
     "metadata": {},
     "output_type": "execute_result"
    }
   ],
   "source": [
    "u_h = lower_level_solver(u,f,lambda_opt_1,K)\n",
    "println(\"$(ssim(u_h,z)), $(upper_level_cost(u_h,z,lambda_opt_1,α))\")\n",
    "println(\"$(ssim(f,z)), $(upper_level_cost(f,z,lambda_opt_1,α))\")\n",
    "Gray.(u_h)"
   ]
  },
  {
   "cell_type": "code",
   "execution_count": 133,
   "metadata": {},
   "outputs": [
    {
     "data": {
      "text/plain": [
       "10.15834042024075"
      ]
     },
     "execution_count": 133,
     "metadata": {},
     "output_type": "execute_result"
    }
   ],
   "source": [
    "model = 2 # SR1 Model\n",
    "lambda_opt_2 = trust_region_solver(lower_level_solver,upper_level_cost,lambda_0,α,f,z,radius_0,tol,model)"
   ]
  },
  {
   "cell_type": "code",
   "execution_count": 134,
   "metadata": {},
   "outputs": [
    {
     "name": "stdout",
     "output_type": "stream",
     "text": [
      "0.5381093086659319, 5.580273224372917\n",
      "0.27781438267156516, 9.998055107280763\n"
     ]
    },
    {
     "data": {
      "image/png": "[encoded data removed]",
      "text/plain": [
       "32×32 Array{Gray{Float64},2} with eltype Gray{Float64}:\n",
       " Gray{Float64}(0.821089)  …  Gray{Float64}(0.0738849)\n",
       " Gray{Float64}(0.8492)       Gray{Float64}(0.0738855)\n",
       " Gray{Float64}(0.856895)     Gray{Float64}(0.0738872)\n",
       " Gray{Float64}(0.915754)     Gray{Float64}(0.0686462)\n",
       " Gray{Float64}(0.915928)     Gray{Float64}(0.068197) \n",
       " Gray{Float64}(0.917004)  …  Gray{Float64}(0.0681966)\n",
       " Gray{Float64}(0.92914)      Gray{Float64}(0.0681964)\n",
       " Gray{Float64}(0.92914)      Gray{Float64}(0.085346) \n",
       " Gray{Float64}(0.929141)     Gray{Float64}(0.0681957)\n",
       " Gray{Float64}(0.929141)     Gray{Float64}(0.0681933)\n",
       " Gray{Float64}(0.934567)  …  Gray{Float64}(0.0681919)\n",
       " Gray{Float64}(0.934565)     Gray{Float64}(0.0681913)\n",
       " Gray{Float64}(0.934564)     Gray{Float64}(0.0681912)\n",
       " ⋮                        ⋱                          \n",
       " Gray{Float64}(0.934563)  …  Gray{Float64}(0.0819242)\n",
       " Gray{Float64}(0.934562)     Gray{Float64}(0.0819233)\n",
       " Gray{Float64}(0.934562)     Gray{Float64}(0.0819233)\n",
       " Gray{Float64}(0.934561)     Gray{Float64}(0.0819236)\n",
       " Gray{Float64}(0.934561)     Gray{Float64}(0.134014) \n",
       " Gray{Float64}(0.931834)  …  Gray{Float64}(0.0862154)\n",
       " Gray{Float64}(0.931832)     Gray{Float64}(0.0825673)\n",
       " Gray{Float64}(0.931831)     Gray{Float64}(0.0825679)\n",
       " Gray{Float64}(0.93183)      Gray{Float64}(0.0849049)\n",
       " Gray{Float64}(0.931829)     Gray{Float64}(0.087532) \n",
       " Gray{Float64}(0.90562)   …  Gray{Float64}(0.183068) \n",
       " Gray{Float64}(0.90843)      Gray{Float64}(0.903047) "
      ]
     },
     "execution_count": 134,
     "metadata": {},
     "output_type": "execute_result"
    }
   ],
   "source": [
    "u_h = lower_level_solver(u,f,lambda_opt_2,K)\n",
    "println(\"$(ssim(u_h,z)), $(upper_level_cost(u_h,z,lambda_opt_2,α))\")\n",
    "println(\"$(ssim(f,z)), $(upper_level_cost(f,z,lambda_opt_2,α))\")\n",
    "Gray.(u_h)"
   ]
  },
  {
   "cell_type": "code",
   "execution_count": 135,
   "metadata": {},
   "outputs": [
    {
     "data": {
      "text/plain": [
       "10.15834042024075"
      ]
     },
     "execution_count": 135,
     "metadata": {},
     "output_type": "execute_result"
    }
   ],
   "source": [
    "model = 3\n",
    "lambda_opt_3 = trust_region_solver(lower_level_solver,upper_level_cost,lambda_0,α,f,z,radius_0,tol,model)"
   ]
  },
  {
   "cell_type": "code",
   "execution_count": 136,
   "metadata": {},
   "outputs": [
    {
     "name": "stdout",
     "output_type": "stream",
     "text": [
      "0.5381093082540938, 5.580273224841298\n",
      "0.27781438267156516, 9.998055107280763\n"
     ]
    },
    {
     "data": {
      "image/png": "[encoded data removed]",
      "text/plain": [
       "32×32 Array{Gray{Float64},2} with eltype Gray{Float64}:\n",
       " Gray{Float64}(0.821089)  …  Gray{Float64}(0.0738849)\n",
       " Gray{Float64}(0.8492)       Gray{Float64}(0.0738854)\n",
       " Gray{Float64}(0.856895)     Gray{Float64}(0.0738872)\n",
       " Gray{Float64}(0.915754)     Gray{Float64}(0.0686462)\n",
       " Gray{Float64}(0.915928)     Gray{Float64}(0.068197) \n",
       " Gray{Float64}(0.917004)  …  Gray{Float64}(0.0681966)\n",
       " Gray{Float64}(0.92914)      Gray{Float64}(0.0681963)\n",
       " Gray{Float64}(0.92914)      Gray{Float64}(0.085346) \n",
       " Gray{Float64}(0.929141)     Gray{Float64}(0.0681957)\n",
       " Gray{Float64}(0.929141)     Gray{Float64}(0.0681933)\n",
       " Gray{Float64}(0.934567)  …  Gray{Float64}(0.0681919)\n",
       " Gray{Float64}(0.934565)     Gray{Float64}(0.0681913)\n",
       " Gray{Float64}(0.934564)     Gray{Float64}(0.0681912)\n",
       " ⋮                        ⋱                          \n",
       " Gray{Float64}(0.934563)  …  Gray{Float64}(0.0819242)\n",
       " Gray{Float64}(0.934562)     Gray{Float64}(0.0819233)\n",
       " Gray{Float64}(0.934562)     Gray{Float64}(0.0819233)\n",
       " Gray{Float64}(0.934561)     Gray{Float64}(0.0819236)\n",
       " Gray{Float64}(0.934561)     Gray{Float64}(0.134014) \n",
       " Gray{Float64}(0.931834)  …  Gray{Float64}(0.0862154)\n",
       " Gray{Float64}(0.931832)     Gray{Float64}(0.0825673)\n",
       " Gray{Float64}(0.931831)     Gray{Float64}(0.0825679)\n",
       " Gray{Float64}(0.93183)      Gray{Float64}(0.0849049)\n",
       " Gray{Float64}(0.931829)     Gray{Float64}(0.087532) \n",
       " Gray{Float64}(0.90562)   …  Gray{Float64}(0.183068) \n",
       " Gray{Float64}(0.90843)      Gray{Float64}(0.903047) "
      ]
     },
     "execution_count": 136,
     "metadata": {},
     "output_type": "execute_result"
    }
   ],
   "source": [
    "u_h = lower_level_solver(u,f,lambda_opt_3,K)\n",
    "println(\"$(ssim(u_h,z)), $(upper_level_cost(u_h,z,lambda_opt_3,α))\")\n",
    "println(\"$(ssim(f,z)), $(upper_level_cost(f,z,lambda_opt_3,α))\")\n",
    "Gray.(u_h)"
   ]
  },
  {
   "cell_type": "code",
   "execution_count": 131,
   "metadata": {},
   "outputs": [
    {
     "name": "stdout",
     "output_type": "stream",
     "text": [
      "0.5480135718275991\n",
      "0.27781438267156516\n"
     ]
    },
    {
     "data": {
      "image/png": "[encoded data removed]",
      "text/plain": [
       "32×32 Array{Gray{Float64},2} with eltype Gray{Float64}:\n",
       " Gray{Float64}(0.816177)  …  Gray{Float64}(0.0735079)\n",
       " Gray{Float64}(0.84574)      Gray{Float64}(0.073508) \n",
       " Gray{Float64}(0.853989)     Gray{Float64}(0.0735083)\n",
       " Gray{Float64}(0.915365)     Gray{Float64}(0.0714481)\n",
       " Gray{Float64}(0.915536)     Gray{Float64}(0.07139)  \n",
       " Gray{Float64}(0.916869)  …  Gray{Float64}(0.0713929)\n",
       " Gray{Float64}(0.92877)      Gray{Float64}(0.0713927)\n",
       " Gray{Float64}(0.92877)      Gray{Float64}(0.0713897)\n",
       " Gray{Float64}(0.928771)     Gray{Float64}(0.0713853)\n",
       " Gray{Float64}(0.928771)     Gray{Float64}(0.0713829)\n",
       " Gray{Float64}(0.933608)  …  Gray{Float64}(0.0713864)\n",
       " Gray{Float64}(0.933603)     Gray{Float64}(0.0713947)\n",
       " Gray{Float64}(0.9336)       Gray{Float64}(0.071401) \n",
       " ⋮                        ⋱                          \n",
       " Gray{Float64}(0.933587)  …  Gray{Float64}(0.0840353)\n",
       " Gray{Float64}(0.933586)     Gray{Float64}(0.0840344)\n",
       " Gray{Float64}(0.933586)     Gray{Float64}(0.0840341)\n",
       " Gray{Float64}(0.933586)     Gray{Float64}(0.0840343)\n",
       " Gray{Float64}(0.933586)     Gray{Float64}(0.116793) \n",
       " Gray{Float64}(0.931231)  …  Gray{Float64}(0.0868006)\n",
       " Gray{Float64}(0.931232)     Gray{Float64}(0.0845731)\n",
       " Gray{Float64}(0.931232)     Gray{Float64}(0.0845718)\n",
       " Gray{Float64}(0.931232)     Gray{Float64}(0.087241) \n",
       " Gray{Float64}(0.931231)     Gray{Float64}(0.0912062)\n",
       " Gray{Float64}(0.911319)  …  Gray{Float64}(0.194647) \n",
       " Gray{Float64}(0.913133)     Gray{Float64}(0.896396) "
      ]
     },
     "execution_count": 131,
     "metadata": {},
     "output_type": "execute_result"
    }
   ],
   "source": [
    "u_h = lower_level_solver(u,f,9.47,K)\n",
    "println(ssim(u_h,z))\n",
    "println(ssim(f,z))\n",
    "Gray.(u_h)"
   ]
  },
  {
   "cell_type": "code",
   "execution_count": null,
   "metadata": {},
   "outputs": [],
   "source": []
  }
 ],
 "metadata": {
  "@webio": {
   "lastCommId": null,
   "lastKernelId": null
  },
  "kernelspec": {
   "display_name": "Julia 1.2.0",
   "language": "julia",
   "name": "julia-1.2"
  },
  "language_info": {
   "file_extension": ".jl",
   "mimetype": "application/julia",
   "name": "julia",
   "version": "1.2.0"
  }
 },
 "nbformat": 4,
 "nbformat_minor": 2
}
