{
 "cells": [
  {
   "cell_type": "markdown",
   "metadata": {},
   "source": [
    "# Bilevel ROF Scalar Parameter Learning\n",
    "In this notebook we will propose an optimal parameter learning methodology for getting the optimal parameter for the scalar ROF image denoising model.\n",
    "\n",
    "$$\n",
    "\\min \\|\\bar{u}-z\\|^2 + \\frac{\\alpha}{2}\\|\\lambda\\|^2\\\\\n",
    "\\text{s.t. }\\lambda \\langle \\bar{u},v-\\bar{u} \\rangle + \\|\\mathbb{K}v\\|_{2,1} - \\|\\mathbb{K}\\bar{u}\\|_{2,1} \\ge \\langle f,v-\\bar{u} \\rangle\n",
    "$$\n",
    "\n",
    "where $\\|\\cdot\\|_{2,1}$ is the Total Variation seminorm."
   ]
  },
  {
   "cell_type": "code",
   "execution_count": 1,
   "metadata": {},
   "outputs": [],
   "source": [
    "using LinearAlgebra, StructuredOptimization, AbstractOperators, Plots, Distributed, Images, ImageQualityIndexes"
   ]
  },
  {
   "cell_type": "markdown",
   "metadata": {},
   "source": [
    "## Test image"
   ]
  },
  {
   "cell_type": "code",
   "execution_count": 2,
   "metadata": {},
   "outputs": [],
   "source": [
    "m,n = 32,32\n",
    "f = tril(ones(m,n)) + 0.2*randn(m,n)\n",
    "f[f .< 0] .= 0.\n",
    "f[f .> 1] .= 1.\n",
    "z = tril(ones(m,n));"
   ]
  },
  {
   "cell_type": "code",
   "execution_count": 3,
   "metadata": {},
   "outputs": [
    {
     "data": {
      "image/png": "[encoded data removed]",
      "text/plain": [
       "32×32 Array{Gray{Float64},2} with eltype Gray{Float64}:\n",
       " Gray{Float64}(0.891258)  …  Gray{Float64}(0.178075)  \n",
       " Gray{Float64}(0.9695)       Gray{Float64}(0.23143)   \n",
       " Gray{Float64}(1.0)          Gray{Float64}(0.164612)  \n",
       " Gray{Float64}(0.922138)     Gray{Float64}(0.0)       \n",
       " Gray{Float64}(0.895497)     Gray{Float64}(0.0)       \n",
       " Gray{Float64}(1.0)       …  Gray{Float64}(0.160209)  \n",
       " Gray{Float64}(0.919779)     Gray{Float64}(0.071098)  \n",
       " Gray{Float64}(1.0)          Gray{Float64}(0.0)       \n",
       " Gray{Float64}(1.0)          Gray{Float64}(0.111979)  \n",
       " Gray{Float64}(0.774019)     Gray{Float64}(0.264584)  \n",
       " Gray{Float64}(1.0)       …  Gray{Float64}(0.0)       \n",
       " Gray{Float64}(0.786736)     Gray{Float64}(0.146191)  \n",
       " Gray{Float64}(0.9905)       Gray{Float64}(0.297634)  \n",
       " ⋮                        ⋱                           \n",
       " Gray{Float64}(0.774991)  …  Gray{Float64}(0.0325961) \n",
       " Gray{Float64}(1.0)          Gray{Float64}(0.0)       \n",
       " Gray{Float64}(0.998741)     Gray{Float64}(0.00844619)\n",
       " Gray{Float64}(0.796764)     Gray{Float64}(0.0630341) \n",
       " Gray{Float64}(1.0)          Gray{Float64}(0.0)       \n",
       " Gray{Float64}(1.0)       …  Gray{Float64}(0.110656)  \n",
       " Gray{Float64}(1.0)          Gray{Float64}(0.0)       \n",
       " Gray{Float64}(0.819176)     Gray{Float64}(0.0)       \n",
       " Gray{Float64}(1.0)          Gray{Float64}(0.156328)  \n",
       " Gray{Float64}(0.889377)     Gray{Float64}(0.0)       \n",
       " Gray{Float64}(1.0)       …  Gray{Float64}(0.0)       \n",
       " Gray{Float64}(1.0)          Gray{Float64}(0.904266)  "
      ]
     },
     "execution_count": 3,
     "metadata": {},
     "output_type": "execute_result"
    }
   ],
   "source": [
    "Gray.(f)"
   ]
  },
  {
   "cell_type": "code",
   "execution_count": 4,
   "metadata": {},
   "outputs": [
    {
     "data": {
      "image/png": "[encoded data removed]",
      "text/plain": [
       "32×32 Array{Gray{Float64},2} with eltype Gray{Float64}:\n",
       " Gray{Float64}(1.0)  Gray{Float64}(0.0)  …  Gray{Float64}(0.0)\n",
       " Gray{Float64}(1.0)  Gray{Float64}(1.0)     Gray{Float64}(0.0)\n",
       " Gray{Float64}(1.0)  Gray{Float64}(1.0)     Gray{Float64}(0.0)\n",
       " Gray{Float64}(1.0)  Gray{Float64}(1.0)     Gray{Float64}(0.0)\n",
       " Gray{Float64}(1.0)  Gray{Float64}(1.0)     Gray{Float64}(0.0)\n",
       " Gray{Float64}(1.0)  Gray{Float64}(1.0)  …  Gray{Float64}(0.0)\n",
       " Gray{Float64}(1.0)  Gray{Float64}(1.0)     Gray{Float64}(0.0)\n",
       " Gray{Float64}(1.0)  Gray{Float64}(1.0)     Gray{Float64}(0.0)\n",
       " Gray{Float64}(1.0)  Gray{Float64}(1.0)     Gray{Float64}(0.0)\n",
       " Gray{Float64}(1.0)  Gray{Float64}(1.0)     Gray{Float64}(0.0)\n",
       " Gray{Float64}(1.0)  Gray{Float64}(1.0)  …  Gray{Float64}(0.0)\n",
       " Gray{Float64}(1.0)  Gray{Float64}(1.0)     Gray{Float64}(0.0)\n",
       " Gray{Float64}(1.0)  Gray{Float64}(1.0)     Gray{Float64}(0.0)\n",
       " ⋮                                       ⋱                    \n",
       " Gray{Float64}(1.0)  Gray{Float64}(1.0)  …  Gray{Float64}(0.0)\n",
       " Gray{Float64}(1.0)  Gray{Float64}(1.0)     Gray{Float64}(0.0)\n",
       " Gray{Float64}(1.0)  Gray{Float64}(1.0)     Gray{Float64}(0.0)\n",
       " Gray{Float64}(1.0)  Gray{Float64}(1.0)     Gray{Float64}(0.0)\n",
       " Gray{Float64}(1.0)  Gray{Float64}(1.0)     Gray{Float64}(0.0)\n",
       " Gray{Float64}(1.0)  Gray{Float64}(1.0)  …  Gray{Float64}(0.0)\n",
       " Gray{Float64}(1.0)  Gray{Float64}(1.0)     Gray{Float64}(0.0)\n",
       " Gray{Float64}(1.0)  Gray{Float64}(1.0)     Gray{Float64}(0.0)\n",
       " Gray{Float64}(1.0)  Gray{Float64}(1.0)     Gray{Float64}(0.0)\n",
       " Gray{Float64}(1.0)  Gray{Float64}(1.0)     Gray{Float64}(0.0)\n",
       " Gray{Float64}(1.0)  Gray{Float64}(1.0)  …  Gray{Float64}(0.0)\n",
       " Gray{Float64}(1.0)  Gray{Float64}(1.0)     Gray{Float64}(1.0)"
      ]
     },
     "execution_count": 4,
     "metadata": {},
     "output_type": "execute_result"
    }
   ],
   "source": [
    "Gray.(z)"
   ]
  },
  {
   "cell_type": "markdown",
   "metadata": {},
   "source": [
    "## Lower Level Solver and Cost Function"
   ]
  },
  {
   "cell_type": "code",
   "execution_count": 24,
   "metadata": {},
   "outputs": [
    {
     "data": {
      "text/plain": [
       "upper_level_cost (generic function with 1 method)"
      ]
     },
     "execution_count": 24,
     "metadata": {},
     "output_type": "execute_result"
    }
   ],
   "source": [
    "# Lower Level Solver\n",
    "function lower_level_solver(f,λ,K)\n",
    "    u = Variable(size(K,1)...)\n",
    "    @minimize λ*ls(-(1/λ)*K'*u+f) + conj(norm(u,2,1,2)) with ForwardBackward(tol = 1e-15, gamma = 1/8, fast = false) \n",
    "    return -(1/λ)*K'*(~u)+f\n",
    "end\n",
    "\n",
    "# Upper level cost\n",
    "function upper_level_cost(u,z,λ,α)\n",
    "    return 0.5*norm(u[:]-z[:])^2 + 0.5*α*norm(λ)^2 #PSNR\n",
    "end"
   ]
  },
  {
   "cell_type": "code",
   "execution_count": 25,
   "metadata": {},
   "outputs": [
    {
     "data": {
      "text/plain": [
       "0.01"
      ]
     },
     "execution_count": 25,
     "metadata": {},
     "output_type": "execute_result"
    }
   ],
   "source": [
    "K = Variation(size(f))\n",
    "α = 1e-2"
   ]
  },
  {
   "cell_type": "code",
   "execution_count": 26,
   "metadata": {},
   "outputs": [
    {
     "name": "stdout",
     "output_type": "stream",
     "text": [
      "0.5920326019538366, 6.54889183554149\n",
      "0.2663596415818602, 11.939410005369679\n"
     ]
    },
    {
     "data": {
      "image/png": "[encoded data removed]",
      "text/plain": [
       "32×32 Array{Gray{Float64},2} with eltype Gray{Float64}:\n",
       " Gray{Float64}(0.775007)  …  Gray{Float64}(0.0923729)\n",
       " Gray{Float64}(0.847226)     Gray{Float64}(0.0923619)\n",
       " Gray{Float64}(0.847225)     Gray{Float64}(0.0923237)\n",
       " Gray{Float64}(0.847224)     Gray{Float64}(0.0921302)\n",
       " Gray{Float64}(0.847222)     Gray{Float64}(0.0920902)\n",
       " Gray{Float64}(0.902854)  …  Gray{Float64}(0.0920545)\n",
       " Gray{Float64}(0.902876)     Gray{Float64}(0.0920244)\n",
       " Gray{Float64}(0.902901)     Gray{Float64}(0.0919983)\n",
       " Gray{Float64}(0.902937)     Gray{Float64}(0.0919751)\n",
       " Gray{Float64}(0.903007)     Gray{Float64}(0.0919516)\n",
       " Gray{Float64}(0.903065)  …  Gray{Float64}(0.0919103)\n",
       " Gray{Float64}(0.903106)     Gray{Float64}(0.0918879)\n",
       " Gray{Float64}(0.903124)     Gray{Float64}(0.0918774)\n",
       " ⋮                        ⋱                          \n",
       " Gray{Float64}(0.903049)  …  Gray{Float64}(0.0922535)\n",
       " Gray{Float64}(0.903041)     Gray{Float64}(0.0922885)\n",
       " Gray{Float64}(0.907751)     Gray{Float64}(0.0923452)\n",
       " Gray{Float64}(0.907797)     Gray{Float64}(0.0924751)\n",
       " Gray{Float64}(0.917339)     Gray{Float64}(0.0925528)\n",
       " Gray{Float64}(0.917323)  …  Gray{Float64}(0.0933369)\n",
       " Gray{Float64}(0.917281)     Gray{Float64}(0.0934898)\n",
       " Gray{Float64}(0.917234)     Gray{Float64}(0.0935367)\n",
       " Gray{Float64}(0.917205)     Gray{Float64}(0.154104) \n",
       " Gray{Float64}(0.917188)     Gray{Float64}(0.149199) \n",
       " Gray{Float64}(0.91718)   …  Gray{Float64}(0.226132) \n",
       " Gray{Float64}(0.917184)     Gray{Float64}(0.795463) "
      ]
     },
     "execution_count": 26,
     "metadata": {},
     "output_type": "execute_result"
    }
   ],
   "source": [
    "u_h = lower_level_solver(f,8,K)\n",
    "println(\"$(ssim(u_h,z)), $(upper_level_cost(u_h,z,10,α))\")\n",
    "println(\"$(ssim(f,z)), $(upper_level_cost(f,z,10,α))\")\n",
    "Gray.(u_h)"
   ]
  },
  {
   "cell_type": "code",
   "execution_count": 27,
   "metadata": {},
   "outputs": [
    {
     "name": "stdout",
     "output_type": "stream",
     "text": [
      "8.0, 10.0, "
     ]
    },
    {
     "data": {
      "text/plain": [
       "Task (done) @0x00000001150e1f90"
      ]
     },
     "execution_count": 27,
     "metadata": {},
     "output_type": "execute_result"
    }
   ],
   "source": [
    "step = 0.05\n",
    "lambda_min = 8.0\n",
    "lambda_max = 10.0\n",
    "lambda_range = lambda_min:step:lambda_max\n",
    "costs = Float64[]\n",
    "ssims = Float64[]\n",
    "@distributed for λ in lambda_range\n",
    "    u_h = lower_level_solver(f,λ,K)\n",
    "    push!(costs,upper_level_cost(u_h,z,λ,α))\n",
    "    push!(ssims,ssim(u_h,z))\n",
    "    if λ % 2 == 0\n",
    "        print(\"$(round(λ,digits=3)), \")\n",
    "    end\n",
    "end"
   ]
  },
  {
   "cell_type": "code",
   "execution_count": 28,
   "metadata": {},
   "outputs": [
    {
     "data": {
      "image/svg+xml": [
       "<?xml version=\"1.0\" encoding=\"utf-8\"?>\n",
       "<svg xmlns=\"http://www.w3.org/2000/svg\" xmlns:xlink=\"http://www.w3.org/1999/xlink\" width=\"600\" height=\"400\" viewBox=\"0 0 2400 1600\">\n",
       "<defs>\n",
       "  <clipPath id=\"clip5000\">\n",
       "    <rect x=\"0\" y=\"0\" width=\"2400\" height=\"1600\"/>\n",
       "  </clipPath>\n",
       "</defs>\n",
       "<path clip-path=\"url(#clip5000)\" d=\"\n",
       "M0 1600 L2400 1600 L2400 0 L0 0  Z\n",
       "  \" fill=\"#fffff0\" fill-rule=\"evenodd\" fill-opacity=\"1\"/>\n",
       "<defs>\n",
       "  <clipPath id=\"clip5001\">\n",
       "    <rect x=\"480\" y=\"0\" width=\"1681\" height=\"1600\"/>\n",
       "  </clipPath>\n",
       "</defs>\n",
       "<path clip-path=\"url(#clip5000)\" d=\"\n",
       "M180.66 1487.47 L2352.76 1487.47 L2352.76 47.2441 L180.66 47.2441  Z\n",
       "  \" fill=\"#fffff0\" fill-rule=\"evenodd\" fill-opacity=\"1\"/>\n",
       "<defs>\n",
       "  <clipPath id=\"clip5002\">\n",
       "    <rect x=\"180\" y=\"47\" width=\"2173\" height=\"1441\"/>\n",
       "  </clipPath>\n",
       "</defs>\n",
       "<polyline clip-path=\"url(#clip5002)\" style=\"stroke:#000000; stroke-width:2; stroke-opacity:0.1; fill:none\" points=\"\n",
       "  242.135,1487.47 242.135,47.2441 \n",
       "  \"/>\n",
       "<polyline clip-path=\"url(#clip5002)\" style=\"stroke:#000000; stroke-width:2; stroke-opacity:0.1; fill:none\" points=\"\n",
       "  447.049,1487.47 447.049,47.2441 \n",
       "  \"/>\n",
       "<polyline clip-path=\"url(#clip5002)\" style=\"stroke:#000000; stroke-width:2; stroke-opacity:0.1; fill:none\" points=\"\n",
       "  651.964,1487.47 651.964,47.2441 \n",
       "  \"/>\n",
       "<polyline clip-path=\"url(#clip5002)\" style=\"stroke:#000000; stroke-width:2; stroke-opacity:0.1; fill:none\" points=\"\n",
       "  856.879,1487.47 856.879,47.2441 \n",
       "  \"/>\n",
       "<polyline clip-path=\"url(#clip5002)\" style=\"stroke:#000000; stroke-width:2; stroke-opacity:0.1; fill:none\" points=\"\n",
       "  1061.79,1487.47 1061.79,47.2441 \n",
       "  \"/>\n",
       "<polyline clip-path=\"url(#clip5002)\" style=\"stroke:#000000; stroke-width:2; stroke-opacity:0.1; fill:none\" points=\"\n",
       "  1266.71,1487.47 1266.71,47.2441 \n",
       "  \"/>\n",
       "<polyline clip-path=\"url(#clip5002)\" style=\"stroke:#000000; stroke-width:2; stroke-opacity:0.1; fill:none\" points=\"\n",
       "  1471.62,1487.47 1471.62,47.2441 \n",
       "  \"/>\n",
       "<polyline clip-path=\"url(#clip5002)\" style=\"stroke:#000000; stroke-width:2; stroke-opacity:0.1; fill:none\" points=\"\n",
       "  1676.54,1487.47 1676.54,47.2441 \n",
       "  \"/>\n",
       "<polyline clip-path=\"url(#clip5002)\" style=\"stroke:#000000; stroke-width:2; stroke-opacity:0.1; fill:none\" points=\"\n",
       "  1881.45,1487.47 1881.45,47.2441 \n",
       "  \"/>\n",
       "<polyline clip-path=\"url(#clip5002)\" style=\"stroke:#000000; stroke-width:2; stroke-opacity:0.1; fill:none\" points=\"\n",
       "  2086.37,1487.47 2086.37,47.2441 \n",
       "  \"/>\n",
       "<polyline clip-path=\"url(#clip5002)\" style=\"stroke:#000000; stroke-width:2; stroke-opacity:0.1; fill:none\" points=\"\n",
       "  2291.28,1487.47 2291.28,47.2441 \n",
       "  \"/>\n",
       "<polyline clip-path=\"url(#clip5002)\" style=\"stroke:#000000; stroke-width:2; stroke-opacity:0.1; fill:none\" points=\"\n",
       "  180.66,1452.42 2352.76,1452.42 \n",
       "  \"/>\n",
       "<polyline clip-path=\"url(#clip5002)\" style=\"stroke:#000000; stroke-width:2; stroke-opacity:0.1; fill:none\" points=\"\n",
       "  180.66,1220.73 2352.76,1220.73 \n",
       "  \"/>\n",
       "<polyline clip-path=\"url(#clip5002)\" style=\"stroke:#000000; stroke-width:2; stroke-opacity:0.1; fill:none\" points=\"\n",
       "  180.66,989.054 2352.76,989.054 \n",
       "  \"/>\n",
       "<polyline clip-path=\"url(#clip5002)\" style=\"stroke:#000000; stroke-width:2; stroke-opacity:0.1; fill:none\" points=\"\n",
       "  180.66,757.373 2352.76,757.373 \n",
       "  \"/>\n",
       "<polyline clip-path=\"url(#clip5002)\" style=\"stroke:#000000; stroke-width:2; stroke-opacity:0.1; fill:none\" points=\"\n",
       "  180.66,525.693 2352.76,525.693 \n",
       "  \"/>\n",
       "<polyline clip-path=\"url(#clip5002)\" style=\"stroke:#000000; stroke-width:2; stroke-opacity:0.1; fill:none\" points=\"\n",
       "  180.66,294.012 2352.76,294.012 \n",
       "  \"/>\n",
       "<polyline clip-path=\"url(#clip5002)\" style=\"stroke:#000000; stroke-width:2; stroke-opacity:0.1; fill:none\" points=\"\n",
       "  180.66,62.3313 2352.76,62.3313 \n",
       "  \"/>\n",
       "<polyline clip-path=\"url(#clip5000)\" style=\"stroke:#000000; stroke-width:4; stroke-opacity:1; fill:none\" points=\"\n",
       "  180.66,1487.47 2352.76,1487.47 \n",
       "  \"/>\n",
       "<polyline clip-path=\"url(#clip5000)\" style=\"stroke:#000000; stroke-width:4; stroke-opacity:1; fill:none\" points=\"\n",
       "  180.66,1487.47 180.66,47.2441 \n",
       "  \"/>\n",
       "<polyline clip-path=\"url(#clip5000)\" style=\"stroke:#000000; stroke-width:4; stroke-opacity:1; fill:none\" points=\"\n",
       "  242.135,1487.47 242.135,1465.87 \n",
       "  \"/>\n",
       "<polyline clip-path=\"url(#clip5000)\" style=\"stroke:#000000; stroke-width:4; stroke-opacity:1; fill:none\" points=\"\n",
       "  447.049,1487.47 447.049,1465.87 \n",
       "  \"/>\n",
       "<polyline clip-path=\"url(#clip5000)\" style=\"stroke:#000000; stroke-width:4; stroke-opacity:1; fill:none\" points=\"\n",
       "  651.964,1487.47 651.964,1465.87 \n",
       "  \"/>\n",
       "<polyline clip-path=\"url(#clip5000)\" style=\"stroke:#000000; stroke-width:4; stroke-opacity:1; fill:none\" points=\"\n",
       "  856.879,1487.47 856.879,1465.87 \n",
       "  \"/>\n",
       "<polyline clip-path=\"url(#clip5000)\" style=\"stroke:#000000; stroke-width:4; stroke-opacity:1; fill:none\" points=\"\n",
       "  1061.79,1487.47 1061.79,1465.87 \n",
       "  \"/>\n",
       "<polyline clip-path=\"url(#clip5000)\" style=\"stroke:#000000; stroke-width:4; stroke-opacity:1; fill:none\" points=\"\n",
       "  1266.71,1487.47 1266.71,1465.87 \n",
       "  \"/>\n",
       "<polyline clip-path=\"url(#clip5000)\" style=\"stroke:#000000; stroke-width:4; stroke-opacity:1; fill:none\" points=\"\n",
       "  1471.62,1487.47 1471.62,1465.87 \n",
       "  \"/>\n",
       "<polyline clip-path=\"url(#clip5000)\" style=\"stroke:#000000; stroke-width:4; stroke-opacity:1; fill:none\" points=\"\n",
       "  1676.54,1487.47 1676.54,1465.87 \n",
       "  \"/>\n",
       "<polyline clip-path=\"url(#clip5000)\" style=\"stroke:#000000; stroke-width:4; stroke-opacity:1; fill:none\" points=\"\n",
       "  1881.45,1487.47 1881.45,1465.87 \n",
       "  \"/>\n",
       "<polyline clip-path=\"url(#clip5000)\" style=\"stroke:#000000; stroke-width:4; stroke-opacity:1; fill:none\" points=\"\n",
       "  2086.37,1487.47 2086.37,1465.87 \n",
       "  \"/>\n",
       "<polyline clip-path=\"url(#clip5000)\" style=\"stroke:#000000; stroke-width:4; stroke-opacity:1; fill:none\" points=\"\n",
       "  2291.28,1487.47 2291.28,1465.87 \n",
       "  \"/>\n",
       "<polyline clip-path=\"url(#clip5000)\" style=\"stroke:#000000; stroke-width:4; stroke-opacity:1; fill:none\" points=\"\n",
       "  180.66,1452.42 213.242,1452.42 \n",
       "  \"/>\n",
       "<polyline clip-path=\"url(#clip5000)\" style=\"stroke:#000000; stroke-width:4; stroke-opacity:1; fill:none\" points=\"\n",
       "  180.66,1220.73 213.242,1220.73 \n",
       "  \"/>\n",
       "<polyline clip-path=\"url(#clip5000)\" style=\"stroke:#000000; stroke-width:4; stroke-opacity:1; fill:none\" points=\"\n",
       "  180.66,989.054 213.242,989.054 \n",
       "  \"/>\n",
       "<polyline clip-path=\"url(#clip5000)\" style=\"stroke:#000000; stroke-width:4; stroke-opacity:1; fill:none\" points=\"\n",
       "  180.66,757.373 213.242,757.373 \n",
       "  \"/>\n",
       "<polyline clip-path=\"url(#clip5000)\" style=\"stroke:#000000; stroke-width:4; stroke-opacity:1; fill:none\" points=\"\n",
       "  180.66,525.693 213.242,525.693 \n",
       "  \"/>\n",
       "<polyline clip-path=\"url(#clip5000)\" style=\"stroke:#000000; stroke-width:4; stroke-opacity:1; fill:none\" points=\"\n",
       "  180.66,294.012 213.242,294.012 \n",
       "  \"/>\n",
       "<polyline clip-path=\"url(#clip5000)\" style=\"stroke:#000000; stroke-width:4; stroke-opacity:1; fill:none\" points=\"\n",
       "  180.66,62.3313 213.242,62.3313 \n",
       "  \"/>\n",
       "<g clip-path=\"url(#clip5000)\">\n",
       "<text style=\"fill:#000000; fill-opacity:1; font-family:Arial,Helvetica Neue,Helvetica,sans-serif; font-size:48px; text-anchor:middle;\" transform=\"rotate(0, 242.135, 1541.47)\" x=\"242.135\" y=\"1541.47\">8.0</text>\n",
       "</g>\n",
       "<g clip-path=\"url(#clip5000)\">\n",
       "<text style=\"fill:#000000; fill-opacity:1; font-family:Arial,Helvetica Neue,Helvetica,sans-serif; font-size:48px; text-anchor:middle;\" transform=\"rotate(0, 447.049, 1541.47)\" x=\"447.049\" y=\"1541.47\">8.2</text>\n",
       "</g>\n",
       "<g clip-path=\"url(#clip5000)\">\n",
       "<text style=\"fill:#000000; fill-opacity:1; font-family:Arial,Helvetica Neue,Helvetica,sans-serif; font-size:48px; text-anchor:middle;\" transform=\"rotate(0, 651.964, 1541.47)\" x=\"651.964\" y=\"1541.47\">8.4</text>\n",
       "</g>\n",
       "<g clip-path=\"url(#clip5000)\">\n",
       "<text style=\"fill:#000000; fill-opacity:1; font-family:Arial,Helvetica Neue,Helvetica,sans-serif; font-size:48px; text-anchor:middle;\" transform=\"rotate(0, 856.879, 1541.47)\" x=\"856.879\" y=\"1541.47\">8.6</text>\n",
       "</g>\n",
       "<g clip-path=\"url(#clip5000)\">\n",
       "<text style=\"fill:#000000; fill-opacity:1; font-family:Arial,Helvetica Neue,Helvetica,sans-serif; font-size:48px; text-anchor:middle;\" transform=\"rotate(0, 1061.79, 1541.47)\" x=\"1061.79\" y=\"1541.47\">8.8</text>\n",
       "</g>\n",
       "<g clip-path=\"url(#clip5000)\">\n",
       "<text style=\"fill:#000000; fill-opacity:1; font-family:Arial,Helvetica Neue,Helvetica,sans-serif; font-size:48px; text-anchor:middle;\" transform=\"rotate(0, 1266.71, 1541.47)\" x=\"1266.71\" y=\"1541.47\">9.0</text>\n",
       "</g>\n",
       "<g clip-path=\"url(#clip5000)\">\n",
       "<text style=\"fill:#000000; fill-opacity:1; font-family:Arial,Helvetica Neue,Helvetica,sans-serif; font-size:48px; text-anchor:middle;\" transform=\"rotate(0, 1471.62, 1541.47)\" x=\"1471.62\" y=\"1541.47\">9.2</text>\n",
       "</g>\n",
       "<g clip-path=\"url(#clip5000)\">\n",
       "<text style=\"fill:#000000; fill-opacity:1; font-family:Arial,Helvetica Neue,Helvetica,sans-serif; font-size:48px; text-anchor:middle;\" transform=\"rotate(0, 1676.54, 1541.47)\" x=\"1676.54\" y=\"1541.47\">9.4</text>\n",
       "</g>\n",
       "<g clip-path=\"url(#clip5000)\">\n",
       "<text style=\"fill:#000000; fill-opacity:1; font-family:Arial,Helvetica Neue,Helvetica,sans-serif; font-size:48px; text-anchor:middle;\" transform=\"rotate(0, 1881.45, 1541.47)\" x=\"1881.45\" y=\"1541.47\">9.6</text>\n",
       "</g>\n",
       "<g clip-path=\"url(#clip5000)\">\n",
       "<text style=\"fill:#000000; fill-opacity:1; font-family:Arial,Helvetica Neue,Helvetica,sans-serif; font-size:48px; text-anchor:middle;\" transform=\"rotate(0, 2086.37, 1541.47)\" x=\"2086.37\" y=\"1541.47\">9.8</text>\n",
       "</g>\n",
       "<g clip-path=\"url(#clip5000)\">\n",
       "<text style=\"fill:#000000; fill-opacity:1; font-family:Arial,Helvetica Neue,Helvetica,sans-serif; font-size:48px; text-anchor:middle;\" transform=\"rotate(0, 2291.28, 1541.47)\" x=\"2291.28\" y=\"1541.47\">10.0</text>\n",
       "</g>\n",
       "<g clip-path=\"url(#clip5000)\">\n",
       "<text style=\"fill:#000000; fill-opacity:1; font-family:Arial,Helvetica Neue,Helvetica,sans-serif; font-size:48px; text-anchor:end;\" transform=\"rotate(0, 156.66, 1469.92)\" x=\"156.66\" y=\"1469.92\">6.31</text>\n",
       "</g>\n",
       "<g clip-path=\"url(#clip5000)\">\n",
       "<text style=\"fill:#000000; fill-opacity:1; font-family:Arial,Helvetica Neue,Helvetica,sans-serif; font-size:48px; text-anchor:end;\" transform=\"rotate(0, 156.66, 1238.23)\" x=\"156.66\" y=\"1238.23\">6.32</text>\n",
       "</g>\n",
       "<g clip-path=\"url(#clip5000)\">\n",
       "<text style=\"fill:#000000; fill-opacity:1; font-family:Arial,Helvetica Neue,Helvetica,sans-serif; font-size:48px; text-anchor:end;\" transform=\"rotate(0, 156.66, 1006.55)\" x=\"156.66\" y=\"1006.55\">6.33</text>\n",
       "</g>\n",
       "<g clip-path=\"url(#clip5000)\">\n",
       "<text style=\"fill:#000000; fill-opacity:1; font-family:Arial,Helvetica Neue,Helvetica,sans-serif; font-size:48px; text-anchor:end;\" transform=\"rotate(0, 156.66, 774.873)\" x=\"156.66\" y=\"774.873\">6.34</text>\n",
       "</g>\n",
       "<g clip-path=\"url(#clip5000)\">\n",
       "<text style=\"fill:#000000; fill-opacity:1; font-family:Arial,Helvetica Neue,Helvetica,sans-serif; font-size:48px; text-anchor:end;\" transform=\"rotate(0, 156.66, 543.193)\" x=\"156.66\" y=\"543.193\">6.35</text>\n",
       "</g>\n",
       "<g clip-path=\"url(#clip5000)\">\n",
       "<text style=\"fill:#000000; fill-opacity:1; font-family:Arial,Helvetica Neue,Helvetica,sans-serif; font-size:48px; text-anchor:end;\" transform=\"rotate(0, 156.66, 311.512)\" x=\"156.66\" y=\"311.512\">6.36</text>\n",
       "</g>\n",
       "<g clip-path=\"url(#clip5000)\">\n",
       "<text style=\"fill:#000000; fill-opacity:1; font-family:Arial,Helvetica Neue,Helvetica,sans-serif; font-size:48px; text-anchor:end;\" transform=\"rotate(0, 156.66, 79.8313)\" x=\"156.66\" y=\"79.8313\">6.37</text>\n",
       "</g>\n",
       "<polyline clip-path=\"url(#clip5002)\" style=\"stroke:#009af9; stroke-width:4; stroke-opacity:1; fill:none\" points=\"\n",
       "  242.135,88.0053 293.363,201.426 344.592,309.395 395.821,412.026 447.049,509.342 498.278,601.411 549.507,688.222 600.735,769.799 651.964,846.27 703.193,917.741 \n",
       "  754.421,984.299 805.65,1046.08 856.879,1103.14 908.107,1155.6 959.336,1203.47 1010.56,1246.79 1061.79,1285.65 1113.02,1320.12 1164.25,1350.18 1215.48,1375.98 \n",
       "  1266.71,1397.63 1317.94,1415.18 1369.17,1428.98 1420.39,1438.83 1471.62,1444.73 1522.85,1446.71 1574.08,1444.85 1625.31,1439.19 1676.54,1429.8 1727.77,1416.8 \n",
       "  1778.99,1400.4 1830.22,1380.68 1881.45,1357.48 1932.68,1330.77 1983.91,1300.56 2035.14,1266.86 2086.37,1229.58 2137.6,1188.9 2188.82,1144.94 2240.05,1097.73 \n",
       "  2291.28,1047.29 \n",
       "  \"/>\n",
       "<path clip-path=\"url(#clip5000)\" d=\"\n",
       "M1952.48 251.724 L2280.76 251.724 L2280.76 130.764 L1952.48 130.764  Z\n",
       "  \" fill=\"#fffff0\" fill-rule=\"evenodd\" fill-opacity=\"1\"/>\n",
       "<polyline clip-path=\"url(#clip5000)\" style=\"stroke:#000000; stroke-width:4; stroke-opacity:1; fill:none\" points=\"\n",
       "  1952.48,251.724 2280.76,251.724 2280.76,130.764 1952.48,130.764 1952.48,251.724 \n",
       "  \"/>\n",
       "<polyline clip-path=\"url(#clip5000)\" style=\"stroke:#009af9; stroke-width:4; stroke-opacity:1; fill:none\" points=\"\n",
       "  1976.48,191.244 2120.48,191.244 \n",
       "  \"/>\n",
       "<g clip-path=\"url(#clip5000)\">\n",
       "<text style=\"fill:#000000; fill-opacity:1; font-family:Arial,Helvetica Neue,Helvetica,sans-serif; font-size:48px; text-anchor:start;\" transform=\"rotate(0, 2144.48, 208.744)\" x=\"2144.48\" y=\"208.744\">cost</text>\n",
       "</g>\n",
       "</svg>\n"
      ]
     },
     "execution_count": 28,
     "metadata": {},
     "output_type": "execute_result"
    }
   ],
   "source": [
    "plot(lambda_range,costs,label=\"cost\",xticks = 0:0.2:lambda_max, background_color = :ivory)"
   ]
  },
  {
   "cell_type": "code",
   "execution_count": 13,
   "metadata": {},
   "outputs": [
    {
     "data": {
      "image/svg+xml": [
       "<?xml version=\"1.0\" encoding=\"utf-8\"?>\n",
       "<svg xmlns=\"http://www.w3.org/2000/svg\" xmlns:xlink=\"http://www.w3.org/1999/xlink\" width=\"600\" height=\"400\" viewBox=\"0 0 2400 1600\">\n",
       "<defs>\n",
       "  <clipPath id=\"clip3800\">\n",
       "    <rect x=\"0\" y=\"0\" width=\"2400\" height=\"1600\"/>\n",
       "  </clipPath>\n",
       "</defs>\n",
       "<path clip-path=\"url(#clip3800)\" d=\"\n",
       "M0 1600 L2400 1600 L2400 0 L0 0  Z\n",
       "  \" fill=\"#fffff0\" fill-rule=\"evenodd\" fill-opacity=\"1\"/>\n",
       "<defs>\n",
       "  <clipPath id=\"clip3801\">\n",
       "    <rect x=\"480\" y=\"0\" width=\"1681\" height=\"1600\"/>\n",
       "  </clipPath>\n",
       "</defs>\n",
       "<path clip-path=\"url(#clip3800)\" d=\"\n",
       "M180.66 1487.47 L2352.76 1487.47 L2352.76 47.2441 L180.66 47.2441  Z\n",
       "  \" fill=\"#fffff0\" fill-rule=\"evenodd\" fill-opacity=\"1\"/>\n",
       "<defs>\n",
       "  <clipPath id=\"clip3802\">\n",
       "    <rect x=\"180\" y=\"47\" width=\"2173\" height=\"1441\"/>\n",
       "  </clipPath>\n",
       "</defs>\n",
       "<polyline clip-path=\"url(#clip3802)\" style=\"stroke:#000000; stroke-width:2; stroke-opacity:0.1; fill:none\" points=\"\n",
       "  242.135,1487.47 242.135,47.2441 \n",
       "  \"/>\n",
       "<polyline clip-path=\"url(#clip3802)\" style=\"stroke:#000000; stroke-width:2; stroke-opacity:0.1; fill:none\" points=\"\n",
       "  447.049,1487.47 447.049,47.2441 \n",
       "  \"/>\n",
       "<polyline clip-path=\"url(#clip3802)\" style=\"stroke:#000000; stroke-width:2; stroke-opacity:0.1; fill:none\" points=\"\n",
       "  651.964,1487.47 651.964,47.2441 \n",
       "  \"/>\n",
       "<polyline clip-path=\"url(#clip3802)\" style=\"stroke:#000000; stroke-width:2; stroke-opacity:0.1; fill:none\" points=\"\n",
       "  856.879,1487.47 856.879,47.2441 \n",
       "  \"/>\n",
       "<polyline clip-path=\"url(#clip3802)\" style=\"stroke:#000000; stroke-width:2; stroke-opacity:0.1; fill:none\" points=\"\n",
       "  1061.79,1487.47 1061.79,47.2441 \n",
       "  \"/>\n",
       "<polyline clip-path=\"url(#clip3802)\" style=\"stroke:#000000; stroke-width:2; stroke-opacity:0.1; fill:none\" points=\"\n",
       "  1266.71,1487.47 1266.71,47.2441 \n",
       "  \"/>\n",
       "<polyline clip-path=\"url(#clip3802)\" style=\"stroke:#000000; stroke-width:2; stroke-opacity:0.1; fill:none\" points=\"\n",
       "  1471.62,1487.47 1471.62,47.2441 \n",
       "  \"/>\n",
       "<polyline clip-path=\"url(#clip3802)\" style=\"stroke:#000000; stroke-width:2; stroke-opacity:0.1; fill:none\" points=\"\n",
       "  1676.54,1487.47 1676.54,47.2441 \n",
       "  \"/>\n",
       "<polyline clip-path=\"url(#clip3802)\" style=\"stroke:#000000; stroke-width:2; stroke-opacity:0.1; fill:none\" points=\"\n",
       "  1881.45,1487.47 1881.45,47.2441 \n",
       "  \"/>\n",
       "<polyline clip-path=\"url(#clip3802)\" style=\"stroke:#000000; stroke-width:2; stroke-opacity:0.1; fill:none\" points=\"\n",
       "  2086.37,1487.47 2086.37,47.2441 \n",
       "  \"/>\n",
       "<polyline clip-path=\"url(#clip3802)\" style=\"stroke:#000000; stroke-width:2; stroke-opacity:0.1; fill:none\" points=\"\n",
       "  2291.28,1487.47 2291.28,47.2441 \n",
       "  \"/>\n",
       "<polyline clip-path=\"url(#clip3802)\" style=\"stroke:#000000; stroke-width:2; stroke-opacity:0.1; fill:none\" points=\"\n",
       "  180.66,1216.15 2352.76,1216.15 \n",
       "  \"/>\n",
       "<polyline clip-path=\"url(#clip3802)\" style=\"stroke:#000000; stroke-width:2; stroke-opacity:0.1; fill:none\" points=\"\n",
       "  180.66,863.52 2352.76,863.52 \n",
       "  \"/>\n",
       "<polyline clip-path=\"url(#clip3802)\" style=\"stroke:#000000; stroke-width:2; stroke-opacity:0.1; fill:none\" points=\"\n",
       "  180.66,510.891 2352.76,510.891 \n",
       "  \"/>\n",
       "<polyline clip-path=\"url(#clip3802)\" style=\"stroke:#000000; stroke-width:2; stroke-opacity:0.1; fill:none\" points=\"\n",
       "  180.66,158.261 2352.76,158.261 \n",
       "  \"/>\n",
       "<polyline clip-path=\"url(#clip3800)\" style=\"stroke:#000000; stroke-width:4; stroke-opacity:1; fill:none\" points=\"\n",
       "  180.66,1487.47 2352.76,1487.47 \n",
       "  \"/>\n",
       "<polyline clip-path=\"url(#clip3800)\" style=\"stroke:#000000; stroke-width:4; stroke-opacity:1; fill:none\" points=\"\n",
       "  180.66,1487.47 180.66,47.2441 \n",
       "  \"/>\n",
       "<polyline clip-path=\"url(#clip3800)\" style=\"stroke:#000000; stroke-width:4; stroke-opacity:1; fill:none\" points=\"\n",
       "  242.135,1487.47 242.135,1465.87 \n",
       "  \"/>\n",
       "<polyline clip-path=\"url(#clip3800)\" style=\"stroke:#000000; stroke-width:4; stroke-opacity:1; fill:none\" points=\"\n",
       "  447.049,1487.47 447.049,1465.87 \n",
       "  \"/>\n",
       "<polyline clip-path=\"url(#clip3800)\" style=\"stroke:#000000; stroke-width:4; stroke-opacity:1; fill:none\" points=\"\n",
       "  651.964,1487.47 651.964,1465.87 \n",
       "  \"/>\n",
       "<polyline clip-path=\"url(#clip3800)\" style=\"stroke:#000000; stroke-width:4; stroke-opacity:1; fill:none\" points=\"\n",
       "  856.879,1487.47 856.879,1465.87 \n",
       "  \"/>\n",
       "<polyline clip-path=\"url(#clip3800)\" style=\"stroke:#000000; stroke-width:4; stroke-opacity:1; fill:none\" points=\"\n",
       "  1061.79,1487.47 1061.79,1465.87 \n",
       "  \"/>\n",
       "<polyline clip-path=\"url(#clip3800)\" style=\"stroke:#000000; stroke-width:4; stroke-opacity:1; fill:none\" points=\"\n",
       "  1266.71,1487.47 1266.71,1465.87 \n",
       "  \"/>\n",
       "<polyline clip-path=\"url(#clip3800)\" style=\"stroke:#000000; stroke-width:4; stroke-opacity:1; fill:none\" points=\"\n",
       "  1471.62,1487.47 1471.62,1465.87 \n",
       "  \"/>\n",
       "<polyline clip-path=\"url(#clip3800)\" style=\"stroke:#000000; stroke-width:4; stroke-opacity:1; fill:none\" points=\"\n",
       "  1676.54,1487.47 1676.54,1465.87 \n",
       "  \"/>\n",
       "<polyline clip-path=\"url(#clip3800)\" style=\"stroke:#000000; stroke-width:4; stroke-opacity:1; fill:none\" points=\"\n",
       "  1881.45,1487.47 1881.45,1465.87 \n",
       "  \"/>\n",
       "<polyline clip-path=\"url(#clip3800)\" style=\"stroke:#000000; stroke-width:4; stroke-opacity:1; fill:none\" points=\"\n",
       "  2086.37,1487.47 2086.37,1465.87 \n",
       "  \"/>\n",
       "<polyline clip-path=\"url(#clip3800)\" style=\"stroke:#000000; stroke-width:4; stroke-opacity:1; fill:none\" points=\"\n",
       "  2291.28,1487.47 2291.28,1465.87 \n",
       "  \"/>\n",
       "<polyline clip-path=\"url(#clip3800)\" style=\"stroke:#000000; stroke-width:4; stroke-opacity:1; fill:none\" points=\"\n",
       "  180.66,1216.15 213.242,1216.15 \n",
       "  \"/>\n",
       "<polyline clip-path=\"url(#clip3800)\" style=\"stroke:#000000; stroke-width:4; stroke-opacity:1; fill:none\" points=\"\n",
       "  180.66,863.52 213.242,863.52 \n",
       "  \"/>\n",
       "<polyline clip-path=\"url(#clip3800)\" style=\"stroke:#000000; stroke-width:4; stroke-opacity:1; fill:none\" points=\"\n",
       "  180.66,510.891 213.242,510.891 \n",
       "  \"/>\n",
       "<polyline clip-path=\"url(#clip3800)\" style=\"stroke:#000000; stroke-width:4; stroke-opacity:1; fill:none\" points=\"\n",
       "  180.66,158.261 213.242,158.261 \n",
       "  \"/>\n",
       "<g clip-path=\"url(#clip3800)\">\n",
       "<text style=\"fill:#000000; fill-opacity:1; font-family:Arial,Helvetica Neue,Helvetica,sans-serif; font-size:48px; text-anchor:middle;\" transform=\"rotate(0, 242.135, 1541.47)\" x=\"242.135\" y=\"1541.47\">8.0</text>\n",
       "</g>\n",
       "<g clip-path=\"url(#clip3800)\">\n",
       "<text style=\"fill:#000000; fill-opacity:1; font-family:Arial,Helvetica Neue,Helvetica,sans-serif; font-size:48px; text-anchor:middle;\" transform=\"rotate(0, 447.049, 1541.47)\" x=\"447.049\" y=\"1541.47\">8.2</text>\n",
       "</g>\n",
       "<g clip-path=\"url(#clip3800)\">\n",
       "<text style=\"fill:#000000; fill-opacity:1; font-family:Arial,Helvetica Neue,Helvetica,sans-serif; font-size:48px; text-anchor:middle;\" transform=\"rotate(0, 651.964, 1541.47)\" x=\"651.964\" y=\"1541.47\">8.4</text>\n",
       "</g>\n",
       "<g clip-path=\"url(#clip3800)\">\n",
       "<text style=\"fill:#000000; fill-opacity:1; font-family:Arial,Helvetica Neue,Helvetica,sans-serif; font-size:48px; text-anchor:middle;\" transform=\"rotate(0, 856.879, 1541.47)\" x=\"856.879\" y=\"1541.47\">8.6</text>\n",
       "</g>\n",
       "<g clip-path=\"url(#clip3800)\">\n",
       "<text style=\"fill:#000000; fill-opacity:1; font-family:Arial,Helvetica Neue,Helvetica,sans-serif; font-size:48px; text-anchor:middle;\" transform=\"rotate(0, 1061.79, 1541.47)\" x=\"1061.79\" y=\"1541.47\">8.8</text>\n",
       "</g>\n",
       "<g clip-path=\"url(#clip3800)\">\n",
       "<text style=\"fill:#000000; fill-opacity:1; font-family:Arial,Helvetica Neue,Helvetica,sans-serif; font-size:48px; text-anchor:middle;\" transform=\"rotate(0, 1266.71, 1541.47)\" x=\"1266.71\" y=\"1541.47\">9.0</text>\n",
       "</g>\n",
       "<g clip-path=\"url(#clip3800)\">\n",
       "<text style=\"fill:#000000; fill-opacity:1; font-family:Arial,Helvetica Neue,Helvetica,sans-serif; font-size:48px; text-anchor:middle;\" transform=\"rotate(0, 1471.62, 1541.47)\" x=\"1471.62\" y=\"1541.47\">9.2</text>\n",
       "</g>\n",
       "<g clip-path=\"url(#clip3800)\">\n",
       "<text style=\"fill:#000000; fill-opacity:1; font-family:Arial,Helvetica Neue,Helvetica,sans-serif; font-size:48px; text-anchor:middle;\" transform=\"rotate(0, 1676.54, 1541.47)\" x=\"1676.54\" y=\"1541.47\">9.4</text>\n",
       "</g>\n",
       "<g clip-path=\"url(#clip3800)\">\n",
       "<text style=\"fill:#000000; fill-opacity:1; font-family:Arial,Helvetica Neue,Helvetica,sans-serif; font-size:48px; text-anchor:middle;\" transform=\"rotate(0, 1881.45, 1541.47)\" x=\"1881.45\" y=\"1541.47\">9.6</text>\n",
       "</g>\n",
       "<g clip-path=\"url(#clip3800)\">\n",
       "<text style=\"fill:#000000; fill-opacity:1; font-family:Arial,Helvetica Neue,Helvetica,sans-serif; font-size:48px; text-anchor:middle;\" transform=\"rotate(0, 2086.37, 1541.47)\" x=\"2086.37\" y=\"1541.47\">9.8</text>\n",
       "</g>\n",
       "<g clip-path=\"url(#clip3800)\">\n",
       "<text style=\"fill:#000000; fill-opacity:1; font-family:Arial,Helvetica Neue,Helvetica,sans-serif; font-size:48px; text-anchor:middle;\" transform=\"rotate(0, 2291.28, 1541.47)\" x=\"2291.28\" y=\"1541.47\">10.0</text>\n",
       "</g>\n",
       "<g clip-path=\"url(#clip3800)\">\n",
       "<text style=\"fill:#000000; fill-opacity:1; font-family:Arial,Helvetica Neue,Helvetica,sans-serif; font-size:48px; text-anchor:end;\" transform=\"rotate(0, 156.66, 1233.65)\" x=\"156.66\" y=\"1233.65\">0.56</text>\n",
       "</g>\n",
       "<g clip-path=\"url(#clip3800)\">\n",
       "<text style=\"fill:#000000; fill-opacity:1; font-family:Arial,Helvetica Neue,Helvetica,sans-serif; font-size:48px; text-anchor:end;\" transform=\"rotate(0, 156.66, 881.02)\" x=\"156.66\" y=\"881.02\">0.57</text>\n",
       "</g>\n",
       "<g clip-path=\"url(#clip3800)\">\n",
       "<text style=\"fill:#000000; fill-opacity:1; font-family:Arial,Helvetica Neue,Helvetica,sans-serif; font-size:48px; text-anchor:end;\" transform=\"rotate(0, 156.66, 528.391)\" x=\"156.66\" y=\"528.391\">0.58</text>\n",
       "</g>\n",
       "<g clip-path=\"url(#clip3800)\">\n",
       "<text style=\"fill:#000000; fill-opacity:1; font-family:Arial,Helvetica Neue,Helvetica,sans-serif; font-size:48px; text-anchor:end;\" transform=\"rotate(0, 156.66, 175.761)\" x=\"156.66\" y=\"175.761\">0.59</text>\n",
       "</g>\n",
       "<polyline clip-path=\"url(#clip3802)\" style=\"stroke:#009af9; stroke-width:4; stroke-opacity:1; fill:none\" points=\"\n",
       "  242.135,88.0053 293.363,112.162 344.592,137.335 395.821,163.477 447.049,190.553 498.278,218.497 549.507,247.326 600.735,276.872 651.964,306.894 703.193,337.415 \n",
       "  754.421,368.416 805.65,399.934 856.879,431.84 908.107,464.396 959.336,497.551 1010.56,531.026 1061.79,564.905 1113.02,599.147 1164.25,633.681 1215.48,668.484 \n",
       "  1266.71,703.552 1317.94,739.017 1369.17,774.649 1420.39,810.407 1471.62,846.257 1522.85,882.462 1574.08,919.358 1625.31,956.441 1676.54,993.564 1727.77,1030.7 \n",
       "  1778.99,1067.85 1830.22,1105.28 1881.45,1142.92 1932.68,1180.58 1983.91,1218.25 2035.14,1256.05 2086.37,1293.94 2137.6,1331.88 2188.82,1370.07 2240.05,1408.33 \n",
       "  2291.28,1446.71 \n",
       "  \"/>\n",
       "<path clip-path=\"url(#clip3800)\" d=\"\n",
       "M1952.48 1343.47 L2280.76 1343.47 L2280.76 1222.51 L1952.48 1222.51  Z\n",
       "  \" fill=\"#fffff0\" fill-rule=\"evenodd\" fill-opacity=\"1\"/>\n",
       "<polyline clip-path=\"url(#clip3800)\" style=\"stroke:#000000; stroke-width:4; stroke-opacity:1; fill:none\" points=\"\n",
       "  1952.48,1343.47 2280.76,1343.47 2280.76,1222.51 1952.48,1222.51 1952.48,1343.47 \n",
       "  \"/>\n",
       "<polyline clip-path=\"url(#clip3800)\" style=\"stroke:#009af9; stroke-width:4; stroke-opacity:1; fill:none\" points=\"\n",
       "  1976.48,1282.99 2120.48,1282.99 \n",
       "  \"/>\n",
       "<g clip-path=\"url(#clip3800)\">\n",
       "<text style=\"fill:#000000; fill-opacity:1; font-family:Arial,Helvetica Neue,Helvetica,sans-serif; font-size:48px; text-anchor:start;\" transform=\"rotate(0, 2144.48, 1300.49)\" x=\"2144.48\" y=\"1300.49\">cost</text>\n",
       "</g>\n",
       "</svg>\n"
      ]
     },
     "execution_count": 13,
     "metadata": {},
     "output_type": "execute_result"
    }
   ],
   "source": [
    "plot(lambda_range,ssims,label=\"cost\",xticks = 0:0.2:lambda_max, background_color = :ivory, legend=:bottomright)"
   ]
  },
  {
   "cell_type": "markdown",
   "metadata": {},
   "source": [
    "## Gradient Calculation\n",
    "Let us consider a reduced cost function\n",
    "\n",
    "$$\n",
    "j(\\lambda) = \\frac{1}{2}\\|S(\\lambda)-z\\|^2+\\frac{\\alpha}{2}\\|\\lambda\\|^2,\n",
    "$$\n",
    "\n",
    "its directional derivative will be given by\n",
    "\n",
    "$$\n",
    "j'(\\lambda)h = \\langle S(\\lambda)-z, S'(\\lambda)h \\rangle + \\alpha \\langle \\lambda, h \\rangle\n",
    "$$"
   ]
  },
  {
   "cell_type": "code",
   "execution_count": 29,
   "metadata": {},
   "outputs": [
    {
     "data": {
      "text/plain": [
       "gradient_solver (generic function with 2 methods)"
      ]
     },
     "execution_count": 29,
     "metadata": {},
     "output_type": "execute_result"
    }
   ],
   "source": [
    "include(\"gradient_solver.jl\")"
   ]
  },
  {
   "cell_type": "code",
   "execution_count": 41,
   "metadata": {},
   "outputs": [
    {
     "data": {
      "text/plain": [
       "-0.39435400776273366"
      ]
     },
     "execution_count": 41,
     "metadata": {},
     "output_type": "execute_result"
    }
   ],
   "source": [
    "λ = 10\n",
    "radius = 10\n",
    "∇ = gradient_matrix(size(f))\n",
    "u_h= lower_level_solver(f,λ,K)\n",
    "grad = gradient_solver(u_h,f,z,λ,α,K,∇,radius)"
   ]
  },
  {
   "cell_type": "code",
   "execution_count": 39,
   "metadata": {},
   "outputs": [
    {
     "name": "stdout",
     "output_type": "stream",
     "text": [
      "2.0, 4.0, 6.0, 8.0, "
     ]
    },
    {
     "data": {
      "text/plain": [
       "Task (runnable) @0x0000000116326f50"
      ]
     },
     "execution_count": 39,
     "metadata": {},
     "output_type": "execute_result"
    },
    {
     "name": "stdout",
     "output_type": "stream",
     "text": [
      "10.0, "
     ]
    }
   ],
   "source": [
    "step = 0.1\n",
    "lambda_max = 10\n",
    "lambda_min = 2\n",
    "lambda_range = lambda_min:step:lambda_max\n",
    "grads = Float64[]\n",
    "@distributed for λ in lambda_range\n",
    "    u_h = lower_level_solver(f,λ,K)\n",
    "    g = gradient_solver(u_h,f,z,λ,α,K,∇,radius)\n",
    "    push!(grads,g)\n",
    "    if λ % 2 == 0\n",
    "        print(\"$(round(λ,digits=3)), \")\n",
    "    end\n",
    "end"
   ]
  },
  {
   "cell_type": "code",
   "execution_count": 40,
   "metadata": {},
   "outputs": [
    {
     "data": {
      "image/svg+xml": [
       "<?xml version=\"1.0\" encoding=\"utf-8\"?>\n",
       "<svg xmlns=\"http://www.w3.org/2000/svg\" xmlns:xlink=\"http://www.w3.org/1999/xlink\" width=\"600\" height=\"400\" viewBox=\"0 0 2400 1600\">\n",
       "<defs>\n",
       "  <clipPath id=\"clip6600\">\n",
       "    <rect x=\"0\" y=\"0\" width=\"2400\" height=\"1600\"/>\n",
       "  </clipPath>\n",
       "</defs>\n",
       "<path clip-path=\"url(#clip6600)\" d=\"\n",
       "M0 1600 L2400 1600 L2400 0 L0 0  Z\n",
       "  \" fill=\"#fffff0\" fill-rule=\"evenodd\" fill-opacity=\"1\"/>\n",
       "<defs>\n",
       "  <clipPath id=\"clip6601\">\n",
       "    <rect x=\"480\" y=\"0\" width=\"1681\" height=\"1600\"/>\n",
       "  </clipPath>\n",
       "</defs>\n",
       "<path clip-path=\"url(#clip6600)\" d=\"\n",
       "M168.627 1487.47 L2352.76 1487.47 L2352.76 47.2441 L168.627 47.2441  Z\n",
       "  \" fill=\"#fffff0\" fill-rule=\"evenodd\" fill-opacity=\"1\"/>\n",
       "<defs>\n",
       "  <clipPath id=\"clip6602\">\n",
       "    <rect x=\"168\" y=\"47\" width=\"2185\" height=\"1441\"/>\n",
       "  </clipPath>\n",
       "</defs>\n",
       "<polyline clip-path=\"url(#clip6602)\" style=\"stroke:#000000; stroke-width:2; stroke-opacity:0.1; fill:none\" points=\"\n",
       "  230.442,1487.47 230.442,47.2441 \n",
       "  \"/>\n",
       "<polyline clip-path=\"url(#clip6602)\" style=\"stroke:#000000; stroke-width:2; stroke-opacity:0.1; fill:none\" points=\"\n",
       "  488.004,1487.47 488.004,47.2441 \n",
       "  \"/>\n",
       "<polyline clip-path=\"url(#clip6602)\" style=\"stroke:#000000; stroke-width:2; stroke-opacity:0.1; fill:none\" points=\"\n",
       "  745.567,1487.47 745.567,47.2441 \n",
       "  \"/>\n",
       "<polyline clip-path=\"url(#clip6602)\" style=\"stroke:#000000; stroke-width:2; stroke-opacity:0.1; fill:none\" points=\"\n",
       "  1003.13,1487.47 1003.13,47.2441 \n",
       "  \"/>\n",
       "<polyline clip-path=\"url(#clip6602)\" style=\"stroke:#000000; stroke-width:2; stroke-opacity:0.1; fill:none\" points=\"\n",
       "  1260.69,1487.47 1260.69,47.2441 \n",
       "  \"/>\n",
       "<polyline clip-path=\"url(#clip6602)\" style=\"stroke:#000000; stroke-width:2; stroke-opacity:0.1; fill:none\" points=\"\n",
       "  1518.25,1487.47 1518.25,47.2441 \n",
       "  \"/>\n",
       "<polyline clip-path=\"url(#clip6602)\" style=\"stroke:#000000; stroke-width:2; stroke-opacity:0.1; fill:none\" points=\"\n",
       "  1775.82,1487.47 1775.82,47.2441 \n",
       "  \"/>\n",
       "<polyline clip-path=\"url(#clip6602)\" style=\"stroke:#000000; stroke-width:2; stroke-opacity:0.1; fill:none\" points=\"\n",
       "  2033.38,1487.47 2033.38,47.2441 \n",
       "  \"/>\n",
       "<polyline clip-path=\"url(#clip6602)\" style=\"stroke:#000000; stroke-width:2; stroke-opacity:0.1; fill:none\" points=\"\n",
       "  2290.94,1487.47 2290.94,47.2441 \n",
       "  \"/>\n",
       "<polyline clip-path=\"url(#clip6602)\" style=\"stroke:#000000; stroke-width:2; stroke-opacity:0.1; fill:none\" points=\"\n",
       "  168.627,1435.94 2352.76,1435.94 \n",
       "  \"/>\n",
       "<polyline clip-path=\"url(#clip6602)\" style=\"stroke:#000000; stroke-width:2; stroke-opacity:0.1; fill:none\" points=\"\n",
       "  168.627,1227.16 2352.76,1227.16 \n",
       "  \"/>\n",
       "<polyline clip-path=\"url(#clip6602)\" style=\"stroke:#000000; stroke-width:2; stroke-opacity:0.1; fill:none\" points=\"\n",
       "  168.627,1018.38 2352.76,1018.38 \n",
       "  \"/>\n",
       "<polyline clip-path=\"url(#clip6602)\" style=\"stroke:#000000; stroke-width:2; stroke-opacity:0.1; fill:none\" points=\"\n",
       "  168.627,809.594 2352.76,809.594 \n",
       "  \"/>\n",
       "<polyline clip-path=\"url(#clip6602)\" style=\"stroke:#000000; stroke-width:2; stroke-opacity:0.1; fill:none\" points=\"\n",
       "  168.627,600.811 2352.76,600.811 \n",
       "  \"/>\n",
       "<polyline clip-path=\"url(#clip6602)\" style=\"stroke:#000000; stroke-width:2; stroke-opacity:0.1; fill:none\" points=\"\n",
       "  168.627,392.028 2352.76,392.028 \n",
       "  \"/>\n",
       "<polyline clip-path=\"url(#clip6602)\" style=\"stroke:#000000; stroke-width:2; stroke-opacity:0.1; fill:none\" points=\"\n",
       "  168.627,183.245 2352.76,183.245 \n",
       "  \"/>\n",
       "<polyline clip-path=\"url(#clip6600)\" style=\"stroke:#000000; stroke-width:4; stroke-opacity:1; fill:none\" points=\"\n",
       "  168.627,1487.47 2352.76,1487.47 \n",
       "  \"/>\n",
       "<polyline clip-path=\"url(#clip6600)\" style=\"stroke:#000000; stroke-width:4; stroke-opacity:1; fill:none\" points=\"\n",
       "  168.627,1487.47 168.627,47.2441 \n",
       "  \"/>\n",
       "<polyline clip-path=\"url(#clip6600)\" style=\"stroke:#000000; stroke-width:4; stroke-opacity:1; fill:none\" points=\"\n",
       "  230.442,1487.47 230.442,1465.87 \n",
       "  \"/>\n",
       "<polyline clip-path=\"url(#clip6600)\" style=\"stroke:#000000; stroke-width:4; stroke-opacity:1; fill:none\" points=\"\n",
       "  488.004,1487.47 488.004,1465.87 \n",
       "  \"/>\n",
       "<polyline clip-path=\"url(#clip6600)\" style=\"stroke:#000000; stroke-width:4; stroke-opacity:1; fill:none\" points=\"\n",
       "  745.567,1487.47 745.567,1465.87 \n",
       "  \"/>\n",
       "<polyline clip-path=\"url(#clip6600)\" style=\"stroke:#000000; stroke-width:4; stroke-opacity:1; fill:none\" points=\"\n",
       "  1003.13,1487.47 1003.13,1465.87 \n",
       "  \"/>\n",
       "<polyline clip-path=\"url(#clip6600)\" style=\"stroke:#000000; stroke-width:4; stroke-opacity:1; fill:none\" points=\"\n",
       "  1260.69,1487.47 1260.69,1465.87 \n",
       "  \"/>\n",
       "<polyline clip-path=\"url(#clip6600)\" style=\"stroke:#000000; stroke-width:4; stroke-opacity:1; fill:none\" points=\"\n",
       "  1518.25,1487.47 1518.25,1465.87 \n",
       "  \"/>\n",
       "<polyline clip-path=\"url(#clip6600)\" style=\"stroke:#000000; stroke-width:4; stroke-opacity:1; fill:none\" points=\"\n",
       "  1775.82,1487.47 1775.82,1465.87 \n",
       "  \"/>\n",
       "<polyline clip-path=\"url(#clip6600)\" style=\"stroke:#000000; stroke-width:4; stroke-opacity:1; fill:none\" points=\"\n",
       "  2033.38,1487.47 2033.38,1465.87 \n",
       "  \"/>\n",
       "<polyline clip-path=\"url(#clip6600)\" style=\"stroke:#000000; stroke-width:4; stroke-opacity:1; fill:none\" points=\"\n",
       "  2290.94,1487.47 2290.94,1465.87 \n",
       "  \"/>\n",
       "<polyline clip-path=\"url(#clip6600)\" style=\"stroke:#000000; stroke-width:4; stroke-opacity:1; fill:none\" points=\"\n",
       "  168.627,1435.94 201.389,1435.94 \n",
       "  \"/>\n",
       "<polyline clip-path=\"url(#clip6600)\" style=\"stroke:#000000; stroke-width:4; stroke-opacity:1; fill:none\" points=\"\n",
       "  168.627,1227.16 201.389,1227.16 \n",
       "  \"/>\n",
       "<polyline clip-path=\"url(#clip6600)\" style=\"stroke:#000000; stroke-width:4; stroke-opacity:1; fill:none\" points=\"\n",
       "  168.627,1018.38 201.389,1018.38 \n",
       "  \"/>\n",
       "<polyline clip-path=\"url(#clip6600)\" style=\"stroke:#000000; stroke-width:4; stroke-opacity:1; fill:none\" points=\"\n",
       "  168.627,809.594 201.389,809.594 \n",
       "  \"/>\n",
       "<polyline clip-path=\"url(#clip6600)\" style=\"stroke:#000000; stroke-width:4; stroke-opacity:1; fill:none\" points=\"\n",
       "  168.627,600.811 201.389,600.811 \n",
       "  \"/>\n",
       "<polyline clip-path=\"url(#clip6600)\" style=\"stroke:#000000; stroke-width:4; stroke-opacity:1; fill:none\" points=\"\n",
       "  168.627,392.028 201.389,392.028 \n",
       "  \"/>\n",
       "<polyline clip-path=\"url(#clip6600)\" style=\"stroke:#000000; stroke-width:4; stroke-opacity:1; fill:none\" points=\"\n",
       "  168.627,183.245 201.389,183.245 \n",
       "  \"/>\n",
       "<g clip-path=\"url(#clip6600)\">\n",
       "<text style=\"fill:#000000; fill-opacity:1; font-family:Arial,Helvetica Neue,Helvetica,sans-serif; font-size:48px; text-anchor:middle;\" transform=\"rotate(0, 230.442, 1541.47)\" x=\"230.442\" y=\"1541.47\">2</text>\n",
       "</g>\n",
       "<g clip-path=\"url(#clip6600)\">\n",
       "<text style=\"fill:#000000; fill-opacity:1; font-family:Arial,Helvetica Neue,Helvetica,sans-serif; font-size:48px; text-anchor:middle;\" transform=\"rotate(0, 488.004, 1541.47)\" x=\"488.004\" y=\"1541.47\">3</text>\n",
       "</g>\n",
       "<g clip-path=\"url(#clip6600)\">\n",
       "<text style=\"fill:#000000; fill-opacity:1; font-family:Arial,Helvetica Neue,Helvetica,sans-serif; font-size:48px; text-anchor:middle;\" transform=\"rotate(0, 745.567, 1541.47)\" x=\"745.567\" y=\"1541.47\">4</text>\n",
       "</g>\n",
       "<g clip-path=\"url(#clip6600)\">\n",
       "<text style=\"fill:#000000; fill-opacity:1; font-family:Arial,Helvetica Neue,Helvetica,sans-serif; font-size:48px; text-anchor:middle;\" transform=\"rotate(0, 1003.13, 1541.47)\" x=\"1003.13\" y=\"1541.47\">5</text>\n",
       "</g>\n",
       "<g clip-path=\"url(#clip6600)\">\n",
       "<text style=\"fill:#000000; fill-opacity:1; font-family:Arial,Helvetica Neue,Helvetica,sans-serif; font-size:48px; text-anchor:middle;\" transform=\"rotate(0, 1260.69, 1541.47)\" x=\"1260.69\" y=\"1541.47\">6</text>\n",
       "</g>\n",
       "<g clip-path=\"url(#clip6600)\">\n",
       "<text style=\"fill:#000000; fill-opacity:1; font-family:Arial,Helvetica Neue,Helvetica,sans-serif; font-size:48px; text-anchor:middle;\" transform=\"rotate(0, 1518.25, 1541.47)\" x=\"1518.25\" y=\"1541.47\">7</text>\n",
       "</g>\n",
       "<g clip-path=\"url(#clip6600)\">\n",
       "<text style=\"fill:#000000; fill-opacity:1; font-family:Arial,Helvetica Neue,Helvetica,sans-serif; font-size:48px; text-anchor:middle;\" transform=\"rotate(0, 1775.82, 1541.47)\" x=\"1775.82\" y=\"1541.47\">8</text>\n",
       "</g>\n",
       "<g clip-path=\"url(#clip6600)\">\n",
       "<text style=\"fill:#000000; fill-opacity:1; font-family:Arial,Helvetica Neue,Helvetica,sans-serif; font-size:48px; text-anchor:middle;\" transform=\"rotate(0, 2033.38, 1541.47)\" x=\"2033.38\" y=\"1541.47\">9</text>\n",
       "</g>\n",
       "<g clip-path=\"url(#clip6600)\">\n",
       "<text style=\"fill:#000000; fill-opacity:1; font-family:Arial,Helvetica Neue,Helvetica,sans-serif; font-size:48px; text-anchor:middle;\" transform=\"rotate(0, 2290.94, 1541.47)\" x=\"2290.94\" y=\"1541.47\">10</text>\n",
       "</g>\n",
       "<g clip-path=\"url(#clip6600)\">\n",
       "<text style=\"fill:#000000; fill-opacity:1; font-family:Arial,Helvetica Neue,Helvetica,sans-serif; font-size:48px; text-anchor:end;\" transform=\"rotate(0, 144.627, 1453.44)\" x=\"144.627\" y=\"1453.44\">-30</text>\n",
       "</g>\n",
       "<g clip-path=\"url(#clip6600)\">\n",
       "<text style=\"fill:#000000; fill-opacity:1; font-family:Arial,Helvetica Neue,Helvetica,sans-serif; font-size:48px; text-anchor:end;\" transform=\"rotate(0, 144.627, 1244.66)\" x=\"144.627\" y=\"1244.66\">-20</text>\n",
       "</g>\n",
       "<g clip-path=\"url(#clip6600)\">\n",
       "<text style=\"fill:#000000; fill-opacity:1; font-family:Arial,Helvetica Neue,Helvetica,sans-serif; font-size:48px; text-anchor:end;\" transform=\"rotate(0, 144.627, 1035.88)\" x=\"144.627\" y=\"1035.88\">-10</text>\n",
       "</g>\n",
       "<g clip-path=\"url(#clip6600)\">\n",
       "<text style=\"fill:#000000; fill-opacity:1; font-family:Arial,Helvetica Neue,Helvetica,sans-serif; font-size:48px; text-anchor:end;\" transform=\"rotate(0, 144.627, 827.094)\" x=\"144.627\" y=\"827.094\">0</text>\n",
       "</g>\n",
       "<g clip-path=\"url(#clip6600)\">\n",
       "<text style=\"fill:#000000; fill-opacity:1; font-family:Arial,Helvetica Neue,Helvetica,sans-serif; font-size:48px; text-anchor:end;\" transform=\"rotate(0, 144.627, 618.311)\" x=\"144.627\" y=\"618.311\">10</text>\n",
       "</g>\n",
       "<g clip-path=\"url(#clip6600)\">\n",
       "<text style=\"fill:#000000; fill-opacity:1; font-family:Arial,Helvetica Neue,Helvetica,sans-serif; font-size:48px; text-anchor:end;\" transform=\"rotate(0, 144.627, 409.528)\" x=\"144.627\" y=\"409.528\">20</text>\n",
       "</g>\n",
       "<g clip-path=\"url(#clip6600)\">\n",
       "<text style=\"fill:#000000; fill-opacity:1; font-family:Arial,Helvetica Neue,Helvetica,sans-serif; font-size:48px; text-anchor:end;\" transform=\"rotate(0, 144.627, 200.745)\" x=\"144.627\" y=\"200.745\">30</text>\n",
       "</g>\n",
       "<polyline clip-path=\"url(#clip6602)\" style=\"stroke:#009af9; stroke-width:4; stroke-opacity:1; fill:none\" points=\"\n",
       "  230.442,826.075 256.198,988.003 281.954,815.864 307.711,700.412 333.467,816.565 359.223,799.702 384.979,756.649 410.736,927.53 436.492,1316.33 462.248,793.575 \n",
       "  488.004,886.157 513.76,832.582 539.517,830.558 565.273,718.403 591.029,650.204 616.785,659.154 642.542,836.595 668.298,863.595 694.054,900.841 719.81,824.755 \n",
       "  745.567,851.02 771.323,829.614 797.079,822.622 822.835,812.969 848.592,792.456 874.348,88.0053 900.104,864.548 925.86,841.539 951.617,832.818 977.373,826.249 \n",
       "  1003.13,791.389 1028.89,753.992 1054.64,843.386 1080.4,830.416 1106.15,826.24 1131.91,814.282 1157.67,979.984 1183.42,836.651 1209.18,830.138 1234.94,825.736 \n",
       "  1260.69,815.386 1286.45,835.458 1312.2,827.031 1337.96,824.856 1363.72,824.561 1389.47,817.55 1415.23,819.214 1440.99,818.56 1466.74,817.893 1492.5,816.805 \n",
       "  1518.25,816.761 1544.01,818.418 1569.77,813.528 1595.52,812.27 1621.28,810.986 1647.03,807.182 1672.79,797.081 1698.55,442.192 1724.3,827.621 1750.06,819.749 \n",
       "  1775.82,817.38 1801.57,816.848 1827.33,815.001 1853.08,816.424 1878.84,811.121 1904.6,796.359 1930.35,811.126 1956.11,809.652 1981.87,819.748 2007.62,1446.71 \n",
       "  2033.38,810.56 2059.13,808.381 2084.89,864.637 2110.65,815.778 2136.4,814.659 2162.16,813.752 2187.92,813.565 2213.67,809.748 2239.43,801.463 2265.18,812.912 \n",
       "  2290.94,811.078 \n",
       "  \"/>\n",
       "<path clip-path=\"url(#clip6600)\" d=\"\n",
       "M1944.44 251.724 L2280.76 251.724 L2280.76 130.764 L1944.44 130.764  Z\n",
       "  \" fill=\"#fffff0\" fill-rule=\"evenodd\" fill-opacity=\"1\"/>\n",
       "<polyline clip-path=\"url(#clip6600)\" style=\"stroke:#000000; stroke-width:4; stroke-opacity:1; fill:none\" points=\"\n",
       "  1944.44,251.724 2280.76,251.724 2280.76,130.764 1944.44,130.764 1944.44,251.724 \n",
       "  \"/>\n",
       "<polyline clip-path=\"url(#clip6600)\" style=\"stroke:#009af9; stroke-width:4; stroke-opacity:1; fill:none\" points=\"\n",
       "  1968.44,191.244 2112.44,191.244 \n",
       "  \"/>\n",
       "<g clip-path=\"url(#clip6600)\">\n",
       "<text style=\"fill:#000000; fill-opacity:1; font-family:Arial,Helvetica Neue,Helvetica,sans-serif; font-size:48px; text-anchor:start;\" transform=\"rotate(0, 2136.44, 208.744)\" x=\"2136.44\" y=\"208.744\">grad</text>\n",
       "</g>\n",
       "</svg>\n"
      ]
     },
     "execution_count": 40,
     "metadata": {},
     "output_type": "execute_result"
    }
   ],
   "source": [
    "plot(lambda_range,grads,label=\"grad\",xticks = 0:1:lambda_max, background_color = :ivory, legend=:topright)\n",
    "#plot!(lambda_range,costs,label=\"cost\",xticks = 0:5:lambda_max, background_color = :ivory, legend=:bottomright)"
   ]
  },
  {
   "cell_type": "markdown",
   "metadata": {},
   "source": [
    "## Trust Region Algorithm\n",
    "We will use a nonsmooth trust region strategy to solve this problem. This method will consider a local quadratic model described by \n",
    "\n",
    "$$\n",
    "q_k(s) = j(\\lambda_k)+g_k^\\top s + \\frac{1}{2}s^\\top H_k s\n",
    "$$\n",
    "\n",
    "where $s$ is the descent direction, $g_k$ will be the gradient at iteration $k$ and $H_k$ will be a matrix with second order information that can be obtained using SR1 or BFGS method.\n",
    "The trust region radius will be $\\Delta_k$ and the actual and predicted reductions are given by\n",
    "\n",
    "$$\n",
    "ared(s_k) := j(\\lambda_k)-j(\\lambda_k+s_k),\\;pred(s_k) := j(\\lambda_k)-q_k(s_k)\n",
    "$$\n",
    "\n",
    "and the step quality will be given by the following quotient\n",
    "\n",
    "$$\n",
    "\\rho_k(s_k) = \\frac{ared(s_k)}{pred(s_k)}\n",
    "$$"
   ]
  },
  {
   "cell_type": "code",
   "execution_count": 198,
   "metadata": {},
   "outputs": [
    {
     "data": {
      "text/plain": [
       "trust_region_solver (generic function with 1 method)"
      ]
     },
     "execution_count": 198,
     "metadata": {},
     "output_type": "execute_result"
    }
   ],
   "source": [
    "include(\"trust_region_solver.jl\")"
   ]
  },
  {
   "cell_type": "code",
   "execution_count": 203,
   "metadata": {},
   "outputs": [
    {
     "data": {
      "text/plain": [
       "1"
      ]
     },
     "execution_count": 203,
     "metadata": {},
     "output_type": "execute_result"
    }
   ],
   "source": [
    "lambda_0 = 8\n",
    "radius_0 = 5\n",
    "tol = 1e-6\n",
    "check = 1"
   ]
  },
  {
   "cell_type": "code",
   "execution_count": 204,
   "metadata": {},
   "outputs": [
    {
     "name": "stdout",
     "output_type": "stream",
     "text": [
      "TR Iteration 1: \tlambda = 8.0, rho_k = -0.017, radius = 5, g_k = -2.878, s_k = 5.0, H_k = 0.0\n",
      "TR Iteration 2: \tlambda = 8.0, rho_k = 0.007, radius = 2.5, g_k = -2.878, s_k = 2.5, H_k = 0.0\n",
      "TR Iteration 3: \tlambda = 8.0, rho_k = 0.022, radius = 1.25, g_k = -2.878, s_k = 1.25, H_k = 0.0\n",
      "TR Iteration 4: \tlambda = 8.0, rho_k = 0.031, radius = 0.625, g_k = -2.878, s_k = 0.625, H_k = 0.0\n",
      "TR Iteration 5: \tlambda = 8.0, rho_k = 0.035, radius = 0.3125, g_k = -2.878, s_k = 0.312, H_k = 0.0\n",
      "TR Iteration 6: \tlambda = 8.0, rho_k = 0.038, radius = 0.15625, g_k = -2.878, s_k = 0.156, H_k = 0.0\n",
      "TR Iteration 7: \tlambda = 8.0, rho_k = 0.456, radius = 0.078125, g_k = -0.247, s_k = 0.078, H_k = 0.0\n",
      "TR Iteration 8: \tlambda = 8.0781, rho_k = 0.711, radius = 0.15625, g_k = -0.143, s_k = 0.156, H_k = 0.0\n",
      "TR Iteration 9: \tlambda = 8.2344, rho_k = -0.237, radius = 0.3125, g_k = 0.462, s_k = -0.312, H_k = 0.0\n",
      "TR Iteration 10: \tlambda = 8.2344, rho_k = -0.221, radius = 0.15625, g_k = 0.462, s_k = -0.156, H_k = 0.0\n",
      "TR Iteration 11: \tlambda = 8.2344, rho_k = 0.42, radius = 0.078125, g_k = -0.218, s_k = 0.078, H_k = 0.0\n",
      "TR Iteration 12: \tlambda = 8.3125, rho_k = 0.15, radius = 0.15625, g_k = -0.546, s_k = 0.156, H_k = 0.0\n",
      "TR Iteration 13: \tlambda = 8.4688, rho_k = 0.099, radius = 0.3125, g_k = -0.631, s_k = 0.312, H_k = 0.0\n",
      "TR Iteration 14: \tlambda = 8.4688, rho_k = 0.109, radius = 0.15625, g_k = -0.631, s_k = 0.156, H_k = 0.0\n",
      "TR Iteration 15: \tlambda = 8.625, rho_k = 0.178, radius = 0.3125, g_k = -0.286, s_k = 0.312, H_k = 0.0\n",
      "TR Iteration 16: \tlambda = 8.9375, rho_k = 0.084, radius = 0.625, g_k = -0.208, s_k = 0.625, H_k = 0.0\n",
      "TR Iteration 17: \tlambda = 8.9375, rho_k = 0.137, radius = 0.3125, g_k = -0.208, s_k = 0.312, H_k = 0.0\n",
      "TR Iteration 18: \tlambda = 9.25, rho_k = -0.048, radius = 0.625, g_k = -0.083, s_k = 0.625, H_k = 0.0\n",
      "TR Iteration 19: \tlambda = 9.25, rho_k = 0.079, radius = 0.3125, g_k = -0.083, s_k = 0.312, H_k = 0.0\n",
      "TR Iteration 20: \tlambda = 9.25, rho_k = 0.144, radius = 0.15625, g_k = -0.083, s_k = 0.156, H_k = 0.0\n",
      "TR Iteration 21: \tlambda = 9.4062, rho_k = -0.014, radius = 0.3125, g_k = -0.302, s_k = 0.312, H_k = 0.0\n",
      "TR Iteration 22: \tlambda = 9.4062, rho_k = 0.004, radius = 0.15625, g_k = -0.302, s_k = 0.156, H_k = 0.0\n",
      "TR Iteration 23: \tlambda = 9.4062, rho_k = 0.025, radius = 0.078125, g_k = -0.153, s_k = 0.078, H_k = 0.0\n",
      "TR Iteration 24: \tlambda = 9.4062, rho_k = 0.034, radius = 0.0390625, g_k = -0.153, s_k = 0.039, H_k = 0.0\n",
      "TR Iteration 25: \tlambda = 9.4062, rho_k = 0.039, radius = 0.01953125, g_k = -0.153, s_k = 0.02, H_k = 0.0\n",
      "TR Iteration 26: \tlambda = 9.4062, rho_k = 0.041, radius = 0.009765625, g_k = -0.153, s_k = 0.01, H_k = 0.0\n",
      "TR Iteration 27: \tlambda = 9.4062, rho_k = 0.042, radius = 0.0048828125, g_k = -0.153, s_k = 0.005, H_k = 0.0\n",
      "TR Iteration 28: \tlambda = 9.4062, rho_k = 0.043, radius = 0.00244140625, g_k = -0.153, s_k = 0.002, H_k = 0.0\n",
      "TR Iteration 29: \tlambda = 9.4062, rho_k = 0.043, radius = 0.001220703125, g_k = -0.153, s_k = 0.001, H_k = 0.0\n",
      "TR Iteration 30: \tlambda = 9.4062, rho_k = 0.043, radius = 0.0006103515625, g_k = -0.153, s_k = 0.001, H_k = 0.0\n",
      "TR Iteration 31: \tlambda = 9.4062, rho_k = 0.043, radius = 0.00030517578125, g_k = -0.153, s_k = 0.0, H_k = 0.0\n",
      "TR Iteration 32: \tlambda = 9.4062, rho_k = 0.043, radius = 0.000152587890625, g_k = -0.153, s_k = 0.0, H_k = 0.0\n",
      "TR Iteration 33: \tlambda = 9.4062, rho_k = 0.043, radius = 7.62939453125e-5, g_k = -0.153, s_k = 0.0, H_k = 0.0\n",
      "TR Iteration 34: \tlambda = 9.4062, rho_k = 0.043, radius = 3.814697265625e-5, g_k = -0.153, s_k = 0.0, H_k = 0.0\n",
      "TR Iteration 35: \tlambda = 9.4062, rho_k = 0.043, radius = 1.9073486328125e-5, g_k = -0.153, s_k = 0.0, H_k = 0.0\n",
      "TR Iteration 36: \tlambda = 9.4062, rho_k = 0.043, radius = 9.5367431640625e-6, g_k = -0.153, s_k = 0.0, H_k = 0.0\n",
      "TR Iteration 37: \tlambda = 9.4062, rho_k = 0.043, radius = 4.76837158203125e-6, g_k = -0.153, s_k = 0.0, H_k = 0.0\n",
      "TR Iteration 38: \tlambda = 9.4062, rho_k = 0.043, radius = 2.384185791015625e-6, g_k = -0.153, s_k = 0.0, H_k = 0.0\n",
      "TR Iteration 39: \tlambda = 9.4062, rho_k = 0.043, radius = 1.1920928955078125e-6, g_k = -0.153, s_k = 0.0, H_k = 0.0\n"
     ]
    },
    {
     "data": {
      "text/plain": [
       "9.40625"
      ]
     },
     "execution_count": 204,
     "metadata": {},
     "output_type": "execute_result"
    }
   ],
   "source": [
    "model = 1\n",
    "lambda_opt_1 = trust_region_solver(lower_level_solver,upper_level_cost,lambda_0,α,f,z,radius_0,tol,model,check)"
   ]
  },
  {
   "cell_type": "code",
   "execution_count": 205,
   "metadata": {},
   "outputs": [
    {
     "name": "stdout",
     "output_type": "stream",
     "text": [
      "0.5502606778022745, 5.517607590950259\n",
      "0.2704991908102393, 10.297262025548765\n"
     ]
    },
    {
     "data": {
      "image/png": "[encoded data removed]",
      "text/plain": [
       "32×32 Array{Gray{Float64},2} with eltype Gray{Float64}:\n",
       " Gray{Float64}(0.703221)  …  Gray{Float64}(0.121967) \n",
       " Gray{Float64}(0.770621)     Gray{Float64}(0.0900339)\n",
       " Gray{Float64}(0.909326)     Gray{Float64}(0.0741576)\n",
       " Gray{Float64}(0.909326)     Gray{Float64}(0.0741565)\n",
       " Gray{Float64}(0.909326)     Gray{Float64}(0.0741529)\n",
       " Gray{Float64}(0.909325)  …  Gray{Float64}(0.0741265)\n",
       " Gray{Float64}(0.909322)     Gray{Float64}(0.0783315)\n",
       " Gray{Float64}(0.909321)     Gray{Float64}(0.0747967)\n",
       " Gray{Float64}(0.909321)     Gray{Float64}(0.0742154)\n",
       " Gray{Float64}(0.909321)     Gray{Float64}(0.0741657)\n",
       " Gray{Float64}(0.921896)  …  Gray{Float64}(0.074989) \n",
       " Gray{Float64}(0.921896)     Gray{Float64}(0.0750614)\n",
       " Gray{Float64}(0.921889)     Gray{Float64}(0.0750989)\n",
       " ⋮                        ⋱                          \n",
       " Gray{Float64}(0.933083)  …  Gray{Float64}(0.0754292)\n",
       " Gray{Float64}(0.932994)     Gray{Float64}(0.0728848)\n",
       " Gray{Float64}(0.932883)     Gray{Float64}(0.0730101)\n",
       " Gray{Float64}(0.932825)     Gray{Float64}(0.0730414)\n",
       " Gray{Float64}(0.931056)     Gray{Float64}(0.07305)  \n",
       " Gray{Float64}(0.929309)  …  Gray{Float64}(0.0730564)\n",
       " Gray{Float64}(0.929407)     Gray{Float64}(0.0730723)\n",
       " Gray{Float64}(0.929481)     Gray{Float64}(0.358033) \n",
       " Gray{Float64}(0.929539)     Gray{Float64}(0.210162) \n",
       " Gray{Float64}(0.929592)     Gray{Float64}(0.212242) \n",
       " Gray{Float64}(0.929639)  …  Gray{Float64}(0.374572) \n",
       " Gray{Float64}(0.929663)     Gray{Float64}(0.777182) "
      ]
     },
     "execution_count": 205,
     "metadata": {},
     "output_type": "execute_result"
    }
   ],
   "source": [
    "u_h = lower_level_solver(u,f,lambda_opt_1,K)\n",
    "println(\"$(ssim(u_h,z)), $(upper_level_cost(u_h,z,lambda_opt_1,α))\")\n",
    "println(\"$(ssim(f,z)), $(upper_level_cost(f,z,lambda_opt_1,α))\")\n",
    "Gray.(u_h)"
   ]
  },
  {
   "cell_type": "code",
   "execution_count": 206,
   "metadata": {},
   "outputs": [
    {
     "name": "stdout",
     "output_type": "stream",
     "text": [
      "TR Iteration 1: \tlambda = 8.0, rho_k = -0.018, radius = 5, g_k = -2.878, s_k = 5.0, H_k = 0.1\n",
      "TR Iteration 2: \tlambda = 8.0, rho_k = 0.007, radius = 2.5, g_k = -2.878, s_k = 2.5, H_k = 0.1\n",
      "TR Iteration 3: \tlambda = 8.0, rho_k = 0.023, radius = 1.25, g_k = -2.878, s_k = 1.25, H_k = 0.1\n",
      "TR Iteration 4: \tlambda = 8.0, rho_k = 0.031, radius = 0.625, g_k = -2.878, s_k = 0.625, H_k = 0.1\n",
      "TR Iteration 5: \tlambda = 8.0, rho_k = 0.036, radius = 0.3125, g_k = -2.878, s_k = 0.312, H_k = 0.1\n",
      "TR Iteration 6: \tlambda = 8.0, rho_k = 0.038, radius = 0.15625, g_k = -2.878, s_k = 0.156, H_k = 0.1\n",
      "TR Iteration 7: \tlambda = 8.0, rho_k = 0.463, radius = 0.078125, g_k = -0.247, s_k = 0.078, H_k = 0.1\n",
      "TR Iteration 8: \tlambda = 8.0781, rho_k = 2.59, radius = 0.15625, g_k = -0.143, s_k = 0.156, H_k = 1.33\n",
      "TR Iteration 9: \tlambda = 8.2344, rho_k = 0.762, radius = 0.3125, g_k = 0.462, s_k = -0.312, H_k = 3.87\n",
      "TR Iteration 10: \tlambda = 7.9219, rho_k = 0.535, radius = 0.625, g_k = -0.334, s_k = 0.086, H_k = 2.55\n",
      "TR Iteration 11: \tlambda = 8.008, rho_k = 0.217, radius = 1.25, g_k = -0.418, s_k = 0.164, H_k = -0.98\n",
      "TR Iteration 12: \tlambda = 8.1721, rho_k = 0.06, radius = 2.5, g_k = 0.119, s_k = -2.5, H_k = 3.27\n",
      "TR Iteration 13: \tlambda = 8.1721, rho_k = -1.719, radius = 1.25, g_k = 0.119, s_k = -0.036, H_k = 3.27\n",
      "TR Iteration 14: \tlambda = 8.1721, rho_k = -1.719, radius = 0.625, g_k = 0.119, s_k = -0.036, H_k = 3.27\n",
      "TR Iteration 15: \tlambda = 8.1721, rho_k = -1.719, radius = 0.3125, g_k = 0.119, s_k = -0.036, H_k = 3.27\n",
      "TR Iteration 16: \tlambda = 8.1721, rho_k = -1.719, radius = 0.15625, g_k = 0.119, s_k = -0.036, H_k = 3.27\n",
      "TR Iteration 17: \tlambda = 8.1721, rho_k = 0.872, radius = 0.078125, g_k = -0.224, s_k = 0.068, H_k = 3.27\n",
      "TR Iteration 18: \tlambda = 8.2405, rho_k = -22.431, radius = 0.15625, g_k = 0.215, s_k = -0.066, H_k = 6.41\n",
      "TR Iteration 19: \tlambda = 8.2405, rho_k = 0.854, radius = 0.078125, g_k = -0.218, s_k = 0.034, H_k = 6.41\n",
      "TR Iteration 20: \tlambda = 8.2745, rho_k = 0.49, radius = 0.15625, g_k = -0.195, s_k = 0.03, H_k = 0.68\n",
      "TR Iteration 21: \tlambda = 8.3049, rho_k = 0.019, radius = 0.3125, g_k = 1.064, s_k = -0.312, H_k = 41.47\n",
      "TR Iteration 22: \tlambda = 8.3049, rho_k = -0.169, radius = 0.15625, g_k = 1.064, s_k = -0.026, H_k = 41.47\n",
      "TR Iteration 23: \tlambda = 8.3049, rho_k = 0.826, radius = 0.078125, g_k = -0.215, s_k = 0.005, H_k = 41.47\n",
      "TR Iteration 24: \tlambda = 8.31, rho_k = 0.11, radius = 0.15625, g_k = -0.488, s_k = 0.012, H_k = -52.78\n",
      "TR Iteration 25: \tlambda = 8.3218, rho_k = -0.037, radius = 0.3125, g_k = -0.312, s_k = 0.312, H_k = 14.97\n",
      "TR Iteration 26: \tlambda = 8.3218, rho_k = 0.556, radius = 0.15625, g_k = -0.312, s_k = 0.021, H_k = 14.97\n",
      "TR Iteration 27: \tlambda = 8.3427, rho_k = 0.263, radius = 0.3125, g_k = -0.319, s_k = 0.021, H_k = -0.34\n",
      "TR Iteration 28: \tlambda = 8.364, rho_k = -0.067, radius = 0.625, g_k = -0.243, s_k = 0.625, H_k = 3.59\n",
      "TR Iteration 29: \tlambda = 8.364, rho_k = 0.669, radius = 0.3125, g_k = -0.243, s_k = 0.068, H_k = 3.59\n",
      "TR Iteration 30: \tlambda = 8.4316, rho_k = 0.666, radius = 0.625, g_k = 0.395, s_k = -0.11, H_k = 9.43\n",
      "TR Iteration 31: \tlambda = 8.3214, rho_k = 0.418, radius = 1.25, g_k = -0.313, s_k = 0.033, H_k = 6.43\n",
      "TR Iteration 32: \tlambda = 8.3545, rho_k = 0.378, radius = 2.5, g_k = -0.255, s_k = 0.04, H_k = 1.75\n",
      "TR Iteration 33: \tlambda = 8.3942, rho_k = 1.034, radius = 5.0, g_k = -0.175, s_k = 0.1, H_k = 2.01\n",
      "TR Iteration 34: \tlambda = 8.4942, rho_k = 0.281, radius = 10.0, g_k = -0.22, s_k = 0.11, H_k = -0.45\n",
      "TR Iteration 35: \tlambda = 8.6037, rho_k = 0.021, radius = 20.0, g_k = -0.097, s_k = 20.0, H_k = 1.12\n",
      "TR Iteration 36: \tlambda = 8.6037, rho_k = 1.259, radius = 10.0, g_k = -0.097, s_k = 0.086, H_k = 1.12\n",
      "TR Iteration 37: \tlambda = 8.69, rho_k = 1.64, radius = 20.0, g_k = 0.147, s_k = -0.131, H_k = 2.83\n",
      "TR Iteration 38: \tlambda = 8.5589, rho_k = 0.562, radius = 40.0, g_k = -0.24, s_k = 0.085, H_k = 2.95\n",
      "TR Iteration 39: \tlambda = 8.6436, rho_k = 0.476, radius = 80.0, g_k = -0.151, s_k = 0.051, H_k = 1.04\n",
      "TR Iteration 40: \tlambda = 8.6948, rho_k = 0.201, radius = 160.0, g_k = 0.163, s_k = -0.156, H_k = 6.13\n",
      "TR Iteration 41: \tlambda = 8.5389, rho_k = 0.392, radius = 320.0, g_k = -0.216, s_k = 0.035, H_k = 2.43\n",
      "TR Iteration 42: \tlambda = 8.5742, rho_k = 0.945, radius = 640.0, g_k = -0.133, s_k = 0.055, H_k = 2.37\n",
      "TR Iteration 43: \tlambda = 8.6289, rho_k = 0.003, radius = 1280.0, g_k = 3.705, s_k = -1.565, H_k = 70.28\n",
      "TR Iteration 44: \tlambda = 8.6289, rho_k = -0.035, radius = 640.0, g_k = 3.705, s_k = -0.053, H_k = 70.28\n",
      "TR Iteration 45: \tlambda = 8.6289, rho_k = -0.035, radius = 320.0, g_k = 3.705, s_k = -0.053, H_k = 70.28\n",
      "TR Iteration 46: \tlambda = 8.6289, rho_k = -0.035, radius = 160.0, g_k = 3.705, s_k = -0.053, H_k = 70.28\n",
      "TR Iteration 47: \tlambda = 8.6289, rho_k = -0.035, radius = 80.0, g_k = 3.705, s_k = -0.053, H_k = 70.28\n",
      "TR Iteration 48: \tlambda = 8.6289, rho_k = -0.035, radius = 40.0, g_k = 3.705, s_k = -0.053, H_k = 70.28\n",
      "TR Iteration 49: \tlambda = 8.6289, rho_k = -0.035, radius = 20.0, g_k = 3.705, s_k = -0.053, H_k = 70.28\n",
      "TR Iteration 50: \tlambda = 8.6289, rho_k = -0.035, radius = 10.0, g_k = 3.705, s_k = -0.053, H_k = 70.28\n",
      "TR Iteration 51: \tlambda = 8.6289, rho_k = -0.035, radius = 5.0, g_k = 3.705, s_k = -0.053, H_k = 70.28\n",
      "TR Iteration 52: \tlambda = 8.6289, rho_k = -0.035, radius = 2.5, g_k = 3.705, s_k = -0.053, H_k = 70.28\n",
      "TR Iteration 53: \tlambda = 8.6289, rho_k = -0.035, radius = 1.25, g_k = 3.705, s_k = -0.053, H_k = 70.28\n",
      "TR Iteration 54: \tlambda = 8.6289, rho_k = -0.035, radius = 0.625, g_k = 3.705, s_k = -0.053, H_k = 70.28\n",
      "TR Iteration 55: \tlambda = 8.6289, rho_k = -0.035, radius = 0.3125, g_k = 3.705, s_k = -0.053, H_k = 70.28\n",
      "TR Iteration 56: \tlambda = 8.6289, rho_k = -0.035, radius = 0.15625, g_k = 3.705, s_k = -0.053, H_k = 70.28\n",
      "TR Iteration 57: \tlambda = 8.6289, rho_k = 5.578, radius = 0.078125, g_k = -0.022, s_k = 0.0, H_k = 70.28\n",
      "TR Iteration 58: \tlambda = 8.6292, rho_k = 0.003, radius = 0.15625, g_k = 1.033, s_k = -0.015, H_k = 3316.68\n",
      "TR Iteration 59: \tlambda = 8.6292, rho_k = 5.466, radius = 0.078125, g_k = -0.023, s_k = 0.0, H_k = 3316.68\n",
      "TR Iteration 60: \tlambda = 8.6292, rho_k = 0.003, radius = 0.15625, g_k = 1.015, s_k = -0.0, H_k = 150940.25\n",
      "TR Iteration 61: \tlambda = 8.6292, rho_k = 5.464, radius = 0.078125, g_k = -0.023, s_k = 0.0, H_k = 150940.25\n",
      "TR Iteration 62: \tlambda = 8.6292, rho_k = 0.003, radius = 0.15625, g_k = 1.015, s_k = -0.0, H_k = 6.86384293e6\n",
      "TR Iteration 63: \tlambda = 8.6292, rho_k = 5.464, radius = 0.078125, g_k = -0.023, s_k = 0.0, H_k = 6.86384293e6\n",
      "TR Iteration 64: \tlambda = 8.6292, rho_k = 0.003, radius = 0.15625, g_k = 1.015, s_k = -0.0, H_k = 3.1212037641e8\n",
      "TR Iteration 65: \tlambda = 8.6292, rho_k = 5.465, radius = 0.078125, g_k = -0.023, s_k = 0.0, H_k = 3.1212037641e8\n",
      "TR Iteration 66: \tlambda = 8.6292, rho_k = 0.003, radius = 0.15625, g_k = 1.015, s_k = -0.0, H_k = 1.419291933019e10\n",
      "TR Iteration 67: \tlambda = 8.6292, rho_k = 5.376, radius = 0.078125, g_k = -0.023, s_k = 0.0, H_k = 1.419291933019e10\n",
      "TR Iteration 68: \tlambda = 8.6292, rho_k = 0.003, radius = 0.15625, g_k = 1.015, s_k = -0.0, H_k = 6.4537791654436e11\n",
      "TR Iteration 69: \tlambda = 8.6292, rho_k = 8.809, radius = 0.078125, g_k = -0.023, s_k = 0.0, H_k = 6.4537791654436e11\n",
      "TR Iteration 70: \tlambda = 8.6292, rho_k = 0.003, radius = 0.15625, g_k = 1.015, s_k = -0.0, H_k = 2.920335068798599e13\n",
      "TR Iteration 71: \tlambda = 8.6292, rho_k = 0.0, radius = 0.078125, g_k = -0.023, s_k = 0.0, H_k = 2.920335068798599e13\n",
      "TR Iteration 72: \tlambda = 8.6292, rho_k = 0.0, radius = 0.0390625, g_k = -0.023, s_k = 0.0, H_k = 2.920335068798599e13\n",
      "TR Iteration 73: \tlambda = 8.6292, rho_k = 0.0, radius = 0.01953125, g_k = -0.023, s_k = 0.0, H_k = 2.920335068798599e13\n",
      "TR Iteration 74: \tlambda = 8.6292, rho_k = 0.0, radius = 0.009765625, g_k = -0.023, s_k = 0.0, H_k = 2.920335068798599e13\n",
      "TR Iteration 75: \tlambda = 8.6292, rho_k = 0.0, radius = 0.0048828125, g_k = -0.023, s_k = 0.0, H_k = 2.920335068798599e13\n",
      "TR Iteration 76: \tlambda = 8.6292, rho_k = 0.0, radius = 0.00244140625, g_k = -0.023, s_k = 0.0, H_k = 2.920335068798599e13\n",
      "TR Iteration 77: \tlambda = 8.6292, rho_k = 0.0, radius = 0.001220703125, g_k = -0.023, s_k = 0.0, H_k = 2.920335068798599e13\n"
     ]
    },
    {
     "name": "stdout",
     "output_type": "stream",
     "text": [
      "TR Iteration 78: \tlambda = 8.6292, rho_k = 0.0, radius = 0.0006103515625, g_k = -0.023, s_k = 0.0, H_k = 2.920335068798599e13\n",
      "TR Iteration 79: \tlambda = 8.6292, rho_k = 0.0, radius = 0.00030517578125, g_k = -0.023, s_k = 0.0, H_k = 2.920335068798599e13\n",
      "TR Iteration 80: \tlambda = 8.6292, rho_k = 0.0, radius = 0.000152587890625, g_k = -0.023, s_k = 0.0, H_k = 2.920335068798599e13\n",
      "TR Iteration 81: \tlambda = 8.6292, rho_k = 0.0, radius = 7.62939453125e-5, g_k = -0.023, s_k = 0.0, H_k = 2.920335068798599e13\n",
      "TR Iteration 82: \tlambda = 8.6292, rho_k = 0.0, radius = 3.814697265625e-5, g_k = -0.023, s_k = 0.0, H_k = 2.920335068798599e13\n",
      "TR Iteration 83: \tlambda = 8.6292, rho_k = 0.0, radius = 1.9073486328125e-5, g_k = -0.023, s_k = 0.0, H_k = 2.920335068798599e13\n",
      "TR Iteration 84: \tlambda = 8.6292, rho_k = 0.0, radius = 9.5367431640625e-6, g_k = -0.023, s_k = 0.0, H_k = 2.920335068798599e13\n",
      "TR Iteration 85: \tlambda = 8.6292, rho_k = 0.0, radius = 4.76837158203125e-6, g_k = -0.023, s_k = 0.0, H_k = 2.920335068798599e13\n",
      "TR Iteration 86: \tlambda = 8.6292, rho_k = 0.0, radius = 2.384185791015625e-6, g_k = -0.023, s_k = 0.0, H_k = 2.920335068798599e13\n",
      "TR Iteration 87: \tlambda = 8.6292, rho_k = 0.0, radius = 1.1920928955078125e-6, g_k = -0.023, s_k = 0.0, H_k = 2.920335068798599e13\n"
     ]
    },
    {
     "data": {
      "text/plain": [
       "8.62917613171539"
      ]
     },
     "execution_count": 206,
     "metadata": {},
     "output_type": "execute_result"
    }
   ],
   "source": [
    "model = 2 # SR1 Model\n",
    "lambda_opt_2 = trust_region_solver(lower_level_solver,upper_level_cost,lambda_0,α,f,z,radius_0,tol,model,check)"
   ]
  },
  {
   "cell_type": "code",
   "execution_count": 208,
   "metadata": {},
   "outputs": [
    {
     "name": "stdout",
     "output_type": "stream",
     "text": [
      "0.570096987426224, 5.543573760878814\n",
      "0.2704991908102393, 10.227187733797098\n"
     ]
    },
    {
     "data": {
      "image/png": "[encoded data removed]",
      "text/plain": [
       "32×32 Array{Gray{Float64},2} with eltype Gray{Float64}:\n",
       " Gray{Float64}(0.698612)  …  Gray{Float64}(0.11606)  \n",
       " Gray{Float64}(0.756588)     Gray{Float64}(0.0960529)\n",
       " Gray{Float64}(0.909871)     Gray{Float64}(0.0768163)\n",
       " Gray{Float64}(0.909871)     Gray{Float64}(0.0768153)\n",
       " Gray{Float64}(0.909871)     Gray{Float64}(0.0768146)\n",
       " Gray{Float64}(0.909871)  …  Gray{Float64}(0.0768148)\n",
       " Gray{Float64}(0.909871)     Gray{Float64}(0.0768165)\n",
       " Gray{Float64}(0.909871)     Gray{Float64}(0.0768197)\n",
       " Gray{Float64}(0.909871)     Gray{Float64}(0.0768238)\n",
       " Gray{Float64}(0.909871)     Gray{Float64}(0.0768276)\n",
       " Gray{Float64}(0.920163)  …  Gray{Float64}(0.0770438)\n",
       " Gray{Float64}(0.920165)     Gray{Float64}(0.0770629)\n",
       " Gray{Float64}(0.92016)      Gray{Float64}(0.0770765)\n",
       " ⋮                        ⋱                          \n",
       " Gray{Float64}(0.928837)  …  Gray{Float64}(0.0770525)\n",
       " Gray{Float64}(0.928807)     Gray{Float64}(0.0769562)\n",
       " Gray{Float64}(0.928771)     Gray{Float64}(0.0768994)\n",
       " Gray{Float64}(0.928739)     Gray{Float64}(0.0768658)\n",
       " Gray{Float64}(0.928694)     Gray{Float64}(0.0768463)\n",
       " Gray{Float64}(0.92866)   …  Gray{Float64}(0.0768367)\n",
       " Gray{Float64}(0.928632)     Gray{Float64}(0.0770381)\n",
       " Gray{Float64}(0.928606)     Gray{Float64}(0.339867) \n",
       " Gray{Float64}(0.928584)     Gray{Float64}(0.212246) \n",
       " Gray{Float64}(0.928567)     Gray{Float64}(0.218499) \n",
       " Gray{Float64}(0.928555)  …  Gray{Float64}(0.385512) \n",
       " Gray{Float64}(0.928548)     Gray{Float64}(0.771619) "
      ]
     },
     "execution_count": 208,
     "metadata": {},
     "output_type": "execute_result"
    }
   ],
   "source": [
    "u_h = lower_level_solver(u,f,lambda_opt_2,K)\n",
    "println(\"$(ssim(u_h,z)), $(upper_level_cost(u_h,z,lambda_opt_2,α))\")\n",
    "println(\"$(ssim(f,z)), $(upper_level_cost(f,z,lambda_opt_2,α))\")\n",
    "Gray.(u_h)"
   ]
  },
  {
   "cell_type": "code",
   "execution_count": 168,
   "metadata": {},
   "outputs": [
    {
     "name": "stdout",
     "output_type": "stream",
     "text": [
      "TR Iteration 1: \tlambda = 400.0, rho_k = 1.001, radius = 0.1, g_k = 4.001, s_k = -0.1, H_k = 0.1\n",
      "TR Iteration 2: \tlambda = 399.9, rho_k = 1.0, radius = 0.2, g_k = 4.0, s_k = -0.2, H_k = 0.01\n",
      "TR Iteration 3: \tlambda = 399.7, rho_k = 1.0, radius = 0.4, g_k = 3.998, s_k = -0.4, H_k = 0.01\n",
      "TR Iteration 4: \tlambda = 399.3, rho_k = 1.0, radius = 0.8, g_k = 3.994, s_k = -0.8, H_k = 0.01\n",
      "TR Iteration 5: \tlambda = 398.5, rho_k = 1.0, radius = 1.6, g_k = 3.986, s_k = -1.6, H_k = 0.01\n",
      "TR Iteration 6: \tlambda = 396.9, rho_k = 1.0, radius = 3.2, g_k = 3.97, s_k = -3.2, H_k = 0.01\n",
      "TR Iteration 7: \tlambda = 393.7, rho_k = 1.0, radius = 6.4, g_k = 3.938, s_k = -6.4, H_k = 0.01\n",
      "TR Iteration 8: \tlambda = 387.3, rho_k = 1.0, radius = 12.8, g_k = 3.874, s_k = -12.8, H_k = 0.01\n",
      "TR Iteration 9: \tlambda = 374.5, rho_k = 1.0, radius = 25.6, g_k = 3.746, s_k = -25.6, H_k = 0.01\n",
      "TR Iteration 10: \tlambda = 348.9, rho_k = 1.0, radius = 51.2, g_k = 3.49, s_k = -51.2, H_k = 0.01\n",
      "TR Iteration 11: \tlambda = 297.7, rho_k = 1.0, radius = 102.4, g_k = 2.979, s_k = -102.4, H_k = 0.01\n",
      "TR Iteration 12: \tlambda = 195.3, rho_k = 0.0, radius = 204.8, g_k = 1.956, s_k = -195.762, H_k = 0.01\n",
      "TR Iteration 13: \tlambda = 195.3, rho_k = 1.002, radius = 102.4, g_k = 1.956, s_k = -102.4, H_k = 0.01\n",
      "TR Iteration 14: \tlambda = 92.9, rho_k = 0.0, radius = 204.8, g_k = 0.942, s_k = -94.285, H_k = 0.01\n",
      "TR Iteration 15: \tlambda = 92.9, rho_k = 0.0, radius = 102.4, g_k = 0.942, s_k = -95.035, H_k = 0.01\n",
      "TR Iteration 16: \tlambda = 92.9, rho_k = 1.017, radius = 51.2, g_k = 0.942, s_k = -51.2, H_k = 0.01\n",
      "TR Iteration 17: \tlambda = 41.7, rho_k = 0.0, radius = 102.4, g_k = 0.461, s_k = -46.533, H_k = 0.01\n",
      "TR Iteration 18: \tlambda = 41.7, rho_k = 0.0, radius = 51.2, g_k = 0.461, s_k = -49.121, H_k = 0.01\n",
      "TR Iteration 19: \tlambda = 41.7, rho_k = 1.054, radius = 25.6, g_k = 0.461, s_k = -25.6, H_k = 0.01\n",
      "TR Iteration 20: \tlambda = 16.1, rho_k = -3.644, radius = 51.2, g_k = 0.122, s_k = -13.01, H_k = 0.01\n",
      "TR Iteration 21: \tlambda = 16.1, rho_k = 1.18, radius = 25.6, g_k = 0.122, s_k = -9.223, H_k = 0.01\n",
      "TR Iteration 22: \tlambda = 6.8766, rho_k = 0.072, radius = 51.2, g_k = -2.653, s_k = 51.2, H_k = 0.3\n",
      "TR Iteration 23: \tlambda = 6.8766, rho_k = -0.049, radius = 25.6, g_k = -2.653, s_k = 8.818, H_k = 0.3\n",
      "TR Iteration 24: \tlambda = 6.8766, rho_k = -0.049, radius = 12.8, g_k = -2.653, s_k = 8.818, H_k = 0.3\n",
      "TR Iteration 25: \tlambda = 6.8766, rho_k = -0.008, radius = 6.4, g_k = -2.653, s_k = 6.4, H_k = 0.3\n",
      "TR Iteration 26: \tlambda = 6.8766, rho_k = 0.039, radius = 3.2, g_k = -2.653, s_k = 3.2, H_k = 0.3\n",
      "TR Iteration 27: \tlambda = 6.8766, rho_k = 0.063, radius = 1.6, g_k = -2.653, s_k = 1.6, H_k = 0.3\n",
      "TR Iteration 28: \tlambda = 6.8766, rho_k = 0.076, radius = 0.8, g_k = -2.653, s_k = 0.8, H_k = 0.3\n",
      "TR Iteration 29: \tlambda = 6.8766, rho_k = 0.083, radius = 0.4, g_k = -2.653, s_k = 0.4, H_k = 0.3\n",
      "TR Iteration 30: \tlambda = 6.8766, rho_k = 0.087, radius = 0.2, g_k = -2.653, s_k = 0.2, H_k = 0.3\n",
      "TR Iteration 31: \tlambda = 6.8766, rho_k = -0.077, radius = 0.1, g_k = 3.229, s_k = -0.1, H_k = 0.3\n",
      "TR Iteration 32: \tlambda = 6.8766, rho_k = -0.076, radius = 0.05, g_k = 3.229, s_k = -0.05, H_k = 0.3\n",
      "TR Iteration 33: \tlambda = 6.8766, rho_k = -0.075, radius = 0.025, g_k = 3.229, s_k = -0.025, H_k = 0.3\n",
      "TR Iteration 34: \tlambda = 6.8766, rho_k = -0.074, radius = 0.0125, g_k = 3.229, s_k = -0.012, H_k = 0.3\n",
      "TR Iteration 35: \tlambda = 6.8766, rho_k = -0.073, radius = 0.00625, g_k = 3.229, s_k = -0.006, H_k = 0.3\n",
      "TR Iteration 36: \tlambda = 6.8766, rho_k = -0.072, radius = 0.003125, g_k = 3.229, s_k = -0.003, H_k = 0.3\n",
      "TR Iteration 37: \tlambda = 6.8766, rho_k = -0.068, radius = 0.0015625, g_k = 3.229, s_k = -0.002, H_k = 0.3\n",
      "TR Iteration 38: \tlambda = 6.8766, rho_k = -0.06, radius = 0.00078125, g_k = 3.229, s_k = -0.001, H_k = 0.3\n",
      "TR Iteration 39: \tlambda = 6.8766, rho_k = -0.075, radius = 0.000390625, g_k = 3.229, s_k = -0.0, H_k = 0.3\n",
      "TR Iteration 40: \tlambda = 6.8766, rho_k = -0.075, radius = 0.0001953125, g_k = 3.229, s_k = -0.0, H_k = 0.3\n",
      "TR Iteration 41: \tlambda = 6.8766, rho_k = -0.075, radius = 9.765625e-5, g_k = 3.229, s_k = -0.0, H_k = 0.3\n",
      "TR Iteration 42: \tlambda = 6.8766, rho_k = -0.075, radius = 4.8828125e-5, g_k = 3.229, s_k = -0.0, H_k = 0.3\n",
      "TR Iteration 43: \tlambda = 6.8766, rho_k = -0.075, radius = 2.44140625e-5, g_k = 3.229, s_k = -0.0, H_k = 0.3\n",
      "TR Iteration 44: \tlambda = 6.8766, rho_k = -0.075, radius = 1.220703125e-5, g_k = 3.229, s_k = -0.0, H_k = 0.3\n",
      "TR Iteration 45: \tlambda = 6.8766, rho_k = -0.075, radius = 6.103515625e-6, g_k = 3.229, s_k = -0.0, H_k = 0.3\n",
      "TR Iteration 46: \tlambda = 6.8766, rho_k = -0.075, radius = 3.0517578125e-6, g_k = 3.229, s_k = -0.0, H_k = 0.3\n",
      "TR Iteration 47: \tlambda = 6.8766, rho_k = -0.075, radius = 1.52587890625e-6, g_k = 3.229, s_k = -0.0, H_k = 0.3\n"
     ]
    },
    {
     "data": {
      "text/plain": [
       "6.876618986388056"
      ]
     },
     "execution_count": 168,
     "metadata": {},
     "output_type": "execute_result"
    }
   ],
   "source": [
    "model = 3\n",
    "lambda_opt_3 = trust_region_solver(lower_level_solver,upper_level_cost,lambda_0,α,f,z,radius_0,tol,model,check)"
   ]
  },
  {
   "cell_type": "code",
   "execution_count": 207,
   "metadata": {},
   "outputs": [
    {
     "name": "stdout",
     "output_type": "stream",
     "text": [
      "0.6019067583984108, 5.796152783571229\n",
      "0.2704991908102393, 10.09131377365603\n"
     ]
    },
    {
     "data": {
      "image/png": "[encoded data removed]",
      "text/plain": [
       "32×32 Array{Gray{Float64},2} with eltype Gray{Float64}:\n",
       " Gray{Float64}(0.68562)   …  Gray{Float64}(0.0875715)\n",
       " Gray{Float64}(0.712321)     Gray{Float64}(0.0868045)\n",
       " Gray{Float64}(0.911026)     Gray{Float64}(0.0828043)\n",
       " Gray{Float64}(0.911031)     Gray{Float64}(0.0828095)\n",
       " Gray{Float64}(0.911036)     Gray{Float64}(0.0828207)\n",
       " Gray{Float64}(0.911042)  …  Gray{Float64}(0.0828323)\n",
       " Gray{Float64}(0.911052)     Gray{Float64}(0.0828434)\n",
       " Gray{Float64}(0.911071)     Gray{Float64}(0.0828534)\n",
       " Gray{Float64}(0.911092)     Gray{Float64}(0.0828619)\n",
       " Gray{Float64}(0.911108)     Gray{Float64}(0.0828692)\n",
       " Gray{Float64}(0.916095)  …  Gray{Float64}(0.0828757)\n",
       " Gray{Float64}(0.916085)     Gray{Float64}(0.082882) \n",
       " Gray{Float64}(0.91608)      Gray{Float64}(0.0828887)\n",
       " ⋮                        ⋱                          \n",
       " Gray{Float64}(0.922222)  …  Gray{Float64}(0.0831154)\n",
       " Gray{Float64}(0.922207)     Gray{Float64}(0.0831609)\n",
       " Gray{Float64}(0.922197)     Gray{Float64}(0.0831896)\n",
       " Gray{Float64}(0.922191)     Gray{Float64}(0.0832054)\n",
       " Gray{Float64}(0.922186)     Gray{Float64}(0.0832144)\n",
       " Gray{Float64}(0.922183)  …  Gray{Float64}(0.083219) \n",
       " Gray{Float64}(0.922182)     Gray{Float64}(0.0843866)\n",
       " Gray{Float64}(0.922183)     Gray{Float64}(0.287931) \n",
       " Gray{Float64}(0.922185)     Gray{Float64}(0.213229) \n",
       " Gray{Float64}(0.922186)     Gray{Float64}(0.235773) \n",
       " Gray{Float64}(0.922188)  …  Gray{Float64}(0.415041) \n",
       " Gray{Float64}(0.922189)     Gray{Float64}(0.757202) "
      ]
     },
     "execution_count": 207,
     "metadata": {},
     "output_type": "execute_result"
    }
   ],
   "source": [
    "u_h = lower_level_solver(u,f,lambda_opt_3,K)\n",
    "println(\"$(ssim(u_h,z)), $(upper_level_cost(u_h,z,lambda_opt_3,α))\")\n",
    "println(\"$(ssim(f,z)), $(upper_level_cost(f,z,lambda_opt_3,α))\")\n",
    "Gray.(u_h)"
   ]
  },
  {
   "cell_type": "code",
   "execution_count": 131,
   "metadata": {},
   "outputs": [
    {
     "name": "stdout",
     "output_type": "stream",
     "text": [
      "0.5480135718275991\n",
      "0.27781438267156516\n"
     ]
    },
    {
     "data": {
      "image/png": "[encoded data removed]",
      "text/plain": [
       "32×32 Array{Gray{Float64},2} with eltype Gray{Float64}:\n",
       " Gray{Float64}(0.816177)  …  Gray{Float64}(0.0735079)\n",
       " Gray{Float64}(0.84574)      Gray{Float64}(0.073508) \n",
       " Gray{Float64}(0.853989)     Gray{Float64}(0.0735083)\n",
       " Gray{Float64}(0.915365)     Gray{Float64}(0.0714481)\n",
       " Gray{Float64}(0.915536)     Gray{Float64}(0.07139)  \n",
       " Gray{Float64}(0.916869)  …  Gray{Float64}(0.0713929)\n",
       " Gray{Float64}(0.92877)      Gray{Float64}(0.0713927)\n",
       " Gray{Float64}(0.92877)      Gray{Float64}(0.0713897)\n",
       " Gray{Float64}(0.928771)     Gray{Float64}(0.0713853)\n",
       " Gray{Float64}(0.928771)     Gray{Float64}(0.0713829)\n",
       " Gray{Float64}(0.933608)  …  Gray{Float64}(0.0713864)\n",
       " Gray{Float64}(0.933603)     Gray{Float64}(0.0713947)\n",
       " Gray{Float64}(0.9336)       Gray{Float64}(0.071401) \n",
       " ⋮                        ⋱                          \n",
       " Gray{Float64}(0.933587)  …  Gray{Float64}(0.0840353)\n",
       " Gray{Float64}(0.933586)     Gray{Float64}(0.0840344)\n",
       " Gray{Float64}(0.933586)     Gray{Float64}(0.0840341)\n",
       " Gray{Float64}(0.933586)     Gray{Float64}(0.0840343)\n",
       " Gray{Float64}(0.933586)     Gray{Float64}(0.116793) \n",
       " Gray{Float64}(0.931231)  …  Gray{Float64}(0.0868006)\n",
       " Gray{Float64}(0.931232)     Gray{Float64}(0.0845731)\n",
       " Gray{Float64}(0.931232)     Gray{Float64}(0.0845718)\n",
       " Gray{Float64}(0.931232)     Gray{Float64}(0.087241) \n",
       " Gray{Float64}(0.931231)     Gray{Float64}(0.0912062)\n",
       " Gray{Float64}(0.911319)  …  Gray{Float64}(0.194647) \n",
       " Gray{Float64}(0.913133)     Gray{Float64}(0.896396) "
      ]
     },
     "execution_count": 131,
     "metadata": {},
     "output_type": "execute_result"
    }
   ],
   "source": [
    "u_h = lower_level_solver(u,f,9.47,K)\n",
    "println(ssim(u_h,z))\n",
    "println(ssim(f,z))\n",
    "Gray.(u_h)"
   ]
  },
  {
   "cell_type": "code",
   "execution_count": null,
   "metadata": {},
   "outputs": [],
   "source": []
  }
 ],
 "metadata": {
  "@webio": {
   "lastCommId": null,
   "lastKernelId": null
  },
  "kernelspec": {
   "display_name": "Julia 1.2.0",
   "language": "julia",
   "name": "julia-1.2"
  },
  "language_info": {
   "file_extension": ".jl",
   "mimetype": "application/julia",
   "name": "julia",
   "version": "1.2.0"
  }
 },
 "nbformat": 4,
 "nbformat_minor": 2
}
