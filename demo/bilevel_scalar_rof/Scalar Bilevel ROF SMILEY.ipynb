{
 "cells": [
  {
   "cell_type": "markdown",
   "metadata": {},
   "source": [
    "# Scalar Bilevel ROF Single Gaussian SMILEY\n",
    "We will solve the following bilevel problem\n",
    "\n",
    "$$\n",
    "\\min_\\lambda \\|\\hat{u}-z\\|^2 + \\beta\\lambda^2\\\\\n",
    "\\text{s.t. } \\hat{u} = arg\\min_u \\frac{1}{2}\\|u-f\\|^2+\\lambda\\|\\mathbb{K} u\\|_{2,1} \n",
    "$$\n",
    "\n",
    "We will use a small dataset of one sample contaminated with gaussian noise to learn the optimal parameter for the ROF image denoising model."
   ]
  },
  {
   "cell_type": "code",
   "execution_count": 1,
   "metadata": {},
   "outputs": [],
   "source": [
    "include(\"../../src/BilevelImagingParameterLearning.jl\")\n",
    "using .BilevelImagingParameterLearning"
   ]
  },
  {
   "cell_type": "code",
   "execution_count": 2,
   "metadata": {},
   "outputs": [],
   "source": [
    "using LinearAlgebra, StructuredOptimization, AbstractOperators, Plots, Distributed, Images, ImageQualityIndexes, JLD"
   ]
  },
  {
   "cell_type": "code",
   "execution_count": 3,
   "metadata": {},
   "outputs": [
    {
     "data": {
      "image/png": "[encoded data removed]",
      "text/plain": [
       "128×128 Array{Gray{Float64},2} with eltype Gray{Float64}:\n",
       " Gray{Float64}(0.92549)   Gray{Float64}(0.968627)  …  Gray{Float64}(1.0)     \n",
       " Gray{Float64}(1.0)       Gray{Float64}(0.956863)     Gray{Float64}(0.996078)\n",
       " Gray{Float64}(1.0)       Gray{Float64}(0.984314)     Gray{Float64}(1.0)     \n",
       " Gray{Float64}(0.941176)  Gray{Float64}(0.996078)     Gray{Float64}(0.921569)\n",
       " Gray{Float64}(0.870588)  Gray{Float64}(0.929412)     Gray{Float64}(1.0)     \n",
       " Gray{Float64}(0.92549)   Gray{Float64}(0.898039)  …  Gray{Float64}(1.0)     \n",
       " Gray{Float64}(1.0)       Gray{Float64}(0.988235)     Gray{Float64}(1.0)     \n",
       " Gray{Float64}(0.937255)  Gray{Float64}(1.0)          Gray{Float64}(1.0)     \n",
       " Gray{Float64}(1.0)       Gray{Float64}(0.945098)     Gray{Float64}(1.0)     \n",
       " Gray{Float64}(0.996078)  Gray{Float64}(0.956863)     Gray{Float64}(1.0)     \n",
       " Gray{Float64}(1.0)       Gray{Float64}(0.909804)  …  Gray{Float64}(1.0)     \n",
       " Gray{Float64}(1.0)       Gray{Float64}(0.968627)     Gray{Float64}(0.905882)\n",
       " Gray{Float64}(1.0)       Gray{Float64}(1.0)          Gray{Float64}(0.886275)\n",
       " ⋮                                                 ⋱                         \n",
       " Gray{Float64}(0.929412)  Gray{Float64}(1.0)          Gray{Float64}(1.0)     \n",
       " Gray{Float64}(1.0)       Gray{Float64}(0.94902)      Gray{Float64}(1.0)     \n",
       " Gray{Float64}(0.901961)  Gray{Float64}(1.0)          Gray{Float64}(1.0)     \n",
       " Gray{Float64}(1.0)       Gray{Float64}(1.0)          Gray{Float64}(0.717647)\n",
       " Gray{Float64}(1.0)       Gray{Float64}(1.0)       …  Gray{Float64}(0.945098)\n",
       " Gray{Float64}(1.0)       Gray{Float64}(1.0)          Gray{Float64}(0.984314)\n",
       " Gray{Float64}(0.941176)  Gray{Float64}(0.996078)     Gray{Float64}(0.913725)\n",
       " Gray{Float64}(0.964706)  Gray{Float64}(1.0)          Gray{Float64}(0.862745)\n",
       " Gray{Float64}(1.0)       Gray{Float64}(0.878431)     Gray{Float64}(0.92549) \n",
       " Gray{Float64}(1.0)       Gray{Float64}(0.901961)  …  Gray{Float64}(0.87451) \n",
       " Gray{Float64}(0.917647)  Gray{Float64}(0.937255)     Gray{Float64}(1.0)     \n",
       " Gray{Float64}(0.972549)  Gray{Float64}(0.941176)     Gray{Float64}(1.0)     "
      ]
     },
     "execution_count": 3,
     "metadata": {},
     "output_type": "execute_result"
    }
   ],
   "source": [
    "# Noisy image\n",
    "f = datasetimage(\"1_smiley_noisy\",\"../../src/datasets/smiley_dataset\")\n",
    "f[f .< 0] .= 0. # Make sure pixels are in range\n",
    "f[f .> 1] .= 1.\n",
    "Gray.(f)"
   ]
  },
  {
   "cell_type": "code",
   "execution_count": 9,
   "metadata": {},
   "outputs": [
    {
     "data": {
      "image/png": "[encoded data removed]",
      "text/plain": [
       "128×128 Array{Gray{Float64},2} with eltype Gray{Float64}:\n",
       " Gray{Float64}(1.0)  Gray{Float64}(1.0)  …  Gray{Float64}(1.0)\n",
       " Gray{Float64}(1.0)  Gray{Float64}(1.0)     Gray{Float64}(1.0)\n",
       " Gray{Float64}(1.0)  Gray{Float64}(1.0)     Gray{Float64}(1.0)\n",
       " Gray{Float64}(1.0)  Gray{Float64}(1.0)     Gray{Float64}(1.0)\n",
       " Gray{Float64}(1.0)  Gray{Float64}(1.0)     Gray{Float64}(1.0)\n",
       " Gray{Float64}(1.0)  Gray{Float64}(1.0)  …  Gray{Float64}(1.0)\n",
       " Gray{Float64}(1.0)  Gray{Float64}(1.0)     Gray{Float64}(1.0)\n",
       " Gray{Float64}(1.0)  Gray{Float64}(1.0)     Gray{Float64}(1.0)\n",
       " Gray{Float64}(1.0)  Gray{Float64}(1.0)     Gray{Float64}(1.0)\n",
       " Gray{Float64}(1.0)  Gray{Float64}(1.0)     Gray{Float64}(1.0)\n",
       " Gray{Float64}(1.0)  Gray{Float64}(1.0)  …  Gray{Float64}(1.0)\n",
       " Gray{Float64}(1.0)  Gray{Float64}(1.0)     Gray{Float64}(1.0)\n",
       " Gray{Float64}(1.0)  Gray{Float64}(1.0)     Gray{Float64}(1.0)\n",
       " ⋮                                       ⋱                    \n",
       " Gray{Float64}(1.0)  Gray{Float64}(1.0)     Gray{Float64}(1.0)\n",
       " Gray{Float64}(1.0)  Gray{Float64}(1.0)     Gray{Float64}(1.0)\n",
       " Gray{Float64}(1.0)  Gray{Float64}(1.0)     Gray{Float64}(1.0)\n",
       " Gray{Float64}(1.0)  Gray{Float64}(1.0)     Gray{Float64}(1.0)\n",
       " Gray{Float64}(1.0)  Gray{Float64}(1.0)  …  Gray{Float64}(1.0)\n",
       " Gray{Float64}(1.0)  Gray{Float64}(1.0)     Gray{Float64}(1.0)\n",
       " Gray{Float64}(1.0)  Gray{Float64}(1.0)     Gray{Float64}(1.0)\n",
       " Gray{Float64}(1.0)  Gray{Float64}(1.0)     Gray{Float64}(1.0)\n",
       " Gray{Float64}(1.0)  Gray{Float64}(1.0)     Gray{Float64}(1.0)\n",
       " Gray{Float64}(1.0)  Gray{Float64}(1.0)  …  Gray{Float64}(1.0)\n",
       " Gray{Float64}(1.0)  Gray{Float64}(1.0)     Gray{Float64}(1.0)\n",
       " Gray{Float64}(1.0)  Gray{Float64}(1.0)     Gray{Float64}(1.0)"
      ]
     },
     "execution_count": 9,
     "metadata": {},
     "output_type": "execute_result"
    }
   ],
   "source": [
    "# Ground truth\n",
    "z = datasetimage(\"1_smiley_original\",\"../../src/datasets/smiley_dataset\")\n",
    "z[z .< 0] .= 0. # Make sure pixels are in range\n",
    "z[z .> 1] .= 1.\n",
    "Gray.(z)"
   ]
  },
  {
   "cell_type": "code",
   "execution_count": 10,
   "metadata": {},
   "outputs": [
    {
     "name": "stdout",
     "output_type": "stream",
     "text": [
      "SSIM: 0.41487045600825345\n",
      "PSNR: 13.07757184046984\n"
     ]
    }
   ],
   "source": [
    "println(\"SSIM: \",ssim(f,z))\n",
    "println(\"PSNR: \",psnr(f,z))"
   ]
  },
  {
   "cell_type": "markdown",
   "metadata": {},
   "source": [
    "## Bilevel Cost Function\n",
    "First, we will plot the cost function to see the form it has for this particular problem"
   ]
  },
  {
   "cell_type": "code",
   "execution_count": 6,
   "metadata": {},
   "outputs": [
    {
     "data": {
      "text/plain": [
       "upper_level_cost (generic function with 1 method)"
      ]
     },
     "execution_count": 6,
     "metadata": {},
     "output_type": "execute_result"
    }
   ],
   "source": [
    "# Lower Level Solver\n",
    "function lower_level_solver(u,f,λ,K)\n",
    "    @minimize ls(-K'*u+f) + conj(λ*norm(u,2,1,2)) with ForwardBackward(tol = 1e-3, gamma = 1/8, fast = true) \n",
    "    return -K'*(~u)+f\n",
    "end\n",
    "\n",
    "# Upper level cost\n",
    "function upper_level_cost(u,z,λ,α)\n",
    "    return 0.5*norm(u[:]-z[:])^2 + 0.5*α*norm(λ)^2\n",
    "end"
   ]
  },
  {
   "cell_type": "code",
   "execution_count": 29,
   "metadata": {},
   "outputs": [],
   "source": [
    "K = Variation(size(f)) # Define the finite differences gradient operator\n",
    "u = Variable(size(K,1)...)\n",
    "α = 0.01;"
   ]
  },
  {
   "cell_type": "code",
   "execution_count": 43,
   "metadata": {},
   "outputs": [
    {
     "name": "stdout",
     "output_type": "stream",
     "text": [
      "done\n"
     ]
    }
   ],
   "source": [
    "step = 0.01\n",
    "lambda_max = 4.0\n",
    "lambda_min = eps()\n",
    "lambda_range = lambda_min:step:lambda_max\n",
    "costs = Float64[]\n",
    "ssims = Float64[]\n",
    "@distributed for λ in lambda_range\n",
    "    u_h = lower_level_solver(u,f,λ,K)\n",
    "    push!(costs,upper_level_cost(u_h,z,λ,α))\n",
    "    push!(ssims,ssim(u_h,z))\n",
    "    #println(\"$λ $costs\")\n",
    "end\n",
    "println(\"done\")"
   ]
  },
  {
   "cell_type": "code",
   "execution_count": 44,
   "metadata": {},
   "outputs": [
    {
     "data": {
      "image/svg+xml": [
       "<?xml version=\"1.0\" encoding=\"utf-8\"?>\n",
       "<svg xmlns=\"http://www.w3.org/2000/svg\" xmlns:xlink=\"http://www.w3.org/1999/xlink\" width=\"600\" height=\"400\" viewBox=\"0 0 2400 1600\">\n",
       "<defs>\n",
       "  <clipPath id=\"clip2200\">\n",
       "    <rect x=\"0\" y=\"0\" width=\"2400\" height=\"1600\"/>\n",
       "  </clipPath>\n",
       "</defs>\n",
       "<path clip-path=\"url(#clip2200)\" d=\"\n",
       "M0 1600 L2400 1600 L2400 0 L0 0  Z\n",
       "  \" fill=\"#fffff0\" fill-rule=\"evenodd\" fill-opacity=\"1\"/>\n",
       "<defs>\n",
       "  <clipPath id=\"clip2201\">\n",
       "    <rect x=\"480\" y=\"0\" width=\"1681\" height=\"1600\"/>\n",
       "  </clipPath>\n",
       "</defs>\n",
       "<path clip-path=\"url(#clip2200)\" d=\"\n",
       "M194.041 1487.47 L2352.76 1487.47 L2352.76 47.2441 L194.041 47.2441  Z\n",
       "  \" fill=\"#fffff0\" fill-rule=\"evenodd\" fill-opacity=\"1\"/>\n",
       "<defs>\n",
       "  <clipPath id=\"clip2202\">\n",
       "    <rect x=\"194\" y=\"47\" width=\"2160\" height=\"1441\"/>\n",
       "  </clipPath>\n",
       "</defs>\n",
       "<polyline clip-path=\"url(#clip2202)\" style=\"stroke:#000000; stroke-width:2; stroke-opacity:0.1; fill:none\" points=\"\n",
       "  255.137,1487.47 255.137,47.2441 \n",
       "  \"/>\n",
       "<polyline clip-path=\"url(#clip2202)\" style=\"stroke:#000000; stroke-width:2; stroke-opacity:0.1; fill:none\" points=\"\n",
       "  764.268,1487.47 764.268,47.2441 \n",
       "  \"/>\n",
       "<polyline clip-path=\"url(#clip2202)\" style=\"stroke:#000000; stroke-width:2; stroke-opacity:0.1; fill:none\" points=\"\n",
       "  1273.4,1487.47 1273.4,47.2441 \n",
       "  \"/>\n",
       "<polyline clip-path=\"url(#clip2202)\" style=\"stroke:#000000; stroke-width:2; stroke-opacity:0.1; fill:none\" points=\"\n",
       "  1782.53,1487.47 1782.53,47.2441 \n",
       "  \"/>\n",
       "<polyline clip-path=\"url(#clip2202)\" style=\"stroke:#000000; stroke-width:2; stroke-opacity:0.1; fill:none\" points=\"\n",
       "  2291.66,1487.47 2291.66,47.2441 \n",
       "  \"/>\n",
       "<polyline clip-path=\"url(#clip2202)\" style=\"stroke:#000000; stroke-width:2; stroke-opacity:0.1; fill:none\" points=\"\n",
       "  194.041,1283.45 2352.76,1283.45 \n",
       "  \"/>\n",
       "<polyline clip-path=\"url(#clip2202)\" style=\"stroke:#000000; stroke-width:2; stroke-opacity:0.1; fill:none\" points=\"\n",
       "  194.041,1068.26 2352.76,1068.26 \n",
       "  \"/>\n",
       "<polyline clip-path=\"url(#clip2202)\" style=\"stroke:#000000; stroke-width:2; stroke-opacity:0.1; fill:none\" points=\"\n",
       "  194.041,853.072 2352.76,853.072 \n",
       "  \"/>\n",
       "<polyline clip-path=\"url(#clip2202)\" style=\"stroke:#000000; stroke-width:2; stroke-opacity:0.1; fill:none\" points=\"\n",
       "  194.041,637.881 2352.76,637.881 \n",
       "  \"/>\n",
       "<polyline clip-path=\"url(#clip2202)\" style=\"stroke:#000000; stroke-width:2; stroke-opacity:0.1; fill:none\" points=\"\n",
       "  194.041,422.691 2352.76,422.691 \n",
       "  \"/>\n",
       "<polyline clip-path=\"url(#clip2202)\" style=\"stroke:#000000; stroke-width:2; stroke-opacity:0.1; fill:none\" points=\"\n",
       "  194.041,207.5 2352.76,207.5 \n",
       "  \"/>\n",
       "<polyline clip-path=\"url(#clip2200)\" style=\"stroke:#000000; stroke-width:4; stroke-opacity:1; fill:none\" points=\"\n",
       "  194.041,1487.47 2352.76,1487.47 \n",
       "  \"/>\n",
       "<polyline clip-path=\"url(#clip2200)\" style=\"stroke:#000000; stroke-width:4; stroke-opacity:1; fill:none\" points=\"\n",
       "  194.041,1487.47 194.041,47.2441 \n",
       "  \"/>\n",
       "<polyline clip-path=\"url(#clip2200)\" style=\"stroke:#000000; stroke-width:4; stroke-opacity:1; fill:none\" points=\"\n",
       "  255.137,1487.47 255.137,1465.87 \n",
       "  \"/>\n",
       "<polyline clip-path=\"url(#clip2200)\" style=\"stroke:#000000; stroke-width:4; stroke-opacity:1; fill:none\" points=\"\n",
       "  764.268,1487.47 764.268,1465.87 \n",
       "  \"/>\n",
       "<polyline clip-path=\"url(#clip2200)\" style=\"stroke:#000000; stroke-width:4; stroke-opacity:1; fill:none\" points=\"\n",
       "  1273.4,1487.47 1273.4,1465.87 \n",
       "  \"/>\n",
       "<polyline clip-path=\"url(#clip2200)\" style=\"stroke:#000000; stroke-width:4; stroke-opacity:1; fill:none\" points=\"\n",
       "  1782.53,1487.47 1782.53,1465.87 \n",
       "  \"/>\n",
       "<polyline clip-path=\"url(#clip2200)\" style=\"stroke:#000000; stroke-width:4; stroke-opacity:1; fill:none\" points=\"\n",
       "  2291.66,1487.47 2291.66,1465.87 \n",
       "  \"/>\n",
       "<polyline clip-path=\"url(#clip2200)\" style=\"stroke:#000000; stroke-width:4; stroke-opacity:1; fill:none\" points=\"\n",
       "  194.041,1283.45 226.422,1283.45 \n",
       "  \"/>\n",
       "<polyline clip-path=\"url(#clip2200)\" style=\"stroke:#000000; stroke-width:4; stroke-opacity:1; fill:none\" points=\"\n",
       "  194.041,1068.26 226.422,1068.26 \n",
       "  \"/>\n",
       "<polyline clip-path=\"url(#clip2200)\" style=\"stroke:#000000; stroke-width:4; stroke-opacity:1; fill:none\" points=\"\n",
       "  194.041,853.072 226.422,853.072 \n",
       "  \"/>\n",
       "<polyline clip-path=\"url(#clip2200)\" style=\"stroke:#000000; stroke-width:4; stroke-opacity:1; fill:none\" points=\"\n",
       "  194.041,637.881 226.422,637.881 \n",
       "  \"/>\n",
       "<polyline clip-path=\"url(#clip2200)\" style=\"stroke:#000000; stroke-width:4; stroke-opacity:1; fill:none\" points=\"\n",
       "  194.041,422.691 226.422,422.691 \n",
       "  \"/>\n",
       "<polyline clip-path=\"url(#clip2200)\" style=\"stroke:#000000; stroke-width:4; stroke-opacity:1; fill:none\" points=\"\n",
       "  194.041,207.5 226.422,207.5 \n",
       "  \"/>\n",
       "<g clip-path=\"url(#clip2200)\">\n",
       "<text style=\"fill:#000000; fill-opacity:1; font-family:Arial,Helvetica Neue,Helvetica,sans-serif; font-size:48px; text-anchor:middle;\" transform=\"rotate(0, 255.137, 1541.47)\" x=\"255.137\" y=\"1541.47\">0</text>\n",
       "</g>\n",
       "<g clip-path=\"url(#clip2200)\">\n",
       "<text style=\"fill:#000000; fill-opacity:1; font-family:Arial,Helvetica Neue,Helvetica,sans-serif; font-size:48px; text-anchor:middle;\" transform=\"rotate(0, 764.268, 1541.47)\" x=\"764.268\" y=\"1541.47\">1</text>\n",
       "</g>\n",
       "<g clip-path=\"url(#clip2200)\">\n",
       "<text style=\"fill:#000000; fill-opacity:1; font-family:Arial,Helvetica Neue,Helvetica,sans-serif; font-size:48px; text-anchor:middle;\" transform=\"rotate(0, 1273.4, 1541.47)\" x=\"1273.4\" y=\"1541.47\">2</text>\n",
       "</g>\n",
       "<g clip-path=\"url(#clip2200)\">\n",
       "<text style=\"fill:#000000; fill-opacity:1; font-family:Arial,Helvetica Neue,Helvetica,sans-serif; font-size:48px; text-anchor:middle;\" transform=\"rotate(0, 1782.53, 1541.47)\" x=\"1782.53\" y=\"1541.47\">3</text>\n",
       "</g>\n",
       "<g clip-path=\"url(#clip2200)\">\n",
       "<text style=\"fill:#000000; fill-opacity:1; font-family:Arial,Helvetica Neue,Helvetica,sans-serif; font-size:48px; text-anchor:middle;\" transform=\"rotate(0, 2291.66, 1541.47)\" x=\"2291.66\" y=\"1541.47\">4</text>\n",
       "</g>\n",
       "<g clip-path=\"url(#clip2200)\">\n",
       "<text style=\"fill:#000000; fill-opacity:1; font-family:Arial,Helvetica Neue,Helvetica,sans-serif; font-size:48px; text-anchor:end;\" transform=\"rotate(0, 170.041, 1300.95)\" x=\"170.041\" y=\"1300.95\">400</text>\n",
       "</g>\n",
       "<g clip-path=\"url(#clip2200)\">\n",
       "<text style=\"fill:#000000; fill-opacity:1; font-family:Arial,Helvetica Neue,Helvetica,sans-serif; font-size:48px; text-anchor:end;\" transform=\"rotate(0, 170.041, 1085.76)\" x=\"170.041\" y=\"1085.76\">600</text>\n",
       "</g>\n",
       "<g clip-path=\"url(#clip2200)\">\n",
       "<text style=\"fill:#000000; fill-opacity:1; font-family:Arial,Helvetica Neue,Helvetica,sans-serif; font-size:48px; text-anchor:end;\" transform=\"rotate(0, 170.041, 870.572)\" x=\"170.041\" y=\"870.572\">800</text>\n",
       "</g>\n",
       "<g clip-path=\"url(#clip2200)\">\n",
       "<text style=\"fill:#000000; fill-opacity:1; font-family:Arial,Helvetica Neue,Helvetica,sans-serif; font-size:48px; text-anchor:end;\" transform=\"rotate(0, 170.041, 655.381)\" x=\"170.041\" y=\"655.381\">1000</text>\n",
       "</g>\n",
       "<g clip-path=\"url(#clip2200)\">\n",
       "<text style=\"fill:#000000; fill-opacity:1; font-family:Arial,Helvetica Neue,Helvetica,sans-serif; font-size:48px; text-anchor:end;\" transform=\"rotate(0, 170.041, 440.191)\" x=\"170.041\" y=\"440.191\">1200</text>\n",
       "</g>\n",
       "<g clip-path=\"url(#clip2200)\">\n",
       "<text style=\"fill:#000000; fill-opacity:1; font-family:Arial,Helvetica Neue,Helvetica,sans-serif; font-size:48px; text-anchor:end;\" transform=\"rotate(0, 170.041, 225)\" x=\"170.041\" y=\"225\">1400</text>\n",
       "</g>\n",
       "<polyline clip-path=\"url(#clip2202)\" style=\"stroke:#009af9; stroke-width:4; stroke-opacity:1; fill:none\" points=\"\n",
       "  255.137,1279.9 260.228,1309.06 265.32,1332.74 270.411,1352.07 275.502,1368.18 280.594,1381.85 285.685,1393.66 290.776,1403.93 295.868,1412.87 300.959,1420.57 \n",
       "  306.05,1427.11 311.142,1432.58 316.233,1437.04 321.324,1440.59 326.415,1443.27 331.507,1445.14 336.598,1446.27 341.689,1446.71 346.781,1446.52 351.872,1445.75 \n",
       "  356.963,1444.45 362.055,1442.69 367.146,1440.53 372.237,1438.03 377.329,1435.23 382.42,1432.19 387.511,1428.94 392.602,1425.52 397.694,1421.94 402.785,1418.23 \n",
       "  407.876,1414.39 412.968,1410.43 418.059,1406.36 423.15,1402.19 428.242,1397.93 433.333,1393.58 438.424,1389.15 443.516,1384.64 448.607,1380.07 453.698,1375.43 \n",
       "  458.789,1370.72 463.881,1365.94 468.972,1361.11 474.063,1356.21 479.155,1351.26 484.246,1346.25 489.337,1341.18 494.429,1336.06 499.52,1330.89 504.611,1325.66 \n",
       "  509.703,1320.39 514.794,1315.07 519.885,1309.7 524.976,1304.28 530.068,1298.81 535.159,1293.3 540.25,1287.74 545.342,1282.14 550.433,1276.49 555.524,1270.79 \n",
       "  560.616,1265.05 565.707,1259.26 570.798,1253.44 575.89,1247.57 580.981,1241.65 586.072,1235.69 591.163,1229.68 596.255,1223.64 601.346,1217.55 606.437,1211.41 \n",
       "  611.529,1205.24 616.62,1199.02 621.711,1192.76 626.803,1186.46 631.894,1180.12 636.985,1173.73 642.077,1167.32 647.168,1160.85 652.259,1154.34 657.35,1147.8 \n",
       "  662.442,1141.21 667.533,1134.58 672.624,1127.92 677.716,1121.21 682.807,1114.46 687.898,1107.67 692.99,1100.84 698.081,1093.97 703.172,1087.07 708.264,1080.12 \n",
       "  713.355,1073.12 718.446,1066.1 723.537,1059.03 728.629,1051.92 733.72,1044.77 738.811,1037.58 743.903,1030.36 748.994,1023.09 754.085,1015.78 759.177,1008.44 \n",
       "  764.268,1001.05 769.359,993.629 774.451,986.165 779.542,978.662 784.633,971.121 789.724,963.54 794.816,955.921 799.907,948.263 804.998,940.566 810.09,932.831 \n",
       "  815.181,925.057 820.272,917.244 825.364,909.393 830.455,901.504 835.546,893.577 840.638,885.612 845.729,877.609 850.82,869.568 855.911,861.488 861.003,853.372 \n",
       "  866.094,845.22 871.185,837.031 876.277,828.802 881.368,820.535 886.459,812.228 891.551,803.891 896.642,795.512 901.733,787.094 906.825,778.648 911.916,770.163 \n",
       "  917.007,761.638 922.098,753.075 927.19,744.481 932.281,735.846 937.372,727.182 942.464,718.48 947.555,709.746 952.646,700.982 957.738,692.18 962.829,683.35 \n",
       "  967.92,674.481 973.012,665.579 978.103,656.648 983.194,647.697 988.285,638.714 993.377,629.719 998.468,620.676 1003.56,611.642 1008.65,602.61 1013.74,593.935 \n",
       "  1018.83,585.335 1023.92,576.877 1029.02,568.611 1034.11,560.255 1039.2,553.046 1044.29,545.813 1049.38,538.571 1054.47,531.455 1059.56,524.27 1064.66,517.116 \n",
       "  1069.75,510.325 1074.84,503.875 1079.93,497.602 1085.02,491.376 1090.11,485.182 1095.2,479.061 1100.29,472.878 1105.39,466.839 1110.48,460.737 1115.57,454.694 \n",
       "  1120.66,448.708 1125.75,442.718 1130.84,436.761 1135.93,430.809 1141.02,424.785 1146.12,418.906 1151.21,412.961 1156.3,407.018 1161.39,401.097 1166.48,395.184 \n",
       "  1171.57,389.254 1176.66,383.352 1181.76,377.407 1186.85,371.45 1191.94,365.514 1197.03,359.624 1202.12,355.79 1207.21,349.695 1212.3,343.525 1217.39,337.461 \n",
       "  1222.49,331.36 1227.58,325.251 1232.67,319.166 1237.76,313.132 1242.85,307.058 1247.94,301.004 1253.03,296.052 1258.12,290.401 1263.22,285.084 1268.31,280.224 \n",
       "  1273.4,275.459 1278.49,271.06 1283.58,267.04 1288.67,263.356 1293.76,260.044 1298.86,256.698 1303.95,253.474 1309.04,250.388 1314.13,247.288 1319.22,244.238 \n",
       "  1324.31,241.08 1329.4,238.005 1334.49,235.051 1339.59,231.97 1344.68,229.067 1349.77,226.102 1354.86,223.111 1359.95,220.192 1365.04,217.272 1370.13,214.316 \n",
       "  1375.22,211.469 1380.32,208.666 1385.41,205.771 1390.5,202.988 1395.59,200.231 1400.68,197.286 1405.77,194.449 1410.86,191.904 1415.96,189.74 1421.05,186.73 \n",
       "  1426.14,184.794 1431.23,182.312 1436.32,182.76 1441.41,179.91 1446.5,178.017 1451.59,176.577 1456.69,174.775 1461.78,171.947 1466.87,172.288 1471.96,169.349 \n",
       "  1477.05,167.369 1482.14,165.49 1487.23,163.771 1492.32,162.212 1497.42,160.677 1502.51,159.174 1507.6,157.58 1512.69,155.877 1517.78,154.375 1522.87,153.082 \n",
       "  1527.96,151.566 1533.06,150.042 1538.15,148.57 1543.24,147.119 1548.33,145.889 1553.42,144.486 1558.51,142.961 1563.6,141.649 1568.69,140.279 1573.79,139.033 \n",
       "  1578.88,137.648 1583.97,136.277 1589.06,134.967 1594.15,133.49 1599.24,132.201 1604.33,130.716 1609.42,129.551 1614.52,128.183 1619.61,127.326 1624.7,125.586 \n",
       "  1629.79,124.453 1634.88,123.471 1639.97,122.429 1645.06,121.12 1650.16,119.825 1655.25,118.282 1660.34,117.212 1665.43,115.905 1670.52,114.566 1675.61,113.403 \n",
       "  1680.7,112.327 1685.79,110.884 1690.89,109.197 1695.98,108.538 1701.07,106.625 1706.16,105.446 1711.25,104.878 1716.34,103.586 1721.43,102.111 1726.53,101.058 \n",
       "  1731.62,99.787 1736.71,98.5467 1741.8,97.6567 1746.89,96.7911 1751.98,95.8632 1757.07,94.4797 1762.16,93.4836 1767.26,92.0213 1772.35,90.9737 1777.44,90.1002 \n",
       "  1782.53,89.3325 1787.62,88.831 1792.71,88.8195 1797.8,88.8081 1802.89,88.7968 1807.99,88.7855 1813.08,88.7743 1818.17,88.7632 1823.26,88.7521 1828.35,88.7412 \n",
       "  1833.44,88.7303 1838.53,88.7195 1843.63,88.7088 1848.72,88.6982 1853.81,88.6877 1858.9,88.6772 1863.99,88.6669 1869.08,88.6566 1874.17,88.6465 1879.26,88.6364 \n",
       "  1884.36,88.6264 1889.45,88.6165 1894.54,88.6066 1899.63,88.5969 1904.72,88.5872 1909.81,88.5776 1914.9,88.5681 1919.99,88.5586 1925.09,88.5492 1930.18,88.5399 \n",
       "  1935.27,88.5307 1940.36,88.5215 1945.45,88.5124 1950.54,88.5034 1955.63,88.4944 1960.73,88.4855 1965.82,88.4767 1970.91,88.4679 1976,88.4592 1981.09,88.4506 \n",
       "  1986.18,88.442 1991.27,88.4335 1996.36,88.425 2001.46,88.4166 2006.55,88.4082 2011.64,88.3999 2016.73,88.3916 2021.82,88.3834 2026.91,88.3753 2032,88.3672 \n",
       "  2037.09,88.3591 2042.19,88.3511 2047.28,88.3432 2052.37,88.3353 2057.46,88.3274 2062.55,88.3196 2067.64,88.3118 2072.73,88.3041 2077.83,88.2964 2082.92,88.2888 \n",
       "  2088.01,88.2812 2093.1,88.2736 2098.19,88.2661 2103.28,88.2586 2108.37,88.2512 2113.46,88.2438 2118.56,88.2364 2123.65,88.2291 2128.74,88.2218 2133.83,88.2145 \n",
       "  2138.92,88.2073 2144.01,88.2002 2149.1,88.193 2154.19,88.1859 2159.29,88.1788 2164.38,88.1718 2169.47,88.1648 2174.56,88.1578 2179.65,88.1508 2184.74,88.1439 \n",
       "  2189.83,88.1371 2194.93,88.1302 2200.02,88.1234 2205.11,88.1166 2210.2,88.1098 2215.29,88.1031 2220.38,88.0964 2225.47,88.0897 2230.56,88.0831 2235.66,88.0764 \n",
       "  2240.75,88.0699 2245.84,88.0633 2250.93,88.0567 2256.02,88.0502 2261.11,88.0437 2266.2,88.0373 2271.29,88.0308 2276.39,88.0244 2281.48,88.018 2286.57,88.0117 \n",
       "  2291.66,88.0053 \n",
       "  \"/>\n",
       "<path clip-path=\"url(#clip2200)\" d=\"\n",
       "M1765.24 251.724 L2280.76 251.724 L2280.76 130.764 L1765.24 130.764  Z\n",
       "  \" fill=\"#fffff0\" fill-rule=\"evenodd\" fill-opacity=\"1\"/>\n",
       "<polyline clip-path=\"url(#clip2200)\" style=\"stroke:#000000; stroke-width:4; stroke-opacity:1; fill:none\" points=\"\n",
       "  1765.24,251.724 2280.76,251.724 2280.76,130.764 1765.24,130.764 1765.24,251.724 \n",
       "  \"/>\n",
       "<polyline clip-path=\"url(#clip2200)\" style=\"stroke:#009af9; stroke-width:4; stroke-opacity:1; fill:none\" points=\"\n",
       "  1789.24,191.244 1933.24,191.244 \n",
       "  \"/>\n",
       "<g clip-path=\"url(#clip2200)\">\n",
       "<text style=\"fill:#000000; fill-opacity:1; font-family:Arial,Helvetica Neue,Helvetica,sans-serif; font-size:48px; text-anchor:start;\" transform=\"rotate(0, 1957.24, 208.744)\" x=\"1957.24\" y=\"208.744\">l2_scalar_rof</text>\n",
       "</g>\n",
       "</svg>\n"
      ]
     },
     "execution_count": 44,
     "metadata": {},
     "output_type": "execute_result"
    }
   ],
   "source": [
    "plot(lambda_range,costs,label=\"l2_scalar_rof\", background_color = :ivory)"
   ]
  },
  {
   "cell_type": "code",
   "execution_count": 45,
   "metadata": {},
   "outputs": [
    {
     "data": {
      "image/svg+xml": [
       "<?xml version=\"1.0\" encoding=\"utf-8\"?>\n",
       "<svg xmlns=\"http://www.w3.org/2000/svg\" xmlns:xlink=\"http://www.w3.org/1999/xlink\" width=\"600\" height=\"400\" viewBox=\"0 0 2400 1600\">\n",
       "<defs>\n",
       "  <clipPath id=\"clip2600\">\n",
       "    <rect x=\"0\" y=\"0\" width=\"2400\" height=\"1600\"/>\n",
       "  </clipPath>\n",
       "</defs>\n",
       "<path clip-path=\"url(#clip2600)\" d=\"\n",
       "M0 1600 L2400 1600 L2400 0 L0 0  Z\n",
       "  \" fill=\"#fffff0\" fill-rule=\"evenodd\" fill-opacity=\"1\"/>\n",
       "<defs>\n",
       "  <clipPath id=\"clip2601\">\n",
       "    <rect x=\"480\" y=\"0\" width=\"1681\" height=\"1600\"/>\n",
       "  </clipPath>\n",
       "</defs>\n",
       "<path clip-path=\"url(#clip2600)\" d=\"\n",
       "M153.898 1487.47 L2352.76 1487.47 L2352.76 47.2441 L153.898 47.2441  Z\n",
       "  \" fill=\"#fffff0\" fill-rule=\"evenodd\" fill-opacity=\"1\"/>\n",
       "<defs>\n",
       "  <clipPath id=\"clip2602\">\n",
       "    <rect x=\"153\" y=\"47\" width=\"2200\" height=\"1441\"/>\n",
       "  </clipPath>\n",
       "</defs>\n",
       "<polyline clip-path=\"url(#clip2602)\" style=\"stroke:#000000; stroke-width:2; stroke-opacity:0.1; fill:none\" points=\"\n",
       "  216.13,1487.47 216.13,47.2441 \n",
       "  \"/>\n",
       "<polyline clip-path=\"url(#clip2602)\" style=\"stroke:#000000; stroke-width:2; stroke-opacity:0.1; fill:none\" points=\"\n",
       "  734.728,1487.47 734.728,47.2441 \n",
       "  \"/>\n",
       "<polyline clip-path=\"url(#clip2602)\" style=\"stroke:#000000; stroke-width:2; stroke-opacity:0.1; fill:none\" points=\"\n",
       "  1253.33,1487.47 1253.33,47.2441 \n",
       "  \"/>\n",
       "<polyline clip-path=\"url(#clip2602)\" style=\"stroke:#000000; stroke-width:2; stroke-opacity:0.1; fill:none\" points=\"\n",
       "  1771.93,1487.47 1771.93,47.2441 \n",
       "  \"/>\n",
       "<polyline clip-path=\"url(#clip2602)\" style=\"stroke:#000000; stroke-width:2; stroke-opacity:0.1; fill:none\" points=\"\n",
       "  2290.52,1487.47 2290.52,47.2441 \n",
       "  \"/>\n",
       "<polyline clip-path=\"url(#clip2602)\" style=\"stroke:#000000; stroke-width:2; stroke-opacity:0.1; fill:none\" points=\"\n",
       "  153.898,1147.41 2352.76,1147.41 \n",
       "  \"/>\n",
       "<polyline clip-path=\"url(#clip2602)\" style=\"stroke:#000000; stroke-width:2; stroke-opacity:0.1; fill:none\" points=\"\n",
       "  153.898,795.827 2352.76,795.827 \n",
       "  \"/>\n",
       "<polyline clip-path=\"url(#clip2602)\" style=\"stroke:#000000; stroke-width:2; stroke-opacity:0.1; fill:none\" points=\"\n",
       "  153.898,444.243 2352.76,444.243 \n",
       "  \"/>\n",
       "<polyline clip-path=\"url(#clip2602)\" style=\"stroke:#000000; stroke-width:2; stroke-opacity:0.1; fill:none\" points=\"\n",
       "  153.898,92.6583 2352.76,92.6583 \n",
       "  \"/>\n",
       "<polyline clip-path=\"url(#clip2600)\" style=\"stroke:#000000; stroke-width:4; stroke-opacity:1; fill:none\" points=\"\n",
       "  153.898,1487.47 2352.76,1487.47 \n",
       "  \"/>\n",
       "<polyline clip-path=\"url(#clip2600)\" style=\"stroke:#000000; stroke-width:4; stroke-opacity:1; fill:none\" points=\"\n",
       "  153.898,1487.47 153.898,47.2441 \n",
       "  \"/>\n",
       "<polyline clip-path=\"url(#clip2600)\" style=\"stroke:#000000; stroke-width:4; stroke-opacity:1; fill:none\" points=\"\n",
       "  216.13,1487.47 216.13,1465.87 \n",
       "  \"/>\n",
       "<polyline clip-path=\"url(#clip2600)\" style=\"stroke:#000000; stroke-width:4; stroke-opacity:1; fill:none\" points=\"\n",
       "  734.728,1487.47 734.728,1465.87 \n",
       "  \"/>\n",
       "<polyline clip-path=\"url(#clip2600)\" style=\"stroke:#000000; stroke-width:4; stroke-opacity:1; fill:none\" points=\"\n",
       "  1253.33,1487.47 1253.33,1465.87 \n",
       "  \"/>\n",
       "<polyline clip-path=\"url(#clip2600)\" style=\"stroke:#000000; stroke-width:4; stroke-opacity:1; fill:none\" points=\"\n",
       "  1771.93,1487.47 1771.93,1465.87 \n",
       "  \"/>\n",
       "<polyline clip-path=\"url(#clip2600)\" style=\"stroke:#000000; stroke-width:4; stroke-opacity:1; fill:none\" points=\"\n",
       "  2290.52,1487.47 2290.52,1465.87 \n",
       "  \"/>\n",
       "<polyline clip-path=\"url(#clip2600)\" style=\"stroke:#000000; stroke-width:4; stroke-opacity:1; fill:none\" points=\"\n",
       "  153.898,1147.41 186.881,1147.41 \n",
       "  \"/>\n",
       "<polyline clip-path=\"url(#clip2600)\" style=\"stroke:#000000; stroke-width:4; stroke-opacity:1; fill:none\" points=\"\n",
       "  153.898,795.827 186.881,795.827 \n",
       "  \"/>\n",
       "<polyline clip-path=\"url(#clip2600)\" style=\"stroke:#000000; stroke-width:4; stroke-opacity:1; fill:none\" points=\"\n",
       "  153.898,444.243 186.881,444.243 \n",
       "  \"/>\n",
       "<polyline clip-path=\"url(#clip2600)\" style=\"stroke:#000000; stroke-width:4; stroke-opacity:1; fill:none\" points=\"\n",
       "  153.898,92.6583 186.881,92.6583 \n",
       "  \"/>\n",
       "<g clip-path=\"url(#clip2600)\">\n",
       "<text style=\"fill:#000000; fill-opacity:1; font-family:Arial,Helvetica Neue,Helvetica,sans-serif; font-size:48px; text-anchor:middle;\" transform=\"rotate(0, 216.13, 1541.47)\" x=\"216.13\" y=\"1541.47\">0</text>\n",
       "</g>\n",
       "<g clip-path=\"url(#clip2600)\">\n",
       "<text style=\"fill:#000000; fill-opacity:1; font-family:Arial,Helvetica Neue,Helvetica,sans-serif; font-size:48px; text-anchor:middle;\" transform=\"rotate(0, 734.728, 1541.47)\" x=\"734.728\" y=\"1541.47\">1</text>\n",
       "</g>\n",
       "<g clip-path=\"url(#clip2600)\">\n",
       "<text style=\"fill:#000000; fill-opacity:1; font-family:Arial,Helvetica Neue,Helvetica,sans-serif; font-size:48px; text-anchor:middle;\" transform=\"rotate(0, 1253.33, 1541.47)\" x=\"1253.33\" y=\"1541.47\">2</text>\n",
       "</g>\n",
       "<g clip-path=\"url(#clip2600)\">\n",
       "<text style=\"fill:#000000; fill-opacity:1; font-family:Arial,Helvetica Neue,Helvetica,sans-serif; font-size:48px; text-anchor:middle;\" transform=\"rotate(0, 1771.93, 1541.47)\" x=\"1771.93\" y=\"1541.47\">3</text>\n",
       "</g>\n",
       "<g clip-path=\"url(#clip2600)\">\n",
       "<text style=\"fill:#000000; fill-opacity:1; font-family:Arial,Helvetica Neue,Helvetica,sans-serif; font-size:48px; text-anchor:middle;\" transform=\"rotate(0, 2290.52, 1541.47)\" x=\"2290.52\" y=\"1541.47\">4</text>\n",
       "</g>\n",
       "<g clip-path=\"url(#clip2600)\">\n",
       "<text style=\"fill:#000000; fill-opacity:1; font-family:Arial,Helvetica Neue,Helvetica,sans-serif; font-size:48px; text-anchor:end;\" transform=\"rotate(0, 129.898, 1164.91)\" x=\"129.898\" y=\"1164.91\">0.5</text>\n",
       "</g>\n",
       "<g clip-path=\"url(#clip2600)\">\n",
       "<text style=\"fill:#000000; fill-opacity:1; font-family:Arial,Helvetica Neue,Helvetica,sans-serif; font-size:48px; text-anchor:end;\" transform=\"rotate(0, 129.898, 813.327)\" x=\"129.898\" y=\"813.327\">0.6</text>\n",
       "</g>\n",
       "<g clip-path=\"url(#clip2600)\">\n",
       "<text style=\"fill:#000000; fill-opacity:1; font-family:Arial,Helvetica Neue,Helvetica,sans-serif; font-size:48px; text-anchor:end;\" transform=\"rotate(0, 129.898, 461.743)\" x=\"129.898\" y=\"461.743\">0.7</text>\n",
       "</g>\n",
       "<g clip-path=\"url(#clip2600)\">\n",
       "<text style=\"fill:#000000; fill-opacity:1; font-family:Arial,Helvetica Neue,Helvetica,sans-serif; font-size:48px; text-anchor:end;\" transform=\"rotate(0, 129.898, 110.158)\" x=\"129.898\" y=\"110.158\">0.8</text>\n",
       "</g>\n",
       "<polyline clip-path=\"url(#clip2602)\" style=\"stroke:#009af9; stroke-width:4; stroke-opacity:1; fill:none\" points=\"\n",
       "  216.13,1446.71 221.316,1184.62 226.502,864.673 231.688,554.959 236.874,325.57 242.06,194.391 247.246,133.143 252.432,106.937 257.618,96.6327 262.804,91.7945 \n",
       "  267.99,89.2436 273.176,88.0053 278.362,88.0591 283.548,88.8596 288.734,90.1358 293.92,91.9056 299.106,94.0295 304.292,96.4815 309.478,99.222 314.664,102.231 \n",
       "  319.85,105.406 325.036,108.709 330.221,112.178 335.407,115.771 340.593,119.417 345.779,123.13 350.965,126.875 356.151,130.67 361.337,134.55 366.523,138.509 \n",
       "  371.709,142.542 376.895,146.651 382.081,150.852 387.267,155.144 392.453,159.526 397.639,163.983 402.825,168.514 408.011,173.098 413.197,177.703 418.383,182.41 \n",
       "  423.569,187.162 428.755,191.954 433.941,196.809 439.127,201.739 444.313,206.728 449.499,211.776 454.685,216.878 459.871,222.022 465.057,227.21 470.243,232.447 \n",
       "  475.429,237.723 480.615,243.047 485.801,248.427 490.987,253.849 496.173,259.319 501.359,264.843 506.545,270.406 511.731,276.001 516.917,281.631 522.103,287.297 \n",
       "  527.289,292.993 532.475,298.754 537.661,304.511 542.847,310.327 548.033,316.179 553.219,322.064 558.405,327.984 563.591,333.949 568.777,339.959 573.963,346.007 \n",
       "  579.149,352.091 584.335,358.213 589.521,364.375 594.707,370.578 599.893,376.82 605.079,383.095 610.265,389.415 615.451,395.771 620.637,402.159 625.823,408.578 \n",
       "  631.009,415.039 636.195,421.536 641.381,428.07 646.567,434.638 651.753,441.241 656.939,447.871 662.125,454.545 667.311,461.249 672.497,467.978 677.683,474.743 \n",
       "  682.869,481.539 688.055,488.364 693.24,495.218 698.426,502.103 703.612,509.02 708.798,515.965 713.984,522.942 719.17,529.946 724.356,536.978 729.542,544.038 \n",
       "  734.728,551.129 739.914,558.243 745.1,565.39 750.286,572.561 755.472,579.758 760.658,586.983 765.844,594.237 771.03,601.519 776.216,608.825 781.402,616.154 \n",
       "  786.588,623.51 791.774,630.894 796.96,638.301 802.146,645.73 807.332,653.182 812.518,660.656 817.704,668.154 822.89,675.672 828.076,683.209 833.262,690.768 \n",
       "  838.448,698.34 843.634,705.933 848.82,713.555 854.006,721.198 859.192,728.858 864.378,736.519 869.564,744.217 874.75,751.933 879.936,759.634 885.122,767.373 \n",
       "  890.308,775.138 895.494,782.915 900.68,790.689 905.866,798.491 911.052,806.296 916.238,814.12 921.424,821.943 926.61,829.764 931.796,837.612 936.982,845.447 \n",
       "  942.168,853.312 947.354,861.178 952.54,869.042 957.726,876.887 962.912,884.74 968.098,892.561 973.284,900.406 978.47,908.208 983.656,915.974 988.842,923.35 \n",
       "  994.028,930.668 999.214,937.784 1004.4,944.699 1009.59,951.731 1014.77,957.645 1019.96,963.57 1025.14,969.492 1030.33,975.273 1035.52,981.103 1040.7,986.868 \n",
       "  1045.89,992.301 1051.07,997.424 1056.26,1002.35 1061.45,1007.21 1066.63,1012.04 1071.82,1016.75 1077,1021.57 1082.19,1026.15 1087.38,1030.89 1092.56,1035.49 \n",
       "  1097.75,1040.04 1102.93,1044.62 1108.12,1049.1 1113.31,1053.59 1118.49,1058.12 1123.68,1062.48 1128.86,1066.93 1134.05,1071.34 1139.24,1075.7 1144.42,1080.03 \n",
       "  1149.61,1084.39 1154.79,1088.67 1159.98,1093.02 1165.17,1097.34 1170.35,1101.62 1175.54,1105.82 1180.72,1108.24 1185.91,1112.63 1191.1,1117.06 1196.28,1121.37 \n",
       "  1201.47,1125.7 1206.65,1130.05 1211.84,1134.3 1217.03,1138.57 1222.21,1142.83 1227.4,1147.06 1232.58,1150.39 1237.77,1154.32 1242.95,1158.03 1248.14,1161.37 \n",
       "  1253.33,1164.69 1258.51,1167.7 1263.7,1170.39 1268.88,1172.84 1274.07,1175.02 1279.26,1177.22 1284.44,1179.34 1289.63,1181.35 1294.81,1183.38 1300,1185.37 \n",
       "  1305.19,1187.43 1310.37,1189.42 1315.56,1191.32 1320.74,1193.3 1325.93,1195.15 1331.12,1197.05 1336.3,1198.96 1341.49,1200.81 1346.67,1202.66 1351.86,1204.53 \n",
       "  1357.05,1206.33 1362.23,1208.08 1367.42,1209.89 1372.6,1211.61 1377.79,1213.32 1382.98,1215.14 1388.16,1216.89 1393.35,1218.44 1398.53,1219.75 1403.72,1221.63 \n",
       "  1408.91,1222.81 1414.09,1224.29 1419.28,1224.05 1424.46,1225.75 1429.65,1226.87 1434.84,1227.74 1440.02,1228.82 1445.21,1230.54 1450.39,1230.39 1455.58,1232.11 \n",
       "  1460.77,1233.29 1465.95,1234.38 1471.14,1235.39 1476.32,1236.28 1481.51,1237.17 1486.7,1238.03 1491.88,1238.95 1497.07,1239.95 1502.25,1240.82 1507.44,1241.54 \n",
       "  1512.63,1242.4 1517.81,1243.28 1523,1244.12 1528.18,1244.94 1533.37,1245.61 1538.56,1246.39 1543.74,1247.26 1548.93,1247.98 1554.11,1248.74 1559.3,1249.41 \n",
       "  1564.49,1250.17 1569.67,1250.92 1574.86,1251.63 1580.04,1252.44 1585.23,1253.12 1590.42,1253.93 1595.6,1254.53 1600.79,1255.26 1605.97,1255.66 1611.16,1256.62 \n",
       "  1616.35,1257.19 1621.53,1257.65 1626.72,1258.15 1631.9,1258.8 1637.09,1259.44 1642.28,1260.22 1647.46,1260.7 1652.65,1261.3 1657.83,1261.93 1663.02,1262.45 \n",
       "  1668.21,1262.91 1673.39,1263.59 1678.58,1264.44 1683.76,1264.63 1688.95,1265.58 1694.14,1266.06 1699.32,1266.2 1704.51,1266.75 1709.69,1267.42 1714.88,1267.84 \n",
       "  1720.07,1268.38 1725.25,1268.92 1730.44,1269.25 1735.62,1269.57 1740.81,1269.92 1746,1270.45 1751.18,1270.74 1756.37,1271.6 1761.55,1272.1 1766.74,1272.43 \n",
       "  1771.93,1272.71 1777.11,1273.33 1782.3,1273.34 1787.48,1273.34 1792.67,1273.35 1797.86,1273.35 1803.04,1273.36 1808.23,1273.36 1813.41,1273.37 1818.6,1273.37 \n",
       "  1823.79,1273.38 1828.97,1273.38 1834.16,1273.39 1839.34,1273.39 1844.53,1273.4 1849.72,1273.4 1854.9,1273.41 1860.09,1273.41 1865.27,1273.41 1870.46,1273.42 \n",
       "  1875.65,1273.42 1880.83,1273.43 1886.02,1273.43 1891.2,1273.44 1896.39,1273.44 1901.58,1273.45 1906.76,1273.45 1911.95,1273.45 1917.13,1273.46 1922.32,1273.46 \n",
       "  1927.51,1273.47 1932.69,1273.47 1937.88,1273.47 1943.06,1273.48 1948.25,1273.48 1953.44,1273.48 1958.62,1273.49 1963.81,1273.49 1968.99,1273.49 1974.18,1273.5 \n",
       "  1979.36,1273.5 1984.55,1273.5 1989.74,1273.51 1994.92,1273.51 2000.11,1273.51 2005.29,1273.52 2010.48,1273.52 2015.67,1273.52 2020.85,1273.53 2026.04,1273.53 \n",
       "  2031.22,1273.53 2036.41,1273.54 2041.6,1273.54 2046.78,1273.54 2051.97,1273.54 2057.15,1273.55 2062.34,1273.55 2067.53,1273.55 2072.71,1273.56 2077.9,1273.56 \n",
       "  2083.08,1273.56 2088.27,1273.56 2093.46,1273.57 2098.64,1273.57 2103.83,1273.57 2109.01,1273.57 2114.2,1273.58 2119.39,1273.58 2124.57,1273.58 2129.76,1273.58 \n",
       "  2134.94,1273.59 2140.13,1273.59 2145.32,1273.59 2150.5,1273.59 2155.69,1273.59 2160.87,1273.6 2166.06,1273.6 2171.25,1273.6 2176.43,1273.6 2181.62,1273.61 \n",
       "  2186.8,1273.61 2191.99,1273.61 2197.18,1273.61 2202.36,1273.61 2207.55,1273.62 2212.73,1273.62 2217.92,1273.62 2223.11,1273.62 2228.29,1273.62 2233.48,1273.63 \n",
       "  2238.66,1273.63 2243.85,1273.63 2249.04,1273.63 2254.22,1273.63 2259.41,1273.64 2264.59,1273.64 2269.78,1273.64 2274.97,1273.64 2280.15,1273.64 2285.34,1273.64 \n",
       "  2290.52,1273.65 \n",
       "  \"/>\n",
       "<path clip-path=\"url(#clip2600)\" d=\"\n",
       "M1703.77 251.724 L2280.76 251.724 L2280.76 130.764 L1703.77 130.764  Z\n",
       "  \" fill=\"#fffff0\" fill-rule=\"evenodd\" fill-opacity=\"1\"/>\n",
       "<polyline clip-path=\"url(#clip2600)\" style=\"stroke:#000000; stroke-width:4; stroke-opacity:1; fill:none\" points=\"\n",
       "  1703.77,251.724 2280.76,251.724 2280.76,130.764 1703.77,130.764 1703.77,251.724 \n",
       "  \"/>\n",
       "<polyline clip-path=\"url(#clip2600)\" style=\"stroke:#009af9; stroke-width:4; stroke-opacity:1; fill:none\" points=\"\n",
       "  1727.77,191.244 1871.77,191.244 \n",
       "  \"/>\n",
       "<g clip-path=\"url(#clip2600)\">\n",
       "<text style=\"fill:#000000; fill-opacity:1; font-family:Arial,Helvetica Neue,Helvetica,sans-serif; font-size:48px; text-anchor:start;\" transform=\"rotate(0, 1895.77, 208.744)\" x=\"1895.77\" y=\"208.744\">ssim_scalar_rof</text>\n",
       "</g>\n",
       "</svg>\n"
      ]
     },
     "execution_count": 45,
     "metadata": {},
     "output_type": "execute_result"
    }
   ],
   "source": [
    "plot(lambda_range,ssims,label=\"ssim_scalar_rof\", background_color = :ivory)"
   ]
  },
  {
   "cell_type": "code",
   "execution_count": 11,
   "metadata": {},
   "outputs": [],
   "source": [
    "# Saving generated data\n",
    "using JLD\n",
    "save(\"smiley_scalar_rof_cost.jld\", \"lambda\", lambda_range, \"costs\", costs, \"ssims\",ssims)"
   ]
  },
  {
   "cell_type": "markdown",
   "metadata": {},
   "source": [
    "## Gradient Calculation"
   ]
  },
  {
   "cell_type": "code",
   "execution_count": 46,
   "metadata": {},
   "outputs": [
    {
     "data": {
      "text/plain": [
       "gradient_solver (generic function with 1 method)"
      ]
     },
     "execution_count": 46,
     "metadata": {},
     "output_type": "execute_result"
    }
   ],
   "source": [
    "include(\"gradient_solver.jl\")"
   ]
  },
  {
   "cell_type": "code",
   "execution_count": 49,
   "metadata": {},
   "outputs": [
    {
     "name": "stdout",
     "output_type": "stream",
     "text": [
      "done\n",
      "2.220446049250313e-16 -> -3013.8176534965655\n",
      "0.10000000000000023 -> -183.24156292486583\n",
      "0.20000000000000023 -> 181.38012084522222\n",
      "0.30000000000000027 -> 247.70965028968445\n",
      "0.40000000000000024 -> 265.4521837858641\n",
      "0.5000000000000002 -> 272.58131244862864\n",
      "0.6000000000000003 -> 275.65238783079724\n",
      "0.7000000000000003 -> 278.2359616124984\n",
      "0.8000000000000003 -> 278.6946534211025\n",
      "0.9000000000000002 -> 277.0131097228742\n",
      "1.0000000000000002 -> 271.4372638829011\n",
      "1.1000000000000003 -> 263.3489612458585\n",
      "1.2000000000000004 -> 249.62589842000963\n",
      "1.3000000000000003 -> 233.0433089174074\n",
      "1.4000000000000004 -> 209.3324321939592\n",
      "1.5000000000000002 -> 172.44509007176168\n",
      "1.6000000000000003 -> 144.30064824245852\n",
      "1.7000000000000004 -> 129.8667044153126\n",
      "1.8000000000000003 -> 113.12691422033315\n",
      "1.9000000000000004 -> 87.8404910689652\n",
      "2.0 -> 59.242957345569124\n",
      "2.1000000000000005 -> 50.87900995098856\n",
      "2.2 -> 42.75686058374226\n",
      "2.3000000000000007 -> 35.31613104394547\n",
      "2.4000000000000004 -> 30.555288429243436\n",
      "2.5 -> 27.902080632374357\n",
      "2.6000000000000005 -> 24.670754209984526\n",
      "2.7 -> 20.442849062653544\n",
      "2.8000000000000007 -> 15.024800629681602\n",
      "2.9000000000000004 -> 9.609614689690925\n",
      "3.0 -> 0.39589280245069525\n",
      "3.1000000000000005 -> 0.361855803466023\n",
      "3.2 -> 0.3350621553069867\n",
      "3.3000000000000007 -> 0.33010773316536435\n",
      "3.4000000000000004 -> 0.32541406076176893\n",
      "3.5 -> 0.32692642482571976\n",
      "3.6000000000000005 -> 0.33605438299886126\n",
      "3.7 -> 0.35363046965310985\n",
      "3.8000000000000007 -> 0.9250405544324016\n",
      "3.9000000000000004 -> 0.8343036154589829\n",
      "4.0 -> 0.742294284610632\n"
     ]
    }
   ],
   "source": [
    "∇ = gradient_matrix(size(f))\n",
    "step = 0.1\n",
    "lambda_max = 4.0\n",
    "lambda_min = eps()\n",
    "lambda_range = lambda_min:step:lambda_max\n",
    "grads = Float64[]\n",
    "@distributed for λ in lambda_range\n",
    "    u_h = lower_level_solver(u,f,λ,K)\n",
    "    g = gradient_solver(u_h,z,λ,α,K,∇)\n",
    "    push!(grads,g)\n",
    "    println(\"$λ -> $g\")\n",
    "end\n",
    "println(\"done\")"
   ]
  },
  {
   "cell_type": "code",
   "execution_count": 50,
   "metadata": {},
   "outputs": [
    {
     "data": {
      "image/svg+xml": [
       "<?xml version=\"1.0\" encoding=\"utf-8\"?>\n",
       "<svg xmlns=\"http://www.w3.org/2000/svg\" xmlns:xlink=\"http://www.w3.org/1999/xlink\" width=\"600\" height=\"400\" viewBox=\"0 0 2400 1600\">\n",
       "<defs>\n",
       "  <clipPath id=\"clip3000\">\n",
       "    <rect x=\"0\" y=\"0\" width=\"2400\" height=\"1600\"/>\n",
       "  </clipPath>\n",
       "</defs>\n",
       "<path clip-path=\"url(#clip3000)\" d=\"\n",
       "M0 1600 L2400 1600 L2400 0 L0 0  Z\n",
       "  \" fill=\"#fffff0\" fill-rule=\"evenodd\" fill-opacity=\"1\"/>\n",
       "<defs>\n",
       "  <clipPath id=\"clip3001\">\n",
       "    <rect x=\"480\" y=\"0\" width=\"1681\" height=\"1600\"/>\n",
       "  </clipPath>\n",
       "</defs>\n",
       "<path clip-path=\"url(#clip3000)\" d=\"\n",
       "M222.152 1487.47 L2352.76 1487.47 L2352.76 47.2441 L222.152 47.2441  Z\n",
       "  \" fill=\"#fffff0\" fill-rule=\"evenodd\" fill-opacity=\"1\"/>\n",
       "<defs>\n",
       "  <clipPath id=\"clip3002\">\n",
       "    <rect x=\"222\" y=\"47\" width=\"2132\" height=\"1441\"/>\n",
       "  </clipPath>\n",
       "</defs>\n",
       "<polyline clip-path=\"url(#clip3002)\" style=\"stroke:#000000; stroke-width:2; stroke-opacity:0.1; fill:none\" points=\"\n",
       "  282.452,1487.47 282.452,47.2441 \n",
       "  \"/>\n",
       "<polyline clip-path=\"url(#clip3002)\" style=\"stroke:#000000; stroke-width:2; stroke-opacity:0.1; fill:none\" points=\"\n",
       "  784.953,1487.47 784.953,47.2441 \n",
       "  \"/>\n",
       "<polyline clip-path=\"url(#clip3002)\" style=\"stroke:#000000; stroke-width:2; stroke-opacity:0.1; fill:none\" points=\"\n",
       "  1287.45,1487.47 1287.45,47.2441 \n",
       "  \"/>\n",
       "<polyline clip-path=\"url(#clip3002)\" style=\"stroke:#000000; stroke-width:2; stroke-opacity:0.1; fill:none\" points=\"\n",
       "  1789.95,1487.47 1789.95,47.2441 \n",
       "  \"/>\n",
       "<polyline clip-path=\"url(#clip3002)\" style=\"stroke:#000000; stroke-width:2; stroke-opacity:0.1; fill:none\" points=\"\n",
       "  2292.46,1487.47 2292.46,47.2441 \n",
       "  \"/>\n",
       "<polyline clip-path=\"url(#clip3002)\" style=\"stroke:#000000; stroke-width:2; stroke-opacity:0.1; fill:none\" points=\"\n",
       "  222.152,1441.01 2352.76,1441.01 \n",
       "  \"/>\n",
       "<polyline clip-path=\"url(#clip3002)\" style=\"stroke:#000000; stroke-width:2; stroke-opacity:0.1; fill:none\" points=\"\n",
       "  222.152,1028.35 2352.76,1028.35 \n",
       "  \"/>\n",
       "<polyline clip-path=\"url(#clip3002)\" style=\"stroke:#000000; stroke-width:2; stroke-opacity:0.1; fill:none\" points=\"\n",
       "  222.152,615.679 2352.76,615.679 \n",
       "  \"/>\n",
       "<polyline clip-path=\"url(#clip3002)\" style=\"stroke:#000000; stroke-width:2; stroke-opacity:0.1; fill:none\" points=\"\n",
       "  222.152,203.013 2352.76,203.013 \n",
       "  \"/>\n",
       "<polyline clip-path=\"url(#clip3000)\" style=\"stroke:#000000; stroke-width:4; stroke-opacity:1; fill:none\" points=\"\n",
       "  222.152,1487.47 2352.76,1487.47 \n",
       "  \"/>\n",
       "<polyline clip-path=\"url(#clip3000)\" style=\"stroke:#000000; stroke-width:4; stroke-opacity:1; fill:none\" points=\"\n",
       "  222.152,1487.47 222.152,47.2441 \n",
       "  \"/>\n",
       "<polyline clip-path=\"url(#clip3000)\" style=\"stroke:#000000; stroke-width:4; stroke-opacity:1; fill:none\" points=\"\n",
       "  282.452,1487.47 282.452,1465.87 \n",
       "  \"/>\n",
       "<polyline clip-path=\"url(#clip3000)\" style=\"stroke:#000000; stroke-width:4; stroke-opacity:1; fill:none\" points=\"\n",
       "  784.953,1487.47 784.953,1465.87 \n",
       "  \"/>\n",
       "<polyline clip-path=\"url(#clip3000)\" style=\"stroke:#000000; stroke-width:4; stroke-opacity:1; fill:none\" points=\"\n",
       "  1287.45,1487.47 1287.45,1465.87 \n",
       "  \"/>\n",
       "<polyline clip-path=\"url(#clip3000)\" style=\"stroke:#000000; stroke-width:4; stroke-opacity:1; fill:none\" points=\"\n",
       "  1789.95,1487.47 1789.95,1465.87 \n",
       "  \"/>\n",
       "<polyline clip-path=\"url(#clip3000)\" style=\"stroke:#000000; stroke-width:4; stroke-opacity:1; fill:none\" points=\"\n",
       "  2292.46,1487.47 2292.46,1465.87 \n",
       "  \"/>\n",
       "<polyline clip-path=\"url(#clip3000)\" style=\"stroke:#000000; stroke-width:4; stroke-opacity:1; fill:none\" points=\"\n",
       "  222.152,1441.01 254.111,1441.01 \n",
       "  \"/>\n",
       "<polyline clip-path=\"url(#clip3000)\" style=\"stroke:#000000; stroke-width:4; stroke-opacity:1; fill:none\" points=\"\n",
       "  222.152,1028.35 254.111,1028.35 \n",
       "  \"/>\n",
       "<polyline clip-path=\"url(#clip3000)\" style=\"stroke:#000000; stroke-width:4; stroke-opacity:1; fill:none\" points=\"\n",
       "  222.152,615.679 254.111,615.679 \n",
       "  \"/>\n",
       "<polyline clip-path=\"url(#clip3000)\" style=\"stroke:#000000; stroke-width:4; stroke-opacity:1; fill:none\" points=\"\n",
       "  222.152,203.013 254.111,203.013 \n",
       "  \"/>\n",
       "<g clip-path=\"url(#clip3000)\">\n",
       "<text style=\"fill:#000000; fill-opacity:1; font-family:Arial,Helvetica Neue,Helvetica,sans-serif; font-size:48px; text-anchor:middle;\" transform=\"rotate(0, 282.452, 1541.47)\" x=\"282.452\" y=\"1541.47\">0</text>\n",
       "</g>\n",
       "<g clip-path=\"url(#clip3000)\">\n",
       "<text style=\"fill:#000000; fill-opacity:1; font-family:Arial,Helvetica Neue,Helvetica,sans-serif; font-size:48px; text-anchor:middle;\" transform=\"rotate(0, 784.953, 1541.47)\" x=\"784.953\" y=\"1541.47\">1</text>\n",
       "</g>\n",
       "<g clip-path=\"url(#clip3000)\">\n",
       "<text style=\"fill:#000000; fill-opacity:1; font-family:Arial,Helvetica Neue,Helvetica,sans-serif; font-size:48px; text-anchor:middle;\" transform=\"rotate(0, 1287.45, 1541.47)\" x=\"1287.45\" y=\"1541.47\">2</text>\n",
       "</g>\n",
       "<g clip-path=\"url(#clip3000)\">\n",
       "<text style=\"fill:#000000; fill-opacity:1; font-family:Arial,Helvetica Neue,Helvetica,sans-serif; font-size:48px; text-anchor:middle;\" transform=\"rotate(0, 1789.95, 1541.47)\" x=\"1789.95\" y=\"1541.47\">3</text>\n",
       "</g>\n",
       "<g clip-path=\"url(#clip3000)\">\n",
       "<text style=\"fill:#000000; fill-opacity:1; font-family:Arial,Helvetica Neue,Helvetica,sans-serif; font-size:48px; text-anchor:middle;\" transform=\"rotate(0, 2292.46, 1541.47)\" x=\"2292.46\" y=\"1541.47\">4</text>\n",
       "</g>\n",
       "<g clip-path=\"url(#clip3000)\">\n",
       "<text style=\"fill:#000000; fill-opacity:1; font-family:Arial,Helvetica Neue,Helvetica,sans-serif; font-size:48px; text-anchor:end;\" transform=\"rotate(0, 198.152, 1458.51)\" x=\"198.152\" y=\"1458.51\">-3000</text>\n",
       "</g>\n",
       "<g clip-path=\"url(#clip3000)\">\n",
       "<text style=\"fill:#000000; fill-opacity:1; font-family:Arial,Helvetica Neue,Helvetica,sans-serif; font-size:48px; text-anchor:end;\" transform=\"rotate(0, 198.152, 1045.85)\" x=\"198.152\" y=\"1045.85\">-2000</text>\n",
       "</g>\n",
       "<g clip-path=\"url(#clip3000)\">\n",
       "<text style=\"fill:#000000; fill-opacity:1; font-family:Arial,Helvetica Neue,Helvetica,sans-serif; font-size:48px; text-anchor:end;\" transform=\"rotate(0, 198.152, 633.179)\" x=\"198.152\" y=\"633.179\">-1000</text>\n",
       "</g>\n",
       "<g clip-path=\"url(#clip3000)\">\n",
       "<text style=\"fill:#000000; fill-opacity:1; font-family:Arial,Helvetica Neue,Helvetica,sans-serif; font-size:48px; text-anchor:end;\" transform=\"rotate(0, 198.152, 220.513)\" x=\"198.152\" y=\"220.513\">0</text>\n",
       "</g>\n",
       "<polyline clip-path=\"url(#clip3002)\" style=\"stroke:#009af9; stroke-width:4; stroke-opacity:1; fill:none\" points=\"\n",
       "  282.452,1446.71 332.702,278.631 382.952,128.164 433.202,100.792 483.452,93.4701 533.702,90.5281 583.952,89.2608 634.202,88.1946 684.453,88.0053 734.703,88.6993 \n",
       "  784.953,91.0002 835.203,94.338 885.453,100.001 935.703,106.844 985.953,116.629 1036.2,131.851 1086.45,143.465 1136.7,149.422 1186.95,156.33 1237.2,166.764 \n",
       "  1287.45,178.566 1337.7,182.017 1387.95,185.369 1438.2,188.439 1488.45,190.404 1538.7,191.499 1588.95,192.832 1639.2,194.577 1689.45,196.813 1739.7,199.048 \n",
       "  1789.95,202.85 1840.2,202.864 1890.45,202.875 1940.71,202.877 1990.96,202.879 2041.21,202.878 2091.46,202.874 2141.71,202.867 2191.96,202.631 2242.21,202.669 \n",
       "  2292.46,202.707 \n",
       "  \"/>\n",
       "<path clip-path=\"url(#clip3000)\" d=\"\n",
       "M1682.3 251.724 L2280.76 251.724 L2280.76 130.764 L1682.3 130.764  Z\n",
       "  \" fill=\"#fffff0\" fill-rule=\"evenodd\" fill-opacity=\"1\"/>\n",
       "<polyline clip-path=\"url(#clip3000)\" style=\"stroke:#000000; stroke-width:4; stroke-opacity:1; fill:none\" points=\"\n",
       "  1682.3,251.724 2280.76,251.724 2280.76,130.764 1682.3,130.764 1682.3,251.724 \n",
       "  \"/>\n",
       "<polyline clip-path=\"url(#clip3000)\" style=\"stroke:#009af9; stroke-width:4; stroke-opacity:1; fill:none\" points=\"\n",
       "  1706.3,191.244 1850.3,191.244 \n",
       "  \"/>\n",
       "<g clip-path=\"url(#clip3000)\">\n",
       "<text style=\"fill:#000000; fill-opacity:1; font-family:Arial,Helvetica Neue,Helvetica,sans-serif; font-size:48px; text-anchor:start;\" transform=\"rotate(0, 1874.3, 208.744)\" x=\"1874.3\" y=\"208.744\">grads_scalar_rof</text>\n",
       "</g>\n",
       "</svg>\n"
      ]
     },
     "execution_count": 50,
     "metadata": {},
     "output_type": "execute_result"
    }
   ],
   "source": [
    "plot(lambda_range,grads,label=\"grads_scalar_rof\", background_color = :ivory)"
   ]
  },
  {
   "cell_type": "markdown",
   "metadata": {},
   "source": [
    "## Solving Bilevel Problem\n",
    "We will define a numerical strategy based on an inexact Trust Region method to solve the bilevel problem. First, we need to define a gradient calculation"
   ]
  },
  {
   "cell_type": "code",
   "execution_count": 63,
   "metadata": {},
   "outputs": [
    {
     "data": {
      "text/plain": [
       "trust_region_solver (generic function with 3 methods)"
      ]
     },
     "execution_count": 63,
     "metadata": {},
     "output_type": "execute_result"
    }
   ],
   "source": [
    "include(\"trust_region_solver.jl\")"
   ]
  },
  {
   "cell_type": "code",
   "execution_count": 67,
   "metadata": {},
   "outputs": [
    {
     "name": "stdout",
     "output_type": "stream",
     "text": [
      "TR Iteration 1: rho_k = 0.9552235261616342, radius = 1.5, lambda = 2.2123177512156644e-8\n",
      "TR Iteration 2: rho_k = -0.3243623014080297, radius = 0.75, lambda = 2.2123177512156644e-8\n",
      "TR Iteration 3: rho_k = -0.09912794678894393, radius = 0.375, lambda = 2.2123177512156644e-8\n",
      "TR Iteration 4: rho_k = 0.1914067095128207, radius = 0.375, lambda = 0.37500001647861775\n",
      "TR Iteration 5: rho_k = -0.963641055871418, radius = 0.1875, lambda = 0.37500001647861775\n",
      "TR Iteration 6: rho_k = 1.1960597522390148, radius = 0.28125, lambda = 0.18750002062671337\n",
      "TR Iteration 7: rho_k = -5.219041162582921, radius = 0.140625, lambda = 0.18750002062671337\n",
      "TR Iteration 8: rho_k = -2.852820950140342, radius = 0.0703125, lambda = 0.18750002062671337\n",
      "TR Iteration 9: rho_k = -0.8449607458616186, radius = 0.03515625, lambda = 0.18750002062671337\n",
      "TR Iteration 10: rho_k = -0.08750885549853597, radius = 0.017578125, lambda = 0.18750002062671337\n",
      "TR Iteration 11: rho_k = 0.24072641606239534, radius = 0.017578125, lambda = 0.16992189601559712\n",
      "TR Iteration 12: rho_k = -0.5443201502696083, radius = 0.0087890625, lambda = 0.16992189601559712\n",
      "TR Iteration 13: rho_k = -0.31026614690400084, radius = 0.00439453125, lambda = 0.16992189601559712\n",
      "TR Iteration 14: rho_k = -0.20098806262939536, radius = 0.002197265625, lambda = 0.16992189601559712\n",
      "TR Iteration 15: rho_k = -0.14990459058511912, radius = 0.0010986328125, lambda = 0.16992189601559712\n",
      "TR Iteration 16: rho_k = -0.14140592606579536, radius = 0.00054931640625, lambda = 0.16992189601559712\n",
      "TR Iteration 17: rho_k = -0.16201390619859235, radius = 0.000274658203125, lambda = 0.16992189601559712\n",
      "TR Iteration 18: rho_k = -0.22305779891698033, radius = 0.0001373291015625, lambda = 0.16992189601559712\n",
      "TR Iteration 19: rho_k = -0.30695386591634044, radius = 6.866455078125e-5, lambda = 0.16992189601559712\n",
      "TR Iteration 20: rho_k = -0.4187843942976037, radius = 3.4332275390625e-5, lambda = 0.16992189601559712\n",
      "TR Iteration 21: rho_k = -0.4909142614218218, radius = 1.71661376953125e-5, lambda = 0.16992189601559712\n",
      "TR Iteration 22: rho_k = -0.5326443595538262, radius = 8.58306884765625e-6, lambda = 0.16992189601559712\n"
     ]
    },
    {
     "data": {
      "text/plain": [
       "0.16992189601559712"
      ]
     },
     "execution_count": 67,
     "metadata": {},
     "output_type": "execute_result"
    }
   ],
   "source": [
    "lambda_0 = 0.09\n",
    "radius_0 = 1\n",
    "tol = 1e-5\n",
    "lambda_opt = trust_region_solver(lower_level_solver,upper_level_cost,1,f,z,radius_0,tol)"
   ]
  },
  {
   "cell_type": "code",
   "execution_count": 68,
   "metadata": {},
   "outputs": [
    {
     "data": {
      "image/png": "[encoded data removed]",
      "text/plain": [
       "128×128 Array{Gray{Float64},2} with eltype Gray{Float64}:\n",
       " Gray{Float64}(0.95418)   Gray{Float64}(0.954181)  …  Gray{Float64}(0.950956)\n",
       " Gray{Float64}(0.954181)  Gray{Float64}(0.954182)     Gray{Float64}(0.950955)\n",
       " Gray{Float64}(0.954183)  Gray{Float64}(0.954183)     Gray{Float64}(0.950953)\n",
       " Gray{Float64}(0.954186)  Gray{Float64}(0.954187)     Gray{Float64}(0.950951)\n",
       " Gray{Float64}(0.95419)   Gray{Float64}(0.954191)     Gray{Float64}(0.950948)\n",
       " Gray{Float64}(0.954196)  Gray{Float64}(0.954197)  …  Gray{Float64}(0.950946)\n",
       " Gray{Float64}(0.954203)  Gray{Float64}(0.954204)     Gray{Float64}(0.950944)\n",
       " Gray{Float64}(0.954213)  Gray{Float64}(0.954213)     Gray{Float64}(0.950945)\n",
       " Gray{Float64}(0.954223)  Gray{Float64}(0.954224)     Gray{Float64}(0.950949)\n",
       " Gray{Float64}(0.954236)  Gray{Float64}(0.954236)     Gray{Float64}(0.950956)\n",
       " Gray{Float64}(0.95425)   Gray{Float64}(0.95425)   …  Gray{Float64}(0.950967)\n",
       " Gray{Float64}(0.954266)  Gray{Float64}(0.954265)     Gray{Float64}(0.950984)\n",
       " Gray{Float64}(0.954283)  Gray{Float64}(0.954282)     Gray{Float64}(0.951004)\n",
       " ⋮                                                 ⋱                         \n",
       " Gray{Float64}(0.954047)  Gray{Float64}(0.954048)     Gray{Float64}(0.954416)\n",
       " Gray{Float64}(0.954031)  Gray{Float64}(0.954032)     Gray{Float64}(0.954404)\n",
       " Gray{Float64}(0.954015)  Gray{Float64}(0.954016)     Gray{Float64}(0.954395)\n",
       " Gray{Float64}(0.954)     Gray{Float64}(0.954001)     Gray{Float64}(0.954389)\n",
       " Gray{Float64}(0.953986)  Gray{Float64}(0.953987)  …  Gray{Float64}(0.954386)\n",
       " Gray{Float64}(0.953973)  Gray{Float64}(0.953974)     Gray{Float64}(0.954385)\n",
       " Gray{Float64}(0.953961)  Gray{Float64}(0.953962)     Gray{Float64}(0.954384)\n",
       " Gray{Float64}(0.95395)   Gray{Float64}(0.953952)     Gray{Float64}(0.954385)\n",
       " Gray{Float64}(0.953942)  Gray{Float64}(0.953943)     Gray{Float64}(0.954386)\n",
       " Gray{Float64}(0.953935)  Gray{Float64}(0.953936)  …  Gray{Float64}(0.954387)\n",
       " Gray{Float64}(0.95393)   Gray{Float64}(0.953932)     Gray{Float64}(0.954388)\n",
       " Gray{Float64}(0.953928)  Gray{Float64}(0.953929)     Gray{Float64}(0.954388)"
      ]
     },
     "execution_count": 68,
     "metadata": {},
     "output_type": "execute_result"
    }
   ],
   "source": [
    "u_opt = lower_level_solver(u,f,lambda_opt,K)\n",
    "Gray.(u_opt)"
   ]
  },
  {
   "cell_type": "code",
   "execution_count": 69,
   "metadata": {},
   "outputs": [
    {
     "name": "stdout",
     "output_type": "stream",
     "text": [
      "0.7989319117122737\n",
      "0.41487045600825345\n"
     ]
    }
   ],
   "source": [
    "println(ssim(u_opt,z))\n",
    "println(ssim(f,z))"
   ]
  },
  {
   "cell_type": "code",
   "execution_count": 70,
   "metadata": {},
   "outputs": [
    {
     "name": "stdout",
     "output_type": "stream",
     "text": [
      "15.184803851180742\n",
      "13.07757184046984\n"
     ]
    }
   ],
   "source": [
    "println(psnr(u_opt,z))\n",
    "println(psnr(f,z))"
   ]
  },
  {
   "cell_type": "code",
   "execution_count": null,
   "metadata": {},
   "outputs": [],
   "source": []
  }
 ],
 "metadata": {
  "@webio": {
   "lastCommId": null,
   "lastKernelId": null
  },
  "kernelspec": {
   "display_name": "Julia 1.2.0",
   "language": "julia",
   "name": "julia-1.2"
  },
  "language_info": {
   "file_extension": ".jl",
   "mimetype": "application/julia",
   "name": "julia",
   "version": "1.2.0"
  }
 },
 "nbformat": 4,
 "nbformat_minor": 2
}
