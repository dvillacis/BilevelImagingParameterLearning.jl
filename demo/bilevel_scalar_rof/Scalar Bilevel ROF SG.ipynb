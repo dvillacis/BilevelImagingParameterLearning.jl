{
 "cells": [
  {
   "cell_type": "markdown",
   "metadata": {},
   "source": [
    "# Scalar Bilevel ROF Single Gaussian (SG)\n",
    "We will solve the following bilevel problem\n",
    "\n",
    "$$\n",
    "\\min_\\lambda \\|\\hat{u}-\\bar{u}\\|^2 + \\beta\\lambda^2\\\\\n",
    "\\text{s.t. } \\hat{u} = arg\\min_u \\frac{1}{2}\\|u-f\\|^2+\\lambda\\|\\mathbb{K} u\\|_{2,1} \n",
    "$$\n",
    "\n",
    "We will use a small dataset of one sample contaminated with gaussian noise to learn the optimal parameter for the ROF image denoising model."
   ]
  },
  {
   "cell_type": "code",
   "execution_count": 5,
   "metadata": {},
   "outputs": [
    {
     "name": "stderr",
     "output_type": "stream",
     "text": [
      "WARNING: replacing module BilevelImagingParameterLearning.\n",
      "┌ Info: Precompiling AbstractOperators [d9c5613a-d543-52d8-9afd-8f241a8c3f1c]\n",
      "└ @ Base loading.jl:1242\n",
      "┌ Info: Recompiling stale cache file /Users/dvillacis/.julia/compiled/v1.2/ProximalOperators/ez37h.ji for ProximalOperators [a725b495-10eb-56fe-b38b-717eba820537]\n",
      "└ @ Base loading.jl:1240\n",
      "┌ Info: Recompiling stale cache file /Users/dvillacis/.julia/compiled/v1.2/ProximalAlgorithms/JnB3M.ji for ProximalAlgorithms [140ffc9f-1907-541a-a177-7475e0a401e9]\n",
      "└ @ Base loading.jl:1240\n",
      "┌ Info: Recompiling stale cache file /Users/dvillacis/.julia/compiled/v1.2/StructuredOptimization/Ap5Gs.ji for StructuredOptimization [46cd3e9d-64ff-517d-a929-236bc1a1fc9d]\n",
      "└ @ Base loading.jl:1240\n"
     ]
    }
   ],
   "source": [
    "include(\"../../src/BilevelImagingParameterLearning.jl\")\n",
    "using .BilevelImagingParameterLearning"
   ]
  },
  {
   "cell_type": "code",
   "execution_count": 8,
   "metadata": {},
   "outputs": [
    {
     "name": "stderr",
     "output_type": "stream",
     "text": [
      "┌ Info: Precompiling ImageQualityIndexes [2996bd0c-7a13-11e9-2da2-2f5ce47296a9]\n",
      "└ @ Base loading.jl:1242\n"
     ]
    }
   ],
   "source": [
    "using Random, Images, TestImages, ImageQualityIndexes, StructuredOptimization, AbstractOperators\n",
    "Random.seed!(123);"
   ]
  },
  {
   "cell_type": "code",
   "execution_count": 9,
   "metadata": {},
   "outputs": [
    {
     "name": "stderr",
     "output_type": "stream",
     "text": [
      "┌ Info: Recompiling stale cache file /Users/dvillacis/.julia/compiled/v1.2/QuartzImageIO/n8vDP.ji for QuartzImageIO [dca85d43-d64c-5e67-8c65-017450d5d020]\n",
      "└ @ Base loading.jl:1240\n"
     ]
    },
    {
     "data": {
      "image/png": "[encoded data removed]",
      "text/plain": [
       "128×128 Array{Gray{Float64},2} with eltype Gray{Float64}:\n",
       " Gray{Float64}(0.92549)   Gray{Float64}(0.968627)  …  Gray{Float64}(1.0)     \n",
       " Gray{Float64}(1.0)       Gray{Float64}(0.956863)     Gray{Float64}(0.996078)\n",
       " Gray{Float64}(1.0)       Gray{Float64}(0.984314)     Gray{Float64}(1.0)     \n",
       " Gray{Float64}(0.941176)  Gray{Float64}(0.996078)     Gray{Float64}(0.921569)\n",
       " Gray{Float64}(0.870588)  Gray{Float64}(0.929412)     Gray{Float64}(1.0)     \n",
       " Gray{Float64}(0.92549)   Gray{Float64}(0.898039)  …  Gray{Float64}(1.0)     \n",
       " Gray{Float64}(1.0)       Gray{Float64}(0.988235)     Gray{Float64}(1.0)     \n",
       " Gray{Float64}(0.937255)  Gray{Float64}(1.0)          Gray{Float64}(1.0)     \n",
       " Gray{Float64}(1.0)       Gray{Float64}(0.945098)     Gray{Float64}(1.0)     \n",
       " Gray{Float64}(0.996078)  Gray{Float64}(0.956863)     Gray{Float64}(1.0)     \n",
       " Gray{Float64}(1.0)       Gray{Float64}(0.909804)  …  Gray{Float64}(1.0)     \n",
       " Gray{Float64}(1.0)       Gray{Float64}(0.968627)     Gray{Float64}(0.905882)\n",
       " Gray{Float64}(1.0)       Gray{Float64}(1.0)          Gray{Float64}(0.886275)\n",
       " ⋮                                                 ⋱                         \n",
       " Gray{Float64}(0.929412)  Gray{Float64}(1.0)          Gray{Float64}(1.0)     \n",
       " Gray{Float64}(1.0)       Gray{Float64}(0.94902)      Gray{Float64}(1.0)     \n",
       " Gray{Float64}(0.901961)  Gray{Float64}(1.0)          Gray{Float64}(1.0)     \n",
       " Gray{Float64}(1.0)       Gray{Float64}(1.0)          Gray{Float64}(0.717647)\n",
       " Gray{Float64}(1.0)       Gray{Float64}(1.0)       …  Gray{Float64}(0.945098)\n",
       " Gray{Float64}(1.0)       Gray{Float64}(1.0)          Gray{Float64}(0.984314)\n",
       " Gray{Float64}(0.941176)  Gray{Float64}(0.996078)     Gray{Float64}(0.913725)\n",
       " Gray{Float64}(0.964706)  Gray{Float64}(1.0)          Gray{Float64}(0.862745)\n",
       " Gray{Float64}(1.0)       Gray{Float64}(0.878431)     Gray{Float64}(0.92549) \n",
       " Gray{Float64}(1.0)       Gray{Float64}(0.901961)  …  Gray{Float64}(0.87451) \n",
       " Gray{Float64}(0.917647)  Gray{Float64}(0.937255)     Gray{Float64}(1.0)     \n",
       " Gray{Float64}(0.972549)  Gray{Float64}(0.941176)     Gray{Float64}(1.0)     "
      ]
     },
     "execution_count": 9,
     "metadata": {},
     "output_type": "execute_result"
    }
   ],
   "source": [
    "# Noisy image\n",
    "u = datasetimage(\"1_smiley_noisy\",\"/Users/dvillacis/workspace/BilevelImagingParameterLearning.jl/src/datasets/smiley_dataset\")\n",
    "u[u .< 0] .= 0. # Make sure pixels are in range\n",
    "u[u .> 1] .= 1.\n",
    "Gray.(u)"
   ]
  },
  {
   "cell_type": "code",
   "execution_count": 10,
   "metadata": {},
   "outputs": [
    {
     "data": {
      "image/png": "[encoded data removed]",
      "text/plain": [
       "128×128 Array{Gray{Float64},2} with eltype Gray{Float64}:\n",
       " Gray{Float64}(1.0)  Gray{Float64}(1.0)  …  Gray{Float64}(1.0)\n",
       " Gray{Float64}(1.0)  Gray{Float64}(1.0)     Gray{Float64}(1.0)\n",
       " Gray{Float64}(1.0)  Gray{Float64}(1.0)     Gray{Float64}(1.0)\n",
       " Gray{Float64}(1.0)  Gray{Float64}(1.0)     Gray{Float64}(1.0)\n",
       " Gray{Float64}(1.0)  Gray{Float64}(1.0)     Gray{Float64}(1.0)\n",
       " Gray{Float64}(1.0)  Gray{Float64}(1.0)  …  Gray{Float64}(1.0)\n",
       " Gray{Float64}(1.0)  Gray{Float64}(1.0)     Gray{Float64}(1.0)\n",
       " Gray{Float64}(1.0)  Gray{Float64}(1.0)     Gray{Float64}(1.0)\n",
       " Gray{Float64}(1.0)  Gray{Float64}(1.0)     Gray{Float64}(1.0)\n",
       " Gray{Float64}(1.0)  Gray{Float64}(1.0)     Gray{Float64}(1.0)\n",
       " Gray{Float64}(1.0)  Gray{Float64}(1.0)  …  Gray{Float64}(1.0)\n",
       " Gray{Float64}(1.0)  Gray{Float64}(1.0)     Gray{Float64}(1.0)\n",
       " Gray{Float64}(1.0)  Gray{Float64}(1.0)     Gray{Float64}(1.0)\n",
       " ⋮                                       ⋱                    \n",
       " Gray{Float64}(1.0)  Gray{Float64}(1.0)     Gray{Float64}(1.0)\n",
       " Gray{Float64}(1.0)  Gray{Float64}(1.0)     Gray{Float64}(1.0)\n",
       " Gray{Float64}(1.0)  Gray{Float64}(1.0)     Gray{Float64}(1.0)\n",
       " Gray{Float64}(1.0)  Gray{Float64}(1.0)     Gray{Float64}(1.0)\n",
       " Gray{Float64}(1.0)  Gray{Float64}(1.0)  …  Gray{Float64}(1.0)\n",
       " Gray{Float64}(1.0)  Gray{Float64}(1.0)     Gray{Float64}(1.0)\n",
       " Gray{Float64}(1.0)  Gray{Float64}(1.0)     Gray{Float64}(1.0)\n",
       " Gray{Float64}(1.0)  Gray{Float64}(1.0)     Gray{Float64}(1.0)\n",
       " Gray{Float64}(1.0)  Gray{Float64}(1.0)     Gray{Float64}(1.0)\n",
       " Gray{Float64}(1.0)  Gray{Float64}(1.0)  …  Gray{Float64}(1.0)\n",
       " Gray{Float64}(1.0)  Gray{Float64}(1.0)     Gray{Float64}(1.0)\n",
       " Gray{Float64}(1.0)  Gray{Float64}(1.0)     Gray{Float64}(1.0)"
      ]
     },
     "execution_count": 10,
     "metadata": {},
     "output_type": "execute_result"
    }
   ],
   "source": [
    "# Ground truth\n",
    "ut = datasetimage(\"1_smiley_original\",\"/Users/dvillacis/workspace/BilevelImagingParameterLearning.jl/src/datasets/smiley_dataset\")\n",
    "ut[ut .< 0] .= 0. # Make sure pixels are in range\n",
    "ut[ut .> 1] .= 1.\n",
    "Gray.(ut)"
   ]
  },
  {
   "cell_type": "code",
   "execution_count": 11,
   "metadata": {},
   "outputs": [
    {
     "name": "stdout",
     "output_type": "stream",
     "text": [
      "SSIM: 0.41487045600825345\n",
      "PSNR: 13.07757184046984\n"
     ]
    }
   ],
   "source": [
    "println(\"SSIM: \",ssim(u,ut))\n",
    "println(\"PSNR: \",psnr(u,ut))"
   ]
  },
  {
   "cell_type": "markdown",
   "metadata": {},
   "source": [
    "## Bilevel Cost Function\n",
    "First, we will plot the cost function to see the form it has for this particular problem"
   ]
  },
  {
   "cell_type": "code",
   "execution_count": 12,
   "metadata": {},
   "outputs": [
    {
     "data": {
      "text/plain": [
       "upper_level_cost (generic function with 1 method)"
      ]
     },
     "execution_count": 12,
     "metadata": {},
     "output_type": "execute_result"
    }
   ],
   "source": [
    "# Lower Level Solver\n",
    "function lower_level_solver(lambda,Y,V,U)\n",
    "    @minimize ls(-V'*U+Y) + conj(lambda*norm(U,2,1,2)) with ForwardBackward(tol = 1e-3, gamma = 1/8, fast = true) \n",
    "    return Gray.(-V'*(~U)+Y)\n",
    "end\n",
    "\n",
    "# Upper level cost\n",
    "function upper_level_cost(ut,u,beta,lambda)\n",
    "    return 0.5*norm(vcat((u-ut)...)) + beta*lambda^2\n",
    "end"
   ]
  },
  {
   "cell_type": "code",
   "execution_count": 13,
   "metadata": {},
   "outputs": [],
   "source": [
    "K = Variation(size(u)) # Define the finite differences gradient operator\n",
    "U = Variable(size(K,1)...)\n",
    "beta = 0.01;"
   ]
  },
  {
   "cell_type": "code",
   "execution_count": 15,
   "metadata": {},
   "outputs": [
    {
     "data": {
      "text/plain": [
       "Task (done) @0x0000000131385210"
      ]
     },
     "execution_count": 15,
     "metadata": {},
     "output_type": "execute_result"
    }
   ],
   "source": [
    "using Distributed\n",
    "\n",
    "lambda_range = 0.01:0.01:5;\n",
    "\n",
    "costs = Float64[]\n",
    "ssim_val = Float64[]\n",
    "@distributed for lambda in lambda_range\n",
    "    U_hat = lower_level_solver(lambda,u,K,U)\n",
    "    push!(costs,upper_level_cost(ut,U_hat,beta,lambda))\n",
    "    push!(ssim_val,ssim(U_hat,ut))\n",
    "end"
   ]
  },
  {
   "cell_type": "code",
   "execution_count": 16,
   "metadata": {},
   "outputs": [],
   "source": [
    "# Saving generated data\n",
    "using JLD\n",
    "save(\"smiley_scalar_rof_cost.jld\", \"lambda\", lambda_range, \"costs\", costs, \"ssim_val\",ssim_val)"
   ]
  },
  {
   "cell_type": "code",
   "execution_count": 17,
   "metadata": {},
   "outputs": [
    {
     "data": {
      "image/svg+xml": [
       "<?xml version=\"1.0\" encoding=\"utf-8\"?>\n",
       "<svg xmlns=\"http://www.w3.org/2000/svg\" xmlns:xlink=\"http://www.w3.org/1999/xlink\" width=\"600\" height=\"400\" viewBox=\"0 0 2400 1600\">\n",
       "<defs>\n",
       "  <clipPath id=\"clip5600\">\n",
       "    <rect x=\"0\" y=\"0\" width=\"2400\" height=\"1600\"/>\n",
       "  </clipPath>\n",
       "</defs>\n",
       "<path clip-path=\"url(#clip5600)\" d=\"\n",
       "M0 1600 L2400 1600 L2400 0 L0 0  Z\n",
       "  \" fill=\"#fffff0\" fill-rule=\"evenodd\" fill-opacity=\"1\"/>\n",
       "<defs>\n",
       "  <clipPath id=\"clip5601\">\n",
       "    <rect x=\"480\" y=\"0\" width=\"1681\" height=\"1600\"/>\n",
       "  </clipPath>\n",
       "</defs>\n",
       "<path clip-path=\"url(#clip5600)\" d=\"\n",
       "M180.66 1487.47 L2352.76 1487.47 L2352.76 47.2441 L180.66 47.2441  Z\n",
       "  \" fill=\"#fffff0\" fill-rule=\"evenodd\" fill-opacity=\"1\"/>\n",
       "<defs>\n",
       "  <clipPath id=\"clip5602\">\n",
       "    <rect x=\"180\" y=\"47\" width=\"2173\" height=\"1441\"/>\n",
       "  </clipPath>\n",
       "</defs>\n",
       "<polyline clip-path=\"url(#clip5602)\" style=\"stroke:#000000; stroke-width:2; stroke-opacity:0.1; fill:none\" points=\"\n",
       "  238.028,1487.47 238.028,47.2441 \n",
       "  \"/>\n",
       "<polyline clip-path=\"url(#clip5602)\" style=\"stroke:#000000; stroke-width:2; stroke-opacity:0.1; fill:none\" points=\"\n",
       "  443.354,1487.47 443.354,47.2441 \n",
       "  \"/>\n",
       "<polyline clip-path=\"url(#clip5602)\" style=\"stroke:#000000; stroke-width:2; stroke-opacity:0.1; fill:none\" points=\"\n",
       "  648.679,1487.47 648.679,47.2441 \n",
       "  \"/>\n",
       "<polyline clip-path=\"url(#clip5602)\" style=\"stroke:#000000; stroke-width:2; stroke-opacity:0.1; fill:none\" points=\"\n",
       "  854.004,1487.47 854.004,47.2441 \n",
       "  \"/>\n",
       "<polyline clip-path=\"url(#clip5602)\" style=\"stroke:#000000; stroke-width:2; stroke-opacity:0.1; fill:none\" points=\"\n",
       "  1059.33,1487.47 1059.33,47.2441 \n",
       "  \"/>\n",
       "<polyline clip-path=\"url(#clip5602)\" style=\"stroke:#000000; stroke-width:2; stroke-opacity:0.1; fill:none\" points=\"\n",
       "  1264.65,1487.47 1264.65,47.2441 \n",
       "  \"/>\n",
       "<polyline clip-path=\"url(#clip5602)\" style=\"stroke:#000000; stroke-width:2; stroke-opacity:0.1; fill:none\" points=\"\n",
       "  1469.98,1487.47 1469.98,47.2441 \n",
       "  \"/>\n",
       "<polyline clip-path=\"url(#clip5602)\" style=\"stroke:#000000; stroke-width:2; stroke-opacity:0.1; fill:none\" points=\"\n",
       "  1675.31,1487.47 1675.31,47.2441 \n",
       "  \"/>\n",
       "<polyline clip-path=\"url(#clip5602)\" style=\"stroke:#000000; stroke-width:2; stroke-opacity:0.1; fill:none\" points=\"\n",
       "  1880.63,1487.47 1880.63,47.2441 \n",
       "  \"/>\n",
       "<polyline clip-path=\"url(#clip5602)\" style=\"stroke:#000000; stroke-width:2; stroke-opacity:0.1; fill:none\" points=\"\n",
       "  2085.96,1487.47 2085.96,47.2441 \n",
       "  \"/>\n",
       "<polyline clip-path=\"url(#clip5602)\" style=\"stroke:#000000; stroke-width:2; stroke-opacity:0.1; fill:none\" points=\"\n",
       "  2291.28,1487.47 2291.28,47.2441 \n",
       "  \"/>\n",
       "<polyline clip-path=\"url(#clip5602)\" style=\"stroke:#000000; stroke-width:2; stroke-opacity:0.1; fill:none\" points=\"\n",
       "  180.66,1335.53 2352.76,1335.53 \n",
       "  \"/>\n",
       "<polyline clip-path=\"url(#clip5602)\" style=\"stroke:#000000; stroke-width:2; stroke-opacity:0.1; fill:none\" points=\"\n",
       "  180.66,1130.9 2352.76,1130.9 \n",
       "  \"/>\n",
       "<polyline clip-path=\"url(#clip5602)\" style=\"stroke:#000000; stroke-width:2; stroke-opacity:0.1; fill:none\" points=\"\n",
       "  180.66,926.258 2352.76,926.258 \n",
       "  \"/>\n",
       "<polyline clip-path=\"url(#clip5602)\" style=\"stroke:#000000; stroke-width:2; stroke-opacity:0.1; fill:none\" points=\"\n",
       "  180.66,721.62 2352.76,721.62 \n",
       "  \"/>\n",
       "<polyline clip-path=\"url(#clip5602)\" style=\"stroke:#000000; stroke-width:2; stroke-opacity:0.1; fill:none\" points=\"\n",
       "  180.66,516.983 2352.76,516.983 \n",
       "  \"/>\n",
       "<polyline clip-path=\"url(#clip5602)\" style=\"stroke:#000000; stroke-width:2; stroke-opacity:0.1; fill:none\" points=\"\n",
       "  180.66,312.345 2352.76,312.345 \n",
       "  \"/>\n",
       "<polyline clip-path=\"url(#clip5602)\" style=\"stroke:#000000; stroke-width:2; stroke-opacity:0.1; fill:none\" points=\"\n",
       "  180.66,107.708 2352.76,107.708 \n",
       "  \"/>\n",
       "<polyline clip-path=\"url(#clip5600)\" style=\"stroke:#000000; stroke-width:4; stroke-opacity:1; fill:none\" points=\"\n",
       "  180.66,1487.47 2352.76,1487.47 \n",
       "  \"/>\n",
       "<polyline clip-path=\"url(#clip5600)\" style=\"stroke:#000000; stroke-width:4; stroke-opacity:1; fill:none\" points=\"\n",
       "  180.66,1487.47 180.66,47.2441 \n",
       "  \"/>\n",
       "<polyline clip-path=\"url(#clip5600)\" style=\"stroke:#000000; stroke-width:4; stroke-opacity:1; fill:none\" points=\"\n",
       "  238.028,1487.47 238.028,1465.87 \n",
       "  \"/>\n",
       "<polyline clip-path=\"url(#clip5600)\" style=\"stroke:#000000; stroke-width:4; stroke-opacity:1; fill:none\" points=\"\n",
       "  443.354,1487.47 443.354,1465.87 \n",
       "  \"/>\n",
       "<polyline clip-path=\"url(#clip5600)\" style=\"stroke:#000000; stroke-width:4; stroke-opacity:1; fill:none\" points=\"\n",
       "  648.679,1487.47 648.679,1465.87 \n",
       "  \"/>\n",
       "<polyline clip-path=\"url(#clip5600)\" style=\"stroke:#000000; stroke-width:4; stroke-opacity:1; fill:none\" points=\"\n",
       "  854.004,1487.47 854.004,1465.87 \n",
       "  \"/>\n",
       "<polyline clip-path=\"url(#clip5600)\" style=\"stroke:#000000; stroke-width:4; stroke-opacity:1; fill:none\" points=\"\n",
       "  1059.33,1487.47 1059.33,1465.87 \n",
       "  \"/>\n",
       "<polyline clip-path=\"url(#clip5600)\" style=\"stroke:#000000; stroke-width:4; stroke-opacity:1; fill:none\" points=\"\n",
       "  1264.65,1487.47 1264.65,1465.87 \n",
       "  \"/>\n",
       "<polyline clip-path=\"url(#clip5600)\" style=\"stroke:#000000; stroke-width:4; stroke-opacity:1; fill:none\" points=\"\n",
       "  1469.98,1487.47 1469.98,1465.87 \n",
       "  \"/>\n",
       "<polyline clip-path=\"url(#clip5600)\" style=\"stroke:#000000; stroke-width:4; stroke-opacity:1; fill:none\" points=\"\n",
       "  1675.31,1487.47 1675.31,1465.87 \n",
       "  \"/>\n",
       "<polyline clip-path=\"url(#clip5600)\" style=\"stroke:#000000; stroke-width:4; stroke-opacity:1; fill:none\" points=\"\n",
       "  1880.63,1487.47 1880.63,1465.87 \n",
       "  \"/>\n",
       "<polyline clip-path=\"url(#clip5600)\" style=\"stroke:#000000; stroke-width:4; stroke-opacity:1; fill:none\" points=\"\n",
       "  2085.96,1487.47 2085.96,1465.87 \n",
       "  \"/>\n",
       "<polyline clip-path=\"url(#clip5600)\" style=\"stroke:#000000; stroke-width:4; stroke-opacity:1; fill:none\" points=\"\n",
       "  2291.28,1487.47 2291.28,1465.87 \n",
       "  \"/>\n",
       "<polyline clip-path=\"url(#clip5600)\" style=\"stroke:#000000; stroke-width:4; stroke-opacity:1; fill:none\" points=\"\n",
       "  180.66,1335.53 213.242,1335.53 \n",
       "  \"/>\n",
       "<polyline clip-path=\"url(#clip5600)\" style=\"stroke:#000000; stroke-width:4; stroke-opacity:1; fill:none\" points=\"\n",
       "  180.66,1130.9 213.242,1130.9 \n",
       "  \"/>\n",
       "<polyline clip-path=\"url(#clip5600)\" style=\"stroke:#000000; stroke-width:4; stroke-opacity:1; fill:none\" points=\"\n",
       "  180.66,926.258 213.242,926.258 \n",
       "  \"/>\n",
       "<polyline clip-path=\"url(#clip5600)\" style=\"stroke:#000000; stroke-width:4; stroke-opacity:1; fill:none\" points=\"\n",
       "  180.66,721.62 213.242,721.62 \n",
       "  \"/>\n",
       "<polyline clip-path=\"url(#clip5600)\" style=\"stroke:#000000; stroke-width:4; stroke-opacity:1; fill:none\" points=\"\n",
       "  180.66,516.983 213.242,516.983 \n",
       "  \"/>\n",
       "<polyline clip-path=\"url(#clip5600)\" style=\"stroke:#000000; stroke-width:4; stroke-opacity:1; fill:none\" points=\"\n",
       "  180.66,312.345 213.242,312.345 \n",
       "  \"/>\n",
       "<polyline clip-path=\"url(#clip5600)\" style=\"stroke:#000000; stroke-width:4; stroke-opacity:1; fill:none\" points=\"\n",
       "  180.66,107.708 213.242,107.708 \n",
       "  \"/>\n",
       "<g clip-path=\"url(#clip5600)\">\n",
       "<text style=\"fill:#000000; fill-opacity:1; font-family:Arial,Helvetica Neue,Helvetica,sans-serif; font-size:48px; text-anchor:middle;\" transform=\"rotate(0, 238.028, 1541.47)\" x=\"238.028\" y=\"1541.47\">0.0</text>\n",
       "</g>\n",
       "<g clip-path=\"url(#clip5600)\">\n",
       "<text style=\"fill:#000000; fill-opacity:1; font-family:Arial,Helvetica Neue,Helvetica,sans-serif; font-size:48px; text-anchor:middle;\" transform=\"rotate(0, 443.354, 1541.47)\" x=\"443.354\" y=\"1541.47\">0.5</text>\n",
       "</g>\n",
       "<g clip-path=\"url(#clip5600)\">\n",
       "<text style=\"fill:#000000; fill-opacity:1; font-family:Arial,Helvetica Neue,Helvetica,sans-serif; font-size:48px; text-anchor:middle;\" transform=\"rotate(0, 648.679, 1541.47)\" x=\"648.679\" y=\"1541.47\">1.0</text>\n",
       "</g>\n",
       "<g clip-path=\"url(#clip5600)\">\n",
       "<text style=\"fill:#000000; fill-opacity:1; font-family:Arial,Helvetica Neue,Helvetica,sans-serif; font-size:48px; text-anchor:middle;\" transform=\"rotate(0, 854.004, 1541.47)\" x=\"854.004\" y=\"1541.47\">1.5</text>\n",
       "</g>\n",
       "<g clip-path=\"url(#clip5600)\">\n",
       "<text style=\"fill:#000000; fill-opacity:1; font-family:Arial,Helvetica Neue,Helvetica,sans-serif; font-size:48px; text-anchor:middle;\" transform=\"rotate(0, 1059.33, 1541.47)\" x=\"1059.33\" y=\"1541.47\">2.0</text>\n",
       "</g>\n",
       "<g clip-path=\"url(#clip5600)\">\n",
       "<text style=\"fill:#000000; fill-opacity:1; font-family:Arial,Helvetica Neue,Helvetica,sans-serif; font-size:48px; text-anchor:middle;\" transform=\"rotate(0, 1264.65, 1541.47)\" x=\"1264.65\" y=\"1541.47\">2.5</text>\n",
       "</g>\n",
       "<g clip-path=\"url(#clip5600)\">\n",
       "<text style=\"fill:#000000; fill-opacity:1; font-family:Arial,Helvetica Neue,Helvetica,sans-serif; font-size:48px; text-anchor:middle;\" transform=\"rotate(0, 1469.98, 1541.47)\" x=\"1469.98\" y=\"1541.47\">3.0</text>\n",
       "</g>\n",
       "<g clip-path=\"url(#clip5600)\">\n",
       "<text style=\"fill:#000000; fill-opacity:1; font-family:Arial,Helvetica Neue,Helvetica,sans-serif; font-size:48px; text-anchor:middle;\" transform=\"rotate(0, 1675.31, 1541.47)\" x=\"1675.31\" y=\"1541.47\">3.5</text>\n",
       "</g>\n",
       "<g clip-path=\"url(#clip5600)\">\n",
       "<text style=\"fill:#000000; fill-opacity:1; font-family:Arial,Helvetica Neue,Helvetica,sans-serif; font-size:48px; text-anchor:middle;\" transform=\"rotate(0, 1880.63, 1541.47)\" x=\"1880.63\" y=\"1541.47\">4.0</text>\n",
       "</g>\n",
       "<g clip-path=\"url(#clip5600)\">\n",
       "<text style=\"fill:#000000; fill-opacity:1; font-family:Arial,Helvetica Neue,Helvetica,sans-serif; font-size:48px; text-anchor:middle;\" transform=\"rotate(0, 2085.96, 1541.47)\" x=\"2085.96\" y=\"1541.47\">4.5</text>\n",
       "</g>\n",
       "<g clip-path=\"url(#clip5600)\">\n",
       "<text style=\"fill:#000000; fill-opacity:1; font-family:Arial,Helvetica Neue,Helvetica,sans-serif; font-size:48px; text-anchor:middle;\" transform=\"rotate(0, 2291.28, 1541.47)\" x=\"2291.28\" y=\"1541.47\">5.0</text>\n",
       "</g>\n",
       "<g clip-path=\"url(#clip5600)\">\n",
       "<text style=\"fill:#000000; fill-opacity:1; font-family:Arial,Helvetica Neue,Helvetica,sans-serif; font-size:48px; text-anchor:end;\" transform=\"rotate(0, 156.66, 1353.03)\" x=\"156.66\" y=\"1353.03\">12.5</text>\n",
       "</g>\n",
       "<g clip-path=\"url(#clip5600)\">\n",
       "<text style=\"fill:#000000; fill-opacity:1; font-family:Arial,Helvetica Neue,Helvetica,sans-serif; font-size:48px; text-anchor:end;\" transform=\"rotate(0, 156.66, 1148.4)\" x=\"156.66\" y=\"1148.4\">15.0</text>\n",
       "</g>\n",
       "<g clip-path=\"url(#clip5600)\">\n",
       "<text style=\"fill:#000000; fill-opacity:1; font-family:Arial,Helvetica Neue,Helvetica,sans-serif; font-size:48px; text-anchor:end;\" transform=\"rotate(0, 156.66, 943.758)\" x=\"156.66\" y=\"943.758\">17.5</text>\n",
       "</g>\n",
       "<g clip-path=\"url(#clip5600)\">\n",
       "<text style=\"fill:#000000; fill-opacity:1; font-family:Arial,Helvetica Neue,Helvetica,sans-serif; font-size:48px; text-anchor:end;\" transform=\"rotate(0, 156.66, 739.12)\" x=\"156.66\" y=\"739.12\">20.0</text>\n",
       "</g>\n",
       "<g clip-path=\"url(#clip5600)\">\n",
       "<text style=\"fill:#000000; fill-opacity:1; font-family:Arial,Helvetica Neue,Helvetica,sans-serif; font-size:48px; text-anchor:end;\" transform=\"rotate(0, 156.66, 534.483)\" x=\"156.66\" y=\"534.483\">22.5</text>\n",
       "</g>\n",
       "<g clip-path=\"url(#clip5600)\">\n",
       "<text style=\"fill:#000000; fill-opacity:1; font-family:Arial,Helvetica Neue,Helvetica,sans-serif; font-size:48px; text-anchor:end;\" transform=\"rotate(0, 156.66, 329.845)\" x=\"156.66\" y=\"329.845\">25.0</text>\n",
       "</g>\n",
       "<g clip-path=\"url(#clip5600)\">\n",
       "<text style=\"fill:#000000; fill-opacity:1; font-family:Arial,Helvetica Neue,Helvetica,sans-serif; font-size:48px; text-anchor:end;\" transform=\"rotate(0, 156.66, 125.208)\" x=\"156.66\" y=\"125.208\">27.5</text>\n",
       "</g>\n",
       "<polyline clip-path=\"url(#clip5602)\" style=\"stroke:#009af9; stroke-width:4; stroke-opacity:1; fill:none\" points=\"\n",
       "  242.135,1236.08 246.241,1269.41 250.348,1297.41 254.454,1321.3 258.561,1342.02 262.667,1360.26 266.774,1376.42 270.88,1390.69 274.987,1403.15 279.093,1413.86 \n",
       "  283.2,1422.91 287.306,1430.37 291.413,1436.32 295.519,1440.85 299.626,1444.04 303.732,1445.96 307.839,1446.71 311.945,1446.38 316.052,1445.06 320.158,1442.85 \n",
       "  324.265,1439.87 328.371,1436.21 332.478,1431.99 336.584,1427.3 340.691,1422.22 344.797,1416.83 348.904,1411.19 353.01,1405.33 357.117,1399.28 361.223,1393.06 \n",
       "  365.33,1386.69 369.436,1380.19 373.543,1373.57 377.649,1366.85 381.756,1360.05 385.862,1353.16 389.969,1346.2 394.075,1339.18 398.182,1332.11 402.288,1324.98 \n",
       "  406.395,1317.81 410.501,1310.6 414.608,1303.34 418.715,1296.05 422.821,1288.73 426.928,1281.37 431.034,1273.99 435.141,1266.58 439.247,1259.15 443.354,1251.7 \n",
       "  447.46,1244.23 451.567,1236.75 455.673,1229.24 459.78,1221.73 463.886,1214.19 467.993,1206.64 472.099,1199.08 476.206,1191.51 480.312,1183.93 484.419,1176.34 \n",
       "  488.525,1168.73 492.632,1161.12 496.738,1153.49 500.845,1145.86 504.951,1138.21 509.058,1130.56 513.164,1122.93 517.271,1115.26 521.377,1107.6 525.484,1099.92 \n",
       "  529.59,1092.25 533.697,1084.56 537.803,1076.87 541.91,1069.18 546.016,1061.48 550.123,1053.78 554.229,1046.08 558.336,1038.37 562.442,1030.66 566.549,1022.94 \n",
       "  570.655,1015.22 574.762,1007.5 578.868,999.776 582.975,992.04 587.081,984.323 591.188,976.592 595.294,968.857 599.401,961.113 603.507,953.383 607.614,945.642 \n",
       "  611.72,937.901 615.827,930.158 619.933,922.413 624.04,914.667 628.146,906.919 632.253,899.172 636.359,891.421 640.466,883.669 644.572,875.917 648.679,868.163 \n",
       "  652.785,860.408 656.892,852.653 660.998,844.897 665.105,837.139 669.211,829.381 673.318,821.623 677.424,813.864 681.531,806.105 685.637,798.345 689.744,790.585 \n",
       "  693.85,782.825 697.957,775.066 702.063,767.306 706.17,759.547 710.276,751.787 714.383,744.028 718.489,736.269 722.596,728.513 726.702,720.757 730.809,713.002 \n",
       "  734.916,705.245 739.022,697.486 743.129,689.734 747.235,681.978 751.342,674.227 755.448,666.476 759.555,658.723 763.661,650.977 767.768,643.23 771.874,635.487 \n",
       "  775.981,627.743 780.087,620.002 784.194,612.265 788.3,604.529 792.407,596.797 796.513,589.068 800.62,581.343 804.726,573.624 808.833,565.907 812.939,558.189 \n",
       "  817.046,550.489 821.152,542.784 825.259,535.088 829.365,527.404 833.472,519.735 837.578,512.075 841.685,504.457 845.791,496.852 849.898,489.558 854.004,482.388 \n",
       "  858.111,475.354 862.217,468.524 866.324,461.677 870.43,455.626 874.537,449.621 878.643,443.851 882.75,438.042 886.856,432.171 890.963,426.435 895.069,420.83 \n",
       "  899.176,415.632 903.282,410.591 907.389,405.597 911.495,400.656 915.602,395.729 919.708,390.792 923.815,385.917 927.921,381.093 932.028,376.294 936.134,371.566 \n",
       "  940.241,366.871 944.347,362.166 948.454,357.507 952.56,352.866 956.667,348.211 960.773,343.611 964.88,339.011 968.986,334.375 973.093,329.766 977.199,325.205 \n",
       "  981.306,320.608 985.412,316.076 989.519,311.533 993.625,307.025 997.732,304.223 1001.84,299.647 1005.94,294.952 1010.05,290.251 1014.16,285.66 1018.26,281.051 \n",
       "  1022.37,276.466 1026.48,271.883 1030.58,267.318 1034.69,262.823 1038.8,258.333 1042.9,254.421 1047.01,250.314 1051.12,246.398 1055.22,242.712 1059.33,239.255 \n",
       "  1063.44,236.05 1067.54,233.273 1071.65,230.252 1075.76,227.667 1079.86,224.928 1083.97,223.176 1088.08,220.661 1092.18,218.224 1096.29,215.924 1100.39,213.835 \n",
       "  1104.5,211.064 1108.61,209.428 1112.71,207.071 1116.82,204.879 1120.93,202.7 1125.03,200.501 1129.14,198.079 1133.25,196.379 1137.35,194.089 1141.46,191.926 \n",
       "  1145.57,189.893 1149.67,187.781 1153.78,185.623 1157.89,183.695 1161.99,181.737 1166.1,179.465 1170.21,177.684 1174.31,176.088 1178.42,174.616 1182.52,172.79 \n",
       "  1186.63,171.041 1190.74,170.181 1194.84,168.929 1198.95,167.366 1203.06,166.046 1207.16,164.039 1211.27,162.72 1215.38,163.334 1219.48,161.134 1223.59,159.526 \n",
       "  1227.7,158.42 1231.8,157.101 1235.91,155.944 1240.02,154.693 1244.12,153.487 1248.23,152.431 1252.34,151.306 1256.44,150.622 1260.55,149.545 1264.65,148.225 \n",
       "  1268.76,147.201 1272.87,146.276 1276.97,145.155 1281.08,144.045 1285.19,143.154 1289.29,142.092 1293.4,141.103 1297.51,140.138 1301.61,139.147 1305.72,138.189 \n",
       "  1309.83,137.164 1313.93,136.023 1318.04,134.995 1322.15,133.959 1326.25,132.925 1330.36,131.841 1334.47,130.877 1338.57,130.541 1342.68,129.238 1346.78,128.21 \n",
       "  1350.89,127.346 1355,126.336 1359.1,125.523 1363.21,124.76 1367.32,123.635 1371.42,122.764 1375.53,121.912 1379.64,121.029 1383.74,120.21 1387.85,119.205 \n",
       "  1391.96,118.286 1396.06,117.342 1400.17,116.335 1404.28,115.598 1408.38,114.492 1412.49,113.891 1416.6,112.749 1420.7,111.551 1424.81,110.556 1428.92,109.661 \n",
       "  1433.02,109.428 1437.13,108.343 1441.23,107.902 1445.34,107.061 1449.45,106.281 1453.55,105.582 1457.66,104.521 1461.77,103.675 1465.87,103.009 1469.98,102.398 \n",
       "  1474.09,101.957 1478.19,101.9 1482.3,101.843 1486.41,101.786 1490.51,101.728 1494.62,101.671 1498.73,101.614 1502.83,101.556 1506.94,101.498 1511.05,101.44 \n",
       "  1515.15,101.382 1519.26,101.324 1523.36,101.266 1527.47,101.208 1531.58,101.149 1535.68,101.091 1539.79,101.032 1543.9,100.973 1548,100.914 1552.11,100.855 \n",
       "  1556.22,100.796 1560.32,100.737 1564.43,100.678 1568.54,100.618 1572.64,100.559 1576.75,100.499 1580.86,100.439 1584.96,100.379 1589.07,100.319 1593.18,100.259 \n",
       "  1597.28,100.199 1601.39,100.139 1605.49,100.078 1609.6,100.017 1613.71,99.9568 1617.81,99.8959 1621.92,99.835 1626.03,99.7739 1630.13,99.7127 1634.24,99.6513 \n",
       "  1638.35,99.5899 1642.45,99.5283 1646.56,99.4666 1650.67,99.4048 1654.77,99.3428 1658.88,99.2807 1662.99,99.2185 1667.09,99.1562 1671.2,99.0937 1675.31,99.0311 \n",
       "  1679.41,98.9683 1683.52,98.9055 1687.63,98.8425 1691.73,98.7794 1695.84,98.7161 1699.94,98.6527 1704.05,98.5892 1708.16,98.5255 1712.26,98.4617 1716.37,98.3978 \n",
       "  1720.48,98.3337 1724.58,98.2695 1728.69,98.2052 1732.8,98.1407 1736.9,98.0761 1741.01,98.0114 1745.12,97.9465 1749.22,97.8815 1753.33,97.8163 1757.44,97.751 \n",
       "  1761.54,97.6856 1765.65,97.62 1769.76,97.5543 1773.86,97.4884 1777.97,97.4224 1782.07,97.3563 1786.18,97.29 1790.29,97.2236 1794.39,97.157 1798.5,97.0903 \n",
       "  1802.61,97.0235 1806.71,96.9565 1810.82,96.8894 1814.93,96.8221 1819.03,96.7547 1823.14,96.6872 1827.25,96.6195 1831.35,96.5516 1835.46,96.4836 1839.57,96.4155 \n",
       "  1843.67,96.3472 1847.78,96.2788 1851.89,96.2103 1855.99,96.1416 1860.1,96.0727 1864.2,96.0037 1868.31,95.9346 1872.42,95.8653 1876.52,95.7958 1880.63,95.7262 \n",
       "  1884.74,95.6565 1888.84,95.5866 1892.95,95.5166 1897.06,95.4464 1901.16,95.3761 1905.27,95.3057 1909.38,95.2351 1913.48,95.1643 1917.59,95.0934 1921.7,95.0223 \n",
       "  1925.8,94.9511 1929.91,94.8798 1934.02,94.8083 1938.12,94.7366 1942.23,94.6648 1946.33,94.5929 1950.44,94.5208 1954.55,94.4485 1958.65,94.3761 1962.76,94.3036 \n",
       "  1966.87,94.2309 1970.97,94.158 1975.08,94.085 1979.19,94.0119 1983.29,93.9386 1987.4,93.8652 1991.51,93.7916 1995.61,93.7178 1999.72,93.6439 2003.83,93.5699 \n",
       "  2007.93,93.4957 2012.04,93.4213 2016.15,93.3468 2020.25,93.2721 2024.36,93.1973 2028.47,93.1224 2032.57,93.0473 2036.68,92.972 2040.78,92.8966 2044.89,92.821 \n",
       "  2049,92.7453 2053.1,92.6694 2057.21,92.5934 2061.32,92.5172 2065.42,92.4409 2069.53,92.3644 2073.64,92.2878 2077.74,92.211 2081.85,92.1341 2085.96,92.057 \n",
       "  2090.06,91.9797 2094.17,91.9023 2098.28,91.8248 2102.38,91.7471 2106.49,91.6692 2110.6,91.5912 2114.7,91.513 2118.81,91.4347 2122.91,91.3562 2127.02,91.2776 \n",
       "  2131.13,91.1988 2135.23,91.1199 2139.34,91.0408 2143.45,90.9615 2147.55,90.8821 2151.66,90.8026 2155.77,90.7229 2159.87,90.643 2163.98,90.563 2168.09,90.4828 \n",
       "  2172.19,90.4025 2176.3,90.322 2180.41,90.2414 2184.51,90.1606 2188.62,90.0796 2192.73,89.9985 2196.83,89.9173 2200.94,89.8359 2205.04,89.7543 2209.15,89.6726 \n",
       "  2213.26,89.5907 2217.36,89.5086 2221.47,89.4265 2225.58,89.3441 2229.68,89.2616 2233.79,89.1789 2237.9,89.0961 2242,89.0132 2246.11,88.93 2250.22,88.8468 \n",
       "  2254.32,88.7633 2258.43,88.6797 2262.54,88.596 2266.64,88.5121 2270.75,88.428 2274.86,88.3438 2278.96,88.2594 2283.07,88.1749 2287.17,88.0902 2291.28,88.0053 \n",
       "  \n",
       "  \"/>\n",
       "<path clip-path=\"url(#clip5600)\" d=\"\n",
       "M1765.24 251.724 L2280.76 251.724 L2280.76 130.764 L1765.24 130.764  Z\n",
       "  \" fill=\"#fffff0\" fill-rule=\"evenodd\" fill-opacity=\"1\"/>\n",
       "<polyline clip-path=\"url(#clip5600)\" style=\"stroke:#000000; stroke-width:4; stroke-opacity:1; fill:none\" points=\"\n",
       "  1765.24,251.724 2280.76,251.724 2280.76,130.764 1765.24,130.764 1765.24,251.724 \n",
       "  \"/>\n",
       "<polyline clip-path=\"url(#clip5600)\" style=\"stroke:#009af9; stroke-width:4; stroke-opacity:1; fill:none\" points=\"\n",
       "  1789.24,191.244 1933.24,191.244 \n",
       "  \"/>\n",
       "<g clip-path=\"url(#clip5600)\">\n",
       "<text style=\"fill:#000000; fill-opacity:1; font-family:Arial,Helvetica Neue,Helvetica,sans-serif; font-size:48px; text-anchor:start;\" transform=\"rotate(0, 1957.24, 208.744)\" x=\"1957.24\" y=\"208.744\">l2_scalar_rof</text>\n",
       "</g>\n",
       "</svg>\n"
      ]
     },
     "execution_count": 17,
     "metadata": {},
     "output_type": "execute_result"
    }
   ],
   "source": [
    "using Plots\n",
    "d = load(\"smiley_scalar_rof_cost.jld\")\n",
    "plot(d[\"lambda\"],d[\"costs\"],label=\"l2_scalar_rof\",xticks = 0:0.5:5, background_color = :ivory)"
   ]
  },
  {
   "cell_type": "code",
   "execution_count": 18,
   "metadata": {},
   "outputs": [
    {
     "data": {
      "image/svg+xml": [
       "<?xml version=\"1.0\" encoding=\"utf-8\"?>\n",
       "<svg xmlns=\"http://www.w3.org/2000/svg\" xmlns:xlink=\"http://www.w3.org/1999/xlink\" width=\"600\" height=\"400\" viewBox=\"0 0 2400 1600\">\n",
       "<defs>\n",
       "  <clipPath id=\"clip6000\">\n",
       "    <rect x=\"0\" y=\"0\" width=\"2400\" height=\"1600\"/>\n",
       "  </clipPath>\n",
       "</defs>\n",
       "<path clip-path=\"url(#clip6000)\" d=\"\n",
       "M0 1600 L2400 1600 L2400 0 L0 0  Z\n",
       "  \" fill=\"#fffff0\" fill-rule=\"evenodd\" fill-opacity=\"1\"/>\n",
       "<defs>\n",
       "  <clipPath id=\"clip6001\">\n",
       "    <rect x=\"480\" y=\"0\" width=\"1681\" height=\"1600\"/>\n",
       "  </clipPath>\n",
       "</defs>\n",
       "<path clip-path=\"url(#clip6000)\" d=\"\n",
       "M153.898 1487.47 L2352.76 1487.47 L2352.76 47.2441 L153.898 47.2441  Z\n",
       "  \" fill=\"#fffff0\" fill-rule=\"evenodd\" fill-opacity=\"1\"/>\n",
       "<defs>\n",
       "  <clipPath id=\"clip6002\">\n",
       "    <rect x=\"153\" y=\"47\" width=\"2200\" height=\"1441\"/>\n",
       "  </clipPath>\n",
       "</defs>\n",
       "<polyline clip-path=\"url(#clip6002)\" style=\"stroke:#000000; stroke-width:2; stroke-opacity:0.1; fill:none\" points=\"\n",
       "  211.973,1487.47 211.973,47.2441 \n",
       "  \"/>\n",
       "<polyline clip-path=\"url(#clip6002)\" style=\"stroke:#000000; stroke-width:2; stroke-opacity:0.1; fill:none\" points=\"\n",
       "  419.828,1487.47 419.828,47.2441 \n",
       "  \"/>\n",
       "<polyline clip-path=\"url(#clip6002)\" style=\"stroke:#000000; stroke-width:2; stroke-opacity:0.1; fill:none\" points=\"\n",
       "  627.683,1487.47 627.683,47.2441 \n",
       "  \"/>\n",
       "<polyline clip-path=\"url(#clip6002)\" style=\"stroke:#000000; stroke-width:2; stroke-opacity:0.1; fill:none\" points=\"\n",
       "  835.538,1487.47 835.538,47.2441 \n",
       "  \"/>\n",
       "<polyline clip-path=\"url(#clip6002)\" style=\"stroke:#000000; stroke-width:2; stroke-opacity:0.1; fill:none\" points=\"\n",
       "  1043.39,1487.47 1043.39,47.2441 \n",
       "  \"/>\n",
       "<polyline clip-path=\"url(#clip6002)\" style=\"stroke:#000000; stroke-width:2; stroke-opacity:0.1; fill:none\" points=\"\n",
       "  1251.25,1487.47 1251.25,47.2441 \n",
       "  \"/>\n",
       "<polyline clip-path=\"url(#clip6002)\" style=\"stroke:#000000; stroke-width:2; stroke-opacity:0.1; fill:none\" points=\"\n",
       "  1459.1,1487.47 1459.1,47.2441 \n",
       "  \"/>\n",
       "<polyline clip-path=\"url(#clip6002)\" style=\"stroke:#000000; stroke-width:2; stroke-opacity:0.1; fill:none\" points=\"\n",
       "  1666.96,1487.47 1666.96,47.2441 \n",
       "  \"/>\n",
       "<polyline clip-path=\"url(#clip6002)\" style=\"stroke:#000000; stroke-width:2; stroke-opacity:0.1; fill:none\" points=\"\n",
       "  1874.81,1487.47 1874.81,47.2441 \n",
       "  \"/>\n",
       "<polyline clip-path=\"url(#clip6002)\" style=\"stroke:#000000; stroke-width:2; stroke-opacity:0.1; fill:none\" points=\"\n",
       "  2082.67,1487.47 2082.67,47.2441 \n",
       "  \"/>\n",
       "<polyline clip-path=\"url(#clip6002)\" style=\"stroke:#000000; stroke-width:2; stroke-opacity:0.1; fill:none\" points=\"\n",
       "  2290.52,1487.47 2290.52,47.2441 \n",
       "  \"/>\n",
       "<polyline clip-path=\"url(#clip6002)\" style=\"stroke:#000000; stroke-width:2; stroke-opacity:0.1; fill:none\" points=\"\n",
       "  153.898,1301.93 2352.76,1301.93 \n",
       "  \"/>\n",
       "<polyline clip-path=\"url(#clip6002)\" style=\"stroke:#000000; stroke-width:2; stroke-opacity:0.1; fill:none\" points=\"\n",
       "  153.898,899.064 2352.76,899.064 \n",
       "  \"/>\n",
       "<polyline clip-path=\"url(#clip6002)\" style=\"stroke:#000000; stroke-width:2; stroke-opacity:0.1; fill:none\" points=\"\n",
       "  153.898,496.202 2352.76,496.202 \n",
       "  \"/>\n",
       "<polyline clip-path=\"url(#clip6002)\" style=\"stroke:#000000; stroke-width:2; stroke-opacity:0.1; fill:none\" points=\"\n",
       "  153.898,93.3394 2352.76,93.3394 \n",
       "  \"/>\n",
       "<polyline clip-path=\"url(#clip6000)\" style=\"stroke:#000000; stroke-width:4; stroke-opacity:1; fill:none\" points=\"\n",
       "  153.898,1487.47 2352.76,1487.47 \n",
       "  \"/>\n",
       "<polyline clip-path=\"url(#clip6000)\" style=\"stroke:#000000; stroke-width:4; stroke-opacity:1; fill:none\" points=\"\n",
       "  153.898,1487.47 153.898,47.2441 \n",
       "  \"/>\n",
       "<polyline clip-path=\"url(#clip6000)\" style=\"stroke:#000000; stroke-width:4; stroke-opacity:1; fill:none\" points=\"\n",
       "  211.973,1487.47 211.973,1465.87 \n",
       "  \"/>\n",
       "<polyline clip-path=\"url(#clip6000)\" style=\"stroke:#000000; stroke-width:4; stroke-opacity:1; fill:none\" points=\"\n",
       "  419.828,1487.47 419.828,1465.87 \n",
       "  \"/>\n",
       "<polyline clip-path=\"url(#clip6000)\" style=\"stroke:#000000; stroke-width:4; stroke-opacity:1; fill:none\" points=\"\n",
       "  627.683,1487.47 627.683,1465.87 \n",
       "  \"/>\n",
       "<polyline clip-path=\"url(#clip6000)\" style=\"stroke:#000000; stroke-width:4; stroke-opacity:1; fill:none\" points=\"\n",
       "  835.538,1487.47 835.538,1465.87 \n",
       "  \"/>\n",
       "<polyline clip-path=\"url(#clip6000)\" style=\"stroke:#000000; stroke-width:4; stroke-opacity:1; fill:none\" points=\"\n",
       "  1043.39,1487.47 1043.39,1465.87 \n",
       "  \"/>\n",
       "<polyline clip-path=\"url(#clip6000)\" style=\"stroke:#000000; stroke-width:4; stroke-opacity:1; fill:none\" points=\"\n",
       "  1251.25,1487.47 1251.25,1465.87 \n",
       "  \"/>\n",
       "<polyline clip-path=\"url(#clip6000)\" style=\"stroke:#000000; stroke-width:4; stroke-opacity:1; fill:none\" points=\"\n",
       "  1459.1,1487.47 1459.1,1465.87 \n",
       "  \"/>\n",
       "<polyline clip-path=\"url(#clip6000)\" style=\"stroke:#000000; stroke-width:4; stroke-opacity:1; fill:none\" points=\"\n",
       "  1666.96,1487.47 1666.96,1465.87 \n",
       "  \"/>\n",
       "<polyline clip-path=\"url(#clip6000)\" style=\"stroke:#000000; stroke-width:4; stroke-opacity:1; fill:none\" points=\"\n",
       "  1874.81,1487.47 1874.81,1465.87 \n",
       "  \"/>\n",
       "<polyline clip-path=\"url(#clip6000)\" style=\"stroke:#000000; stroke-width:4; stroke-opacity:1; fill:none\" points=\"\n",
       "  2082.67,1487.47 2082.67,1465.87 \n",
       "  \"/>\n",
       "<polyline clip-path=\"url(#clip6000)\" style=\"stroke:#000000; stroke-width:4; stroke-opacity:1; fill:none\" points=\"\n",
       "  2290.52,1487.47 2290.52,1465.87 \n",
       "  \"/>\n",
       "<polyline clip-path=\"url(#clip6000)\" style=\"stroke:#000000; stroke-width:4; stroke-opacity:1; fill:none\" points=\"\n",
       "  153.898,1301.93 186.881,1301.93 \n",
       "  \"/>\n",
       "<polyline clip-path=\"url(#clip6000)\" style=\"stroke:#000000; stroke-width:4; stroke-opacity:1; fill:none\" points=\"\n",
       "  153.898,899.064 186.881,899.064 \n",
       "  \"/>\n",
       "<polyline clip-path=\"url(#clip6000)\" style=\"stroke:#000000; stroke-width:4; stroke-opacity:1; fill:none\" points=\"\n",
       "  153.898,496.202 186.881,496.202 \n",
       "  \"/>\n",
       "<polyline clip-path=\"url(#clip6000)\" style=\"stroke:#000000; stroke-width:4; stroke-opacity:1; fill:none\" points=\"\n",
       "  153.898,93.3394 186.881,93.3394 \n",
       "  \"/>\n",
       "<g clip-path=\"url(#clip6000)\">\n",
       "<text style=\"fill:#000000; fill-opacity:1; font-family:Arial,Helvetica Neue,Helvetica,sans-serif; font-size:48px; text-anchor:middle;\" transform=\"rotate(0, 211.973, 1541.47)\" x=\"211.973\" y=\"1541.47\">0.0</text>\n",
       "</g>\n",
       "<g clip-path=\"url(#clip6000)\">\n",
       "<text style=\"fill:#000000; fill-opacity:1; font-family:Arial,Helvetica Neue,Helvetica,sans-serif; font-size:48px; text-anchor:middle;\" transform=\"rotate(0, 419.828, 1541.47)\" x=\"419.828\" y=\"1541.47\">0.5</text>\n",
       "</g>\n",
       "<g clip-path=\"url(#clip6000)\">\n",
       "<text style=\"fill:#000000; fill-opacity:1; font-family:Arial,Helvetica Neue,Helvetica,sans-serif; font-size:48px; text-anchor:middle;\" transform=\"rotate(0, 627.683, 1541.47)\" x=\"627.683\" y=\"1541.47\">1.0</text>\n",
       "</g>\n",
       "<g clip-path=\"url(#clip6000)\">\n",
       "<text style=\"fill:#000000; fill-opacity:1; font-family:Arial,Helvetica Neue,Helvetica,sans-serif; font-size:48px; text-anchor:middle;\" transform=\"rotate(0, 835.538, 1541.47)\" x=\"835.538\" y=\"1541.47\">1.5</text>\n",
       "</g>\n",
       "<g clip-path=\"url(#clip6000)\">\n",
       "<text style=\"fill:#000000; fill-opacity:1; font-family:Arial,Helvetica Neue,Helvetica,sans-serif; font-size:48px; text-anchor:middle;\" transform=\"rotate(0, 1043.39, 1541.47)\" x=\"1043.39\" y=\"1541.47\">2.0</text>\n",
       "</g>\n",
       "<g clip-path=\"url(#clip6000)\">\n",
       "<text style=\"fill:#000000; fill-opacity:1; font-family:Arial,Helvetica Neue,Helvetica,sans-serif; font-size:48px; text-anchor:middle;\" transform=\"rotate(0, 1251.25, 1541.47)\" x=\"1251.25\" y=\"1541.47\">2.5</text>\n",
       "</g>\n",
       "<g clip-path=\"url(#clip6000)\">\n",
       "<text style=\"fill:#000000; fill-opacity:1; font-family:Arial,Helvetica Neue,Helvetica,sans-serif; font-size:48px; text-anchor:middle;\" transform=\"rotate(0, 1459.1, 1541.47)\" x=\"1459.1\" y=\"1541.47\">3.0</text>\n",
       "</g>\n",
       "<g clip-path=\"url(#clip6000)\">\n",
       "<text style=\"fill:#000000; fill-opacity:1; font-family:Arial,Helvetica Neue,Helvetica,sans-serif; font-size:48px; text-anchor:middle;\" transform=\"rotate(0, 1666.96, 1541.47)\" x=\"1666.96\" y=\"1541.47\">3.5</text>\n",
       "</g>\n",
       "<g clip-path=\"url(#clip6000)\">\n",
       "<text style=\"fill:#000000; fill-opacity:1; font-family:Arial,Helvetica Neue,Helvetica,sans-serif; font-size:48px; text-anchor:middle;\" transform=\"rotate(0, 1874.81, 1541.47)\" x=\"1874.81\" y=\"1541.47\">4.0</text>\n",
       "</g>\n",
       "<g clip-path=\"url(#clip6000)\">\n",
       "<text style=\"fill:#000000; fill-opacity:1; font-family:Arial,Helvetica Neue,Helvetica,sans-serif; font-size:48px; text-anchor:middle;\" transform=\"rotate(0, 2082.67, 1541.47)\" x=\"2082.67\" y=\"1541.47\">4.5</text>\n",
       "</g>\n",
       "<g clip-path=\"url(#clip6000)\">\n",
       "<text style=\"fill:#000000; fill-opacity:1; font-family:Arial,Helvetica Neue,Helvetica,sans-serif; font-size:48px; text-anchor:middle;\" transform=\"rotate(0, 2290.52, 1541.47)\" x=\"2290.52\" y=\"1541.47\">5.0</text>\n",
       "</g>\n",
       "<g clip-path=\"url(#clip6000)\">\n",
       "<text style=\"fill:#000000; fill-opacity:1; font-family:Arial,Helvetica Neue,Helvetica,sans-serif; font-size:48px; text-anchor:end;\" transform=\"rotate(0, 129.898, 1319.43)\" x=\"129.898\" y=\"1319.43\">0.5</text>\n",
       "</g>\n",
       "<g clip-path=\"url(#clip6000)\">\n",
       "<text style=\"fill:#000000; fill-opacity:1; font-family:Arial,Helvetica Neue,Helvetica,sans-serif; font-size:48px; text-anchor:end;\" transform=\"rotate(0, 129.898, 916.564)\" x=\"129.898\" y=\"916.564\">0.6</text>\n",
       "</g>\n",
       "<g clip-path=\"url(#clip6000)\">\n",
       "<text style=\"fill:#000000; fill-opacity:1; font-family:Arial,Helvetica Neue,Helvetica,sans-serif; font-size:48px; text-anchor:end;\" transform=\"rotate(0, 129.898, 513.702)\" x=\"129.898\" y=\"513.702\">0.7</text>\n",
       "</g>\n",
       "<g clip-path=\"url(#clip6000)\">\n",
       "<text style=\"fill:#000000; fill-opacity:1; font-family:Arial,Helvetica Neue,Helvetica,sans-serif; font-size:48px; text-anchor:end;\" transform=\"rotate(0, 129.898, 110.839)\" x=\"129.898\" y=\"110.839\">0.8</text>\n",
       "</g>\n",
       "<polyline clip-path=\"url(#clip6002)\" style=\"stroke:#009af9; stroke-width:4; stroke-opacity:1; fill:none\" points=\"\n",
       "  216.13,1344.57 220.287,977.951 224.444,623.065 228.601,360.212 232.758,209.899 236.915,139.729 241.072,109.734 245.23,97.8948 249.387,92.3454 253.544,89.4208 \n",
       "  257.701,88.0053 261.858,88.0715 266.015,88.9864 270.172,90.4512 274.329,92.4787 278.486,94.912 282.643,97.7161 286.801,100.871 290.958,104.311 295.115,107.95 \n",
       "  299.272,111.725 303.429,115.707 307.586,119.823 311.743,124.006 315.9,128.26 320.057,132.576 324.214,136.9 328.372,141.35 332.529,145.886 336.686,150.506 \n",
       "  340.843,155.215 345,160.029 349.157,164.935 353.314,169.958 357.471,175.065 361.628,180.256 365.786,185.508 369.943,190.808 374.1,196.189 378.257,201.628 \n",
       "  382.414,207.123 386.571,212.695 390.728,218.338 394.885,224.051 399.042,229.836 403.199,235.681 407.357,241.575 411.514,247.51 415.671,253.515 419.828,259.569 \n",
       "  423.985,265.668 428.142,271.832 432.299,278.053 436.456,284.322 440.613,290.639 444.77,297.012 448.928,303.425 453.085,309.876 457.242,316.367 461.399,322.904 \n",
       "  465.556,329.484 469.713,336.103 473.87,342.765 478.027,349.457 482.184,356.221 486.341,363.023 490.499,369.811 494.656,376.704 498.813,383.633 502.97,390.599 \n",
       "  507.127,397.609 511.284,404.669 515.441,411.774 519.598,418.925 523.755,426.118 527.913,433.36 532.07,440.638 536.227,447.955 540.384,455.317 544.541,462.717 \n",
       "  548.698,470.162 552.855,477.648 557.012,485.175 561.169,492.727 565.326,500.344 569.484,507.995 573.641,515.674 577.798,523.378 581.955,531.14 586.112,538.93 \n",
       "  590.269,546.754 594.426,554.609 598.583,562.5 602.74,570.426 606.897,578.386 611.055,586.376 615.212,594.403 619.369,602.462 623.526,610.552 627.683,618.675 \n",
       "  631.84,626.83 635.997,635.016 640.154,643.232 644.311,651.48 648.468,659.76 652.626,668.072 656.783,676.417 660.94,684.783 665.097,693.185 669.254,701.615 \n",
       "  673.411,710.075 677.568,718.56 681.725,727.074 685.882,735.612 690.04,744.179 694.197,752.77 698.354,761.385 702.511,770.015 706.668,778.67 710.825,787.351 \n",
       "  714.982,796.065 719.139,804.802 723.296,813.548 727.453,822.327 731.611,831.116 735.768,839.93 739.925,848.77 744.082,857.605 748.239,866.481 752.396,875.361 \n",
       "  756.553,884.268 760.71,893.182 764.867,902.107 769.024,911.056 773.182,920.009 777.339,928.977 781.496,937.953 785.653,946.924 789.81,955.924 793.967,964.938 \n",
       "  798.124,973.913 802.281,982.941 806.438,991.952 810.595,1000.95 814.753,1009.93 818.91,1018.91 823.067,1027.8 827.224,1036.72 831.381,1045.22 835.538,1053.58 \n",
       "  839.695,1061.73 843.852,1069.63 848.009,1077.61 852.167,1084.54 856.324,1091.42 860.481,1097.98 864.638,1104.6 868.795,1111.32 872.952,1117.83 877.109,1124.21 \n",
       "  881.266,1130.07 885.423,1135.7 889.58,1141.26 893.738,1146.73 897.895,1152.22 902.052,1157.74 906.209,1163.14 910.366,1168.49 914.523,1173.82 918.68,1179.04 \n",
       "  922.837,1184.2 926.994,1189.4 931.151,1194.51 935.309,1199.58 939.466,1204.71 943.623,1209.7 947.78,1214.74 951.937,1219.82 956.094,1224.85 960.251,1229.78 \n",
       "  964.408,1234.78 968.565,1239.67 972.723,1244.58 976.88,1249.41 981.037,1252.02 985.194,1256.98 989.351,1262.07 993.508,1267.15 997.665,1272.09 1001.82,1277.03 \n",
       "  1005.98,1281.96 1010.14,1286.9 1014.29,1291.8 1018.45,1296.54 1022.61,1301.39 1026.76,1305.5 1030.92,1309.87 1035.08,1314.07 1039.24,1318 1043.39,1321.67 \n",
       "  1047.55,1325.04 1051.71,1327.91 1055.86,1331.02 1060.02,1333.66 1064.18,1336.43 1068.34,1338.19 1072.49,1340.77 1076.65,1343.24 1080.81,1345.56 1084.96,1347.65 \n",
       "  1089.12,1350.44 1093.28,1352.05 1097.44,1354.43 1101.59,1356.62 1105.75,1358.79 1109.91,1360.98 1114.06,1363.39 1118.22,1365.02 1122.38,1367.32 1126.54,1369.47 \n",
       "  1130.69,1371.45 1134.85,1373.51 1139.01,1375.63 1143.16,1377.48 1147.32,1379.37 1151.48,1381.6 1155.64,1383.28 1159.79,1384.8 1163.95,1386.21 1168.11,1387.99 \n",
       "  1172.26,1389.65 1176.42,1390.42 1180.58,1391.61 1184.73,1393.1 1188.89,1394.34 1193.05,1396.27 1197.21,1397.54 1201.36,1396.95 1205.52,1398.99 1209.68,1400.54 \n",
       "  1213.83,1401.5 1217.99,1402.69 1222.15,1403.74 1226.31,1404.88 1230.46,1405.99 1234.62,1406.92 1238.78,1407.93 1242.93,1408.48 1247.09,1409.44 1251.25,1410.65 \n",
       "  1255.41,1411.56 1259.56,1412.36 1263.72,1413.35 1267.88,1414.34 1272.03,1415.1 1276.19,1416.02 1280.35,1416.88 1284.51,1417.7 1288.66,1418.55 1292.82,1419.36 \n",
       "  1296.98,1420.24 1301.13,1421.23 1305.29,1422.11 1309.45,1422.98 1313.6,1423.86 1317.76,1424.78 1321.92,1425.57 1326.08,1425.7 1330.23,1426.85 1334.39,1427.7 \n",
       "  1338.55,1428.36 1342.7,1429.17 1346.86,1429.77 1351.02,1430.32 1355.18,1431.2 1359.33,1431.83 1363.49,1432.43 1367.65,1433.05 1371.8,1433.61 1375.96,1434.34 \n",
       "  1380.12,1435 1384.28,1435.68 1388.43,1436.41 1392.59,1436.86 1396.75,1437.65 1400.9,1437.98 1405.06,1438.78 1409.22,1439.71 1413.38,1440.4 1417.53,1440.98 \n",
       "  1421.69,1440.92 1425.85,1441.7 1430,1441.88 1434.16,1442.4 1438.32,1442.81 1442.48,1443.12 1446.63,1444.11 1450.79,1444.67 1454.95,1445.08 1459.1,1445.46 \n",
       "  1463.26,1446.21 1467.42,1446.22 1471.57,1446.22 1475.73,1446.23 1479.89,1446.24 1484.05,1446.24 1488.2,1446.25 1492.36,1446.25 1496.52,1446.26 1500.67,1446.26 \n",
       "  1504.83,1446.27 1508.99,1446.27 1513.15,1446.28 1517.3,1446.28 1521.46,1446.29 1525.62,1446.29 1529.77,1446.3 1533.93,1446.3 1538.09,1446.31 1542.25,1446.31 \n",
       "  1546.4,1446.32 1550.56,1446.32 1554.72,1446.33 1558.87,1446.33 1563.03,1446.34 1567.19,1446.34 1571.35,1446.35 1575.5,1446.35 1579.66,1446.35 1583.82,1446.36 \n",
       "  1587.97,1446.36 1592.13,1446.37 1596.29,1446.37 1600.45,1446.37 1604.6,1446.38 1608.76,1446.38 1612.92,1446.39 1617.07,1446.39 1621.23,1446.39 1625.39,1446.4 \n",
       "  1629.54,1446.4 1633.7,1446.41 1637.86,1446.41 1642.02,1446.41 1646.17,1446.42 1650.33,1446.42 1654.49,1446.42 1658.64,1446.43 1662.8,1446.43 1666.96,1446.43 \n",
       "  1671.12,1446.44 1675.27,1446.44 1679.43,1446.44 1683.59,1446.45 1687.74,1446.45 1691.9,1446.45 1696.06,1446.46 1700.22,1446.46 1704.37,1446.46 1708.53,1446.47 \n",
       "  1712.69,1446.47 1716.84,1446.47 1721,1446.47 1725.16,1446.48 1729.32,1446.48 1733.47,1446.48 1737.63,1446.49 1741.79,1446.49 1745.94,1446.49 1750.1,1446.49 \n",
       "  1754.26,1446.5 1758.41,1446.5 1762.57,1446.5 1766.73,1446.5 1770.89,1446.51 1775.04,1446.51 1779.2,1446.51 1783.36,1446.51 1787.51,1446.52 1791.67,1446.52 \n",
       "  1795.83,1446.52 1799.99,1446.52 1804.14,1446.53 1808.3,1446.53 1812.46,1446.53 1816.61,1446.53 1820.77,1446.54 1824.93,1446.54 1829.09,1446.54 1833.24,1446.54 \n",
       "  1837.4,1446.55 1841.56,1446.55 1845.71,1446.55 1849.87,1446.55 1854.03,1446.55 1858.19,1446.56 1862.34,1446.56 1866.5,1446.56 1870.66,1446.56 1874.81,1446.56 \n",
       "  1878.97,1446.57 1883.13,1446.57 1887.29,1446.57 1891.44,1446.57 1895.6,1446.57 1899.76,1446.58 1903.91,1446.58 1908.07,1446.58 1912.23,1446.58 1916.38,1446.58 \n",
       "  1920.54,1446.59 1924.7,1446.59 1928.86,1446.59 1933.01,1446.59 1937.17,1446.59 1941.33,1446.6 1945.48,1446.6 1949.64,1446.6 1953.8,1446.6 1957.96,1446.6 \n",
       "  1962.11,1446.6 1966.27,1446.61 1970.43,1446.61 1974.58,1446.61 1978.74,1446.61 1982.9,1446.61 1987.06,1446.61 1991.21,1446.62 1995.37,1446.62 1999.53,1446.62 \n",
       "  2003.68,1446.62 2007.84,1446.62 2012,1446.62 2016.16,1446.63 2020.31,1446.63 2024.47,1446.63 2028.63,1446.63 2032.78,1446.63 2036.94,1446.63 2041.1,1446.64 \n",
       "  2045.26,1446.64 2049.41,1446.64 2053.57,1446.64 2057.73,1446.64 2061.88,1446.64 2066.04,1446.64 2070.2,1446.65 2074.35,1446.65 2078.51,1446.65 2082.67,1446.65 \n",
       "  2086.83,1446.65 2090.98,1446.65 2095.14,1446.66 2099.3,1446.66 2103.45,1446.66 2107.61,1446.66 2111.77,1446.66 2115.93,1446.66 2120.08,1446.66 2124.24,1446.66 \n",
       "  2128.4,1446.67 2132.55,1446.67 2136.71,1446.67 2140.87,1446.67 2145.03,1446.67 2149.18,1446.67 2153.34,1446.67 2157.5,1446.68 2161.65,1446.68 2165.81,1446.68 \n",
       "  2169.97,1446.68 2174.13,1446.68 2178.28,1446.68 2182.44,1446.68 2186.6,1446.68 2190.75,1446.69 2194.91,1446.69 2199.07,1446.69 2203.22,1446.69 2207.38,1446.69 \n",
       "  2211.54,1446.69 2215.7,1446.69 2219.85,1446.69 2224.01,1446.7 2228.17,1446.7 2232.32,1446.7 2236.48,1446.7 2240.64,1446.7 2244.8,1446.7 2248.95,1446.7 \n",
       "  2253.11,1446.7 2257.27,1446.7 2261.42,1446.71 2265.58,1446.71 2269.74,1446.71 2273.9,1446.71 2278.05,1446.71 2282.21,1446.71 2286.37,1446.71 2290.52,1446.71 \n",
       "  \n",
       "  \"/>\n",
       "<path clip-path=\"url(#clip6000)\" d=\"\n",
       "M1703.77 251.724 L2280.76 251.724 L2280.76 130.764 L1703.77 130.764  Z\n",
       "  \" fill=\"#fffff0\" fill-rule=\"evenodd\" fill-opacity=\"1\"/>\n",
       "<polyline clip-path=\"url(#clip6000)\" style=\"stroke:#000000; stroke-width:4; stroke-opacity:1; fill:none\" points=\"\n",
       "  1703.77,251.724 2280.76,251.724 2280.76,130.764 1703.77,130.764 1703.77,251.724 \n",
       "  \"/>\n",
       "<polyline clip-path=\"url(#clip6000)\" style=\"stroke:#009af9; stroke-width:4; stroke-opacity:1; fill:none\" points=\"\n",
       "  1727.77,191.244 1871.77,191.244 \n",
       "  \"/>\n",
       "<g clip-path=\"url(#clip6000)\">\n",
       "<text style=\"fill:#000000; fill-opacity:1; font-family:Arial,Helvetica Neue,Helvetica,sans-serif; font-size:48px; text-anchor:start;\" transform=\"rotate(0, 1895.77, 208.744)\" x=\"1895.77\" y=\"208.744\">ssim_scalar_rof</text>\n",
       "</g>\n",
       "</svg>\n"
      ]
     },
     "execution_count": 18,
     "metadata": {},
     "output_type": "execute_result"
    }
   ],
   "source": [
    "plot(d[\"lambda\"],d[\"ssim_val\"],label=\"ssim_scalar_rof\",xticks = 0:0.5:5, background_color = :ivory)"
   ]
  },
  {
   "cell_type": "markdown",
   "metadata": {},
   "source": [
    "## Solving Bilevel Problem\n",
    "We will define a numerical strategy based on an inexact Trust Region method to solve the bilevel problem. First, we need to define a gradient calculation"
   ]
  },
  {
   "cell_type": "code",
   "execution_count": 43,
   "metadata": {},
   "outputs": [
    {
     "data": {
      "text/plain": [
       "gradient_solver (generic function with 1 method)"
      ]
     },
     "execution_count": 43,
     "metadata": {},
     "output_type": "execute_result"
    }
   ],
   "source": [
    "include(\"gradient_solver.jl\")"
   ]
  },
  {
   "cell_type": "code",
   "execution_count": 44,
   "metadata": {},
   "outputs": [
    {
     "name": "stdout",
     "output_type": "stream",
     "text": [
      "SparseVector{Float64,Int64}\n",
      "SparseVector{Float64,Int64}\n"
     ]
    },
    {
     "ename": "MethodError",
     "evalue": "MethodError: no method matching *(::SparseVector{Float64,Int64}, ::SparseVector{Float64,Int64})\nClosest candidates are:\n  *(::Any, ::Any, !Matched::Any, !Matched::Any...) at operators.jl:529\n  *(!Matched::Adjoint{#s617,#s616} where #s616<:LinearAlgebra.AbstractTriangular where #s617, ::AbstractArray{T,1} where T) at /Users/sabae/buildbot/worker/package_macos64/build/usr/share/julia/stdlib/v1.2/LinearAlgebra/src/triangular.jl:1850\n  *(!Matched::Adjoint{#s617,#s616} where #s616<:(Union{Hermitian{T,S}, Hermitian{Complex{T},S}, Symmetric{T,S}} where S where T<:Real) where #s617, ::AbstractArray{T,1} where T) at /Users/sabae/buildbot/worker/package_macos64/build/usr/share/julia/stdlib/v1.2/LinearAlgebra/src/symmetric.jl:457\n  ...",
     "output_type": "error",
     "traceback": [
      "MethodError: no method matching *(::SparseVector{Float64,Int64}, ::SparseVector{Float64,Int64})\nClosest candidates are:\n  *(::Any, ::Any, !Matched::Any, !Matched::Any...) at operators.jl:529\n  *(!Matched::Adjoint{#s617,#s616} where #s616<:LinearAlgebra.AbstractTriangular where #s617, ::AbstractArray{T,1} where T) at /Users/sabae/buildbot/worker/package_macos64/build/usr/share/julia/stdlib/v1.2/LinearAlgebra/src/triangular.jl:1850\n  *(!Matched::Adjoint{#s617,#s616} where #s616<:(Union{Hermitian{T,S}, Hermitian{Complex{T},S}, Symmetric{T,S}} where S where T<:Real) where #s617, ::AbstractArray{T,1} where T) at /Users/sabae/buildbot/worker/package_macos64/build/usr/share/julia/stdlib/v1.2/LinearAlgebra/src/symmetric.jl:457\n  ...",
      "",
      "Stacktrace:",
      " [1] gradient_solver(::Array{Float64,2}, ::Array{Float64,2}, ::Float64, ::Variation{Float64,2}, ::SparseMatrixCSC{Float64,Int64}) at /Users/dvillacis/workspace/BilevelImagingParameterLearning.jl/demo/bilevel_scalar_rof/gradient_solver.jl:68",
      " [2] top-level scope at util.jl:156",
      " [3] top-level scope at In[44]:2"
     ]
    }
   ],
   "source": [
    "nabla = gradient_matrix(size(u))\n",
    "@time grad,ch = gradient_solver(u,ut,0.1,K,nabla)"
   ]
  },
  {
   "cell_type": "code",
   "execution_count": 49,
   "metadata": {},
   "outputs": [
    {
     "ename": "MethodError",
     "evalue": "MethodError: no method matching getindex(::ConvergenceHistory{true,Nothing}, ::String)\nClosest candidates are:\n  getindex(::ConvergenceHistory, !Matched::Symbol) at /Users/dvillacis/.julia/packages/IterativeSolvers/QuajJ/src/history.jl:107\n  getindex(::ConvergenceHistory, !Matched::Symbol, !Matched::Any...) at /Users/dvillacis/.julia/packages/IterativeSolvers/QuajJ/src/history.jl:108",
     "output_type": "error",
     "traceback": [
      "MethodError: no method matching getindex(::ConvergenceHistory{true,Nothing}, ::String)\nClosest candidates are:\n  getindex(::ConvergenceHistory, !Matched::Symbol) at /Users/dvillacis/.julia/packages/IterativeSolvers/QuajJ/src/history.jl:107\n  getindex(::ConvergenceHistory, !Matched::Symbol, !Matched::Any...) at /Users/dvillacis/.julia/packages/IterativeSolvers/QuajJ/src/history.jl:108",
      "",
      "Stacktrace:",
      " [1] top-level scope at In[49]:1"
     ]
    }
   ],
   "source": [
    "println(typeof(ch[\"resnom\"]))\n"
   ]
  },
  {
   "cell_type": "code",
   "execution_count": null,
   "metadata": {},
   "outputs": [],
   "source": [
    "plot(ch[\"resnorm\"],label=\"error_norm\",xticks = 0:0.5:5, background_color = :ivory)"
   ]
  },
  {
   "cell_type": "code",
   "execution_count": 24,
   "metadata": {},
   "outputs": [
    {
     "data": {
      "image/png": "[encoded data removed]",
      "text/plain": [
       "128×128 Array{Gray{Bool},2} with eltype Gray{Bool}:\n",
       " Gray{Bool}(true)   Gray{Bool}(true)   …  Gray{Bool}(true) \n",
       " Gray{Bool}(true)   Gray{Bool}(true)      Gray{Bool}(true) \n",
       " Gray{Bool}(true)   Gray{Bool}(true)      Gray{Bool}(true) \n",
       " Gray{Bool}(true)   Gray{Bool}(true)      Gray{Bool}(true) \n",
       " Gray{Bool}(true)   Gray{Bool}(true)      Gray{Bool}(true) \n",
       " Gray{Bool}(true)   Gray{Bool}(true)   …  Gray{Bool}(false)\n",
       " Gray{Bool}(true)   Gray{Bool}(true)      Gray{Bool}(true) \n",
       " Gray{Bool}(true)   Gray{Bool}(true)      Gray{Bool}(false)\n",
       " Gray{Bool}(true)   Gray{Bool}(true)      Gray{Bool}(false)\n",
       " Gray{Bool}(true)   Gray{Bool}(true)      Gray{Bool}(true) \n",
       " Gray{Bool}(true)   Gray{Bool}(true)   …  Gray{Bool}(true) \n",
       " Gray{Bool}(true)   Gray{Bool}(true)      Gray{Bool}(true) \n",
       " Gray{Bool}(false)  Gray{Bool}(true)      Gray{Bool}(true) \n",
       " ⋮                                     ⋱                   \n",
       " Gray{Bool}(true)   Gray{Bool}(true)      Gray{Bool}(true) \n",
       " Gray{Bool}(true)   Gray{Bool}(true)      Gray{Bool}(false)\n",
       " Gray{Bool}(true)   Gray{Bool}(true)      Gray{Bool}(true) \n",
       " Gray{Bool}(true)   Gray{Bool}(false)     Gray{Bool}(true) \n",
       " Gray{Bool}(false)  Gray{Bool}(false)  …  Gray{Bool}(true) \n",
       " Gray{Bool}(false)  Gray{Bool}(false)     Gray{Bool}(true) \n",
       " Gray{Bool}(true)   Gray{Bool}(true)      Gray{Bool}(true) \n",
       " Gray{Bool}(true)   Gray{Bool}(true)      Gray{Bool}(true) \n",
       " Gray{Bool}(true)   Gray{Bool}(true)      Gray{Bool}(true) \n",
       " Gray{Bool}(true)   Gray{Bool}(true)   …  Gray{Bool}(true) \n",
       " Gray{Bool}(true)   Gray{Bool}(true)      Gray{Bool}(true) \n",
       " Gray{Bool}(true)   Gray{Bool}(true)      Gray{Bool}(true) "
      ]
     },
     "execution_count": 24,
     "metadata": {},
     "output_type": "execute_result"
    }
   ],
   "source": [
    "Ku = K*u\n",
    "norms = sqrt.(sum(Ku.^2, dims=2))\n",
    "norms = reshape(norms,128,128) # Inactive set\n",
    "Gray.(norms .> 1e-3)"
   ]
  },
  {
   "cell_type": "code",
   "execution_count": 22,
   "metadata": {},
   "outputs": [
    {
     "data": {
      "text/plain": [
       "\"/Users/dvillacis/workspace/BilevelImagingParameterLearning.jl/demo/bilevel_scalar_rof\""
      ]
     },
     "execution_count": 22,
     "metadata": {},
     "output_type": "execute_result"
    }
   ],
   "source": [
    "pwd()"
   ]
  },
  {
   "cell_type": "code",
   "execution_count": 23,
   "metadata": {},
   "outputs": [
    {
     "name": "stdout",
     "output_type": "stream",
     "text": [
      "\u001b[32m\u001b[1m  Updating\u001b[22m\u001b[39m registry at `~/.julia/registries/General`\n",
      "\u001b[32m\u001b[1m  Updating\u001b[22m\u001b[39m git-repo `https://github.com/JuliaRegistries/General.git`\n",
      "\u001b[2K\u001b[?25h[1mFetching:\u001b[22m\u001b[39m [========================================>]  100.0 %.0 %\u001b[36m\u001b[1mFetching:\u001b[22m\u001b[39m [==================================>      ]  84.4 %\u001b[32m\u001b[1m Resolving\u001b[22m\u001b[39m package versions...\n",
      "\u001b[32m\u001b[1m  Updating\u001b[22m\u001b[39m `~/.julia/environments/v1.2/Project.toml`\n",
      " \u001b[90m [42fd0dbc]\u001b[39m\u001b[92m + IterativeSolvers v0.8.1\u001b[39m\n",
      "\u001b[32m\u001b[1m  Updating\u001b[22m\u001b[39m `~/.julia/environments/v1.2/Manifest.toml`\n",
      "\u001b[90m [no changes]\u001b[39m\n"
     ]
    }
   ],
   "source": [
    "import Pkg; Pkg.add(\"IterativeSolvers\")"
   ]
  },
  {
   "cell_type": "code",
   "execution_count": null,
   "metadata": {},
   "outputs": [],
   "source": []
  }
 ],
 "metadata": {
  "@webio": {
   "lastCommId": null,
   "lastKernelId": null
  },
  "kernelspec": {
   "display_name": "Julia 1.2.0",
   "language": "julia",
   "name": "julia-1.2"
  },
  "language_info": {
   "file_extension": ".jl",
   "mimetype": "application/julia",
   "name": "julia",
   "version": "1.2.0"
  }
 },
 "nbformat": 4,
 "nbformat_minor": 2
}
