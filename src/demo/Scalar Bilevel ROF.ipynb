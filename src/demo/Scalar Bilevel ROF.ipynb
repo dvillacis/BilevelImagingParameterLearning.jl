{
 "cells": [
  {
   "cell_type": "markdown",
   "metadata": {},
   "source": [
    "# Scalar Bilevel ROF\n",
    "We will solve the following bilevel problem\n",
    "\n",
    "$$\n",
    "\\min_\\lambda \\|\\hat{u}-\\bar{u}\\|^2 + \\beta\\lambda^2\\\\\n",
    "\\text{s.t. } \\hat{u} = arg\\min_u \\frac{1}{2}\\|u-f\\|^2+\\lambda\\|\\mathbb{K} u\\|_{2,1} \n",
    "$$\n",
    "\n",
    "We will use a small dataset of one sample to learn the optimal parameter for the ROF image denoising model."
   ]
  },
  {
   "cell_type": "code",
   "execution_count": 1,
   "metadata": {},
   "outputs": [],
   "source": [
    "using Pkg, Random, Images, TestImages, LinearAlgebra\n",
    "using AbstractOperators\n",
    "using StructuredOptimization"
   ]
  },
  {
   "cell_type": "code",
   "execution_count": 9,
   "metadata": {},
   "outputs": [
    {
     "name": "stderr",
     "output_type": "stream",
     "text": [
      "WARNING: replacing module BilevelImagingParameterLearning.\n",
      "WARNING: using BilevelImagingParameterLearning.ScalarROFAdjointOperator in module Main conflicts with an existing identifier.\n"
     ]
    }
   ],
   "source": [
    "include(\"../BilevelImagingParameterLearning.jl\")\n",
    "using .BilevelImagingParameterLearning"
   ]
  },
  {
   "cell_type": "code",
   "execution_count": 3,
   "metadata": {},
   "outputs": [],
   "source": [
    "Random.seed!(123); # For reproductibility"
   ]
  },
  {
   "cell_type": "markdown",
   "metadata": {},
   "source": [
    "## Load dataset"
   ]
  },
  {
   "cell_type": "code",
   "execution_count": 53,
   "metadata": {},
   "outputs": [
    {
     "data": {
      "image/png": "[encoded data removed]",
      "text/plain": [
       "128×128 Array{Gray{Float64},2} with eltype Gray{Float64}:\n",
       " Gray{Float64}(0.92549)   Gray{Float64}(0.968627)  …  Gray{Float64}(1.0)     \n",
       " Gray{Float64}(1.0)       Gray{Float64}(0.956863)     Gray{Float64}(0.996078)\n",
       " Gray{Float64}(1.0)       Gray{Float64}(0.984314)     Gray{Float64}(1.0)     \n",
       " Gray{Float64}(0.941176)  Gray{Float64}(0.996078)     Gray{Float64}(0.921569)\n",
       " Gray{Float64}(0.870588)  Gray{Float64}(0.929412)     Gray{Float64}(1.0)     \n",
       " Gray{Float64}(0.92549)   Gray{Float64}(0.898039)  …  Gray{Float64}(1.0)     \n",
       " Gray{Float64}(1.0)       Gray{Float64}(0.988235)     Gray{Float64}(1.0)     \n",
       " Gray{Float64}(0.937255)  Gray{Float64}(1.0)          Gray{Float64}(1.0)     \n",
       " Gray{Float64}(1.0)       Gray{Float64}(0.945098)     Gray{Float64}(1.0)     \n",
       " Gray{Float64}(0.996078)  Gray{Float64}(0.956863)     Gray{Float64}(1.0)     \n",
       " Gray{Float64}(1.0)       Gray{Float64}(0.909804)  …  Gray{Float64}(1.0)     \n",
       " Gray{Float64}(1.0)       Gray{Float64}(0.968627)     Gray{Float64}(0.905882)\n",
       " Gray{Float64}(1.0)       Gray{Float64}(1.0)          Gray{Float64}(0.886275)\n",
       " ⋮                                                 ⋱                         \n",
       " Gray{Float64}(0.929412)  Gray{Float64}(1.0)          Gray{Float64}(1.0)     \n",
       " Gray{Float64}(1.0)       Gray{Float64}(0.94902)      Gray{Float64}(1.0)     \n",
       " Gray{Float64}(0.901961)  Gray{Float64}(1.0)          Gray{Float64}(1.0)     \n",
       " Gray{Float64}(1.0)       Gray{Float64}(1.0)          Gray{Float64}(0.717647)\n",
       " Gray{Float64}(1.0)       Gray{Float64}(1.0)       …  Gray{Float64}(0.945098)\n",
       " Gray{Float64}(1.0)       Gray{Float64}(1.0)          Gray{Float64}(0.984314)\n",
       " Gray{Float64}(0.941176)  Gray{Float64}(0.996078)     Gray{Float64}(0.913725)\n",
       " Gray{Float64}(0.964706)  Gray{Float64}(1.0)          Gray{Float64}(0.862745)\n",
       " Gray{Float64}(1.0)       Gray{Float64}(0.878431)     Gray{Float64}(0.92549) \n",
       " Gray{Float64}(1.0)       Gray{Float64}(0.901961)  …  Gray{Float64}(0.87451) \n",
       " Gray{Float64}(0.917647)  Gray{Float64}(0.937255)     Gray{Float64}(1.0)     \n",
       " Gray{Float64}(0.972549)  Gray{Float64}(0.941176)     Gray{Float64}(1.0)     "
      ]
     },
     "execution_count": 53,
     "metadata": {},
     "output_type": "execute_result"
    }
   ],
   "source": [
    "# Noisy image\n",
    "Y = datasetimage(\"1_smiley_noisy\",\"../datasets/smiley_dataset\")\n",
    "Y[Y .< 0] .= 0. # Make sure pixels are in range\n",
    "Y[Y .> 1] .= 1.\n",
    "Gray.(Y)"
   ]
  },
  {
   "cell_type": "code",
   "execution_count": 5,
   "metadata": {},
   "outputs": [
    {
     "data": {
      "image/png": "[encoded data removed]",
      "text/plain": [
       "128×128 Array{Gray{Float64},2} with eltype Gray{Float64}:\n",
       " Gray{Float64}(1.0)  Gray{Float64}(1.0)  …  Gray{Float64}(1.0)\n",
       " Gray{Float64}(1.0)  Gray{Float64}(1.0)     Gray{Float64}(1.0)\n",
       " Gray{Float64}(1.0)  Gray{Float64}(1.0)     Gray{Float64}(1.0)\n",
       " Gray{Float64}(1.0)  Gray{Float64}(1.0)     Gray{Float64}(1.0)\n",
       " Gray{Float64}(1.0)  Gray{Float64}(1.0)     Gray{Float64}(1.0)\n",
       " Gray{Float64}(1.0)  Gray{Float64}(1.0)  …  Gray{Float64}(1.0)\n",
       " Gray{Float64}(1.0)  Gray{Float64}(1.0)     Gray{Float64}(1.0)\n",
       " Gray{Float64}(1.0)  Gray{Float64}(1.0)     Gray{Float64}(1.0)\n",
       " Gray{Float64}(1.0)  Gray{Float64}(1.0)     Gray{Float64}(1.0)\n",
       " Gray{Float64}(1.0)  Gray{Float64}(1.0)     Gray{Float64}(1.0)\n",
       " Gray{Float64}(1.0)  Gray{Float64}(1.0)  …  Gray{Float64}(1.0)\n",
       " Gray{Float64}(1.0)  Gray{Float64}(1.0)     Gray{Float64}(1.0)\n",
       " Gray{Float64}(1.0)  Gray{Float64}(1.0)     Gray{Float64}(1.0)\n",
       " ⋮                                       ⋱                    \n",
       " Gray{Float64}(1.0)  Gray{Float64}(1.0)     Gray{Float64}(1.0)\n",
       " Gray{Float64}(1.0)  Gray{Float64}(1.0)     Gray{Float64}(1.0)\n",
       " Gray{Float64}(1.0)  Gray{Float64}(1.0)     Gray{Float64}(1.0)\n",
       " Gray{Float64}(1.0)  Gray{Float64}(1.0)     Gray{Float64}(1.0)\n",
       " Gray{Float64}(1.0)  Gray{Float64}(1.0)  …  Gray{Float64}(1.0)\n",
       " Gray{Float64}(1.0)  Gray{Float64}(1.0)     Gray{Float64}(1.0)\n",
       " Gray{Float64}(1.0)  Gray{Float64}(1.0)     Gray{Float64}(1.0)\n",
       " Gray{Float64}(1.0)  Gray{Float64}(1.0)     Gray{Float64}(1.0)\n",
       " Gray{Float64}(1.0)  Gray{Float64}(1.0)     Gray{Float64}(1.0)\n",
       " Gray{Float64}(1.0)  Gray{Float64}(1.0)  …  Gray{Float64}(1.0)\n",
       " Gray{Float64}(1.0)  Gray{Float64}(1.0)     Gray{Float64}(1.0)\n",
       " Gray{Float64}(1.0)  Gray{Float64}(1.0)     Gray{Float64}(1.0)"
      ]
     },
     "execution_count": 5,
     "metadata": {},
     "output_type": "execute_result"
    }
   ],
   "source": [
    "# Ground truth\n",
    "Yt = datasetimage(\"1_smiley_original\",\"../datasets/smiley_dataset\")\n",
    "Yt[Yt .< 0] .= 0. # Make sure pixels are in range\n",
    "Yt[Yt .> 1] .= 1.\n",
    "Gray.(Yt)"
   ]
  },
  {
   "cell_type": "markdown",
   "metadata": {},
   "source": [
    "## Bilevel Cost Function\n",
    "First, we will plot the cost function to see the form it has for this particular problem"
   ]
  },
  {
   "cell_type": "code",
   "execution_count": 126,
   "metadata": {},
   "outputs": [
    {
     "data": {
      "text/plain": [
       "upper_level_cost (generic function with 1 method)"
      ]
     },
     "execution_count": 126,
     "metadata": {},
     "output_type": "execute_result"
    }
   ],
   "source": [
    "# Minimizing the ROF dual formulation\n",
    "function lower_level_solver(lambda,Y,V,U)\n",
    "    @minimize ls(-V'*U+Y) + conj(lambda*norm(U,2,1,2)) with ForwardBackward(tol = 1e-3, gamma = 1/8, fast = true) \n",
    "    return Gray.(-V'*(~U)+Y)\n",
    "end\n",
    "\n",
    "# Upper level cost\n",
    "function upper_level_cost(Yt,X,beta,lambda)\n",
    "    return 0.5*norm(vcat((X-Yt)...)) + beta*lambda^2\n",
    "end"
   ]
  },
  {
   "cell_type": "code",
   "execution_count": 127,
   "metadata": {},
   "outputs": [],
   "source": [
    "V = Variation(size(Y)) # Define the finite differences gradient operator\n",
    "U = Variable(size(V,1)...)\n",
    "beta = 0.1;"
   ]
  },
  {
   "cell_type": "code",
   "execution_count": 128,
   "metadata": {},
   "outputs": [
    {
     "data": {
      "text/plain": [
       "Task (done) @0x0000000112be5b10"
      ]
     },
     "execution_count": 128,
     "metadata": {},
     "output_type": "execute_result"
    }
   ],
   "source": [
    "using Distributed\n",
    "\n",
    "lambda_range = 0.01:0.01:10;\n",
    "\n",
    "costs = Float64[]\n",
    "@distributed for lambda in lambda_range\n",
    "    X = lower_level_solver(lambda,Y,V,U)\n",
    "    push!(costs,upper_level_cost(Yt,X,beta,lambda))\n",
    "    #println(\"The cost for $lambda of this iteration\")\n",
    "end\n"
   ]
  },
  {
   "cell_type": "code",
   "execution_count": 129,
   "metadata": {},
   "outputs": [],
   "source": [
    "# Saving generated data\n",
    "using JLD\n",
    "save(\"scalar_rof_cost.jld\", \"lambda\", lambda_range, \"costs\", costs)"
   ]
  },
  {
   "cell_type": "code",
   "execution_count": 130,
   "metadata": {},
   "outputs": [
    {
     "data": {
      "image/svg+xml": [
       "<?xml version=\"1.0\" encoding=\"utf-8\"?>\n",
       "<svg xmlns=\"http://www.w3.org/2000/svg\" xmlns:xlink=\"http://www.w3.org/1999/xlink\" width=\"600\" height=\"400\" viewBox=\"0 0 2400 1600\">\n",
       "<defs>\n",
       "  <clipPath id=\"clip2400\">\n",
       "    <rect x=\"0\" y=\"0\" width=\"2400\" height=\"1600\"/>\n",
       "  </clipPath>\n",
       "</defs>\n",
       "<polygon clip-path=\"url(#clip2400)\" points=\"\n",
       "0,1600 2400,1600 2400,0 0,0 \n",
       "  \" fill=\"#fffff0\" fill-rule=\"evenodd\" fill-opacity=\"1\"/>\n",
       "<defs>\n",
       "  <clipPath id=\"clip2401\">\n",
       "    <rect x=\"480\" y=\"0\" width=\"1681\" height=\"1600\"/>\n",
       "  </clipPath>\n",
       "</defs>\n",
       "<polygon clip-path=\"url(#clip2400)\" points=\"\n",
       "140.517,1487.47 2352.76,1487.47 2352.76,47.2441 140.517,47.2441 \n",
       "  \" fill=\"#fffff0\" fill-rule=\"evenodd\" fill-opacity=\"1\"/>\n",
       "<defs>\n",
       "  <clipPath id=\"clip2402\">\n",
       "    <rect x=\"140\" y=\"47\" width=\"2213\" height=\"1441\"/>\n",
       "  </clipPath>\n",
       "</defs>\n",
       "<polyline clip-path=\"url(#clip2402)\" style=\"stroke:#000000; stroke-width:2; stroke-opacity:0.1; fill:none\" points=\"\n",
       "  201.038,1487.47 201.038,47.2441 \n",
       "  \"/>\n",
       "<polyline clip-path=\"url(#clip2402)\" style=\"stroke:#000000; stroke-width:2; stroke-opacity:0.1; fill:none\" points=\"\n",
       "  2290.15,1487.47 2290.15,47.2441 \n",
       "  \"/>\n",
       "<polyline clip-path=\"url(#clip2402)\" style=\"stroke:#000000; stroke-width:2; stroke-opacity:0.1; fill:none\" points=\"\n",
       "  140.517,1247.97 2352.76,1247.97 \n",
       "  \"/>\n",
       "<polyline clip-path=\"url(#clip2402)\" style=\"stroke:#000000; stroke-width:2; stroke-opacity:0.1; fill:none\" points=\"\n",
       "  140.517,990.239 2352.76,990.239 \n",
       "  \"/>\n",
       "<polyline clip-path=\"url(#clip2402)\" style=\"stroke:#000000; stroke-width:2; stroke-opacity:0.1; fill:none\" points=\"\n",
       "  140.517,732.509 2352.76,732.509 \n",
       "  \"/>\n",
       "<polyline clip-path=\"url(#clip2402)\" style=\"stroke:#000000; stroke-width:2; stroke-opacity:0.1; fill:none\" points=\"\n",
       "  140.517,474.778 2352.76,474.778 \n",
       "  \"/>\n",
       "<polyline clip-path=\"url(#clip2402)\" style=\"stroke:#000000; stroke-width:2; stroke-opacity:0.1; fill:none\" points=\"\n",
       "  140.517,217.048 2352.76,217.048 \n",
       "  \"/>\n",
       "<polyline clip-path=\"url(#clip2400)\" style=\"stroke:#000000; stroke-width:4; stroke-opacity:1; fill:none\" points=\"\n",
       "  140.517,1487.47 2352.76,1487.47 \n",
       "  \"/>\n",
       "<polyline clip-path=\"url(#clip2400)\" style=\"stroke:#000000; stroke-width:4; stroke-opacity:1; fill:none\" points=\"\n",
       "  140.517,1487.47 140.517,47.2441 \n",
       "  \"/>\n",
       "<polyline clip-path=\"url(#clip2400)\" style=\"stroke:#000000; stroke-width:4; stroke-opacity:1; fill:none\" points=\"\n",
       "  201.038,1487.47 201.038,1465.87 \n",
       "  \"/>\n",
       "<polyline clip-path=\"url(#clip2400)\" style=\"stroke:#000000; stroke-width:4; stroke-opacity:1; fill:none\" points=\"\n",
       "  2290.15,1487.47 2290.15,1465.87 \n",
       "  \"/>\n",
       "<polyline clip-path=\"url(#clip2400)\" style=\"stroke:#000000; stroke-width:4; stroke-opacity:1; fill:none\" points=\"\n",
       "  140.517,1247.97 173.7,1247.97 \n",
       "  \"/>\n",
       "<polyline clip-path=\"url(#clip2400)\" style=\"stroke:#000000; stroke-width:4; stroke-opacity:1; fill:none\" points=\"\n",
       "  140.517,990.239 173.7,990.239 \n",
       "  \"/>\n",
       "<polyline clip-path=\"url(#clip2400)\" style=\"stroke:#000000; stroke-width:4; stroke-opacity:1; fill:none\" points=\"\n",
       "  140.517,732.509 173.7,732.509 \n",
       "  \"/>\n",
       "<polyline clip-path=\"url(#clip2400)\" style=\"stroke:#000000; stroke-width:4; stroke-opacity:1; fill:none\" points=\"\n",
       "  140.517,474.778 173.7,474.778 \n",
       "  \"/>\n",
       "<polyline clip-path=\"url(#clip2400)\" style=\"stroke:#000000; stroke-width:4; stroke-opacity:1; fill:none\" points=\"\n",
       "  140.517,217.048 173.7,217.048 \n",
       "  \"/>\n",
       "<g clip-path=\"url(#clip2400)\">\n",
       "<text style=\"fill:#000000; fill-opacity:1; font-family:Arial,Helvetica Neue,Helvetica,sans-serif; font-size:48px; text-anchor:middle;\" transform=\"rotate(0, 201.038, 1541.47)\" x=\"201.038\" y=\"1541.47\">0</text>\n",
       "</g>\n",
       "<g clip-path=\"url(#clip2400)\">\n",
       "<text style=\"fill:#000000; fill-opacity:1; font-family:Arial,Helvetica Neue,Helvetica,sans-serif; font-size:48px; text-anchor:middle;\" transform=\"rotate(0, 2290.15, 1541.47)\" x=\"2290.15\" y=\"1541.47\">10</text>\n",
       "</g>\n",
       "<g clip-path=\"url(#clip2400)\">\n",
       "<text style=\"fill:#000000; fill-opacity:1; font-family:Arial,Helvetica Neue,Helvetica,sans-serif; font-size:48px; text-anchor:end;\" transform=\"rotate(0, 116.517, 1265.47)\" x=\"116.517\" y=\"1265.47\">15</text>\n",
       "</g>\n",
       "<g clip-path=\"url(#clip2400)\">\n",
       "<text style=\"fill:#000000; fill-opacity:1; font-family:Arial,Helvetica Neue,Helvetica,sans-serif; font-size:48px; text-anchor:end;\" transform=\"rotate(0, 116.517, 1007.74)\" x=\"116.517\" y=\"1007.74\">20</text>\n",
       "</g>\n",
       "<g clip-path=\"url(#clip2400)\">\n",
       "<text style=\"fill:#000000; fill-opacity:1; font-family:Arial,Helvetica Neue,Helvetica,sans-serif; font-size:48px; text-anchor:end;\" transform=\"rotate(0, 116.517, 750.009)\" x=\"116.517\" y=\"750.009\">25</text>\n",
       "</g>\n",
       "<g clip-path=\"url(#clip2400)\">\n",
       "<text style=\"fill:#000000; fill-opacity:1; font-family:Arial,Helvetica Neue,Helvetica,sans-serif; font-size:48px; text-anchor:end;\" transform=\"rotate(0, 116.517, 492.278)\" x=\"116.517\" y=\"492.278\">30</text>\n",
       "</g>\n",
       "<g clip-path=\"url(#clip2400)\">\n",
       "<text style=\"fill:#000000; fill-opacity:1; font-family:Arial,Helvetica Neue,Helvetica,sans-serif; font-size:48px; text-anchor:end;\" transform=\"rotate(0, 116.517, 234.548)\" x=\"116.517\" y=\"234.548\">35</text>\n",
       "</g>\n",
       "<polyline clip-path=\"url(#clip2402)\" style=\"stroke:#009af9; stroke-width:4; stroke-opacity:1; fill:none\" points=\"\n",
       "  203.127,1314.21 205.216,1335.2 207.306,1352.82 209.395,1367.87 211.484,1380.91 213.573,1392.39 215.662,1402.56 217.751,1411.54 219.84,1419.38 221.929,1426.11 \n",
       "  224.018,1431.8 226.108,1436.49 228.197,1440.23 230.286,1443.07 232.375,1445.06 234.464,1446.26 236.553,1446.71 238.642,1446.49 240.731,1445.64 242.82,1444.23 \n",
       "  244.909,1442.33 246.999,1440.01 249.088,1437.33 251.177,1434.35 253.266,1431.13 255.355,1427.72 257.444,1424.14 259.533,1420.42 261.622,1416.59 263.711,1412.64 \n",
       "  265.801,1408.6 267.89,1404.48 269.979,1400.28 272.068,1396.02 274.157,1391.7 276.246,1387.33 278.335,1382.91 280.424,1378.47 282.513,1373.97 284.603,1369.45 \n",
       "  286.692,1364.9 288.781,1360.32 290.87,1355.71 292.959,1351.07 295.048,1346.42 297.137,1341.75 299.226,1337.05 301.315,1332.35 303.404,1327.62 305.494,1322.89 \n",
       "  307.583,1318.13 309.672,1313.37 311.761,1308.6 313.85,1303.81 315.939,1299.02 318.028,1294.22 320.117,1289.4 322.206,1284.58 324.296,1279.75 326.385,1274.91 \n",
       "  328.474,1270.07 330.563,1265.22 332.652,1260.36 334.741,1255.5 336.83,1250.62 338.919,1245.75 341.008,1240.87 343.098,1235.98 345.187,1231.09 347.276,1226.19 \n",
       "  349.365,1221.29 351.454,1216.38 353.543,1211.47 355.632,1206.56 357.721,1201.64 359.81,1196.73 361.899,1191.8 363.989,1186.88 366.078,1181.95 368.167,1177.02 \n",
       "  370.256,1172.08 372.345,1167.14 374.434,1162.2 376.523,1157.26 378.612,1152.32 380.701,1147.37 382.791,1142.42 384.88,1137.47 386.969,1132.51 389.058,1127.55 \n",
       "  391.147,1122.59 393.236,1117.63 395.325,1112.67 397.414,1107.71 399.503,1102.74 401.593,1097.77 403.682,1092.8 405.771,1087.83 407.86,1082.86 409.949,1077.88 \n",
       "  412.038,1072.91 414.127,1067.93 416.216,1062.95 418.305,1057.97 420.394,1052.98 422.484,1048 424.573,1043.02 426.662,1038.03 428.751,1033.04 430.84,1028.05 \n",
       "  432.929,1023.07 435.018,1018.08 437.107,1013.08 439.196,1008.09 441.286,1003.1 443.375,998.108 445.464,993.114 447.553,988.119 449.642,983.124 451.731,978.13 \n",
       "  453.82,973.135 455.909,968.139 457.998,963.142 460.088,958.143 462.177,953.147 464.266,948.149 466.355,943.149 468.444,938.155 470.533,933.158 472.622,928.16 \n",
       "  474.711,923.161 476.8,918.165 478.889,913.167 480.979,908.172 483.068,903.177 485.157,898.184 487.246,893.195 489.335,888.205 491.424,883.219 493.513,878.231 \n",
       "  495.602,873.245 497.691,868.263 499.781,863.29 501.87,858.319 503.959,853.36 506.048,848.395 508.137,843.453 510.226,838.531 512.315,833.815 514.404,829.154 \n",
       "  516.493,824.584 518.583,820.128 520.672,815.641 522.761,811.76 524.85,807.876 526.939,803.999 529.028,800.196 531.117,796.369 533.206,792.566 535.295,788.958 \n",
       "  537.384,785.53 539.474,782.199 541.563,778.899 543.652,775.622 545.741,772.388 547.83,769.13 549.919,765.951 552.008,762.746 554.097,759.577 556.186,756.441 \n",
       "  558.276,753.311 560.365,750.202 562.454,747.101 564.543,743.971 566.632,740.918 568.721,737.837 570.81,734.764 572.899,731.706 574.988,728.659 577.078,725.608 \n",
       "  579.167,722.575 581.256,719.528 583.345,716.481 585.434,713.448 587.523,710.443 589.612,708.423 591.701,705.327 593.79,702.203 595.879,699.133 597.969,696.052 \n",
       "  600.058,692.972 602.147,689.909 604.236,686.875 606.325,683.828 608.414,680.794 610.503,678.28 612.592,675.443 614.681,672.766 616.771,670.305 618.86,667.89 \n",
       "  620.949,665.647 623.038,663.581 625.127,661.672 627.216,659.935 629.305,658.184 631.394,656.489 633.483,654.858 635.573,653.221 637.662,651.608 639.751,649.945 \n",
       "  641.84,648.321 643.929,646.753 646.018,645.127 648.107,643.583 650.196,642.011 652.285,640.427 654.374,638.876 656.464,637.325 658.553,635.758 660.642,634.241 \n",
       "  662.731,632.744 664.82,631.205 666.909,629.717 668.998,628.241 671.087,626.681 673.176,625.169 675.266,623.789 677.355,622.58 679.444,620.991 681.533,619.884 \n",
       "  683.622,618.532 685.711,618.495 687.8,616.976 689.889,615.886 691.978,614.999 694.068,613.949 696.157,612.44 698.246,612.348 700.335,610.787 702.424,609.656 \n",
       "  704.513,608.569 706.602,607.552 708.691,606.607 710.78,605.672 712.869,604.75 714.959,603.787 717.048,602.774 719.137,601.851 721.226,601.02 723.315,600.089 \n",
       "  725.404,599.153 727.493,598.24 729.582,597.336 731.671,596.529 733.761,595.644 735.85,594.705 737.939,593.859 740.028,592.987 742.117,592.169 744.206,591.288 \n",
       "  746.295,590.413 748.384,589.564 750.473,588.641 752.563,587.8 754.652,586.871 756.741,586.083 758.83,585.205 760.919,584.551 763.008,583.507 765.097,582.73 \n",
       "  767.186,582.019 769.275,581.28 771.364,580.423 773.454,579.571 775.543,578.609 777.632,577.855 779.721,576.995 781.81,576.121 783.899,575.323 785.988,574.562 \n",
       "  788.077,573.64 790.166,572.61 792.256,572.03 794.345,570.899 796.434,570.089 798.523,569.546 800.612,568.685 802.701,567.743 804.79,566.985 806.879,566.131 \n",
       "  808.968,565.289 811.058,564.6 813.147,563.92 815.236,563.213 817.325,562.305 819.414,561.566 821.503,560.622 823.592,559.858 825.681,559.17 827.77,558.527 \n",
       "  829.859,557.998 831.949,557.683 834.038,557.366 836.127,557.048 838.216,556.73 840.305,556.41 842.394,556.089 844.483,555.768 846.572,555.445 848.661,555.121 \n",
       "  850.751,554.797 852.84,554.471 854.929,554.144 857.018,553.817 859.107,553.488 861.196,553.158 863.285,552.828 865.374,552.496 867.463,552.164 869.553,551.83 \n",
       "  871.642,551.495 873.731,551.16 875.82,550.823 877.909,550.486 879.998,550.147 882.087,549.808 884.176,549.467 886.265,549.125 888.354,548.783 890.444,548.439 \n",
       "  892.533,548.095 894.622,547.749 896.711,547.403 898.8,547.055 900.889,546.707 902.978,546.357 905.067,546.006 907.156,545.655 909.246,545.302 911.335,544.949 \n",
       "  913.424,544.594 915.513,544.239 917.602,543.882 919.691,543.524 921.78,543.166 923.869,542.806 925.958,542.445 928.048,542.084 930.137,541.721 932.226,541.358 \n",
       "  934.315,540.993 936.404,540.627 938.493,540.261 940.582,539.893 942.671,539.524 944.76,539.154 946.849,538.784 948.939,538.412 951.028,538.039 953.117,537.665 \n",
       "  955.206,537.291 957.295,536.915 959.384,536.538 961.473,536.16 963.562,535.781 965.651,535.402 967.741,535.021 969.83,534.639 971.919,534.256 974.008,533.872 \n",
       "  976.097,533.487 978.186,533.101 980.275,532.714 982.364,532.326 984.453,531.937 986.543,531.547 988.632,531.156 990.721,530.764 992.81,530.371 994.899,529.977 \n",
       "  996.988,529.582 999.077,529.186 1001.17,528.789 1003.26,528.391 1005.34,527.992 1007.43,527.592 1009.52,527.19 1011.61,526.788 1013.7,526.385 1015.79,525.981 \n",
       "  1017.88,525.576 1019.97,525.169 1022.06,524.762 1024.15,524.354 1026.24,523.944 1028.32,523.534 1030.41,523.123 1032.5,522.71 1034.59,522.297 1036.68,521.882 \n",
       "  1038.77,521.467 1040.86,521.05 1042.95,520.633 1045.04,520.214 1047.13,519.795 1049.22,519.374 1051.3,518.953 1053.39,518.53 1055.48,518.107 1057.57,517.682 \n",
       "  1059.66,517.256 1061.75,516.83 1063.84,516.402 1065.93,515.973 1068.02,515.543 1070.11,515.113 1072.2,514.681 1074.29,514.248 1076.37,513.814 1078.46,513.379 \n",
       "  1080.55,512.944 1082.64,512.507 1084.73,512.069 1086.82,511.63 1088.91,511.19 1091,510.749 1093.09,510.307 1095.18,509.864 1097.27,509.42 1099.35,508.975 \n",
       "  1101.44,508.529 1103.53,508.081 1105.62,507.633 1107.71,507.184 1109.8,506.734 1111.89,506.283 1113.98,505.83 1116.07,505.377 1118.16,504.923 1120.25,504.468 \n",
       "  1122.33,504.011 1124.42,503.554 1126.51,503.095 1128.6,502.636 1130.69,502.176 1132.78,501.714 1134.87,501.252 1136.96,500.788 1139.05,500.324 1141.14,499.858 \n",
       "  1143.23,499.392 1145.31,498.924 1147.4,498.455 1149.49,497.986 1151.58,497.515 1153.67,497.043 1155.76,496.571 1157.85,496.097 1159.94,495.622 1162.03,495.146 \n",
       "  1164.12,494.669 1166.21,494.191 1168.29,493.713 1170.38,493.233 1172.47,492.752 1174.56,492.27 1176.65,491.787 1178.74,491.303 1180.83,490.818 1182.92,490.332 \n",
       "  1185.01,489.845 1187.1,489.357 1189.19,488.867 1191.28,488.377 1193.36,487.886 1195.45,487.394 1197.54,486.901 1199.63,486.406 1201.72,485.911 1203.81,485.415 \n",
       "  1205.9,484.917 1207.99,484.419 1210.08,483.92 1212.17,483.419 1214.26,482.918 1216.34,482.415 1218.43,481.912 1220.52,481.407 1222.61,480.902 1224.7,480.395 \n",
       "  1226.79,479.888 1228.88,479.379 1230.97,478.869 1233.06,478.359 1235.15,477.847 1237.24,477.334 1239.32,476.82 1241.41,476.306 1243.5,475.79 1245.59,475.273 \n",
       "  1247.68,474.755 1249.77,474.236 1251.86,473.716 1253.95,473.195 1256.04,472.673 1258.13,472.15 1260.22,471.626 1262.3,471.101 1264.39,470.575 1266.48,470.048 \n",
       "  1268.57,469.52 1270.66,468.991 1272.75,468.461 1274.84,467.93 1276.93,467.397 1279.02,466.864 1281.11,466.33 1283.2,465.794 1285.28,465.258 1287.37,464.721 \n",
       "  1289.46,464.182 1291.55,463.643 1293.64,463.102 1295.73,462.561 1297.82,462.018 1299.91,461.475 1302,460.93 1304.09,460.385 1306.18,459.838 1308.27,459.29 \n",
       "  1310.35,458.742 1312.44,458.192 1314.53,457.641 1316.62,457.09 1318.71,456.537 1320.8,455.983 1322.89,455.428 1324.98,454.872 1327.07,454.315 1329.16,453.757 \n",
       "  1331.25,453.198 1333.33,452.638 1335.42,452.077 1337.51,451.515 1339.6,450.952 1341.69,450.388 1343.78,449.823 1345.87,449.257 1347.96,448.69 1350.05,448.122 \n",
       "  1352.14,447.552 1354.23,446.982 1356.31,446.411 1358.4,445.839 1360.49,445.265 1362.58,444.691 1364.67,444.115 1366.76,443.539 1368.85,442.962 1370.94,442.383 \n",
       "  1373.03,441.804 1375.12,441.223 1377.21,440.642 1379.29,440.059 1381.38,439.475 1383.47,438.891 1385.56,438.305 1387.65,437.718 1389.74,437.131 1391.83,436.542 \n",
       "  1393.92,435.952 1396.01,435.361 1398.1,434.769 1400.19,434.177 1402.27,433.583 1404.36,432.988 1406.45,432.392 1408.54,431.795 1410.63,431.197 1412.72,430.598 \n",
       "  1414.81,429.998 1416.9,429.397 1418.99,428.794 1421.08,428.191 1423.17,427.587 1425.26,426.982 1427.34,426.376 1429.43,425.768 1431.52,425.16 1433.61,424.551 \n",
       "  1435.7,423.94 1437.79,423.329 1439.88,422.717 1441.97,422.103 1444.06,421.489 1446.15,420.873 1448.24,420.257 1450.32,419.639 1452.41,419.021 1454.5,418.401 \n",
       "  1456.59,417.78 1458.68,417.159 1460.77,416.536 1462.86,415.912 1464.95,415.287 1467.04,414.662 1469.13,414.035 1471.22,413.407 1473.3,412.778 1475.39,412.148 \n",
       "  1477.48,411.517 1479.57,410.885 1481.66,410.252 1483.75,409.618 1485.84,408.983 1487.93,408.347 1490.02,407.71 1492.11,407.072 1494.2,406.433 1496.28,405.793 \n",
       "  1498.37,405.152 1500.46,404.509 1502.55,403.866 1504.64,403.222 1506.73,402.576 1508.82,401.93 1510.91,401.283 1513,400.634 1515.09,399.985 1517.18,399.334 \n",
       "  1519.26,398.683 1521.35,398.03 1523.44,397.377 1525.53,396.722 1527.62,396.067 1529.71,395.41 1531.8,394.752 1533.89,394.094 1535.98,393.434 1538.07,392.773 \n",
       "  1540.16,392.111 1542.25,391.449 1544.33,390.785 1546.42,390.12 1548.51,389.454 1550.6,388.787 1552.69,388.119 1554.78,387.45 1556.87,386.78 1558.96,386.109 \n",
       "  1561.05,385.437 1563.14,384.764 1565.23,384.09 1567.31,383.415 1569.4,382.738 1571.49,382.061 1573.58,381.383 1575.67,380.704 1577.76,380.023 1579.85,379.342 \n",
       "  1581.94,378.66 1584.03,377.976 1586.12,377.292 1588.21,376.606 1590.29,375.92 1592.38,375.232 1594.47,374.544 1596.56,373.854 1598.65,373.164 1600.74,372.472 \n",
       "  1602.83,371.779 1604.92,371.086 1607.01,370.391 1609.1,369.695 1611.19,368.998 1613.27,368.301 1615.36,367.602 1617.45,366.902 1619.54,366.201 1621.63,365.499 \n",
       "  1623.72,364.796 1625.81,364.092 1627.9,363.387 1629.99,362.681 1632.08,361.974 1634.17,361.266 1636.25,360.557 1638.34,359.847 1640.43,359.136 1642.52,358.423 \n",
       "  1644.61,357.71 1646.7,356.996 1648.79,356.281 1650.88,355.564 1652.97,354.847 1655.06,354.129 1657.15,353.409 1659.24,352.689 1661.32,351.967 1663.41,351.245 \n",
       "  1665.5,350.521 1667.59,349.797 1669.68,349.071 1671.77,348.344 1673.86,347.617 1675.95,346.888 1678.04,346.158 1680.13,345.428 1682.22,344.696 1684.3,343.963 \n",
       "  1686.39,343.229 1688.48,342.494 1690.57,341.759 1692.66,341.022 1694.75,340.284 1696.84,339.545 1698.93,338.805 1701.02,338.064 1703.11,337.322 1705.2,336.579 \n",
       "  1707.28,335.834 1709.37,335.089 1711.46,334.343 1713.55,333.596 1715.64,332.848 1717.73,332.098 1719.82,331.348 1721.91,330.597 1724,329.844 1726.09,329.091 \n",
       "  1728.18,328.337 1730.26,327.581 1732.35,326.825 1734.44,326.067 1736.53,325.309 1738.62,324.549 1740.71,323.789 1742.8,323.027 1744.89,322.264 1746.98,321.501 \n",
       "  1749.07,320.736 1751.16,319.97 1753.24,319.203 1755.33,318.436 1757.42,317.667 1759.51,316.897 1761.6,316.126 1763.69,315.354 1765.78,314.581 1767.87,313.807 \n",
       "  1769.96,313.032 1772.05,312.256 1774.14,311.479 1776.23,310.701 1778.31,309.922 1780.4,309.142 1782.49,308.361 1784.58,307.578 1786.67,306.795 1788.76,306.011 \n",
       "  1790.85,305.226 1792.94,304.439 1795.03,303.652 1797.12,302.863 1799.21,302.074 1801.29,301.284 1803.38,300.492 1805.47,299.7 1807.56,298.906 1809.65,298.112 \n",
       "  1811.74,297.316 1813.83,296.519 1815.92,295.722 1818.01,294.923 1820.1,294.123 1822.19,293.323 1824.27,292.521 1826.36,291.718 1828.45,290.914 1830.54,290.109 \n",
       "  1832.63,289.303 1834.72,288.496 1836.81,287.689 1838.9,286.88 1840.99,286.07 1843.08,285.259 1845.17,284.446 1847.25,283.633 1849.34,282.819 1851.43,282.004 \n",
       "  1853.52,281.188 1855.61,280.371 1857.7,279.552 1859.79,278.733 1861.88,277.913 1863.97,277.092 1866.06,276.269 1868.15,275.446 1870.23,274.621 1872.32,273.796 \n",
       "  1874.41,272.969 1876.5,272.142 1878.59,271.313 1880.68,270.484 1882.77,269.653 1884.86,268.822 1886.95,267.989 1889.04,267.155 1891.13,266.32 1893.22,265.485 \n",
       "  1895.3,264.648 1897.39,263.81 1899.48,262.971 1901.57,262.131 1903.66,261.291 1905.75,260.449 1907.84,259.606 1909.93,258.762 1912.02,257.917 1914.11,257.071 \n",
       "  1916.2,256.224 1918.28,255.375 1920.37,254.526 1922.46,253.676 1924.55,252.825 1926.64,251.973 1928.73,251.119 1930.82,250.265 1932.91,249.41 1935,248.553 \n",
       "  1937.09,247.696 1939.18,246.838 1941.26,245.978 1943.35,245.118 1945.44,244.256 1947.53,243.394 1949.62,242.53 1951.71,241.666 1953.8,240.8 1955.89,239.933 \n",
       "  1957.98,239.066 1960.07,238.197 1962.16,237.327 1964.24,236.457 1966.33,235.585 1968.42,234.712 1970.51,233.838 1972.6,232.963 1974.69,232.087 1976.78,231.21 \n",
       "  1978.87,230.332 1980.96,229.453 1983.05,228.573 1985.14,227.692 1987.22,226.81 1989.31,225.927 1991.4,225.043 1993.49,224.158 1995.58,223.272 1997.67,222.384 \n",
       "  1999.76,221.496 2001.85,220.607 2003.94,219.716 2006.03,218.825 2008.12,217.933 2010.21,217.039 2012.29,216.145 2014.38,215.249 2016.47,214.353 2018.56,213.455 \n",
       "  2020.65,212.557 2022.74,211.657 2024.83,210.756 2026.92,209.855 2029.01,208.952 2031.1,208.048 2033.19,207.144 2035.27,206.238 2037.36,205.331 2039.45,204.423 \n",
       "  2041.54,203.514 2043.63,202.604 2045.72,201.694 2047.81,200.782 2049.9,199.869 2051.99,198.955 2054.08,198.04 2056.17,197.123 2058.25,196.206 2060.34,195.288 \n",
       "  2062.43,194.369 2064.52,193.449 2066.61,192.528 2068.7,191.605 2070.79,190.682 2072.88,189.758 2074.97,188.832 2077.06,187.906 2079.15,186.979 2081.23,186.05 \n",
       "  2083.32,185.121 2085.41,184.19 2087.5,183.259 2089.59,182.326 2091.68,181.393 2093.77,180.458 2095.86,179.522 2097.95,178.586 2100.04,177.648 2102.13,176.709 \n",
       "  2104.21,175.77 2106.3,174.829 2108.39,173.887 2110.48,172.944 2112.57,172 2114.66,171.055 2116.75,170.109 2118.84,169.162 2120.93,168.214 2123.02,167.265 \n",
       "  2125.11,166.315 2127.2,165.364 2129.28,164.412 2131.37,163.459 2133.46,162.505 2135.55,161.549 2137.64,160.593 2139.73,159.636 2141.82,158.678 2143.91,157.718 \n",
       "  2146,156.758 2148.09,155.797 2150.18,154.834 2152.26,153.871 2154.35,152.906 2156.44,151.941 2158.53,150.974 2160.62,150.007 2162.71,149.038 2164.8,148.068 \n",
       "  2166.89,147.098 2168.98,146.126 2171.07,145.153 2173.16,144.179 2175.24,143.205 2177.33,142.229 2179.42,141.252 2181.51,140.274 2183.6,139.295 2185.69,138.315 \n",
       "  2187.78,137.334 2189.87,136.352 2191.96,135.369 2194.05,134.385 2196.14,133.4 2198.22,132.414 2200.31,131.427 2202.4,130.439 2204.49,129.45 2206.58,128.459 \n",
       "  2208.67,127.468 2210.76,126.476 2212.85,125.482 2214.94,124.488 2217.03,123.493 2219.12,122.496 2221.2,121.499 2223.29,120.5 2225.38,119.501 2227.47,118.5 \n",
       "  2229.56,117.499 2231.65,116.496 2233.74,115.493 2235.83,114.488 2237.92,113.482 2240.01,112.476 2242.1,111.468 2244.19,110.459 2246.27,109.449 2248.36,108.438 \n",
       "  2250.45,107.426 2252.54,106.414 2254.63,105.4 2256.72,104.385 2258.81,103.369 2260.9,102.352 2262.99,101.334 2265.08,100.315 2267.17,99.2945 2269.25,98.2734 \n",
       "  2271.34,97.2512 2273.43,96.228 2275.52,95.2038 2277.61,94.1785 2279.7,93.1522 2281.79,92.1249 2283.88,91.0966 2285.97,90.0672 2288.06,89.0368 2290.15,88.0053 \n",
       "  \n",
       "  \"/>\n",
       "<polygon clip-path=\"url(#clip2400)\" points=\"\n",
       "1829.45,251.724 2280.76,251.724 2280.76,130.764 1829.45,130.764 \n",
       "  \" fill=\"#fffff0\" fill-rule=\"evenodd\" fill-opacity=\"1\"/>\n",
       "<polyline clip-path=\"url(#clip2400)\" style=\"stroke:#000000; stroke-width:4; stroke-opacity:1; fill:none\" points=\"\n",
       "  1829.45,251.724 2280.76,251.724 2280.76,130.764 1829.45,130.764 1829.45,251.724 \n",
       "  \"/>\n",
       "<polyline clip-path=\"url(#clip2400)\" style=\"stroke:#009af9; stroke-width:4; stroke-opacity:1; fill:none\" points=\"\n",
       "  1853.45,191.244 1997.45,191.244 \n",
       "  \"/>\n",
       "<g clip-path=\"url(#clip2400)\">\n",
       "<text style=\"fill:#000000; fill-opacity:1; font-family:Arial,Helvetica Neue,Helvetica,sans-serif; font-size:48px; text-anchor:start;\" transform=\"rotate(0, 2021.45, 208.744)\" x=\"2021.45\" y=\"208.744\">scalar_rof</text>\n",
       "</g>\n",
       "</svg>\n"
      ]
     },
     "execution_count": 130,
     "metadata": {},
     "output_type": "execute_result"
    }
   ],
   "source": [
    "using Plots\n",
    "d = load(\"scalar_rof_cost.jld\")\n",
    "plot(d[\"lambda\"],d[\"costs\"],label=\"scalar_rof\",xticks = 0:10:100, background_color = :ivory)"
   ]
  },
  {
   "cell_type": "markdown",
   "metadata": {},
   "source": [
    "## Gradient Calculation\n",
    "In this section we will define a mechanism for calculated the gradient of the reduced functional\n",
    "$$\n",
    "f(\\lambda) = J(S(\\lambda),\\lambda)\n",
    "$$"
   ]
  },
  {
   "cell_type": "markdown",
   "metadata": {},
   "source": [
    "### Active / Inactive Set\n",
    "Let us see how the active and inactive set are distributed within the image"
   ]
  },
  {
   "cell_type": "code",
   "execution_count": 131,
   "metadata": {},
   "outputs": [
    {
     "data": {
      "image/png": "[encoded data removed]",
      "text/plain": [
       "128×128 Array{Gray{Bool},2} with eltype Gray{Bool}:\n",
       " Gray{Bool}(true)   Gray{Bool}(true)   …  Gray{Bool}(true) \n",
       " Gray{Bool}(true)   Gray{Bool}(true)      Gray{Bool}(true) \n",
       " Gray{Bool}(true)   Gray{Bool}(true)      Gray{Bool}(true) \n",
       " Gray{Bool}(true)   Gray{Bool}(true)      Gray{Bool}(true) \n",
       " Gray{Bool}(true)   Gray{Bool}(true)      Gray{Bool}(true) \n",
       " Gray{Bool}(true)   Gray{Bool}(true)   …  Gray{Bool}(false)\n",
       " Gray{Bool}(true)   Gray{Bool}(true)      Gray{Bool}(true) \n",
       " Gray{Bool}(true)   Gray{Bool}(true)      Gray{Bool}(false)\n",
       " Gray{Bool}(true)   Gray{Bool}(true)      Gray{Bool}(false)\n",
       " Gray{Bool}(true)   Gray{Bool}(true)      Gray{Bool}(true) \n",
       " Gray{Bool}(true)   Gray{Bool}(true)   …  Gray{Bool}(true) \n",
       " Gray{Bool}(true)   Gray{Bool}(true)      Gray{Bool}(true) \n",
       " Gray{Bool}(false)  Gray{Bool}(true)      Gray{Bool}(true) \n",
       " ⋮                                     ⋱                   \n",
       " Gray{Bool}(true)   Gray{Bool}(true)      Gray{Bool}(true) \n",
       " Gray{Bool}(true)   Gray{Bool}(true)      Gray{Bool}(false)\n",
       " Gray{Bool}(true)   Gray{Bool}(true)      Gray{Bool}(true) \n",
       " Gray{Bool}(true)   Gray{Bool}(false)     Gray{Bool}(true) \n",
       " Gray{Bool}(false)  Gray{Bool}(false)  …  Gray{Bool}(true) \n",
       " Gray{Bool}(false)  Gray{Bool}(false)     Gray{Bool}(true) \n",
       " Gray{Bool}(true)   Gray{Bool}(true)      Gray{Bool}(true) \n",
       " Gray{Bool}(true)   Gray{Bool}(true)      Gray{Bool}(true) \n",
       " Gray{Bool}(true)   Gray{Bool}(true)      Gray{Bool}(true) \n",
       " Gray{Bool}(true)   Gray{Bool}(true)   …  Gray{Bool}(true) \n",
       " Gray{Bool}(true)   Gray{Bool}(true)      Gray{Bool}(true) \n",
       " Gray{Bool}(true)   Gray{Bool}(true)      Gray{Bool}(true) "
      ]
     },
     "execution_count": 131,
     "metadata": {},
     "output_type": "execute_result"
    }
   ],
   "source": [
    "VY = V*Y\n",
    "norms = sqrt.(sum(VY.^2, dims=2))\n",
    "norms = reshape(norms,128,128) # Inactive set\n",
    "Gray.(norms .> 1e-3)"
   ]
  },
  {
   "cell_type": "code",
   "execution_count": 132,
   "metadata": {},
   "outputs": [
    {
     "data": {
      "image/png": "[encoded data removed]",
      "text/plain": [
       "128×128 Array{Gray{Bool},2} with eltype Gray{Bool}:\n",
       " Gray{Bool}(false)  Gray{Bool}(false)  …  Gray{Bool}(false)\n",
       " Gray{Bool}(false)  Gray{Bool}(false)     Gray{Bool}(false)\n",
       " Gray{Bool}(false)  Gray{Bool}(false)     Gray{Bool}(false)\n",
       " Gray{Bool}(false)  Gray{Bool}(false)     Gray{Bool}(false)\n",
       " Gray{Bool}(false)  Gray{Bool}(false)     Gray{Bool}(false)\n",
       " Gray{Bool}(false)  Gray{Bool}(false)  …  Gray{Bool}(true) \n",
       " Gray{Bool}(false)  Gray{Bool}(false)     Gray{Bool}(false)\n",
       " Gray{Bool}(false)  Gray{Bool}(false)     Gray{Bool}(true) \n",
       " Gray{Bool}(false)  Gray{Bool}(false)     Gray{Bool}(true) \n",
       " Gray{Bool}(false)  Gray{Bool}(false)     Gray{Bool}(false)\n",
       " Gray{Bool}(false)  Gray{Bool}(false)  …  Gray{Bool}(false)\n",
       " Gray{Bool}(false)  Gray{Bool}(false)     Gray{Bool}(false)\n",
       " Gray{Bool}(true)   Gray{Bool}(false)     Gray{Bool}(false)\n",
       " ⋮                                     ⋱                   \n",
       " Gray{Bool}(false)  Gray{Bool}(false)     Gray{Bool}(false)\n",
       " Gray{Bool}(false)  Gray{Bool}(false)     Gray{Bool}(true) \n",
       " Gray{Bool}(false)  Gray{Bool}(false)     Gray{Bool}(false)\n",
       " Gray{Bool}(false)  Gray{Bool}(true)      Gray{Bool}(false)\n",
       " Gray{Bool}(true)   Gray{Bool}(true)   …  Gray{Bool}(false)\n",
       " Gray{Bool}(true)   Gray{Bool}(true)      Gray{Bool}(false)\n",
       " Gray{Bool}(false)  Gray{Bool}(false)     Gray{Bool}(false)\n",
       " Gray{Bool}(false)  Gray{Bool}(false)     Gray{Bool}(false)\n",
       " Gray{Bool}(false)  Gray{Bool}(false)     Gray{Bool}(false)\n",
       " Gray{Bool}(false)  Gray{Bool}(false)  …  Gray{Bool}(false)\n",
       " Gray{Bool}(false)  Gray{Bool}(false)     Gray{Bool}(false)\n",
       " Gray{Bool}(false)  Gray{Bool}(false)     Gray{Bool}(false)"
      ]
     },
     "execution_count": 132,
     "metadata": {},
     "output_type": "execute_result"
    }
   ],
   "source": [
    "Gray.(norms .< 1e-3) # Active set"
   ]
  },
  {
   "cell_type": "markdown",
   "metadata": {},
   "source": [
    "### AdjointOperator Definition"
   ]
  },
  {
   "cell_type": "code",
   "execution_count": 14,
   "metadata": {},
   "outputs": [
    {
     "name": "stderr",
     "output_type": "stream",
     "text": [
      "WARNING: replacing module BilevelImagingParameterLearning.\n",
      "WARNING: using BilevelImagingParameterLearning.ScalarROFAdjointOperator in module Main conflicts with an existing identifier.\n"
     ]
    }
   ],
   "source": [
    "include(\"../BilevelImagingParameterLearning.jl\")\n",
    "using .BilevelImagingParameterLearning"
   ]
  },
  {
   "cell_type": "code",
   "execution_count": 15,
   "metadata": {},
   "outputs": [
    {
     "ename": "MethodError",
     "evalue": "MethodError: no method matching fun_name(::ScalarROFAdjointOperator{Float64,2})\nClosest candidates are:\n  fun_name(!Matched::Main.BilevelImagingParameterLearning.NormWL21) at /Users/dvillacis/workspace/BilevelImagingParameterLearning.jl/src/norms/NormWL21.jl:90\n  fun_name(!Matched::Main.BilevelImagingParameterLearning.ScalarROFAdjointOperator) at /Users/dvillacis/workspace/BilevelImagingParameterLearning.jl/src/operators/ScalarROFAdjointOperator.jl:33",
     "output_type": "error",
     "traceback": [
      "MethodError: no method matching fun_name(::ScalarROFAdjointOperator{Float64,2})\nClosest candidates are:\n  fun_name(!Matched::Main.BilevelImagingParameterLearning.NormWL21) at /Users/dvillacis/workspace/BilevelImagingParameterLearning.jl/src/norms/NormWL21.jl:90\n  fun_name(!Matched::Main.BilevelImagingParameterLearning.ScalarROFAdjointOperator) at /Users/dvillacis/workspace/BilevelImagingParameterLearning.jl/src/operators/ScalarROFAdjointOperator.jl:33",
      "",
      "Stacktrace:",
      " [1] show(::IOContext{Base.GenericIOBuffer{Array{UInt8,1}}}, ::ScalarROFAdjointOperator{Float64,2}) at /Users/dvillacis/workspace/BilevelImagingParameterLearning.jl/src/BilevelImagingParameterLearning.jl:40",
      " [2] show(::IOContext{Base.GenericIOBuffer{Array{UInt8,1}}}, ::MIME{Symbol(\"text/plain\")}, ::ScalarROFAdjointOperator{Float64,2}) at ./multimedia.jl:47",
      " [3] limitstringmime(::MIME{Symbol(\"text/plain\")}, ::ScalarROFAdjointOperator{Float64,2}) at /Users/dvillacis/.julia/packages/IJulia/fRegO/src/inline.jl:37",
      " [4] display_mimestring(::MIME{Symbol(\"text/plain\")}, ::ScalarROFAdjointOperator{Float64,2}) at /Users/dvillacis/.julia/packages/IJulia/fRegO/src/display.jl:67",
      " [5] display_dict(::ScalarROFAdjointOperator{Float64,2}) at /Users/dvillacis/.julia/packages/IJulia/fRegO/src/display.jl:96",
      " [6] #invokelatest#1 at ./essentials.jl:790 [inlined]",
      " [7] invokelatest at ./essentials.jl:789 [inlined]",
      " [8] execute_request(::ZMQ.Socket, ::IJulia.Msg) at /Users/dvillacis/.julia/packages/IJulia/fRegO/src/execute_request.jl:112",
      " [9] #invokelatest#1 at ./essentials.jl:790 [inlined]",
      " [10] invokelatest at ./essentials.jl:789 [inlined]",
      " [11] eventloop(::ZMQ.Socket) at /Users/dvillacis/.julia/packages/IJulia/fRegO/src/eventloop.jl:8",
      " [12] (::getfield(IJulia, Symbol(\"##15#18\")))() at ./task.jl:268"
     ]
    }
   ],
   "source": [
    "Adj = ScalarROFAdjointOperator(1.2,((2,2),(4,2)))"
   ]
  },
  {
   "cell_type": "code",
   "execution_count": 1,
   "metadata": {},
   "outputs": [
    {
     "data": {
      "text/plain": [
       "Tuple{Tuple{Int64,Int64},Tuple{Int64,Int64}}"
      ]
     },
     "execution_count": 1,
     "metadata": {},
     "output_type": "execute_result"
    }
   ],
   "source": [
    "typeof(((2,2),(4,2)))"
   ]
  },
  {
   "cell_type": "code",
   "execution_count": 6,
   "metadata": {},
   "outputs": [
    {
     "ename": "MethodError",
     "evalue": "MethodError: no method matching codomainType(::ScalarROFAdjointOperator{Float64,2})\nClosest candidates are:\n  codomainType(!Matched::AdjointOperator) at /Users/dvillacis/.julia/packages/AbstractOperators/xTEMf/src/calculus/AdjointOperator.jl:37\n  codomainType(!Matched::MyLinOp{N,M,C,D}) where {N, M, C, D} at /Users/dvillacis/.julia/packages/AbstractOperators/xTEMf/src/linearoperators/MyLinOp.jl:48\n  codomainType(!Matched::Zeros{C,N,D,M}) where {C, N, D, M} at /Users/dvillacis/.julia/packages/AbstractOperators/xTEMf/src/linearoperators/Zeros.jl:53\n  ...",
     "output_type": "error",
     "traceback": [
      "MethodError: no method matching codomainType(::ScalarROFAdjointOperator{Float64,2})\nClosest candidates are:\n  codomainType(!Matched::AdjointOperator) at /Users/dvillacis/.julia/packages/AbstractOperators/xTEMf/src/calculus/AdjointOperator.jl:37\n  codomainType(!Matched::MyLinOp{N,M,C,D}) where {N, M, C, D} at /Users/dvillacis/.julia/packages/AbstractOperators/xTEMf/src/linearoperators/MyLinOp.jl:48\n  codomainType(!Matched::Zeros{C,N,D,M}) where {C, N, D, M} at /Users/dvillacis/.julia/packages/AbstractOperators/xTEMf/src/linearoperators/Zeros.jl:53\n  ...",
      "",
      "Stacktrace:",
      " [1] *(::ScalarROFAdjointOperator{Float64,2}, ::Array{Float64,2}) at /Users/dvillacis/.julia/packages/AbstractOperators/xTEMf/src/syntax.jl:15",
      " [2] top-level scope at In[6]:1"
     ]
    }
   ],
   "source": [
    "Adj*ones(10,10)"
   ]
  },
  {
   "cell_type": "code",
   "execution_count": null,
   "metadata": {},
   "outputs": [],
   "source": []
  }
 ],
 "metadata": {
  "@webio": {
   "lastCommId": null,
   "lastKernelId": null
  },
  "kernelspec": {
   "display_name": "Julia 1.2.0",
   "language": "julia",
   "name": "julia-1.2"
  },
  "language_info": {
   "file_extension": ".jl",
   "mimetype": "application/julia",
   "name": "julia",
   "version": "1.2.0"
  }
 },
 "nbformat": 4,
 "nbformat_minor": 2
}
