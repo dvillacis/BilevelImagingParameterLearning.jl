{
 "cells": [
  {
   "cell_type": "markdown",
   "metadata": {},
   "source": [
    "# ROF Denoising Demo\n",
    "In this demo we will illustrate the process of image denoising of the ROF model.\n",
    "$$\n",
    "\\min_{u} \\frac{1}{2}\\|u-f\\|^2+\\lambda\\sum_{j=1}^n\\|(\\mathbb{K}u)_j\\|\n",
    "$$"
   ]
  },
  {
   "cell_type": "code",
   "execution_count": 1,
   "metadata": {},
   "outputs": [],
   "source": [
    "using Pkg, Random, Images, TestImages, LinearAlgebra\n",
    "using AbstractOperators\n",
    "using StructuredOptimization"
   ]
  },
  {
   "cell_type": "code",
   "execution_count": 2,
   "metadata": {},
   "outputs": [],
   "source": [
    "include(\"../BilevelImagingParameterLearning.jl\")\n",
    "using .BilevelImagingParameterLearning"
   ]
  },
  {
   "cell_type": "code",
   "execution_count": 3,
   "metadata": {},
   "outputs": [],
   "source": [
    "Random.seed!(123); # For reproductibility"
   ]
  },
  {
   "cell_type": "code",
   "execution_count": 23,
   "metadata": {},
   "outputs": [],
   "source": [
    "Y = datasetimage(\"1_smiley_noisy\",\"../datasets/smiley_dataset\")\n",
    "Y[Y .< 0] .= 0. # Make sure pixels are in range\n",
    "Y[Y .> 1] .= 1.\n",
    "Gray.(Y)\n",
    "Y = vcat(Y...);"
   ]
  },
  {
   "cell_type": "code",
   "execution_count": 24,
   "metadata": {},
   "outputs": [
    {
     "data": {
      "text/plain": [
       "(16384,)"
      ]
     },
     "execution_count": 24,
     "metadata": {},
     "output_type": "execute_result"
    }
   ],
   "source": [
    "#Xgt = testimage(\"cameraman\")\n",
    "#Y = Xgt .+ sqrt(0.006*norm(Xgt,Inf))*randn(size(Xgt)) # Add noise\n",
    "#Y[Y .< 0] .= 0. # Make sure pixels are in range\n",
    "#Y[Y .> 1] .= 1.\n",
    "#Gray.(Y)\n",
    "size(Y)"
   ]
  },
  {
   "cell_type": "code",
   "execution_count": 25,
   "metadata": {},
   "outputs": [
    {
     "ename": "ErrorException",
     "evalue": "use FiniteDiff instead!",
     "output_type": "error",
     "traceback": [
      "use FiniteDiff instead!",
      "",
      "Stacktrace:",
      " [1] error(::String) at ./error.jl:33",
      " [2] Variation(::Type, ::Tuple{Int64}) at /Users/dvillacis/.julia/packages/AbstractOperators/xTEMf/src/linearoperators/Variation.jl:36",
      " [3] Variation(::Tuple{Int64}) at /Users/dvillacis/.julia/packages/AbstractOperators/xTEMf/src/linearoperators/Variation.jl:41",
      " [4] top-level scope at In[25]:1"
     ]
    }
   ],
   "source": [
    "V = Variation(size(Y)) # Define the finite differences gradient operator\n",
    "U = Variable(size(V,1)...)\n",
    "lambda = 0.17\n",
    "Y = float(Y);"
   ]
  },
  {
   "cell_type": "code",
   "execution_count": 20,
   "metadata": {},
   "outputs": [
    {
     "name": "stdout",
     "output_type": "stream",
     "text": [
      "  0.241855 seconds (1.89 k allocations: 112.444 MiB, 6.33% gc time)\n"
     ]
    },
    {
     "data": {
      "text/plain": [
       "((Variable(Float64, (16384, 2)),), 291)"
      ]
     },
     "execution_count": 20,
     "metadata": {},
     "output_type": "execute_result"
    }
   ],
   "source": [
    "@time begin\n",
    "@minimize ls(-V'*U+Y) + conj(lambda*norm(U,2,1,2)) with ForwardBackward(tol = 1e-3, gamma = 1/8, fast = true) # Minimizing the dual formulation\n",
    "end"
   ]
  },
  {
   "cell_type": "code",
   "execution_count": 12,
   "metadata": {},
   "outputs": [
    {
     "data": {
      "image/png": "[encoded data removed]",
      "text/plain": [
       "128×128 Array{Gray{Float64},2} with eltype Gray{Float64}:\n",
       " Gray{Float64}(0.960465)  Gray{Float64}(0.960456)  …  Gray{Float64}(0.954306)\n",
       " Gray{Float64}(0.960456)  Gray{Float64}(0.960447)     Gray{Float64}(0.954301)\n",
       " Gray{Float64}(0.960424)  Gray{Float64}(0.960415)     Gray{Float64}(0.954283)\n",
       " Gray{Float64}(0.960376)  Gray{Float64}(0.960367)     Gray{Float64}(0.954255)\n",
       " Gray{Float64}(0.960312)  Gray{Float64}(0.960303)     Gray{Float64}(0.954219)\n",
       " Gray{Float64}(0.960232)  Gray{Float64}(0.960223)  …  Gray{Float64}(0.954174)\n",
       " Gray{Float64}(0.960138)  Gray{Float64}(0.960129)     Gray{Float64}(0.95412) \n",
       " Gray{Float64}(0.960029)  Gray{Float64}(0.96002)      Gray{Float64}(0.954058)\n",
       " Gray{Float64}(0.959906)  Gray{Float64}(0.959897)     Gray{Float64}(0.953988)\n",
       " Gray{Float64}(0.95977)   Gray{Float64}(0.959761)     Gray{Float64}(0.95391) \n",
       " Gray{Float64}(0.959621)  Gray{Float64}(0.959612)  …  Gray{Float64}(0.953825)\n",
       " Gray{Float64}(0.95946)   Gray{Float64}(0.959451)     Gray{Float64}(0.953732)\n",
       " Gray{Float64}(0.959288)  Gray{Float64}(0.959279)     Gray{Float64}(0.953633)\n",
       " ⋮                                                 ⋱                         \n",
       " Gray{Float64}(0.961)     Gray{Float64}(0.960986)     Gray{Float64}(0.95706) \n",
       " Gray{Float64}(0.961163)  Gray{Float64}(0.961149)     Gray{Float64}(0.957098)\n",
       " Gray{Float64}(0.961312)  Gray{Float64}(0.961297)     Gray{Float64}(0.957131)\n",
       " Gray{Float64}(0.961445)  Gray{Float64}(0.96143)      Gray{Float64}(0.95716) \n",
       " Gray{Float64}(0.961564)  Gray{Float64}(0.961549)  …  Gray{Float64}(0.957185)\n",
       " Gray{Float64}(0.961668)  Gray{Float64}(0.961652)     Gray{Float64}(0.957206)\n",
       " Gray{Float64}(0.961757)  Gray{Float64}(0.961741)     Gray{Float64}(0.957223)\n",
       " Gray{Float64}(0.961831)  Gray{Float64}(0.961815)     Gray{Float64}(0.957237)\n",
       " Gray{Float64}(0.96189)   Gray{Float64}(0.961874)     Gray{Float64}(0.957249)\n",
       " Gray{Float64}(0.961934)  Gray{Float64}(0.961919)  …  Gray{Float64}(0.957257)\n",
       " Gray{Float64}(0.961964)  Gray{Float64}(0.961948)     Gray{Float64}(0.957262)\n",
       " Gray{Float64}(0.961979)  Gray{Float64}(0.961963)     Gray{Float64}(0.957265)"
      ]
     },
     "execution_count": 12,
     "metadata": {},
     "output_type": "execute_result"
    }
   ],
   "source": [
    "X = Gray.(-V'*(~U)+Y)"
   ]
  },
  {
   "cell_type": "code",
   "execution_count": null,
   "metadata": {},
   "outputs": [],
   "source": []
  }
 ],
 "metadata": {
  "@webio": {
   "lastCommId": null,
   "lastKernelId": null
  },
  "kernelspec": {
   "display_name": "Julia 1.2.0",
   "language": "julia",
   "name": "julia-1.2"
  },
  "language_info": {
   "file_extension": ".jl",
   "mimetype": "application/julia",
   "name": "julia",
   "version": "1.2.0"
  }
 },
 "nbformat": 4,
 "nbformat_minor": 2
}
