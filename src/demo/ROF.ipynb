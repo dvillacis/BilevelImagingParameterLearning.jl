{
 "cells": [
  {
   "cell_type": "markdown",
   "metadata": {},
   "source": [
    "# ROF Denoising Demo\n",
    "In this demo we will illustrate the process of image denoising of the ROF model.\n",
    "$$\n",
    "\\min_{u} \\frac{1}{2}\\|u-f\\|^2+\\lambda\\sum_{j=1}^n\\|(\\mathbb{K}u)_j\\|\n",
    "$$"
   ]
  },
  {
   "cell_type": "code",
   "execution_count": 1,
   "metadata": {},
   "outputs": [
    {
     "name": "stderr",
     "output_type": "stream",
     "text": [
      "┌ Info: Recompiling stale cache file /Users/dvillacis/.julia/compiled/v1.2/Images/H8Vxc.ji for Images [916415d5-f1e6-5110-898d-aaa5f9f070e0]\n",
      "└ @ Base loading.jl:1240\n"
     ]
    }
   ],
   "source": [
    "using Pkg, Random, Images, TestImages, LinearAlgebra\n",
    "using AbstractOperators\n",
    "using StructuredOptimization"
   ]
  },
  {
   "cell_type": "code",
   "execution_count": 2,
   "metadata": {},
   "outputs": [],
   "source": [
    "include(\"../BilevelImagingParameterLearning.jl\")\n",
    "using .BilevelImagingParameterLearning"
   ]
  },
  {
   "cell_type": "code",
   "execution_count": 3,
   "metadata": {},
   "outputs": [],
   "source": [
    "Random.seed!(123); # For reproductibility"
   ]
  },
  {
   "cell_type": "code",
   "execution_count": 4,
   "metadata": {},
   "outputs": [
    {
     "name": "stderr",
     "output_type": "stream",
     "text": [
      "┌ Info: Recompiling stale cache file /Users/dvillacis/.julia/compiled/v1.2/QuartzImageIO/n8vDP.ji for QuartzImageIO [dca85d43-d64c-5e67-8c65-017450d5d020]\n",
      "└ @ Base loading.jl:1240\n"
     ]
    },
    {
     "data": {
      "image/png": "[encoded data removed]",
      "text/plain": [
       "128×128 Array{Gray{Float64},2} with eltype Gray{Float64}:\n",
       " Gray{Float64}(0.92549)   Gray{Float64}(0.968627)  …  Gray{Float64}(1.0)     \n",
       " Gray{Float64}(1.0)       Gray{Float64}(0.956863)     Gray{Float64}(0.996078)\n",
       " Gray{Float64}(1.0)       Gray{Float64}(0.984314)     Gray{Float64}(1.0)     \n",
       " Gray{Float64}(0.941176)  Gray{Float64}(0.996078)     Gray{Float64}(0.921569)\n",
       " Gray{Float64}(0.870588)  Gray{Float64}(0.929412)     Gray{Float64}(1.0)     \n",
       " Gray{Float64}(0.92549)   Gray{Float64}(0.898039)  …  Gray{Float64}(1.0)     \n",
       " Gray{Float64}(1.0)       Gray{Float64}(0.988235)     Gray{Float64}(1.0)     \n",
       " Gray{Float64}(0.937255)  Gray{Float64}(1.0)          Gray{Float64}(1.0)     \n",
       " Gray{Float64}(1.0)       Gray{Float64}(0.945098)     Gray{Float64}(1.0)     \n",
       " Gray{Float64}(0.996078)  Gray{Float64}(0.956863)     Gray{Float64}(1.0)     \n",
       " Gray{Float64}(1.0)       Gray{Float64}(0.909804)  …  Gray{Float64}(1.0)     \n",
       " Gray{Float64}(1.0)       Gray{Float64}(0.968627)     Gray{Float64}(0.905882)\n",
       " Gray{Float64}(1.0)       Gray{Float64}(1.0)          Gray{Float64}(0.886275)\n",
       " ⋮                                                 ⋱                         \n",
       " Gray{Float64}(0.929412)  Gray{Float64}(1.0)          Gray{Float64}(1.0)     \n",
       " Gray{Float64}(1.0)       Gray{Float64}(0.94902)      Gray{Float64}(1.0)     \n",
       " Gray{Float64}(0.901961)  Gray{Float64}(1.0)          Gray{Float64}(1.0)     \n",
       " Gray{Float64}(1.0)       Gray{Float64}(1.0)          Gray{Float64}(0.717647)\n",
       " Gray{Float64}(1.0)       Gray{Float64}(1.0)       …  Gray{Float64}(0.945098)\n",
       " Gray{Float64}(1.0)       Gray{Float64}(1.0)          Gray{Float64}(0.984314)\n",
       " Gray{Float64}(0.941176)  Gray{Float64}(0.996078)     Gray{Float64}(0.913725)\n",
       " Gray{Float64}(0.964706)  Gray{Float64}(1.0)          Gray{Float64}(0.862745)\n",
       " Gray{Float64}(1.0)       Gray{Float64}(0.878431)     Gray{Float64}(0.92549) \n",
       " Gray{Float64}(1.0)       Gray{Float64}(0.901961)  …  Gray{Float64}(0.87451) \n",
       " Gray{Float64}(0.917647)  Gray{Float64}(0.937255)     Gray{Float64}(1.0)     \n",
       " Gray{Float64}(0.972549)  Gray{Float64}(0.941176)     Gray{Float64}(1.0)     "
      ]
     },
     "execution_count": 4,
     "metadata": {},
     "output_type": "execute_result"
    }
   ],
   "source": [
    "Y = datasetimage(\"1_smiley_noisy\",\"../datasets/smiley_dataset\")\n",
    "Y[Y .< 0] .= 0. # Make sure pixels are in range\n",
    "Y[Y .> 1] .= 1.\n",
    "Gray.(Y)"
   ]
  },
  {
   "cell_type": "code",
   "execution_count": 20,
   "metadata": {},
   "outputs": [
    {
     "data": {
      "text/plain": [
       "Array{Float64,2}"
      ]
     },
     "execution_count": 20,
     "metadata": {},
     "output_type": "execute_result"
    }
   ],
   "source": [
    "Xgt = testimage(\"cameraman\")\n",
    "Y = Xgt .+ sqrt(0.006*norm(Xgt,Inf))*randn(size(Xgt)) # Add noise\n",
    "Y[Y .< 0] .= 0. # Make sure pixels are in range\n",
    "Y[Y .> 1] .= 1.\n",
    "Gray.(Y)\n",
    "typeof(Y)"
   ]
  },
  {
   "cell_type": "code",
   "execution_count": 11,
   "metadata": {},
   "outputs": [],
   "source": [
    "V = Variation(size(Y)) # Define the finite differences gradient operator\n",
    "U = Variable(size(V,1)...)\n",
    "lambda = 0.15\n",
    "Y = float(Y);"
   ]
  },
  {
   "cell_type": "code",
   "execution_count": 12,
   "metadata": {},
   "outputs": [
    {
     "name": "stdout",
     "output_type": "stream",
     "text": [
      "  0.343145 seconds (1.50 k allocations: 88.055 MiB, 4.81% gc time)\n"
     ]
    },
    {
     "data": {
      "text/plain": [
       "((Variable(Float64, (16384, 2)),), 226)"
      ]
     },
     "execution_count": 12,
     "metadata": {},
     "output_type": "execute_result"
    }
   ],
   "source": [
    "@time begin\n",
    "@minimize ls(-V'*U+Y) + conj(lambda*norm(U,2,1,2)) with ForwardBackward(tol = 1e-3, gamma = 1/8, fast = true) # Minimizing the dual formulation\n",
    "end"
   ]
  },
  {
   "cell_type": "code",
   "execution_count": 13,
   "metadata": {},
   "outputs": [
    {
     "data": {
      "image/png": "[encoded data removed]",
      "text/plain": [
       "128×128 Array{Gray{Float64},2} with eltype Gray{Float64}:\n",
       " Gray{Float64}(0.958322)  Gray{Float64}(0.958325)  …  Gray{Float64}(0.954607)\n",
       " Gray{Float64}(0.958327)  Gray{Float64}(0.95833)      Gray{Float64}(0.95461) \n",
       " Gray{Float64}(0.958344)  Gray{Float64}(0.958346)     Gray{Float64}(0.954622)\n",
       " Gray{Float64}(0.958366)  Gray{Float64}(0.958368)     Gray{Float64}(0.954639)\n",
       " Gray{Float64}(0.958389)  Gray{Float64}(0.958391)     Gray{Float64}(0.954658)\n",
       " Gray{Float64}(0.958411)  Gray{Float64}(0.958412)  …  Gray{Float64}(0.954678)\n",
       " Gray{Float64}(0.958429)  Gray{Float64}(0.95843)      Gray{Float64}(0.954696)\n",
       " Gray{Float64}(0.958444)  Gray{Float64}(0.958445)     Gray{Float64}(0.954714)\n",
       " Gray{Float64}(0.958456)  Gray{Float64}(0.958458)     Gray{Float64}(0.954731)\n",
       " Gray{Float64}(0.958469)  Gray{Float64}(0.95847)      Gray{Float64}(0.954747)\n",
       " Gray{Float64}(0.958483)  Gray{Float64}(0.958484)  …  Gray{Float64}(0.954763)\n",
       " Gray{Float64}(0.958498)  Gray{Float64}(0.958499)     Gray{Float64}(0.954781)\n",
       " Gray{Float64}(0.958514)  Gray{Float64}(0.958515)     Gray{Float64}(0.954801)\n",
       " ⋮                                                 ⋱                         \n",
       " Gray{Float64}(0.960777)  Gray{Float64}(0.960779)     Gray{Float64}(0.958471)\n",
       " Gray{Float64}(0.96074)   Gray{Float64}(0.960741)     Gray{Float64}(0.958459)\n",
       " Gray{Float64}(0.960699)  Gray{Float64}(0.960699)     Gray{Float64}(0.958449)\n",
       " Gray{Float64}(0.960657)  Gray{Float64}(0.960659)     Gray{Float64}(0.957888)\n",
       " Gray{Float64}(0.960622)  Gray{Float64}(0.960627)  …  Gray{Float64}(0.95835) \n",
       " Gray{Float64}(0.960601)  Gray{Float64}(0.960608)     Gray{Float64}(0.958404)\n",
       " Gray{Float64}(0.960599)  Gray{Float64}(0.960608)     Gray{Float64}(0.958406)\n",
       " Gray{Float64}(0.960606)  Gray{Float64}(0.960616)     Gray{Float64}(0.958405)\n",
       " Gray{Float64}(0.960609)  Gray{Float64}(0.960619)     Gray{Float64}(0.958404)\n",
       " Gray{Float64}(0.960607)  Gray{Float64}(0.960617)  …  Gray{Float64}(0.958403)\n",
       " Gray{Float64}(0.960605)  Gray{Float64}(0.960613)     Gray{Float64}(0.958403)\n",
       " Gray{Float64}(0.9606)    Gray{Float64}(0.960606)     Gray{Float64}(0.958403)"
      ]
     },
     "execution_count": 13,
     "metadata": {},
     "output_type": "execute_result"
    }
   ],
   "source": [
    "X = Gray.(-V'*(~U)+Y)"
   ]
  },
  {
   "cell_type": "code",
   "execution_count": null,
   "metadata": {},
   "outputs": [],
   "source": []
  }
 ],
 "metadata": {
  "@webio": {
   "lastCommId": null,
   "lastKernelId": null
  },
  "kernelspec": {
   "display_name": "Julia 1.2.0",
   "language": "julia",
   "name": "julia-1.2"
  },
  "language_info": {
   "file_extension": ".jl",
   "mimetype": "application/julia",
   "name": "julia",
   "version": "1.2.0"
  }
 },
 "nbformat": 4,
 "nbformat_minor": 2
}
