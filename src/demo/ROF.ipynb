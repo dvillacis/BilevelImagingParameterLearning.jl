{
 "cells": [
  {
   "cell_type": "markdown",
   "metadata": {},
   "source": [
    "# ROF Denoising Demo\n",
    "In this demo we will illustrate the process of image denoising of the ROF model.\n",
    "$$\n",
    "\\min_{u} \\frac{1}{2}\\|u-f\\|^2+\\lambda\\sum_{j=1}^n\\|(\\mathbb{K}u)_j\\|\n",
    "$$"
   ]
  },
  {
   "cell_type": "code",
   "execution_count": 1,
   "metadata": {},
   "outputs": [],
   "source": [
    "using Pkg, Random, Images, TestImages, LinearAlgebra\n",
    "using AbstractOperators\n",
    "using StructuredOptimization"
   ]
  },
  {
   "cell_type": "code",
   "execution_count": 5,
   "metadata": {},
   "outputs": [
    {
     "name": "stderr",
     "output_type": "stream",
     "text": [
      "WARNING: replacing module BilevelImagingParameterLearning.\n"
     ]
    }
   ],
   "source": [
    "include(\"../BilevelImagingParameterLearning.jl\")\n",
    "using .BilevelImagingParameterLearning"
   ]
  },
  {
   "cell_type": "code",
   "execution_count": 6,
   "metadata": {},
   "outputs": [],
   "source": [
    "Random.seed!(123); # For reproductibility"
   ]
  },
  {
   "cell_type": "code",
   "execution_count": 7,
   "metadata": {},
   "outputs": [
    {
     "data": {
      "image/png": "[encoded data removed]",
      "text/plain": [
       "128×128 Array{Gray{Float64},2} with eltype Gray{Float64}:\n",
       " Gray{Float64}(0.92549)   Gray{Float64}(0.968627)  …  Gray{Float64}(1.0)     \n",
       " Gray{Float64}(1.0)       Gray{Float64}(0.956863)     Gray{Float64}(0.996078)\n",
       " Gray{Float64}(1.0)       Gray{Float64}(0.984314)     Gray{Float64}(1.0)     \n",
       " Gray{Float64}(0.941176)  Gray{Float64}(0.996078)     Gray{Float64}(0.921569)\n",
       " Gray{Float64}(0.870588)  Gray{Float64}(0.929412)     Gray{Float64}(1.0)     \n",
       " Gray{Float64}(0.92549)   Gray{Float64}(0.898039)  …  Gray{Float64}(1.0)     \n",
       " Gray{Float64}(1.0)       Gray{Float64}(0.988235)     Gray{Float64}(1.0)     \n",
       " Gray{Float64}(0.937255)  Gray{Float64}(1.0)          Gray{Float64}(1.0)     \n",
       " Gray{Float64}(1.0)       Gray{Float64}(0.945098)     Gray{Float64}(1.0)     \n",
       " Gray{Float64}(0.996078)  Gray{Float64}(0.956863)     Gray{Float64}(1.0)     \n",
       " Gray{Float64}(1.0)       Gray{Float64}(0.909804)  …  Gray{Float64}(1.0)     \n",
       " Gray{Float64}(1.0)       Gray{Float64}(0.968627)     Gray{Float64}(0.905882)\n",
       " Gray{Float64}(1.0)       Gray{Float64}(1.0)          Gray{Float64}(0.886275)\n",
       " ⋮                                                 ⋱                         \n",
       " Gray{Float64}(0.929412)  Gray{Float64}(1.0)          Gray{Float64}(1.0)     \n",
       " Gray{Float64}(1.0)       Gray{Float64}(0.94902)      Gray{Float64}(1.0)     \n",
       " Gray{Float64}(0.901961)  Gray{Float64}(1.0)          Gray{Float64}(1.0)     \n",
       " Gray{Float64}(1.0)       Gray{Float64}(1.0)          Gray{Float64}(0.717647)\n",
       " Gray{Float64}(1.0)       Gray{Float64}(1.0)       …  Gray{Float64}(0.945098)\n",
       " Gray{Float64}(1.0)       Gray{Float64}(1.0)          Gray{Float64}(0.984314)\n",
       " Gray{Float64}(0.941176)  Gray{Float64}(0.996078)     Gray{Float64}(0.913725)\n",
       " Gray{Float64}(0.964706)  Gray{Float64}(1.0)          Gray{Float64}(0.862745)\n",
       " Gray{Float64}(1.0)       Gray{Float64}(0.878431)     Gray{Float64}(0.92549) \n",
       " Gray{Float64}(1.0)       Gray{Float64}(0.901961)  …  Gray{Float64}(0.87451) \n",
       " Gray{Float64}(0.917647)  Gray{Float64}(0.937255)     Gray{Float64}(1.0)     \n",
       " Gray{Float64}(0.972549)  Gray{Float64}(0.941176)     Gray{Float64}(1.0)     "
      ]
     },
     "execution_count": 7,
     "metadata": {},
     "output_type": "execute_result"
    }
   ],
   "source": [
    "Y = datasetimage(\"1_smiley_noisy\",\"../datasets/smiley_dataset\")\n",
    "Y[Y .< 0] .= 0. # Make sure pixels are in range\n",
    "Y[Y .> 1] .= 1.\n",
    "Gray.(Y)"
   ]
  },
  {
   "cell_type": "code",
   "execution_count": 20,
   "metadata": {},
   "outputs": [
    {
     "data": {
      "text/plain": [
       "Array{Float64,2}"
      ]
     },
     "execution_count": 20,
     "metadata": {},
     "output_type": "execute_result"
    }
   ],
   "source": [
    "Xgt = testimage(\"cameraman\")\n",
    "Y = Xgt .+ sqrt(0.006*norm(Xgt,Inf))*randn(size(Xgt)) # Add noise\n",
    "Y[Y .< 0] .= 0. # Make sure pixels are in range\n",
    "Y[Y .> 1] .= 1.\n",
    "Gray.(Y)\n",
    "typeof(Y)"
   ]
  },
  {
   "cell_type": "code",
   "execution_count": 12,
   "metadata": {},
   "outputs": [],
   "source": [
    "V = Variation(size(Y)) # Define the finite differences gradient operator\n",
    "U = Variable(size(V,1)...)\n",
    "lambda = 0.18\n",
    "Y = float(Y);"
   ]
  },
  {
   "cell_type": "code",
   "execution_count": 13,
   "metadata": {},
   "outputs": [
    {
     "name": "stdout",
     "output_type": "stream",
     "text": [
      "  0.233731 seconds (2.39 k allocations: 106.851 MiB, 10.06% gc time)\n"
     ]
    },
    {
     "data": {
      "text/plain": [
       "((Variable(Float64, (16384, 2)),), 276)"
      ]
     },
     "execution_count": 13,
     "metadata": {},
     "output_type": "execute_result"
    }
   ],
   "source": [
    "@time begin\n",
    "@minimize ls(-V'*U+Y) + conj(lambda*norm(U,2,1,2)) with ForwardBackward(tol = 1e-3, gamma = 1/8, fast = true) # Minimizing the dual formulation\n",
    "end"
   ]
  },
  {
   "cell_type": "code",
   "execution_count": 10,
   "metadata": {},
   "outputs": [
    {
     "data": {
      "image/png": "[encoded data removed]",
      "text/plain": [
       "128×128 Array{Gray{Float64},2} with eltype Gray{Float64}:\n",
       " Gray{Float64}(0.95381)   Gray{Float64}(0.953811)  …  Gray{Float64}(0.950739)\n",
       " Gray{Float64}(0.953809)  Gray{Float64}(0.953811)     Gray{Float64}(0.950736)\n",
       " Gray{Float64}(0.953807)  Gray{Float64}(0.953808)     Gray{Float64}(0.950725)\n",
       " Gray{Float64}(0.953803)  Gray{Float64}(0.953804)     Gray{Float64}(0.950707)\n",
       " Gray{Float64}(0.953796)  Gray{Float64}(0.953797)     Gray{Float64}(0.950682)\n",
       " Gray{Float64}(0.953785)  Gray{Float64}(0.953785)  …  Gray{Float64}(0.950649)\n",
       " Gray{Float64}(0.953768)  Gray{Float64}(0.953768)     Gray{Float64}(0.950608)\n",
       " Gray{Float64}(0.953745)  Gray{Float64}(0.953745)     Gray{Float64}(0.95056) \n",
       " Gray{Float64}(0.953716)  Gray{Float64}(0.953716)     Gray{Float64}(0.950508)\n",
       " Gray{Float64}(0.95368)   Gray{Float64}(0.95368)      Gray{Float64}(0.950453)\n",
       " Gray{Float64}(0.953638)  Gray{Float64}(0.953638)  …  Gray{Float64}(0.950398)\n",
       " Gray{Float64}(0.95359)   Gray{Float64}(0.95359)      Gray{Float64}(0.950343)\n",
       " Gray{Float64}(0.953539)  Gray{Float64}(0.953539)     Gray{Float64}(0.95029) \n",
       " ⋮                                                 ⋱                         \n",
       " Gray{Float64}(0.953181)  Gray{Float64}(0.953184)     Gray{Float64}(0.953648)\n",
       " Gray{Float64}(0.953159)  Gray{Float64}(0.953162)     Gray{Float64}(0.953685)\n",
       " Gray{Float64}(0.953137)  Gray{Float64}(0.95314)      Gray{Float64}(0.953718)\n",
       " Gray{Float64}(0.953116)  Gray{Float64}(0.953118)     Gray{Float64}(0.953747)\n",
       " Gray{Float64}(0.953096)  Gray{Float64}(0.953098)  …  Gray{Float64}(0.953773)\n",
       " Gray{Float64}(0.953078)  Gray{Float64}(0.95308)      Gray{Float64}(0.953794)\n",
       " Gray{Float64}(0.953063)  Gray{Float64}(0.953065)     Gray{Float64}(0.953811)\n",
       " Gray{Float64}(0.953049)  Gray{Float64}(0.953051)     Gray{Float64}(0.953824)\n",
       " Gray{Float64}(0.953036)  Gray{Float64}(0.953038)     Gray{Float64}(0.953833)\n",
       " Gray{Float64}(0.953024)  Gray{Float64}(0.953025)  …  Gray{Float64}(0.953838)\n",
       " Gray{Float64}(0.953014)  Gray{Float64}(0.953016)     Gray{Float64}(0.953841)\n",
       " Gray{Float64}(0.953008)  Gray{Float64}(0.95301)      Gray{Float64}(0.953842)"
      ]
     },
     "execution_count": 10,
     "metadata": {},
     "output_type": "execute_result"
    }
   ],
   "source": [
    "X = Gray.(-V'*(~U)+Y)"
   ]
  },
  {
   "cell_type": "code",
   "execution_count": null,
   "metadata": {},
   "outputs": [],
   "source": []
  }
 ],
 "metadata": {
  "@webio": {
   "lastCommId": null,
   "lastKernelId": null
  },
  "kernelspec": {
   "display_name": "Julia 1.2.0",
   "language": "julia",
   "name": "julia-1.2"
  },
  "language_info": {
   "file_extension": ".jl",
   "mimetype": "application/julia",
   "name": "julia",
   "version": "1.2.0"
  }
 },
 "nbformat": 4,
 "nbformat_minor": 2
}
