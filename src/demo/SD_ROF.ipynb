{
 "cells": [
  {
   "cell_type": "markdown",
   "metadata": {},
   "source": [
    "# Scale-Dependent ROF Denoising Demo\n",
    "In this demo we will illustrate the process of image denoising of the scale dependent ROF model.\n",
    "$$\n",
    "\\min_{u} \\frac{1}{2}\\|u-f\\|^2+\\sum_{j=1}^n\\lambda_j\\|(\\mathbb{K}u)_j\\|\n",
    "$$"
   ]
  },
  {
   "cell_type": "code",
   "execution_count": null,
   "metadata": {},
   "outputs": [],
   "source": [
    "using Pkg, Random, Images, TestImages, LinearAlgebra\n",
    "using AbstractOperators\n",
    "using StructuredOptimization"
   ]
  },
  {
   "cell_type": "code",
   "execution_count": null,
   "metadata": {},
   "outputs": [],
   "source": [
    "Random.seed!(123); # For reproductibility"
   ]
  },
  {
   "cell_type": "code",
   "execution_count": null,
   "metadata": {},
   "outputs": [],
   "source": [
    "Xgt = testimage(\"cameraman\")\n",
    "Y = Xgt .+ sqrt(0.006*norm(Xgt,Inf))*randn(size(Xgt)) # Add noise\n",
    "Y[Y .< 0] .= 0. # Make sure pixels are in range\n",
    "Y[Y .> 1] .= 1.\n",
    "Gray.(Y)"
   ]
  },
  {
   "cell_type": "code",
   "execution_count": null,
   "metadata": {},
   "outputs": [],
   "source": [
    "V = Variation(size(Y)) # Define the finite differences gradient operator\n",
    "U = Variable(size(V,1)...)\n",
    "lambda = ones(size(Xgt))\n",
    "Y = float(Y);"
   ]
  },
  {
   "cell_type": "code",
   "execution_count": null,
   "metadata": {},
   "outputs": [],
   "source": [
    "@time begin\n",
    "@minimize ls(-V'*U+Y) + conj(lambda*norm(U,2,1,2)) with ForwardBackward(tol = 1e-3, gamma = 1/8, fast = true) # Minimizing the dual formulation\n",
    "end"
   ]
  }
 ],
 "metadata": {
  "kernelspec": {
   "display_name": "Julia 1.2.0",
   "language": "julia",
   "name": "julia-1.2"
  },
  "language_info": {
   "file_extension": ".jl",
   "mimetype": "application/julia",
   "name": "julia",
   "version": "1.2.0"
  }
 },
 "nbformat": 4,
 "nbformat_minor": 2
}
